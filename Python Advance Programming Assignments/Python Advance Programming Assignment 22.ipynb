{
 "cells": [
  {
   "cell_type": "markdown",
   "id": "e11afbd1",
   "metadata": {},
   "source": [
    "# Advance Programming Assignment 22"
   ]
  },
  {
   "cell_type": "markdown",
   "id": "bfbc839d",
   "metadata": {},
   "source": [
    "1. Create a class Smoothie and do the following:\n",
    "\n",
    "    - Create an instance attribute called ingredients.\n",
    "    - Create a get_cost method which calculates the total cost of the ingredients used to make the smoothie.\n",
    "    - Create a get_price method which returns the number from get_cost plus the number from get_cost multiplied by 1.5. Round to two decimal places.\n",
    "    - Create a get_name method which gets the ingredients and puts them in alphabetical order into a nice descriptive sentence. If there are multiple ingredients, add the word \"Fusion\" to the end but otherwise, add \"Smoothie\". Remember to change \"-berries\" to \"-berry\". See the examples below.\n",
    "\n",
    "Ingredient\t   Price\n",
    "Strawberries   $1.50\n",
    "Banana\t       $0.50\n",
    "Mango\t       $2.50\n",
    "Blueberries\t   $1.00\n",
    "Raspberries\t   $1.00\n",
    "Apple\t       $1.75\n",
    "Pineapple\t   $3.50\n",
    "\n",
    "Examples\n",
    "\n",
    "s1 = Smoothie([\"Banana\"])\n",
    "\n",
    "s1.ingredients ➞ [\"Banana\"]\n",
    "\n",
    "s1.get_cost() ➞ \"$0.50\"\n",
    "\n",
    "s1.get_price() ➞ \"$1.25\"\n",
    "\n",
    "s1.get_name() ➞ \"Banana Smoothie\"\n",
    "\n",
    "s2 = Smoothie([\"Raspberries\", \"Strawberries\", \"Blueberries\"])\n",
    "\n",
    "s2.ingredients ➞ [\"Raspberries\", \"Strawberries\", \"Blueberries\"]\n",
    "\n",
    "s2.get_cost() ➞ \"$3.50\"\n",
    "\n",
    "s2.get_price() ➞ \"$8.75\"\n",
    "\n",
    "s2.get_name() ➞ \"Blueberry Raspberry Strawberry Fusion\""
   ]
  },
  {
   "cell_type": "code",
   "execution_count": 13,
   "id": "d23432f6",
   "metadata": {},
   "outputs": [],
   "source": [
    "class Smoothie:\n",
    "    def __init__(self,ingredients):\n",
    "        self.ingredients = ingredients\n",
    "        self.cost = {\"Strawberries\":1.50,\"Banana\":0.50,\"Mango\":2.50,\"Blueberries\":1.00,\n",
    "                     \"Raspberries\":1.00,\"Apple\":1.75,\"Pineapple\":3.50}\n",
    "        \n",
    "    def get_cost(self):\n",
    "        self.total_cost = 0\n",
    "        for ingredient in self.ingredients:\n",
    "            self.total_cost = self.total_cost + self.cost[ingredient]\n",
    "        return f\"${self.total_cost}\"\n",
    "    \n",
    "    def get_price(self):\n",
    "        self.price = self.total_cost + self.total_cost*1.5\n",
    "        return f\"${round(self.price,ndigits=2)}\"\n",
    "    \n",
    "    def get_name(self):\n",
    "        self.ingredients.sort()\n",
    "        if len(self.ingredients) == 1:\n",
    "            return f\"{self.ingredients[0]} Smoothie\"\n",
    "        else:\n",
    "            for item in range(len(self.ingredients)):\n",
    "                if self.ingredients[item].endswith(\"ies\"):\n",
    "                    self.ingredients[item]=self.ingredients[item].replace(\"ies\",\"y\")\n",
    "            return \" \".join(self.ingredients)+\" Fusion\""
   ]
  },
  {
   "cell_type": "code",
   "execution_count": 14,
   "id": "0b7b4e2b",
   "metadata": {},
   "outputs": [],
   "source": [
    "s1 = Smoothie([\"Banana\"])"
   ]
  },
  {
   "cell_type": "code",
   "execution_count": 15,
   "id": "6cb4d008",
   "metadata": {},
   "outputs": [
    {
     "data": {
      "text/plain": [
       "['Banana']"
      ]
     },
     "execution_count": 15,
     "metadata": {},
     "output_type": "execute_result"
    }
   ],
   "source": [
    "s1.ingredients"
   ]
  },
  {
   "cell_type": "code",
   "execution_count": 16,
   "id": "28fe649b",
   "metadata": {},
   "outputs": [
    {
     "data": {
      "text/plain": [
       "'$0.5'"
      ]
     },
     "execution_count": 16,
     "metadata": {},
     "output_type": "execute_result"
    }
   ],
   "source": [
    "s1.get_cost()"
   ]
  },
  {
   "cell_type": "code",
   "execution_count": 17,
   "id": "108a6d12",
   "metadata": {},
   "outputs": [
    {
     "data": {
      "text/plain": [
       "'$1.25'"
      ]
     },
     "execution_count": 17,
     "metadata": {},
     "output_type": "execute_result"
    }
   ],
   "source": [
    "s1.get_price()"
   ]
  },
  {
   "cell_type": "code",
   "execution_count": 18,
   "id": "d1a7654a",
   "metadata": {},
   "outputs": [
    {
     "data": {
      "text/plain": [
       "'Banana Smoothie'"
      ]
     },
     "execution_count": 18,
     "metadata": {},
     "output_type": "execute_result"
    }
   ],
   "source": [
    "s1.get_name()"
   ]
  },
  {
   "cell_type": "code",
   "execution_count": 19,
   "id": "970c3671",
   "metadata": {},
   "outputs": [],
   "source": [
    "s2 = Smoothie([\"Raspberries\", \"Strawberries\", \"Blueberries\"])"
   ]
  },
  {
   "cell_type": "code",
   "execution_count": 20,
   "id": "28e4089a",
   "metadata": {},
   "outputs": [
    {
     "data": {
      "text/plain": [
       "['Raspberries', 'Strawberries', 'Blueberries']"
      ]
     },
     "execution_count": 20,
     "metadata": {},
     "output_type": "execute_result"
    }
   ],
   "source": [
    "s2.ingredients"
   ]
  },
  {
   "cell_type": "code",
   "execution_count": 21,
   "id": "aad51487",
   "metadata": {},
   "outputs": [
    {
     "data": {
      "text/plain": [
       "'$3.5'"
      ]
     },
     "execution_count": 21,
     "metadata": {},
     "output_type": "execute_result"
    }
   ],
   "source": [
    "s2.get_cost()"
   ]
  },
  {
   "cell_type": "code",
   "execution_count": 22,
   "id": "3db49adf",
   "metadata": {},
   "outputs": [
    {
     "data": {
      "text/plain": [
       "'$8.75'"
      ]
     },
     "execution_count": 22,
     "metadata": {},
     "output_type": "execute_result"
    }
   ],
   "source": [
    "s2.get_price()"
   ]
  },
  {
   "cell_type": "code",
   "execution_count": 23,
   "id": "836ad8b5",
   "metadata": {},
   "outputs": [
    {
     "data": {
      "text/plain": [
       "'Blueberry Raspberry Strawberry Fusion'"
      ]
     },
     "execution_count": 23,
     "metadata": {},
     "output_type": "execute_result"
    }
   ],
   "source": [
    "s2.get_name()"
   ]
  },
  {
   "cell_type": "code",
   "execution_count": null,
   "id": "fcba9509",
   "metadata": {},
   "outputs": [],
   "source": []
  },
  {
   "cell_type": "markdown",
   "id": "eab1ee37",
   "metadata": {},
   "source": [
    "2. Your task is to write a program which allows teachers to create a multiple choice test in a class called Testpaper and to be also able to assign a minimum pass mark. The testpaper's subject should also be included. The attributes are in the following order:\n",
    "\n",
    "  1. subject\n",
    "  2. markscheme\n",
    "  3. pass_mark\n",
    "\n",
    "As well as that, we need to create student objects to take the test itself! Create another class called Student and do the following:\n",
    "\n",
    "  - Create an attribute called tests_taken and set the default as 'No tests taken'.\n",
    "  - Make a method called take_test(), which takes in the testpaper object they are completing and the student's answers. Compare what they wrote to the mark scheme, and append to the/create a dictionary assigned to tests_taken in the way as shown in the point below.\n",
    "  - Each key in the dictionary should be the testpaper subject and each value should be a string in the format seen in the examples below (whether or not the student has failed, and their percentage in brackets).\n",
    "\n",
    "Examples\n",
    "\n",
    "paper1 = Testpaper(\"Maths\", [\"1A\", \"2C\", \"3D\", \"4A\", \"5A\"], \"60%\")\n",
    "paper2 = Testpaper(\"Chemistry\", [\"1C\", \"2C\", \"3D\", \"4A\"], \"75%\")\n",
    "paper3 = Testpaper(\"Computing\", [\"1D\", \"2C\", \"3C\", \"4B\", \"5D\", \"6C\", \"7A\"], \"75%\")\n",
    "\n",
    "student1 = Student()\n",
    "student2 = Student()\n",
    "\n",
    "student1.tests_taken ➞ \"No tests taken\"\n",
    "student1.take_test(paper1, [\"1A\", \"2D\", \"3D\", \"4A\", \"5A\"])\n",
    "student1.tests_taken ➞ {\"Maths\" : \"Passed! (80%)\"}\n",
    "\n",
    "student2.take_test(paper2, [\"1C\", \"2D\", \"3A\", \"4C\"])\n",
    "student2.take_test(paper3, [\"1A\", \"2C\", \"3A\", \"4C\", \"5D\", \"6C\", \"7B\"])\n",
    "student2.tests_taken ➞ {\"Chemistry\" : \"Failed! (25%)\", \"Computing\" : \"Failed! (43%)\"}\n"
   ]
  },
  {
   "cell_type": "code",
   "execution_count": 14,
   "id": "4be42488",
   "metadata": {},
   "outputs": [],
   "source": [
    "class Testpaper:\n",
    "    def __init__(self,subject,markscheme,pass_marks):\n",
    "        self.subject = subject\n",
    "        self.markscheme = markscheme\n",
    "        self.pass_marks = pass_marks\n",
    "class Student:\n",
    "    \n",
    "    def __init__(self,paper_taken = 0):\n",
    "        self.paper_taken = paper_taken\n",
    "        if self.paper_taken ==0:\n",
    "            self.tests_taken = 'No tests taken'\n",
    "        elif self.paper_taken ==1:\n",
    "            self.tests_taken = {}\n",
    "        \n",
    "    def take_test(self,paper,ans):\n",
    "        self.paper_taken+=1\n",
    "        Student.__init__(self,self.paper_taken)\n",
    "        sub = paper.subject\n",
    "        markscheme = paper.markscheme\n",
    "        correct = 0\n",
    "        for q in range(len(markscheme)):\n",
    "            if markscheme[q][1]==ans[q][1]:\n",
    "                correct+=1\n",
    "        marks = (correct/len(markscheme))*100\n",
    "        if marks>=int(paper.pass_marks.strip(\"%\")):\n",
    "            self.tests_taken[sub]=f\"Passed! ({round(marks)}%)\"\n",
    "        else:\n",
    "            self.tests_taken[sub]=f\"Failed! ({round(marks)}%)\"\n",
    "        "
   ]
  },
  {
   "cell_type": "code",
   "execution_count": 15,
   "id": "e85f405c",
   "metadata": {},
   "outputs": [],
   "source": [
    "paper1 = Testpaper(\"Maths\", [\"1A\", \"2C\", \"3D\", \"4A\", \"5A\"], \"60%\")\n",
    "paper2 = Testpaper(\"Chemistry\", [\"1C\", \"2C\", \"3D\", \"4A\"], \"75%\")\n",
    "paper3 = Testpaper(\"Computing\", [\"1D\", \"2C\", \"3C\", \"4B\", \"5D\", \"6C\", \"7A\"], \"75%\")"
   ]
  },
  {
   "cell_type": "code",
   "execution_count": 16,
   "id": "9a978707",
   "metadata": {},
   "outputs": [],
   "source": [
    "student1 = Student()\n",
    "student2 = Student()"
   ]
  },
  {
   "cell_type": "code",
   "execution_count": 17,
   "id": "1184739c",
   "metadata": {},
   "outputs": [
    {
     "data": {
      "text/plain": [
       "'No tests taken'"
      ]
     },
     "execution_count": 17,
     "metadata": {},
     "output_type": "execute_result"
    }
   ],
   "source": [
    "student1.tests_taken"
   ]
  },
  {
   "cell_type": "code",
   "execution_count": 18,
   "id": "914a5e61",
   "metadata": {},
   "outputs": [],
   "source": [
    "student1.take_test(paper1, [\"1A\", \"2D\", \"3D\", \"4A\", \"5A\"])"
   ]
  },
  {
   "cell_type": "code",
   "execution_count": 19,
   "id": "264b94fc",
   "metadata": {},
   "outputs": [
    {
     "data": {
      "text/plain": [
       "{'Maths': 'Passed! (80%)'}"
      ]
     },
     "execution_count": 19,
     "metadata": {},
     "output_type": "execute_result"
    }
   ],
   "source": [
    "student1.tests_taken"
   ]
  },
  {
   "cell_type": "code",
   "execution_count": 20,
   "id": "60542e76",
   "metadata": {},
   "outputs": [],
   "source": [
    "student2.take_test(paper2, [\"1C\", \"2D\", \"3A\", \"4C\"])\n",
    "student2.take_test(paper3, [\"1A\", \"2C\", \"3A\", \"4C\", \"5D\", \"6C\", \"7B\"])"
   ]
  },
  {
   "cell_type": "code",
   "execution_count": 21,
   "id": "7091c0ab",
   "metadata": {},
   "outputs": [
    {
     "data": {
      "text/plain": [
       "{'Chemistry': 'Failed! (25%)', 'Computing': 'Failed! (43%)'}"
      ]
     },
     "execution_count": 21,
     "metadata": {},
     "output_type": "execute_result"
    }
   ],
   "source": [
    "student2.tests_taken"
   ]
  },
  {
   "cell_type": "code",
   "execution_count": null,
   "id": "3c7e77b0",
   "metadata": {},
   "outputs": [],
   "source": []
  },
  {
   "cell_type": "markdown",
   "id": "820c18d6",
   "metadata": {},
   "source": [
    "**3. Due to unforseen circumstances in Suburbia, the trains will be delayed by a further 10 minutes.**  \n",
    "\n",
    "**Create a function that will help to plan out and manage these delays! Create a function called manage_delays that does the following:**  \n",
    "\n",
    "   - Parameters will be the train object, a destination and number of minutes the delay is.\n",
    "   - Increment to the train object's expected_time by the delay, if the destination given is in the train object's destinations.\n",
    "\n",
    "**Examples**  \n",
    "\n",
    "trains = [\n",
    "  Train([\"Townsville\", \"Suburbia\", \"Urbantska\"], \"13:04\"),  \n",
    "  Train([\"Farmsdale\", \"Suburbia\", \"Lakeside Valley\"], \"13:20\"),  \n",
    "  Train([\"Suburbia\", \"Townsville\", \"Lakeside Valley\"], \"13:22\")  \n",
    "]  \n",
    "\n",
    "for t in trains:  \n",
    "    manage_delays(t, \"Lakeside Valley\", 60)  \n",
    "  \n",
    "trains[0].expected_time ➞ \"13:04\"  \n",
    "\n",
    "trains[1].expected_time ➞ \"14:20\"  \n",
    "\n",
    "trains[2].expected_time ➞ \"14:22\"  "
   ]
  },
  {
   "cell_type": "code",
   "execution_count": 60,
   "id": "a7bdc0f7",
   "metadata": {},
   "outputs": [],
   "source": [
    "class Train:\n",
    "    def __init__(self,stations,expected_time):\n",
    "        self.stations = stations\n",
    "        self.expected_time = expected_time\n",
    "\n",
    "def manage_delays(obj,destination,delay):\n",
    "    if destination in obj.stations:\n",
    "        time = obj.expected_time.split(\":\")\n",
    "        total_time = int(time[0])*60 + int(time[1]) + delay\n",
    "        hr = total_time/60\n",
    "        minut = (hr - int(hr))*60\n",
    "        obj.expected_time = \"%02d:%02d\"%(int(hr),int(minut))\n",
    "        "
   ]
  },
  {
   "cell_type": "code",
   "execution_count": 70,
   "id": "2f8ffabb",
   "metadata": {},
   "outputs": [],
   "source": [
    "trains = [\n",
    "  Train([\"Townsville\", \"Suburbia\", \"Urbantska\"], \"13:04\"),  \n",
    "  Train([\"Farmsdale\", \"Suburbia\", \"Lakeside Valley\"], \"13:20\"),  \n",
    "  Train([\"Suburbia\", \"Townsville\", \"Lakeside Valley\"], \"13:22\")  \n",
    "] "
   ]
  },
  {
   "cell_type": "code",
   "execution_count": 71,
   "id": "7443c25d",
   "metadata": {},
   "outputs": [],
   "source": [
    "for t in trains:  \n",
    "    manage_delays(t, \"Lakeside Valley\", 60)"
   ]
  },
  {
   "cell_type": "code",
   "execution_count": 72,
   "id": "f72adb16",
   "metadata": {},
   "outputs": [
    {
     "data": {
      "text/plain": [
       "'13:04'"
      ]
     },
     "execution_count": 72,
     "metadata": {},
     "output_type": "execute_result"
    }
   ],
   "source": [
    "trains[0].expected_time"
   ]
  },
  {
   "cell_type": "code",
   "execution_count": 73,
   "id": "285d350f",
   "metadata": {},
   "outputs": [
    {
     "data": {
      "text/plain": [
       "'14:20'"
      ]
     },
     "execution_count": 73,
     "metadata": {},
     "output_type": "execute_result"
    }
   ],
   "source": [
    "trains[1].expected_time"
   ]
  },
  {
   "cell_type": "code",
   "execution_count": 74,
   "id": "625b027a",
   "metadata": {},
   "outputs": [
    {
     "data": {
      "text/plain": [
       "'14:22'"
      ]
     },
     "execution_count": 74,
     "metadata": {},
     "output_type": "execute_result"
    }
   ],
   "source": [
    "trains[2].expected_time"
   ]
  },
  {
   "cell_type": "code",
   "execution_count": null,
   "id": "492d947b",
   "metadata": {},
   "outputs": [],
   "source": []
  },
  {
   "cell_type": "markdown",
   "id": "3f95885b",
   "metadata": {},
   "source": [
    "4. Ted works as a computer programmer at Minecraft Inc. His boss has just given him an important assignment to update the code for the minecart tracks by the end of April. However, he has recently had to self-isolate due to Corvid-19 and has left the code for the tracks BACK AT WORK!! He has the shorthand for the tracks he's supposed to look at, and where the carts are suppost to end up, but not the actual code.\n",
    "\n",
    "He knows that:\n",
    "\n",
    "  1. \"-->\" = \"Speed-Up Track\" ⁠— If a minecart interacts with this track, it's velocity increases by 2.67 BPS unless it's at its maximum speed of 8 BPS.\n",
    "  2. \"<-->\" = \"Powered Track\" ⁠— If a minecart interacts with this track, it's velocity remains the same.\n",
    "  3. \"<--\" = \"Slow-Down Track\" ⁠— If a minecart interacts with this track, it's velocity decreases by 2.67 BPS unless it's velocity equals 0, at which point it stops.\n",
    "  4. \"---\" = \"Unpowered Track\" ⁠— If a minecart interacts with this track, it's velocity decreases by 1 BPS unless it's velocity equals 0, at which point it stops.\n",
    "\n",
    " Help Ted by writing a class for the tracks that interact with the provided Minecart class as shown above. And then write a function that will take a list of the shorthand tracks and:\n",
    "\n",
    "   - If the Minecart reaches the last peice of Track, return True.\n",
    "   - Else return the index of the Track where the Minecart stops.\n",
    "\n",
    "Examples\n",
    "\n",
    "mine_run([\"-->\", \"-->\", \"-->\", \"<--\", \"<--\", \"<--\"]) ➞ True\n",
    "\n",
    "mine_run([\"-->\", \"<--\", \"-->\", \"-->\", \"<-->\", \"---\"]) ➞ 1"
   ]
  },
  {
   "cell_type": "code",
   "execution_count": 78,
   "id": "5bc2fa8c",
   "metadata": {},
   "outputs": [],
   "source": [
    "def mine_run(tracks:list)->bool:\n",
    "    speed = 0\n",
    "    for i in range(len(tracks)):\n",
    "        if tracks[i]==\"-->\" and speed<8:\n",
    "            speed += 2.67\n",
    "        elif tracks[i] == \"---\" and speed>0:\n",
    "            speed -= 1\n",
    "            if speed == 0 and i != len(tracks)-1:\n",
    "                return i\n",
    "        elif tracks[i] == \"<--\" and speed>0:\n",
    "            speed -= 2.67\n",
    "            if speed == 0 and i != len(tracks)-1:\n",
    "                return i\n",
    "        elif tracks[i] == \"<-->\":\n",
    "            pass\n",
    "        else:\n",
    "            print(\"invalid track\")\n",
    "    return True"
   ]
  },
  {
   "cell_type": "code",
   "execution_count": 79,
   "id": "74ca4f19",
   "metadata": {},
   "outputs": [
    {
     "data": {
      "text/plain": [
       "True"
      ]
     },
     "execution_count": 79,
     "metadata": {},
     "output_type": "execute_result"
    }
   ],
   "source": [
    "mine_run([\"-->\", \"-->\", \"-->\", \"<--\", \"<--\", \"<--\"]) "
   ]
  },
  {
   "cell_type": "code",
   "execution_count": 80,
   "id": "7cde10a0",
   "metadata": {},
   "outputs": [
    {
     "data": {
      "text/plain": [
       "1"
      ]
     },
     "execution_count": 80,
     "metadata": {},
     "output_type": "execute_result"
    }
   ],
   "source": [
    "mine_run([\"-->\", \"<--\", \"-->\", \"-->\", \"<-->\", \"---\"])"
   ]
  },
  {
   "cell_type": "code",
   "execution_count": null,
   "id": "e3a5da01",
   "metadata": {},
   "outputs": [],
   "source": []
  },
  {
   "cell_type": "markdown",
   "id": "9bcaa882",
   "metadata": {},
   "source": [
    "**5. Make a Rectangle class with four parameters, an x, a y (representing the top-left corner of the rectangle), a width and a height exclusively in that order.**  \n",
    "\n",
    "**Lastly, make a function intersecting that takes two Rectangle objects and returns True if those objects are intersecting (colliding), else return False.**  \n",
    "\n",
    ">**Examples**  \n",
    "\n",
    "a = Rectangle(10, 20, 100, 20)  \n",
    "b = Rectangle(10, 40, 15, 20)  \n",
    "c = Rectangle(50, 50, 20, 30)  \n",
    "\n",
    "intersecting(a, b) ➞ True  \n",
    "\n",
    "intersecting(a, c) ➞ False  \n",
    "\n",
    "intersecting(b, c) ➞ True  "
   ]
  },
  {
   "cell_type": "code",
   "execution_count": 31,
   "id": "44ec4fd4",
   "metadata": {},
   "outputs": [],
   "source": [
    "class Rectangle:\n",
    "    def __init__(self,x,y,w,h):\n",
    "        self.x = x\n",
    "        self.y = y\n",
    "        self.w = w\n",
    "        self.h = h\n",
    "    \n",
    "def intersecting(obj1,obj2):\n",
    "    rec1_bottom_right_x = obj1.x + obj1.w \n",
    "    rec1_bottom_right_y = obj1.y - obj1.h\n",
    "\n",
    "    rec2_bottom_right_x = obj2.x + obj2.w \n",
    "    rec2_bottom_right_y = obj2.y - obj2.h\n",
    "\n",
    "    if (obj1.w == 0 or obj1.h==0 or obj2.w==0 or obj2.h==0):\n",
    "        return False\n",
    "    if (obj1.x>rec2_bottom_right_x or obj2.x > rec1_bottom_right_x):\n",
    "        return False\n",
    "    if (rec1_bottom_right_y> obj2.y or rec2_bottom_right_y>obj1.y):\n",
    "        return False\n",
    "    return True"
   ]
  },
  {
   "cell_type": "code",
   "execution_count": 35,
   "id": "95c3340a",
   "metadata": {},
   "outputs": [],
   "source": [
    "a = Rectangle(10, 20, 100, 20)\n",
    "b = Rectangle(10, 40, 15, 20)\n",
    "c = Rectangle(50, 50, 20, 30)"
   ]
  },
  {
   "cell_type": "code",
   "execution_count": 36,
   "id": "b5079e93",
   "metadata": {},
   "outputs": [
    {
     "data": {
      "text/plain": [
       "True"
      ]
     },
     "execution_count": 36,
     "metadata": {},
     "output_type": "execute_result"
    }
   ],
   "source": [
    "intersecting(a, b)"
   ]
  },
  {
   "cell_type": "code",
   "execution_count": 37,
   "id": "1d63e5d2",
   "metadata": {},
   "outputs": [
    {
     "data": {
      "text/plain": [
       "True"
      ]
     },
     "execution_count": 37,
     "metadata": {},
     "output_type": "execute_result"
    }
   ],
   "source": [
    "intersecting(b, c)"
   ]
  },
  {
   "cell_type": "code",
   "execution_count": 38,
   "id": "97693e53",
   "metadata": {},
   "outputs": [
    {
     "data": {
      "text/plain": [
       "False"
      ]
     },
     "execution_count": 38,
     "metadata": {},
     "output_type": "execute_result"
    }
   ],
   "source": [
    "intersecting(a, c)"
   ]
  },
  {
   "cell_type": "code",
   "execution_count": null,
   "id": "d96eb554",
   "metadata": {},
   "outputs": [],
   "source": []
  }
 ],
 "metadata": {
  "kernelspec": {
   "display_name": "Python 3 (ipykernel)",
   "language": "python",
   "name": "python3"
  },
  "language_info": {
   "codemirror_mode": {
    "name": "ipython",
    "version": 3
   },
   "file_extension": ".py",
   "mimetype": "text/x-python",
   "name": "python",
   "nbconvert_exporter": "python",
   "pygments_lexer": "ipython3",
   "version": "3.9.12"
  }
 },
 "nbformat": 4,
 "nbformat_minor": 5
}
