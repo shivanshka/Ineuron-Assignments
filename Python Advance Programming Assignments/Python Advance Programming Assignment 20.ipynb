{
 "cells": [
  {
   "cell_type": "markdown",
   "id": "8172dc61",
   "metadata": {},
   "source": [
    "# Advance Programming Assignment 20"
   ]
  },
  {
   "cell_type": "markdown",
   "id": "9cfac972",
   "metadata": {},
   "source": [
    "**1. Create a function based on the input and output. Look at the examples, there is a pattern.**  \n",
    ">**Examples**  \n",
    "secret(\"p.one.two.three\") ➞ \"<p class='one two three'></p>\"  \n",
    "secret(\"p.one\") ➞ \"<p class='one'></p>\"  \n",
    "secret(\"p.four.five\") ➞ \"<p class='four five'></p>\"  "
   ]
  },
  {
   "cell_type": "code",
   "execution_count": 9,
   "id": "2bcd4e81",
   "metadata": {},
   "outputs": [],
   "source": [
    "def secret(input_str:str)-> str:\n",
    "    input_list = input_str.split(\".\")\n",
    "    tag = input_list[0]\n",
    "    class_name = \" \".join(input_list[1:])\n",
    "    output = f\"<{tag} class='{class_name}'></{tag}>\"\n",
    "    return output"
   ]
  },
  {
   "cell_type": "code",
   "execution_count": 10,
   "id": "594407ac",
   "metadata": {},
   "outputs": [
    {
     "data": {
      "text/plain": [
       "\"<p class='one two three'></p>\""
      ]
     },
     "execution_count": 10,
     "metadata": {},
     "output_type": "execute_result"
    }
   ],
   "source": [
    "secret(\"p.one.two.three\")"
   ]
  },
  {
   "cell_type": "code",
   "execution_count": 11,
   "id": "ea98f7c7",
   "metadata": {},
   "outputs": [
    {
     "data": {
      "text/plain": [
       "\"<p class='one'></p>\""
      ]
     },
     "execution_count": 11,
     "metadata": {},
     "output_type": "execute_result"
    }
   ],
   "source": [
    "secret(\"p.one\")"
   ]
  },
  {
   "cell_type": "code",
   "execution_count": 12,
   "id": "fca6b584",
   "metadata": {},
   "outputs": [
    {
     "data": {
      "text/plain": [
       "\"<p class='four five'></p>\""
      ]
     },
     "execution_count": 12,
     "metadata": {},
     "output_type": "execute_result"
    }
   ],
   "source": [
    "secret(\"p.four.five\")"
   ]
  },
  {
   "cell_type": "code",
   "execution_count": null,
   "id": "6729d68c",
   "metadata": {},
   "outputs": [],
   "source": []
  },
  {
   "cell_type": "markdown",
   "id": "a4bb2a7a",
   "metadata": {},
   "source": [
    "**2. Create a function which counts how many lone 1s appear in a given number. Lone means the number doesn't appear twice or more in a row.**  \n",
    "\n",
    ">**Examples**  \n",
    "count_lone_ones(101) ➞ 2  \n",
    "count_lone_ones(1191) ➞ 1  \n",
    "count_lone_ones(1111) ➞ 0  \n",
    "count_lone_ones(462) ➞ 0  "
   ]
  },
  {
   "cell_type": "code",
   "execution_count": 51,
   "id": "f2719267",
   "metadata": {},
   "outputs": [],
   "source": [
    "def count_lone_ones(num:int)->int:\n",
    "    num_str = str(num)\n",
    "    count = 0\n",
    "    for i in range(len(num_str)):\n",
    "        if num_str[i]==\"1\":\n",
    "            if i == 0 and num_str[i+1]!=\"1\":\n",
    "                count +=1\n",
    "            elif i == len(num_str)-1 and num_str[i-1]!=\"1\":\n",
    "                count +=1\n",
    "            elif num_str[i-1]!=\"1\" and num_str[i+1]!=\"1\":\n",
    "                count +=1\n",
    "    return count"
   ]
  },
  {
   "cell_type": "code",
   "execution_count": 52,
   "id": "9dbfa6e2",
   "metadata": {},
   "outputs": [
    {
     "data": {
      "text/plain": [
       "2"
      ]
     },
     "execution_count": 52,
     "metadata": {},
     "output_type": "execute_result"
    }
   ],
   "source": [
    "count_lone_ones(101)"
   ]
  },
  {
   "cell_type": "code",
   "execution_count": 53,
   "id": "fa85445c",
   "metadata": {},
   "outputs": [
    {
     "data": {
      "text/plain": [
       "1"
      ]
     },
     "execution_count": 53,
     "metadata": {},
     "output_type": "execute_result"
    }
   ],
   "source": [
    "count_lone_ones(1191) "
   ]
  },
  {
   "cell_type": "code",
   "execution_count": 54,
   "id": "31ab0f53",
   "metadata": {},
   "outputs": [
    {
     "data": {
      "text/plain": [
       "0"
      ]
     },
     "execution_count": 54,
     "metadata": {},
     "output_type": "execute_result"
    }
   ],
   "source": [
    "count_lone_ones(1111)"
   ]
  },
  {
   "cell_type": "code",
   "execution_count": 56,
   "id": "503fd387",
   "metadata": {},
   "outputs": [
    {
     "data": {
      "text/plain": [
       "4"
      ]
     },
     "execution_count": 56,
     "metadata": {},
     "output_type": "execute_result"
    }
   ],
   "source": [
    "count_lone_ones(1010101011)"
   ]
  },
  {
   "cell_type": "code",
   "execution_count": null,
   "id": "11f289d2",
   "metadata": {},
   "outputs": [],
   "source": []
  },
  {
   "cell_type": "markdown",
   "id": "cfd53e96",
   "metadata": {},
   "source": [
    "**3. Write a method that accepts two integer parameters rows and cols. The output is a 2d array of numbers displayed in column-major order, meaning the numbers shown increase sequentially down each column and wrap to the top of the next column to the right once the bottom of the current column is reached.**  \n",
    "\n",
    ">**Examples**  \n",
    "\n",
    "printGrid(3, 6) ➞ [  \n",
    "  [1, 4, 7, 10, 13, 16],  \n",
    "  [2, 5, 8, 11, 14, 17],  \n",
    "  [3, 6, 9, 12, 15, 18]  \n",
    "]  \n",
    "\n",
    "printGrid(5, 3) ➞ [  \n",
    "  [1, 6, 11],  \n",
    "  [2, 7, 12],  \n",
    "  [3, 8, 13],  \n",
    "  [4, 9, 14],  \n",
    "  [5, 10, 15]  \n",
    "]  \n",
    "\n",
    "printGrid(4, 1) ➞ [  \n",
    "  [1],  \n",
    "  [2],  \n",
    "  [3],  \n",
    "  [4]  \n",
    "]  "
   ]
  },
  {
   "cell_type": "code",
   "execution_count": 23,
   "id": "3e0f281c",
   "metadata": {},
   "outputs": [],
   "source": [
    "import numpy as np\n",
    "def printGrid(rows:int,cols:int)->list:\n",
    "    grid_num = [i for i in range(1, (rows*cols)+1)]\n",
    "    grid = np.asarray(grid_num,dtype=int).reshape(rows,cols,order=\"F\")\n",
    "    return grid"
   ]
  },
  {
   "cell_type": "code",
   "execution_count": 24,
   "id": "06d07cfd",
   "metadata": {},
   "outputs": [
    {
     "data": {
      "text/plain": [
       "array([[ 1,  4,  7, 10, 13, 16],\n",
       "       [ 2,  5,  8, 11, 14, 17],\n",
       "       [ 3,  6,  9, 12, 15, 18]])"
      ]
     },
     "execution_count": 24,
     "metadata": {},
     "output_type": "execute_result"
    }
   ],
   "source": [
    "printGrid(3, 6)"
   ]
  },
  {
   "cell_type": "code",
   "execution_count": 25,
   "id": "551b900d",
   "metadata": {},
   "outputs": [
    {
     "data": {
      "text/plain": [
       "array([[ 1,  6, 11],\n",
       "       [ 2,  7, 12],\n",
       "       [ 3,  8, 13],\n",
       "       [ 4,  9, 14],\n",
       "       [ 5, 10, 15]])"
      ]
     },
     "execution_count": 25,
     "metadata": {},
     "output_type": "execute_result"
    }
   ],
   "source": [
    "printGrid(5, 3)"
   ]
  },
  {
   "cell_type": "code",
   "execution_count": 26,
   "id": "386596a2",
   "metadata": {},
   "outputs": [
    {
     "data": {
      "text/plain": [
       "array([[1],\n",
       "       [2],\n",
       "       [3],\n",
       "       [4]])"
      ]
     },
     "execution_count": 26,
     "metadata": {},
     "output_type": "execute_result"
    }
   ],
   "source": [
    "printGrid(4, 1)"
   ]
  },
  {
   "cell_type": "code",
   "execution_count": null,
   "id": "42dd49bf",
   "metadata": {},
   "outputs": [],
   "source": []
  },
  {
   "cell_type": "markdown",
   "id": "2977d20e",
   "metadata": {},
   "source": [
    "**4. Given a list of integers, return the smallest positive integer not present in the list.**  \n",
    "\n",
    "Here is a representative example. Consider the list:\n",
    "\n",
    "[-2, 6, 4, 5, 7, -1, 7, 1, 3, 6, 6, -2, 9, 10, 2, 2]\n",
    "\n",
    "After reordering, the list becomes:\n",
    "\n",
    "[-2, -2, -1, 1, 2, 2, 3, 4, 5, 6, 6, 6, 7, 7, 9, 10]\n",
    "\n",
    "from which we see that the smallest missing positive integer is 8.\n",
    "\n",
    ">**Examples**  \n",
    "min_miss_pos([-2, 6, 4, 5, 7, -1, 1, 3, 6, -2, 9, 10, 2, 2]) ➞ 8  \n",
    "    --> # After sorting, list becomes [-2, -2, -1, 1, 2, 2, 3, 4, 5, 6, 6, 7, 9, 10]  \n",
    "    --> # So the smallest missing positive integer is 8  \n",
    "min_miss_pos([5, 9, -2, 0, 1, 3, 9, 3, 8, 9]) ➞ 2  \n",
    "    --> # After sorting, list becomes [-2, 0, 1, 3, 3, 5, 8, 9, 9, 9]  \n",
    "    --> # So the smallest missing positive integer is 2  \n",
    "min_miss_pos([0, 4, 4, -1, 9, 4, 5, 2, 10, 7, 6, 3, 10, 9]) ➞ 1  \n",
    "    --> # After sorting, list becomes [-1, 0, 2, 3, 4, 4, 4, 5, 6, 7, 9, 9, 10, 10]  \n",
    "    --> # So the smallest missing positive integer is 1  \n"
   ]
  },
  {
   "cell_type": "code",
   "execution_count": 37,
   "id": "aa317b59",
   "metadata": {},
   "outputs": [],
   "source": [
    "def min_miss_pos(int_list:list)->int:\n",
    "    int_list = set([i for i in int_list if i>0])\n",
    "    max_num = max(int_list)\n",
    "    for num in range(1,max_num+1):\n",
    "        if num not in int_list:\n",
    "            return num\n",
    "    return None"
   ]
  },
  {
   "cell_type": "code",
   "execution_count": 34,
   "id": "66cd173c",
   "metadata": {},
   "outputs": [
    {
     "data": {
      "text/plain": [
       "8"
      ]
     },
     "execution_count": 34,
     "metadata": {},
     "output_type": "execute_result"
    }
   ],
   "source": [
    "min_miss_pos([-2, 6, 4, 5, 7, -1, 1, 3, 6, -2, 9, 10, 2, 2])"
   ]
  },
  {
   "cell_type": "code",
   "execution_count": 35,
   "id": "53678ae1",
   "metadata": {},
   "outputs": [
    {
     "data": {
      "text/plain": [
       "2"
      ]
     },
     "execution_count": 35,
     "metadata": {},
     "output_type": "execute_result"
    }
   ],
   "source": [
    "min_miss_pos([5, 9, -2, 0, 1, 3, 9, 3, 8, 9])"
   ]
  },
  {
   "cell_type": "code",
   "execution_count": 36,
   "id": "43309f88",
   "metadata": {},
   "outputs": [
    {
     "data": {
      "text/plain": [
       "1"
      ]
     },
     "execution_count": 36,
     "metadata": {},
     "output_type": "execute_result"
    }
   ],
   "source": [
    "min_miss_pos([0, 4, 4, -1, 9, 4, 5, 2, 10, 7, 6, 3, 10, 9])"
   ]
  },
  {
   "cell_type": "code",
   "execution_count": null,
   "id": "74d117e0",
   "metadata": {},
   "outputs": [],
   "source": []
  },
  {
   "cell_type": "markdown",
   "id": "03b2d728",
   "metadata": {},
   "source": [
    "**5. Google is launching a network of autonomous pizza delivery drones and wants you to create a flexible rewards system (Pizza Points™) that can be tweaked in the future. The rules are simple: if a customer has made at least N orders of at least Y price, they get a FREE pizza!**  \n",
    "\n",
    "**Create a function that takes a dictionary of customers, a minimum number of orders and a minimum order price. Return a list of customers that are eligible for a free pizza.**  \n",
    "\n",
    ">**Examples**  \n",
    "\n",
    "customers = {\n",
    "  \"Batman\": [22, 30, 11, 17, 15, 52, 27, 12],\n",
    "  \"Spider-Man\": [5, 17, 30, 33, 40, 22, 26, 10, 11, 45]\n",
    "}\n",
    "\n",
    "  pizza_points(customers, 5, 20) ➞ [\"Spider-Man\"]  \n",
    "  pizza_points(customers, 3, 10) ➞ [\"Batman\", \"Spider-Man\"]  \n",
    "  pizza_points(customers, 5, 100) ➞ []  "
   ]
  },
  {
   "cell_type": "code",
   "execution_count": 27,
   "id": "41ce88eb",
   "metadata": {},
   "outputs": [],
   "source": [
    "def pizza_points(customers,min_order,min_price):\n",
    "    orders=0\n",
    "    eligible = []\n",
    "    for customer in customers:\n",
    "        for order_price in customers[customer]:\n",
    "            if order_price>=min_price:\n",
    "                orders+=1\n",
    "        if orders >= min_order:\n",
    "            eligible.append(customer)\n",
    "    return eligible"
   ]
  },
  {
   "cell_type": "code",
   "execution_count": 28,
   "id": "d07102e3",
   "metadata": {},
   "outputs": [],
   "source": [
    "customers = { \"Batman\": [22, 30, 11, 17, 15, 52, 27, 12], \"Spider-Man\": [5, 17, 30, 33, 40, 22, 26, 10, 11, 45] }"
   ]
  },
  {
   "cell_type": "code",
   "execution_count": 29,
   "id": "09e1a674",
   "metadata": {},
   "outputs": [
    {
     "data": {
      "text/plain": [
       "['Spider-Man']"
      ]
     },
     "execution_count": 29,
     "metadata": {},
     "output_type": "execute_result"
    }
   ],
   "source": [
    "pizza_points(customers, 5, 20)"
   ]
  },
  {
   "cell_type": "code",
   "execution_count": 30,
   "id": "bc322b9e",
   "metadata": {},
   "outputs": [
    {
     "data": {
      "text/plain": [
       "['Batman', 'Spider-Man']"
      ]
     },
     "execution_count": 30,
     "metadata": {},
     "output_type": "execute_result"
    }
   ],
   "source": [
    "pizza_points(customers, 3, 10)"
   ]
  },
  {
   "cell_type": "code",
   "execution_count": 31,
   "id": "f4918fd2",
   "metadata": {},
   "outputs": [
    {
     "data": {
      "text/plain": [
       "[]"
      ]
     },
     "execution_count": 31,
     "metadata": {},
     "output_type": "execute_result"
    }
   ],
   "source": [
    "pizza_points(customers, 5, 100)"
   ]
  },
  {
   "cell_type": "code",
   "execution_count": null,
   "id": "b029c563",
   "metadata": {},
   "outputs": [],
   "source": []
  }
 ],
 "metadata": {
  "kernelspec": {
   "display_name": "Python 3 (ipykernel)",
   "language": "python",
   "name": "python3"
  },
  "language_info": {
   "codemirror_mode": {
    "name": "ipython",
    "version": 3
   },
   "file_extension": ".py",
   "mimetype": "text/x-python",
   "name": "python",
   "nbconvert_exporter": "python",
   "pygments_lexer": "ipython3",
   "version": "3.9.12"
  }
 },
 "nbformat": 4,
 "nbformat_minor": 5
}
