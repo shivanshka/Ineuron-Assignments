{
 "cells": [
  {
   "cell_type": "markdown",
   "metadata": {
    "id": "hTL3cELmnAnL"
   },
   "source": [
    "# Advance Programming Assignment 25"
   ]
  },
  {
   "cell_type": "markdown",
   "metadata": {
    "id": "4CsnbsOwnAdI"
   },
   "source": [
    "**1. Write four functions that directly mutate a list:**\n",
    "  1. repeat(lst, n): Repeat lst n times.\n",
    "  2. add(lst, x): Adds x to the end of the lst.\n",
    "  3. remove(lst, m, n): Removes all elements between indices m and n\n",
    "  inclusive in lst.\n",
    "  4. concat(lst, x): concatenates lst with x (another list).\n",
    "Examples\n",
    "lst = [1, 2, 3, 4]  \n",
    "repeat(lst, 3) ➞ [1, 2, 3, 4, 1, 2, 3, 4, 1, 2, 3, 4]  \n",
    "add(lst, 1) ➞ [1, 2, 3, 4, 1, 2, 3, 4, 1, 2, 3, 4, 1]  \n",
    "remove(lst, 1, 12) ➞ [1]  \n",
    "concat(lst, [3, 4]) ➞ [1, 3, 4]  "
   ]
  },
  {
   "cell_type": "code",
   "execution_count": 2,
   "metadata": {
    "id": "2FXfmcuynm7q"
   },
   "outputs": [],
   "source": [
    "def repeat(lst:list,n:int)->list:\n",
    "    return lst*n\n",
    "\n",
    "def add(lst:list,x)-> list:\n",
    "    if type(x) in [int,str]:\n",
    "        lst.append(x)\n",
    "    else:\n",
    "        lst.extend(x)\n",
    "    return lst\n",
    "\n",
    "def remove(lst:list,m:int,n:int)-> list:\n",
    "    if n>len(lst)-1:\n",
    "        n =len(lst)-1\n",
    "    for i in range(m,n+1):\n",
    "        lst.remove(lst[i])\n",
    "    return lst\n",
    "\n",
    "def concat(lst:list,x:list)->list:\n",
    "    return lst.extend(x)\n"
   ]
  },
  {
   "cell_type": "code",
   "execution_count": null,
   "metadata": {
    "id": "_xJD8kUJoU_a"
   },
   "outputs": [],
   "source": [
    " lst = [1, 2, 3, 4]"
   ]
  },
  {
   "cell_type": "code",
   "execution_count": null,
   "metadata": {
    "colab": {
     "base_uri": "https://localhost:8080/"
    },
    "id": "muXQKgVln3F4",
    "outputId": "3732a267-fa77-432c-8722-2e7d2efafee3"
   },
   "outputs": [
    {
     "data": {
      "text/plain": [
       "[1, 2, 3, 4, 1, 2, 3, 4, 1, 2, 3, 4]"
      ]
     },
     "execution_count": 28,
     "metadata": {},
     "output_type": "execute_result"
    }
   ],
   "source": [
    "repeat([1, 2, 3, 4],3)"
   ]
  },
  {
   "cell_type": "code",
   "execution_count": null,
   "metadata": {
    "colab": {
     "base_uri": "https://localhost:8080/"
    },
    "id": "YGNvI02Pn2yV",
    "outputId": "a1fa55fb-f26b-49de-e5f5-9afdf843d561"
   },
   "outputs": [
    {
     "data": {
      "text/plain": [
       "[1, 2, 3, 4, 1]"
      ]
     },
     "execution_count": 29,
     "metadata": {},
     "output_type": "execute_result"
    }
   ],
   "source": [
    "add(lst, 1)"
   ]
  },
  {
   "cell_type": "code",
   "execution_count": null,
   "metadata": {
    "colab": {
     "base_uri": "https://localhost:8080/"
    },
    "id": "obeWtDknn2t2",
    "outputId": "2fd02ec3-15f7-471a-ec00-0357c12c7223"
   },
   "outputs": [
    {
     "data": {
      "text/plain": [
       "[1]"
      ]
     },
     "execution_count": 38,
     "metadata": {},
     "output_type": "execute_result"
    }
   ],
   "source": [
    "remove(lst, 1, 12)"
   ]
  },
  {
   "cell_type": "code",
   "execution_count": null,
   "metadata": {
    "id": "VnrKSigpo8R8"
   },
   "outputs": [],
   "source": [
    "concat(lst, [3, 4])"
   ]
  },
  {
   "cell_type": "code",
   "execution_count": null,
   "metadata": {
    "colab": {
     "base_uri": "https://localhost:8080/"
    },
    "id": "iF7DIvvlsFot",
    "outputId": "e2777990-cf74-4632-a6c5-5e929a22139d"
   },
   "outputs": [
    {
     "data": {
      "text/plain": [
       "[1, 3, 4]"
      ]
     },
     "execution_count": 40,
     "metadata": {},
     "output_type": "execute_result"
    }
   ],
   "source": [
    "lst"
   ]
  },
  {
   "cell_type": "code",
   "execution_count": null,
   "metadata": {
    "id": "k88O83i0s95_"
   },
   "outputs": [],
   "source": []
  },
  {
   "cell_type": "markdown",
   "metadata": {
    "id": "ZG-eoqQ9nAMp"
   },
   "source": [
    "**2. The classic game of Mastermind is played on a tray on which the Mastermind conceals a code and the Guesser has 10 tries to guess it. The code is a sequence of 4 (or 6, sometimes more) pegs of different colors. Each guess is a corresponding sequence of 4 (or more) pegs of different colors. A guess is \"correct\" when the color of every peg in the guess exactly matches the corresponding peg in the Mastermind's code.**\n",
    "\n",
    "After each guess by the Guesser, the Mastermind will give a score comprising black & white pegs, not arranged in any order:\n",
    "\n",
    "   - Black peg == guess peg matches the color of a code peg in the same position.\n",
    "   - White peg == guess peg matches the color of a code peg in another position.\n",
    "\n",
    "**Create a function that takes two strings, code and guess as arguments, and returns the score in a dictionary.**\n",
    "\n",
    "   - The code and guess are strings of numeric digits\n",
    "   - The color of the pegs are represented by numeric digits\n",
    "   - no \"peg\" may be double-scored\n",
    "\n",
    "Examples\n",
    "\n",
    "guess_score(\"1423\", \"5678\") ➞ {\"black\": 0, \"white\": 0}\n",
    "\n",
    "guess_score(\"1423\", \"2222\") ➞ {\"black\": 1, \"white\": 0}\n",
    "\n",
    "guess_score(\"1423\", \"1234\") ➞ {\"black\": 1, \"white\": 3}\n",
    "\n",
    "guess_score(\"1423\", \"2211\") ➞ {\"black\": 0, \"white\": 2}\n",
    " "
   ]
  },
  {
   "cell_type": "code",
   "execution_count": 1,
   "metadata": {
    "id": "DMtHpzuYtHsc"
   },
   "outputs": [],
   "source": [
    "def guess_score(code:str,guess:str)->dict:\n",
    "    score = {\"black\":0,\"white\":0}\n",
    "    for i in range(len(code)):\n",
    "        if code[i] == guess[i]:\n",
    "            score[\"black\"] = score[\"black\"] + 1\n",
    "        elif code[i] in guess:\n",
    "            score[\"white\"] = score[\"white\"] + 1\n",
    "        else:\n",
    "            pass\n",
    "    return score"
   ]
  },
  {
   "cell_type": "code",
   "execution_count": null,
   "metadata": {
    "colab": {
     "base_uri": "https://localhost:8080/"
    },
    "id": "hxR4hZG2vB4a",
    "outputId": "9e5b137f-5bb7-4af5-baf4-d5d783ec8300"
   },
   "outputs": [
    {
     "data": {
      "text/plain": [
       "{'black': 0, 'white': 0}"
      ]
     },
     "execution_count": 42,
     "metadata": {},
     "output_type": "execute_result"
    }
   ],
   "source": [
    "guess_score(\"1423\", \"5678\")"
   ]
  },
  {
   "cell_type": "code",
   "execution_count": null,
   "metadata": {
    "colab": {
     "base_uri": "https://localhost:8080/"
    },
    "id": "un5OtDo2vOpa",
    "outputId": "d3e7a14c-6c5c-4241-c3d8-9b298ced081b"
   },
   "outputs": [
    {
     "data": {
      "text/plain": [
       "{'black': 1, 'white': 0}"
      ]
     },
     "execution_count": 43,
     "metadata": {},
     "output_type": "execute_result"
    }
   ],
   "source": [
    "guess_score(\"1423\", \"2222\")"
   ]
  },
  {
   "cell_type": "code",
   "execution_count": null,
   "metadata": {
    "colab": {
     "base_uri": "https://localhost:8080/"
    },
    "id": "2Ac3u72HvUqK",
    "outputId": "34ec2b18-1d97-4a89-f48c-37f64450003a"
   },
   "outputs": [
    {
     "data": {
      "text/plain": [
       "{'black': 1, 'white': 3}"
      ]
     },
     "execution_count": 44,
     "metadata": {},
     "output_type": "execute_result"
    }
   ],
   "source": [
    "guess_score(\"1423\", \"1234\")"
   ]
  },
  {
   "cell_type": "code",
   "execution_count": null,
   "metadata": {
    "colab": {
     "base_uri": "https://localhost:8080/"
    },
    "id": "6wy4Av9LvZgL",
    "outputId": "8884a4d1-37ef-47c4-e4fa-cd5ed65e5ad6"
   },
   "outputs": [
    {
     "data": {
      "text/plain": [
       "{'black': 0, 'white': 2}"
      ]
     },
     "execution_count": 45,
     "metadata": {},
     "output_type": "execute_result"
    }
   ],
   "source": [
    "guess_score(\"1423\", \"2211\")"
   ]
  },
  {
   "cell_type": "code",
   "execution_count": null,
   "metadata": {
    "id": "OuWw5uZ6vdn7"
   },
   "outputs": [],
   "source": []
  },
  {
   "cell_type": "markdown",
   "metadata": {
    "id": "s-fQvhk_vk3Y"
   },
   "source": [
    "**3. Create a function that takes a list lst and a number N and returns a list of two integers from lst whose product equals N.**\n",
    "\n",
    "Examples\n",
    "\n",
    "two_product([1, 2, -1, 4, 5], 20) ➞ [4, 5]\n",
    "\n",
    "two_product([1, 2, 3, 4, 5], 10) ➞ [2, 5]\n",
    "\n",
    "two_product([100, 12, 4, 1, 2], 15) ➞ None\n"
   ]
  },
  {
   "cell_type": "code",
   "execution_count": 3,
   "metadata": {
    "id": "J4rzlrFMvn3A"
   },
   "outputs": [],
   "source": [
    "def two_product(lst:list,N:int)->list:\n",
    "    result = []\n",
    "    for i in range(len(lst)):\n",
    "        for j in range(i+1,len(lst)):\n",
    "            if i!=j and lst[i]*lst[j]==N:\n",
    "                result.append([lst[i],lst[j]])\n",
    "    return result\n"
   ]
  },
  {
   "cell_type": "code",
   "execution_count": 4,
   "metadata": {
    "colab": {
     "base_uri": "https://localhost:8080/"
    },
    "id": "Ss_H1FDjxI4-",
    "outputId": "be258939-9d9c-476a-8d22-52d9b7506266"
   },
   "outputs": [
    {
     "data": {
      "text/plain": [
       "[[4, 5]]"
      ]
     },
     "execution_count": 4,
     "metadata": {},
     "output_type": "execute_result"
    }
   ],
   "source": [
    "two_product([1, 2, -1, 4, 5], 20)"
   ]
  },
  {
   "cell_type": "code",
   "execution_count": 5,
   "metadata": {
    "colab": {
     "base_uri": "https://localhost:8080/"
    },
    "id": "OijUqkGyxL7t",
    "outputId": "28de2c95-5555-4ca0-c54b-29d81d6a59de"
   },
   "outputs": [
    {
     "data": {
      "text/plain": [
       "[[2, 5]]"
      ]
     },
     "execution_count": 5,
     "metadata": {},
     "output_type": "execute_result"
    }
   ],
   "source": [
    "two_product([1, 2, 3, 4, 5], 10)"
   ]
  },
  {
   "cell_type": "code",
   "execution_count": 6,
   "metadata": {
    "colab": {
     "base_uri": "https://localhost:8080/"
    },
    "id": "T88xZIb7x2O2",
    "outputId": "e8b2cea3-8ea2-4f0c-94d3-9096acc4f75a"
   },
   "outputs": [
    {
     "data": {
      "text/plain": [
       "[]"
      ]
     },
     "execution_count": 6,
     "metadata": {},
     "output_type": "execute_result"
    }
   ],
   "source": [
    "two_product([100, 12, 4, 1, 2], 15)"
   ]
  },
  {
   "cell_type": "code",
   "execution_count": null,
   "metadata": {
    "id": "eYeeh89mx50S"
   },
   "outputs": [],
   "source": []
  },
  {
   "cell_type": "markdown",
   "metadata": {
    "id": "THNUX-BLx7W9"
   },
   "source": [
    "**4. In this challenge, sort a list containing a series of dates given as strings. Each date is given in the format DD-MM-YYYY_HH:MM:**\n",
    "\n",
    "\"12-02-2012_13:44\"\n",
    "\n",
    "The priority of criteria used for sorting will be:\n",
    "\n",
    "  - Year\n",
    "  - Month\n",
    "  - Day\n",
    "  - Hours\n",
    "  - Minutes\n",
    "\n",
    "Given a list lst and a string mode, implement a function that returns:\n",
    "\n",
    "   - if mode is equal to \"ASC\", the list lst sorted in ascending order.\n",
    "   - if mode is equal to \"DSC\", the list lst sorted in descending order.\n",
    "\n",
    "Examples\n",
    "\n",
    "sort_dates([\"10-02-2018_12:30\", \"10-02-2016_12:30\", \"10-02-2018_12:15\"], \"ASC\") ➞ [\"10-02-2016_12:30\", \"10-02-2018_12:15\", \"10-02-2018_12:30\"]\n",
    "\n",
    "sort_dates([\"10-02-2018_12:30\", \"10-02-2016_12:30\", \"10-02-2018_12:15\"], \"DSC\") ➞ [\"10-02-2018_12:30\", \"10-02-2018_12:15\", \"10-02-2016_12:30\"]\n",
    "\n",
    "sort_dates([\"09-02-2000_10:03\", \"10-02-2000_18:29\", \"01-01-1999_00:55\"], \"ASC\") ➞ [\"01-01-1999_00:55\", \"09-02-2000_10:03\", \"10-02-2000_18:29\"]\n"
   ]
  },
  {
   "cell_type": "code",
   "execution_count": 7,
   "metadata": {
    "id": "0-sWTjkdx-Tw"
   },
   "outputs": [],
   "source": [
    "from datetime import datetime\n",
    "def sort_dates(date_lst:list,mode:str='ASC')->list:\n",
    "    if mode == \"ASC\":\n",
    "        mode = False\n",
    "    else:\n",
    "        mode = True\n",
    "    date_lst.sort(key = lambda x: datetime.strptime(x,\"%d-%m-%Y_%H:%M\"),reverse = mode)\n",
    "    return date_lst"
   ]
  },
  {
   "cell_type": "code",
   "execution_count": 8,
   "metadata": {
    "colab": {
     "base_uri": "https://localhost:8080/"
    },
    "id": "xGGPodgNyhNl",
    "outputId": "e82fff73-388f-493a-a672-56c303951b4b"
   },
   "outputs": [
    {
     "data": {
      "text/plain": [
       "['10-02-2016_12:30', '10-02-2018_12:15', '10-02-2018_12:30']"
      ]
     },
     "execution_count": 8,
     "metadata": {},
     "output_type": "execute_result"
    }
   ],
   "source": [
    "sort_dates(['10-02-2018_12:30', '10-02-2016_12:30', '10-02-2018_12:15'],'ASC')"
   ]
  },
  {
   "cell_type": "code",
   "execution_count": 9,
   "metadata": {
    "colab": {
     "base_uri": "https://localhost:8080/"
    },
    "id": "aTlHrk7w1xB_",
    "outputId": "3258631f-0c3c-44b6-c920-c3dd102074b8"
   },
   "outputs": [
    {
     "data": {
      "text/plain": [
       "['10-02-2018_12:30', '10-02-2018_12:15', '10-02-2016_12:30']"
      ]
     },
     "execution_count": 9,
     "metadata": {},
     "output_type": "execute_result"
    }
   ],
   "source": [
    "sort_dates(['10-02-2018_12:30', '10-02-2016_12:30', '10-02-2018_12:15'],'DSC')"
   ]
  },
  {
   "cell_type": "code",
   "execution_count": 10,
   "metadata": {
    "colab": {
     "base_uri": "https://localhost:8080/"
    },
    "id": "_xPPSCiA2O4-",
    "outputId": "163f269a-177e-4185-aae9-551f80228ee1"
   },
   "outputs": [
    {
     "data": {
      "text/plain": [
       "['01-01-1999_00:55', '09-02-2000_10:03', '10-02-2000_18:29']"
      ]
     },
     "execution_count": 10,
     "metadata": {},
     "output_type": "execute_result"
    }
   ],
   "source": [
    "sort_dates(['09-02-2000_10:03', '10-02-2000_18:29','01-01-1999_00:55'],'ASC')"
   ]
  },
  {
   "cell_type": "code",
   "execution_count": null,
   "metadata": {
    "id": "0aJ8CXy43H_O"
   },
   "outputs": [],
   "source": []
  },
  {
   "cell_type": "markdown",
   "metadata": {
    "id": "NnRVUvUW3NL7"
   },
   "source": [
    "**5. Write a function that selects all words that have all the same vowels (in any order and/or number) as the first word, including the first word.**\n",
    "\n",
    "Examples\n",
    "\n",
    "same_vowel_group([\"toe\", \"ocelot\", \"maniac\"]) ➞ [\"toe\", \"ocelot\"]\n",
    "\n",
    "same_vowel_group([\"many\", \"carriage\", \"emit\", \"apricot\", \"animal\"]) ➞ [\"many\"]\n",
    "\n",
    "same_vowel_group([\"hoops\", \"chuff\", \"bot\", \"bottom\"]) ➞ [\"hoops\", \"bot\", \"bottom\"] "
   ]
  },
  {
   "cell_type": "code",
   "execution_count": 11,
   "metadata": {
    "id": "17KRYlPl3Obl"
   },
   "outputs": [],
   "source": [
    "def same_vowel_group(words:list)->list:\n",
    "    rslt = []\n",
    "  \n",
    "    vowels = [i for i in words[0] if i in \"aeiou\"]\n",
    "    for i in range(len(words)):\n",
    "        flag = True\n",
    "        v = [k for k in words[i] if k in \"aeiou\"]\n",
    "        for j in v:\n",
    "            if j not in vowels:\n",
    "                flag = False\n",
    "        if flag==True:\n",
    "            rslt.append(words[i])\n",
    "    return rslt\n",
    "    \n",
    "    "
   ]
  },
  {
   "cell_type": "code",
   "execution_count": 12,
   "metadata": {
    "colab": {
     "base_uri": "https://localhost:8080/"
    },
    "id": "DO21Z4yk4e68",
    "outputId": "1b2e0ed1-5d6e-43fa-e994-d282dcc84374"
   },
   "outputs": [
    {
     "data": {
      "text/plain": [
       "['toe', 'ocelot']"
      ]
     },
     "execution_count": 12,
     "metadata": {},
     "output_type": "execute_result"
    }
   ],
   "source": [
    "same_vowel_group(['toe', 'ocelot', 'maniac'])"
   ]
  },
  {
   "cell_type": "code",
   "execution_count": 13,
   "metadata": {
    "colab": {
     "base_uri": "https://localhost:8080/"
    },
    "id": "zNbJpp8g5Ajw",
    "outputId": "7efcaad1-f9b4-46e1-bdde-d21ed4fb4158"
   },
   "outputs": [
    {
     "data": {
      "text/plain": [
       "['many']"
      ]
     },
     "execution_count": 13,
     "metadata": {},
     "output_type": "execute_result"
    }
   ],
   "source": [
    "same_vowel_group(['many', 'carriage', 'emit', 'apricot', 'animal'])"
   ]
  },
  {
   "cell_type": "code",
   "execution_count": 14,
   "metadata": {
    "colab": {
     "base_uri": "https://localhost:8080/"
    },
    "id": "FMGWBMDy7gaH",
    "outputId": "46df0007-3d6e-4c25-f4c3-d3def25c5cc7"
   },
   "outputs": [
    {
     "data": {
      "text/plain": [
       "['hoops', 'bot', 'bottom']"
      ]
     },
     "execution_count": 14,
     "metadata": {},
     "output_type": "execute_result"
    }
   ],
   "source": [
    "same_vowel_group(['hoops', 'chuff', 'bot', 'bottom'])"
   ]
  },
  {
   "cell_type": "code",
   "execution_count": null,
   "metadata": {
    "id": "zMgqzRXJ7tdq"
   },
   "outputs": [],
   "source": []
  },
  {
   "cell_type": "markdown",
   "metadata": {
    "id": "3kXPsRbT8qOF"
   },
   "source": [
    "**6. Create a function that takes a list of more than three numbers and returns the Least Common Multiple (LCM).**\n",
    "\n",
    "Examples\n",
    "\n",
    "lcm_of_list([1, 2, 3, 4, 5, 6, 7, 8, 9, 10]) ➞ 2520\n",
    "\n",
    "lcm_of_list([13, 6, 17, 18, 19, 20, 37]) ➞ 27965340\n",
    "\n",
    "lcm_of_list([44, 64, 12, 17, 65]) ➞ 2333760\n"
   ]
  },
  {
   "cell_type": "code",
   "execution_count": 15,
   "metadata": {
    "id": "8aW8yie98rdo"
   },
   "outputs": [],
   "source": [
    "import math\n",
    "def find_lcm(num1, num2):\n",
    "    gcd = math.gcd(num1,num2)\n",
    "    lcm = int(int(num1 * num2)/int(gcd))\n",
    "    return lcm\n",
    "\n",
    "def lcm_of_list(lst:list)->int:\n",
    "    num1 = lst[0]\n",
    "    num2 = lst[1]\n",
    "    lcm = find_lcm(num1, num2)\n",
    "  \n",
    "    for i in range(2, len(lst)):\n",
    "        lcm = find_lcm(lcm, lst[i])\n",
    "     \n",
    "    return(lcm)"
   ]
  },
  {
   "cell_type": "code",
   "execution_count": 16,
   "metadata": {
    "colab": {
     "base_uri": "https://localhost:8080/"
    },
    "id": "u_pu58Dj_RaH",
    "outputId": "7d4a2cf9-b9d1-4e51-db0a-9c55b2690497"
   },
   "outputs": [
    {
     "data": {
      "text/plain": [
       "2520"
      ]
     },
     "execution_count": 16,
     "metadata": {},
     "output_type": "execute_result"
    }
   ],
   "source": [
    "lcm_of_list([1, 2, 3, 4, 5, 6, 7, 8, 9, 10])"
   ]
  },
  {
   "cell_type": "code",
   "execution_count": 17,
   "metadata": {
    "colab": {
     "base_uri": "https://localhost:8080/"
    },
    "id": "CZkm99mP_WB5",
    "outputId": "a150047a-cb92-49db-d762-688b4be4d443"
   },
   "outputs": [
    {
     "data": {
      "text/plain": [
       "27965340"
      ]
     },
     "execution_count": 17,
     "metadata": {},
     "output_type": "execute_result"
    }
   ],
   "source": [
    "lcm_of_list([13, 6, 17, 18, 19, 20, 37])"
   ]
  },
  {
   "cell_type": "code",
   "execution_count": 18,
   "metadata": {
    "colab": {
     "base_uri": "https://localhost:8080/"
    },
    "id": "zkllEvbz_gYg",
    "outputId": "86990220-917f-42c8-d41a-52d5d986038a"
   },
   "outputs": [
    {
     "data": {
      "text/plain": [
       "2333760"
      ]
     },
     "execution_count": 18,
     "metadata": {},
     "output_type": "execute_result"
    }
   ],
   "source": [
    "lcm_of_list([44, 64, 12, 17, 65])"
   ]
  },
  {
   "cell_type": "code",
   "execution_count": null,
   "metadata": {
    "id": "6yUN3yMo_j84"
   },
   "outputs": [],
   "source": []
  }
 ],
 "metadata": {
  "colab": {
   "collapsed_sections": [],
   "name": "Python Advance Programming Assignment 25.ipynb",
   "provenance": []
  },
  "kernelspec": {
   "display_name": "Python 3 (ipykernel)",
   "language": "python",
   "name": "python3"
  },
  "language_info": {
   "codemirror_mode": {
    "name": "ipython",
    "version": 3
   },
   "file_extension": ".py",
   "mimetype": "text/x-python",
   "name": "python",
   "nbconvert_exporter": "python",
   "pygments_lexer": "ipython3",
   "version": "3.9.12"
  }
 },
 "nbformat": 4,
 "nbformat_minor": 1
}
