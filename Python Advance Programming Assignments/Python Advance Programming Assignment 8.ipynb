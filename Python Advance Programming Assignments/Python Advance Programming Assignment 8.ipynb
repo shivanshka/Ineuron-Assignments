{
 "cells": [
  {
   "cell_type": "markdown",
   "id": "c4385663",
   "metadata": {},
   "source": [
    "# Advance Programming Assignment 8"
   ]
  },
  {
   "cell_type": "markdown",
   "id": "d3629f70",
   "metadata": {},
   "source": [
    "**1. Given a sentence as txt, return True if any two adjacent words have this property: One word ends with a vowel, while the word immediately after begins with a vowel (a e i o u).**  \n",
    "\n",
    ">**Examples**  \n",
    "vowel_links(\"a very large appliance\") ➞ True  \n",
    "vowel_links(\"go to edabit\") ➞ True  \n",
    "vowel_links(\"an open fire\") ➞ False  \n",
    "vowel_links(\"a sudden applause\") ➞ False  "
   ]
  },
  {
   "cell_type": "code",
   "execution_count": 7,
   "id": "ae26610f",
   "metadata": {},
   "outputs": [],
   "source": [
    "vowel = 'aeiou'\n",
    "def vowel_links(txt):\n",
    "    txt_list = txt.split()\n",
    "    for i in range(len(txt_list)-1):\n",
    "        if txt_list[i][-1] in vowel and txt_list[i+1][0] in vowel:\n",
    "            return True\n",
    "    return False"
   ]
  },
  {
   "cell_type": "code",
   "execution_count": 8,
   "id": "f19196e5",
   "metadata": {},
   "outputs": [
    {
     "data": {
      "text/plain": [
       "True"
      ]
     },
     "execution_count": 8,
     "metadata": {},
     "output_type": "execute_result"
    }
   ],
   "source": [
    "vowel_links(\"a very large appliance\")"
   ]
  },
  {
   "cell_type": "code",
   "execution_count": 9,
   "id": "58a107ff",
   "metadata": {},
   "outputs": [
    {
     "data": {
      "text/plain": [
       "False"
      ]
     },
     "execution_count": 9,
     "metadata": {},
     "output_type": "execute_result"
    }
   ],
   "source": [
    "vowel_links(\"an open fire\")"
   ]
  },
  {
   "cell_type": "code",
   "execution_count": 10,
   "id": "d1b0e170",
   "metadata": {},
   "outputs": [
    {
     "data": {
      "text/plain": [
       "False"
      ]
     },
     "execution_count": 10,
     "metadata": {},
     "output_type": "execute_result"
    }
   ],
   "source": [
    "vowel_links(\"a sudden applause\")"
   ]
  },
  {
   "cell_type": "code",
   "execution_count": 11,
   "id": "43aafe05",
   "metadata": {},
   "outputs": [
    {
     "data": {
      "text/plain": [
       "True"
      ]
     },
     "execution_count": 11,
     "metadata": {},
     "output_type": "execute_result"
    }
   ],
   "source": [
    "vowel_links(\"go to edabit\")"
   ]
  },
  {
   "cell_type": "code",
   "execution_count": null,
   "id": "9425d6c9",
   "metadata": {},
   "outputs": [],
   "source": []
  },
  {
   "cell_type": "markdown",
   "id": "490d5d93",
   "metadata": {},
   "source": [
    "**2. You are given three inputs: a string, one letter, and a second letter.  \n",
    "Write a function that returns True if every instance of the first letter occurs before every instance of the second letter.**  \n",
    "\n",
    ">**Examples**  \n",
    "first_before_second(\"a rabbit jumps joyfully\", \"a\", \"j\") ➞ True  \n",
    "    # Every instance of \"a\" occurs before every instance of \"j\".  \n",
    "first_before_second(\"knaves knew about waterfalls\", \"k\", \"w\") ➞  True  \n",
    "first_before_second(\"happy birthday\", \"a\", \"y\") ➞ False  \n",
    "    # The \"a\" in \"birthday\" occurs after the \"y\" in \"happy\".  \n",
    "first_before_second(\"precarious kangaroos\", \"k\", \"a\") ➞ False  "
   ]
  },
  {
   "cell_type": "code",
   "execution_count": 17,
   "id": "d0af365f",
   "metadata": {},
   "outputs": [],
   "source": [
    "def first_before_second(strng,let_1,let_2):\n",
    "      let_2_first_index = strng.index(let_2)\n",
    "      let_1_last_index = [i for i in range(len(strng)) if strng[i]==let_1][-1]\n",
    "      if let_1_last_index < let_2_first_index:\n",
    "          return True\n",
    "      return False"
   ]
  },
  {
   "cell_type": "code",
   "execution_count": 18,
   "id": "82558e03",
   "metadata": {},
   "outputs": [
    {
     "data": {
      "text/plain": [
       "True"
      ]
     },
     "execution_count": 18,
     "metadata": {},
     "output_type": "execute_result"
    }
   ],
   "source": [
    "first_before_second(\"a rabbit jumps joyfully\", \"a\", \"j\")"
   ]
  },
  {
   "cell_type": "code",
   "execution_count": 19,
   "id": "c95a876f",
   "metadata": {},
   "outputs": [
    {
     "data": {
      "text/plain": [
       "True"
      ]
     },
     "execution_count": 19,
     "metadata": {},
     "output_type": "execute_result"
    }
   ],
   "source": [
    "first_before_second(\"knaves knew about waterfalls\", \"k\", \"w\")"
   ]
  },
  {
   "cell_type": "code",
   "execution_count": 20,
   "id": "42b0f87b",
   "metadata": {},
   "outputs": [
    {
     "data": {
      "text/plain": [
       "False"
      ]
     },
     "execution_count": 20,
     "metadata": {},
     "output_type": "execute_result"
    }
   ],
   "source": [
    "first_before_second(\"happy birthday\", \"a\", \"y\")"
   ]
  },
  {
   "cell_type": "code",
   "execution_count": 21,
   "id": "262a565c",
   "metadata": {},
   "outputs": [
    {
     "data": {
      "text/plain": [
       "False"
      ]
     },
     "execution_count": 21,
     "metadata": {},
     "output_type": "execute_result"
    }
   ],
   "source": [
    "first_before_second(\"precarious kangaroos\", \"k\", \"a\")"
   ]
  },
  {
   "cell_type": "code",
   "execution_count": null,
   "id": "46431a16",
   "metadata": {},
   "outputs": [],
   "source": []
  },
  {
   "cell_type": "markdown",
   "id": "2ff2810c",
   "metadata": {},
   "source": [
    "**3. Create a function that returns the characters from a list or string r on odd or even positions, depending on the specifier s. The specifier will be \"odd\" for items on odd positions (1, 3, 5, ...) and \"even\" for items on even positions (2, 4, 6, ...).**  \n",
    "\n",
    ">**Examples**  \n",
    "-char_at_pos([2, 4, 6, 8, 10], \"even\") ➞ [4, 8]  \n",
    "      # 4 & 8 occupy the 2nd & 4th positions  \n",
    "-char_at_pos(\"EDABIT\", \"odd\") ➞ \"EAI\"  \n",
    "      # \"E\", \"A\" and \"I\" occupy the 1st, 3rd and 5th positions  \n",
    "-char_at_pos([\"A\", \"R\", \"B\", \"I\", \"T\", \"R\", \"A\", \"R\", \"I\", \"L\", \"Y\"], \"odd\") ➞ [\"A\", \"B\", \"T\", \"A\", \"I\", \"Y\"]\n"
   ]
  },
  {
   "cell_type": "code",
   "execution_count": 62,
   "id": "bdcc549f",
   "metadata": {},
   "outputs": [],
   "source": [
    "def char_at_pos(r, specifier):\n",
    "    if specifier==\"odd\":\n",
    "        result_list = [r[i] for i in range(0, len(r),2)]\n",
    "    elif specifier==\"even\":\n",
    "        result_list = [r[i] for i in range(1, len(r),2)]\n",
    "    else:\n",
    "        return \"Wrong specifier!!, enter either 'odd' or 'even'\"\n",
    "    \n",
    "    if type(r)==list:\n",
    "        return result_list\n",
    "        \n",
    "    return \"\".join(result_list)\n",
    "    "
   ]
  },
  {
   "cell_type": "code",
   "execution_count": 63,
   "id": "444be289",
   "metadata": {},
   "outputs": [
    {
     "data": {
      "text/plain": [
       "[4, 8]"
      ]
     },
     "execution_count": 63,
     "metadata": {},
     "output_type": "execute_result"
    }
   ],
   "source": [
    "char_at_pos([2, 4, 6, 8, 10], \"even\")"
   ]
  },
  {
   "cell_type": "code",
   "execution_count": 64,
   "id": "4e06522b",
   "metadata": {},
   "outputs": [
    {
     "data": {
      "text/plain": [
       "'EAI'"
      ]
     },
     "execution_count": 64,
     "metadata": {},
     "output_type": "execute_result"
    }
   ],
   "source": [
    "char_at_pos(\"EDABIT\", \"odd\")"
   ]
  },
  {
   "cell_type": "code",
   "execution_count": 65,
   "id": "74b0d21e",
   "metadata": {},
   "outputs": [
    {
     "data": {
      "text/plain": [
       "['A', 'B', 'T', 'A', 'I', 'Y']"
      ]
     },
     "execution_count": 65,
     "metadata": {},
     "output_type": "execute_result"
    }
   ],
   "source": [
    "char_at_pos([\"A\", \"R\", \"B\", \"I\", \"T\", \"R\", \"A\", \"R\", \"I\", \"L\", \"Y\"], \"odd\") "
   ]
  },
  {
   "cell_type": "code",
   "execution_count": null,
   "id": "aad8c9fd",
   "metadata": {},
   "outputs": [],
   "source": []
  },
  {
   "cell_type": "markdown",
   "id": "39b0ab72",
   "metadata": {},
   "source": [
    "**4. Write a function that returns the greatest common divisor of all list elements. If the greatest common divisor is 1, return 1.**  \n",
    "\n",
    ">**Examples**  \n",
    "GCD([10, 20, 40]) ➞ 10  \n",
    "GCD([1, 2, 3, 100]) ➞ 1  \n",
    "GCD([1024, 192, 2048, 512]) ➞ 64\n"
   ]
  },
  {
   "cell_type": "code",
   "execution_count": 117,
   "id": "f9fbc160",
   "metadata": {},
   "outputs": [],
   "source": [
    "def divisible(num, list_):\n",
    "    for j in list_:\n",
    "        if j%num!=0:\n",
    "            return False\n",
    "    return True\n",
    "\n",
    "def GCD(num_list):\n",
    "    gcd = 1\n",
    "    for i in range(1,min(num_list)+1):\n",
    "        if divisible(i, num_list)==True:\n",
    "            gcd = i\n",
    "    return gcd\n",
    "                "
   ]
  },
  {
   "cell_type": "code",
   "execution_count": 118,
   "id": "ea81a964",
   "metadata": {},
   "outputs": [
    {
     "data": {
      "text/plain": [
       "10"
      ]
     },
     "execution_count": 118,
     "metadata": {},
     "output_type": "execute_result"
    }
   ],
   "source": [
    "GCD([10, 20, 40])"
   ]
  },
  {
   "cell_type": "code",
   "execution_count": 119,
   "id": "be1f987a",
   "metadata": {},
   "outputs": [
    {
     "data": {
      "text/plain": [
       "1"
      ]
     },
     "execution_count": 119,
     "metadata": {},
     "output_type": "execute_result"
    }
   ],
   "source": [
    "GCD([1, 2, 3, 100])"
   ]
  },
  {
   "cell_type": "code",
   "execution_count": 120,
   "id": "4cb68938",
   "metadata": {},
   "outputs": [
    {
     "data": {
      "text/plain": [
       "64"
      ]
     },
     "execution_count": 120,
     "metadata": {},
     "output_type": "execute_result"
    }
   ],
   "source": [
    "GCD([1024, 192, 2048, 512])"
   ]
  },
  {
   "cell_type": "code",
   "execution_count": null,
   "id": "e02eda6d",
   "metadata": {},
   "outputs": [],
   "source": []
  },
  {
   "cell_type": "markdown",
   "id": "2f513e6a",
   "metadata": {},
   "source": [
    "**5. A number/string is a palindrome if the digits/characters are the same when read both forward and backward. Examples include \"racecar\" and 12321. Given a positive number n, check if n or the binary representation of n is palindromic. Return the following:**\n",
    "- \"Decimal only.\" if only n is a palindrome.  \n",
    "- \"Binary only.\" if only the binary representation of n is a palindrome.\n",
    "- \"Decimal and binary.\" if both are palindromes.\n",
    "- \"Neither!\" if neither are palindromes.\n",
    "\n",
    ">**Examples**  \n",
    "---->palindrome_type(1306031) ➞ \"Decimal only.\"  \n",
    "        # decimal = 1306031  \n",
    "        # binary  = \"100111110110110101111\"  \n",
    "---->palindrome_type(427787) ➞ \"Binary only.\"  \n",
    "        # decimal = 427787  \n",
    "        # binary  = \"1101000011100001011\"  \n",
    "---->palindrome_type(313) ➞ \"Decimal and binary.\"  \n",
    "        # decimal = 313  \n",
    "        # binary  = 100111001  \n",
    "---->palindrome_type(934) ➞ \"Neither!\"  \n",
    "        # decimal = 934  \n",
    "        # binary  = \"1110100110\"\n"
   ]
  },
  {
   "cell_type": "code",
   "execution_count": 37,
   "id": "f5334936",
   "metadata": {},
   "outputs": [],
   "source": [
    "def palindrome_type(decimal):\n",
    "    def to_binary(decimal):\n",
    "        binary = \"\"\n",
    "        num = decimal\n",
    "        while num>0:\n",
    "            rem = num%2\n",
    "            binary = str(rem) + binary\n",
    "            num//=2\n",
    "        return int(binary)\n",
    "    \n",
    "    def is_pallindrome(num):\n",
    "        temp = num\n",
    "        sum_=\"\"\n",
    "        while temp!=0:\n",
    "            rem = temp%10\n",
    "            sum_ = sum_+str(rem)\n",
    "            temp //= 10\n",
    "        if int(sum_) == num:\n",
    "            return True\n",
    "        else:\n",
    "            return False\n",
    "    \n",
    "    binary = to_binary(decimal)\n",
    "    print(f\"Binary = {binary}\")\n",
    "    \n",
    "    if is_pallindrome(decimal) == True and is_pallindrome(binary)==False:\n",
    "        return \"Decimal Only\"\n",
    "    elif is_pallindrome(decimal) == False and is_pallindrome(binary)==True:\n",
    "        return \"Binary Only\"\n",
    "    elif is_pallindrome(decimal) == True and is_pallindrome(binary)==True:\n",
    "        return \"Decimal and Binary Both!!\"\n",
    "    else:\n",
    "        return \"Neither\"\n",
    "            "
   ]
  },
  {
   "cell_type": "code",
   "execution_count": 38,
   "id": "b6fdbb4c",
   "metadata": {},
   "outputs": [
    {
     "name": "stdout",
     "output_type": "stream",
     "text": [
      "Binary = 100111110110110101111\n"
     ]
    },
    {
     "data": {
      "text/plain": [
       "'Decimal Only'"
      ]
     },
     "execution_count": 38,
     "metadata": {},
     "output_type": "execute_result"
    }
   ],
   "source": [
    "palindrome_type(1306031)"
   ]
  },
  {
   "cell_type": "code",
   "execution_count": 39,
   "id": "3b14544d",
   "metadata": {},
   "outputs": [
    {
     "name": "stdout",
     "output_type": "stream",
     "text": [
      "Binary = 1101000011100001011\n"
     ]
    },
    {
     "data": {
      "text/plain": [
       "'Binary Only'"
      ]
     },
     "execution_count": 39,
     "metadata": {},
     "output_type": "execute_result"
    }
   ],
   "source": [
    "palindrome_type(427787)"
   ]
  },
  {
   "cell_type": "code",
   "execution_count": 40,
   "id": "310655e4",
   "metadata": {},
   "outputs": [
    {
     "name": "stdout",
     "output_type": "stream",
     "text": [
      "Binary = 100111001\n"
     ]
    },
    {
     "data": {
      "text/plain": [
       "'Decimal and Binary Both!!'"
      ]
     },
     "execution_count": 40,
     "metadata": {},
     "output_type": "execute_result"
    }
   ],
   "source": [
    "palindrome_type(313)"
   ]
  },
  {
   "cell_type": "code",
   "execution_count": 41,
   "id": "110de23b",
   "metadata": {},
   "outputs": [
    {
     "name": "stdout",
     "output_type": "stream",
     "text": [
      "Binary = 1110100110\n"
     ]
    },
    {
     "data": {
      "text/plain": [
       "'Neither'"
      ]
     },
     "execution_count": 41,
     "metadata": {},
     "output_type": "execute_result"
    }
   ],
   "source": [
    "palindrome_type(934)"
   ]
  },
  {
   "cell_type": "code",
   "execution_count": null,
   "id": "90f5ffda",
   "metadata": {},
   "outputs": [],
   "source": []
  }
 ],
 "metadata": {
  "kernelspec": {
   "display_name": "Python 3 (ipykernel)",
   "language": "python",
   "name": "python3"
  },
  "language_info": {
   "codemirror_mode": {
    "name": "ipython",
    "version": 3
   },
   "file_extension": ".py",
   "mimetype": "text/x-python",
   "name": "python",
   "nbconvert_exporter": "python",
   "pygments_lexer": "ipython3",
   "version": "3.9.7"
  }
 },
 "nbformat": 4,
 "nbformat_minor": 5
}
