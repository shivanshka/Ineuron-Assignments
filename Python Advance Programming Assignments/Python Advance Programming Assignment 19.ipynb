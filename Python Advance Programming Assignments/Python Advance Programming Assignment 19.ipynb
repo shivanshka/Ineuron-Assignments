{
 "cells": [
  {
   "cell_type": "markdown",
   "id": "f3cd0283",
   "metadata": {},
   "source": [
    "# Advance Programming Assignment 19"
   ]
  },
  {
   "cell_type": "markdown",
   "id": "8bb0a69f",
   "metadata": {},
   "source": [
    "**1. Create a checker board generator, which takes as inputs n and 2 elements to generate an n x n checkerboard with those two elements as alternating squares.**  \n",
    "\n",
    "**Examples**  \n",
    "\n",
    "checker_board(2, 7, 6) ➞ [  \n",
    "  [7, 6],  \n",
    "  [6, 7]  \n",
    "]  \n",
    "\n",
    "checker_board(3, \"A\", \"B\") ➞ [  \n",
    "  [\"A\", \"B\", \"A\"],  \n",
    "  [\"B\", \"A\", \"B\"],  \n",
    "  [\"A\", \"B\", \"A\"]  \n",
    "]  \n",
    "\n",
    "checker_board(4, \"c\", \"d\") ➞ [  \n",
    "  [\"c\", \"d\", \"c\", \"d\"],  \n",
    "  [\"d\", \"c\", \"d\", \"c\"],  \n",
    "  [\"c\", \"d\", \"c\", \"d\"],  \n",
    "  [\"d\", \"c\", \"d\", \"c\"]  \n",
    "]  \n",
    "\n",
    "checker_board(4, \"c\", \"c\") ➞ \"invalid\"  "
   ]
  },
  {
   "cell_type": "code",
   "execution_count": 34,
   "id": "b7ae8dff",
   "metadata": {},
   "outputs": [],
   "source": [
    "import numpy as np\n",
    "def checker_board(n,ele1,ele2):\n",
    "    final = []\n",
    "    if n%2!=0:\n",
    "        pat1 = [ele1,ele2]*(int(n/2))+[ele1]\n",
    "        pat2 = [ele2,ele1]*(int(n/2))+[ele2]\n",
    "    else:\n",
    "        pat1 = list(np.tile([ele1,ele2],int(n/2)))\n",
    "        pat2 = list(np.tile([ele2,ele1],int(n/2)))\n",
    "    for i in range(n):\n",
    "        if i%2==0:\n",
    "            final.append(pat1)\n",
    "        else:\n",
    "            final.append(pat2)\n",
    "    return (np.array(final))"
   ]
  },
  {
   "cell_type": "code",
   "execution_count": 35,
   "id": "124b6416",
   "metadata": {},
   "outputs": [
    {
     "data": {
      "text/plain": [
       "array([['c', 'd', 'c', 'd'],\n",
       "       ['d', 'c', 'd', 'c'],\n",
       "       ['c', 'd', 'c', 'd'],\n",
       "       ['d', 'c', 'd', 'c']], dtype='<U1')"
      ]
     },
     "execution_count": 35,
     "metadata": {},
     "output_type": "execute_result"
    }
   ],
   "source": [
    "checker_board(4, \"c\", \"d\")"
   ]
  },
  {
   "cell_type": "code",
   "execution_count": 36,
   "id": "f7da6087",
   "metadata": {},
   "outputs": [
    {
     "data": {
      "text/plain": [
       "array([['A', 'B', 'A'],\n",
       "       ['B', 'A', 'B'],\n",
       "       ['A', 'B', 'A']], dtype='<U1')"
      ]
     },
     "execution_count": 36,
     "metadata": {},
     "output_type": "execute_result"
    }
   ],
   "source": [
    "checker_board(3, \"A\", \"B\")"
   ]
  },
  {
   "cell_type": "code",
   "execution_count": 37,
   "id": "03e85955",
   "metadata": {},
   "outputs": [
    {
     "data": {
      "text/plain": [
       "array([[7, 6],\n",
       "       [6, 7]])"
      ]
     },
     "execution_count": 37,
     "metadata": {},
     "output_type": "execute_result"
    }
   ],
   "source": [
    "checker_board(2, 7, 6) "
   ]
  },
  {
   "cell_type": "code",
   "execution_count": null,
   "id": "06367f80",
   "metadata": {},
   "outputs": [],
   "source": []
  },
  {
   "cell_type": "markdown",
   "id": "7ef1ca62",
   "metadata": {},
   "source": [
    "**2. A string is an almost-palindrome if, by changing only one character, you can make it a palindrome. Create a function that returns True if a string is an almost-palindrome and False otherwise.**  \n",
    "\n",
    ">**Examples**  \n",
    "almost_palindrome(\"abcdcbg\") ➞ True  \n",
    "    --> # Transformed to \"abcdcba\" by changing \"g\" to \"a\".  \n",
    "almost_palindrome(\"abccia\") ➞ True  \n",
    "    --> # Transformed to \"abccba\" by changing \"i\" to \"b\".  \n",
    "almost_palindrome(\"abcdaaa\") ➞ False  \n",
    "    --> # Can't be transformed to a palindrome in exactly 1 turn.  \n",
    "almost_palindrome(\"1234312\") ➞ False"
   ]
  },
  {
   "cell_type": "code",
   "execution_count": 46,
   "id": "f0820ca6",
   "metadata": {},
   "outputs": [],
   "source": [
    "def almost_palindrome(strng):\n",
    "    try:\n",
    "        count = 0\n",
    "        for i in range(int(len(strng)/2)+1):\n",
    "            if strng[i] != strng[-(i+1)]:\n",
    "                count+=1\n",
    "        if count==1:\n",
    "            return True\n",
    "        else:\n",
    "            return False\n",
    "    except Exception as e:\n",
    "        print(\"Error occured: \",e)"
   ]
  },
  {
   "cell_type": "code",
   "execution_count": 40,
   "id": "86364222",
   "metadata": {},
   "outputs": [
    {
     "data": {
      "text/plain": [
       "True"
      ]
     },
     "execution_count": 40,
     "metadata": {},
     "output_type": "execute_result"
    }
   ],
   "source": [
    "almost_palindrome(\"abcdcbg\")"
   ]
  },
  {
   "cell_type": "code",
   "execution_count": 41,
   "id": "27640e28",
   "metadata": {},
   "outputs": [
    {
     "data": {
      "text/plain": [
       "True"
      ]
     },
     "execution_count": 41,
     "metadata": {},
     "output_type": "execute_result"
    }
   ],
   "source": [
    "almost_palindrome(\"abccia\")"
   ]
  },
  {
   "cell_type": "code",
   "execution_count": 42,
   "id": "32dc4237",
   "metadata": {},
   "outputs": [
    {
     "data": {
      "text/plain": [
       "False"
      ]
     },
     "execution_count": 42,
     "metadata": {},
     "output_type": "execute_result"
    }
   ],
   "source": [
    "almost_palindrome(\"abcdaaa\")"
   ]
  },
  {
   "cell_type": "code",
   "execution_count": 45,
   "id": "6534cba0",
   "metadata": {},
   "outputs": [
    {
     "data": {
      "text/plain": [
       "False"
      ]
     },
     "execution_count": 45,
     "metadata": {},
     "output_type": "execute_result"
    }
   ],
   "source": [
    "almost_palindrome(\"1234312\")"
   ]
  },
  {
   "cell_type": "code",
   "execution_count": null,
   "id": "1c960d7c",
   "metadata": {},
   "outputs": [],
   "source": []
  },
  {
   "cell_type": "markdown",
   "id": "f67bc9c6",
   "metadata": {},
   "source": [
    "**3. Create a function that finds how many prime numbers there are, up to the given integer.**  \n",
    "\n",
    ">**Examples**  \n",
    "prime_numbers(10) ➞ 4  \n",
    "    # 2, 3, 5 and 7  \n",
    "prime_numbers(20) ➞ 8  \n",
    "    # 2, 3, 5, 7, 11, 13, 17 and 19  \n",
    "prime_numbers(30) ➞ 10  \n",
    "    # 2, 3, 5, 7, 11, 13, 17, 19, 23 and 29"
   ]
  },
  {
   "cell_type": "code",
   "execution_count": 5,
   "id": "8f8eb0ff",
   "metadata": {},
   "outputs": [],
   "source": [
    "def prime(num):\n",
    "    if num==2:\n",
    "        return True\n",
    "    elif num==0 or num==1:\n",
    "        return False\n",
    "    elif num%2!=0:\n",
    "        for i in range(3,num,2):\n",
    "            if num%i==0:\n",
    "                return False\n",
    "        return True\n",
    "    else:\n",
    "        return False\n",
    "        \n",
    "def prime_numbers(n):\n",
    "    count = 0\n",
    "    for i in range(n):\n",
    "        if prime(i) == True:\n",
    "            count+=1\n",
    "    return count"
   ]
  },
  {
   "cell_type": "code",
   "execution_count": 6,
   "id": "ed582122",
   "metadata": {},
   "outputs": [
    {
     "data": {
      "text/plain": [
       "4"
      ]
     },
     "execution_count": 6,
     "metadata": {},
     "output_type": "execute_result"
    }
   ],
   "source": [
    "prime_numbers(10)"
   ]
  },
  {
   "cell_type": "code",
   "execution_count": 7,
   "id": "88ca4ded",
   "metadata": {},
   "outputs": [
    {
     "data": {
      "text/plain": [
       "8"
      ]
     },
     "execution_count": 7,
     "metadata": {},
     "output_type": "execute_result"
    }
   ],
   "source": [
    "prime_numbers(20)"
   ]
  },
  {
   "cell_type": "code",
   "execution_count": 8,
   "id": "6c222bb8",
   "metadata": {},
   "outputs": [
    {
     "data": {
      "text/plain": [
       "10"
      ]
     },
     "execution_count": 8,
     "metadata": {},
     "output_type": "execute_result"
    }
   ],
   "source": [
    "prime_numbers(30)"
   ]
  },
  {
   "cell_type": "code",
   "execution_count": null,
   "id": "3677238a",
   "metadata": {},
   "outputs": [],
   "source": []
  },
  {
   "cell_type": "markdown",
   "id": "3cd3d775",
   "metadata": {},
   "source": [
    "**4. If today was Monday, in two days, it would be Wednesday.  \n",
    "Create a function that takes in a list of days as input and the number of days to increment by. Return a list of days after n number of days has passed.**\n",
    "\n",
    ">**Examples**  \n",
    "after_n_days([\"Thursday\", \"Monday\"], 4) ➞ [\"Monday\", \"Friday\"]  \n",
    "after_n_days([\"Sunday\", \"Sunday\", \"Sunday\"], 1) ➞ [\"Monday\", \"Monday\", \"Monday\"]  \n",
    "after_n_days([\"Monday\", \"Tuesday\", \"Friday\"], 1) ➞ [\"Tuesday\", \"Wednesday\", \"Saturday\"]  \n"
   ]
  },
  {
   "cell_type": "code",
   "execution_count": 8,
   "id": "18cb0433",
   "metadata": {},
   "outputs": [],
   "source": [
    "def after_n_days(days_list, n):\n",
    "    days = {\"Monday\":1,\"Tuesday\":2,\"Wednesday\":3,\"Thursday\":4,\"Friday\":5,\"Saturday\":6,\"Sunday\":7}\n",
    "    after =[]\n",
    "    for i in days_list:\n",
    "        count = days[i]+n\n",
    "        if count>7:\n",
    "            count = (days[i]+n)%7\n",
    "        for i,j in days.items():\n",
    "            if j==count:\n",
    "                after.append(i)\n",
    "    return after"
   ]
  },
  {
   "cell_type": "code",
   "execution_count": 9,
   "id": "5562060e",
   "metadata": {},
   "outputs": [
    {
     "data": {
      "text/plain": [
       "['Monday', 'Friday']"
      ]
     },
     "execution_count": 9,
     "metadata": {},
     "output_type": "execute_result"
    }
   ],
   "source": [
    "after_n_days([\"Thursday\", \"Monday\"], 4)"
   ]
  },
  {
   "cell_type": "code",
   "execution_count": 11,
   "id": "2fa11081",
   "metadata": {},
   "outputs": [
    {
     "data": {
      "text/plain": [
       "['Monday', 'Monday', 'Monday']"
      ]
     },
     "execution_count": 11,
     "metadata": {},
     "output_type": "execute_result"
    }
   ],
   "source": [
    "after_n_days([\"Sunday\", \"Sunday\", \"Sunday\"], 1)"
   ]
  },
  {
   "cell_type": "code",
   "execution_count": 12,
   "id": "1f961fdc",
   "metadata": {},
   "outputs": [
    {
     "data": {
      "text/plain": [
       "['Tuesday', 'Wednesday', 'Saturday']"
      ]
     },
     "execution_count": 12,
     "metadata": {},
     "output_type": "execute_result"
    }
   ],
   "source": [
    "after_n_days([\"Monday\", \"Tuesday\", \"Friday\"], 1)"
   ]
  },
  {
   "cell_type": "code",
   "execution_count": null,
   "id": "d1588ec1",
   "metadata": {},
   "outputs": [],
   "source": []
  },
  {
   "cell_type": "markdown",
   "id": "c193512c",
   "metadata": {},
   "source": [
    "**5. You are in the process of creating a chat application and want to add an anonymous name feature. This anonymous name feature will create an alias that consists of two capitalized words beginning with the same letter as the users first name. \n",
    "Create a function that determines if the list of users is mapped to a list of anonymous names correctly.**   \n",
    "\n",
    ">**Examples**  \n",
    "is_correct_aliases([\"Adrian M.\", \"Harriet S.\", \"Mandy T.\"], [\"Amazing Artichoke\", \"Hopeful Hedgehog\", \"Marvelous Mouse\"]) ➞ True  \n",
    "is_correct_aliases([\"Rachel F.\", \"Pam G.\", \"Fred Z.\", \"Nancy K.\"], [\"Reassuring Rat\", \"Peaceful Panda\", \"Fantastic Frog\", \"Notable Nickel\"]) ➞ True  \n",
    "is_correct_aliases([\"Beth T.\"], [\"Brandishing Mimosa\"]) ➞ False  \n",
    "    # Both words in \"Brandishing Mimosa\" should begin with a \"B\" - \"Brandishing Beaver\" would do the trick."
   ]
  },
  {
   "cell_type": "code",
   "execution_count": 13,
   "id": "6267c027",
   "metadata": {},
   "outputs": [],
   "source": [
    "def is_correct_aliases(names, anonymous):\n",
    "    for i in range(len(names)):\n",
    "        name = names[i]\n",
    "        anonymous_name = anonymous[i].split()\n",
    "        if name[0] != anonymous_name[0][0] or name[0] != anonymous_name[1][0]:\n",
    "            return False\n",
    "    return True"
   ]
  },
  {
   "cell_type": "code",
   "execution_count": 14,
   "id": "fb9ecf9e",
   "metadata": {},
   "outputs": [
    {
     "data": {
      "text/plain": [
       "True"
      ]
     },
     "execution_count": 14,
     "metadata": {},
     "output_type": "execute_result"
    }
   ],
   "source": [
    "is_correct_aliases([\"Adrian M.\", \"Harriet S.\", \"Mandy T.\"], [\"Amazing Artichoke\", \"Hopeful Hedgehog\", \"Marvelous Mouse\"])"
   ]
  },
  {
   "cell_type": "code",
   "execution_count": 15,
   "id": "2b9ba3d7",
   "metadata": {},
   "outputs": [
    {
     "data": {
      "text/plain": [
       "True"
      ]
     },
     "execution_count": 15,
     "metadata": {},
     "output_type": "execute_result"
    }
   ],
   "source": [
    "is_correct_aliases([\"Rachel F.\", \"Pam G.\", \"Fred Z.\", \"Nancy K.\"], [\"Reassuring Rat\", \"Peaceful Panda\", \"Fantastic Frog\", \"Notable Nickel\"])"
   ]
  },
  {
   "cell_type": "code",
   "execution_count": 16,
   "id": "2e6f06db",
   "metadata": {},
   "outputs": [
    {
     "data": {
      "text/plain": [
       "False"
      ]
     },
     "execution_count": 16,
     "metadata": {},
     "output_type": "execute_result"
    }
   ],
   "source": [
    "is_correct_aliases([\"Beth T.\"], [\"Brandishing Mimosa\"])"
   ]
  },
  {
   "cell_type": "code",
   "execution_count": null,
   "id": "d17bf01e",
   "metadata": {},
   "outputs": [],
   "source": []
  }
 ],
 "metadata": {
  "kernelspec": {
   "display_name": "Python 3 (ipykernel)",
   "language": "python",
   "name": "python3"
  },
  "language_info": {
   "codemirror_mode": {
    "name": "ipython",
    "version": 3
   },
   "file_extension": ".py",
   "mimetype": "text/x-python",
   "name": "python",
   "nbconvert_exporter": "python",
   "pygments_lexer": "ipython3",
   "version": "3.9.12"
  }
 },
 "nbformat": 4,
 "nbformat_minor": 5
}
