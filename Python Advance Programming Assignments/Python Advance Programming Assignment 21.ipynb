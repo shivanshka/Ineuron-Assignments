{
 "cells": [
  {
   "cell_type": "markdown",
   "id": "b3293bf8",
   "metadata": {},
   "source": [
    "# Advance Programming Assignment 21"
   ]
  },
  {
   "cell_type": "markdown",
   "id": "9821f64b",
   "metadata": {},
   "source": [
    "**1. Given a sentence, return the number of words which have the same first and last letter.**  \n",
    "\n",
    ">**Examples**  \n",
    "count_same_ends(\"Pop! goes the balloon\") ➞ 1  \n",
    "count_same_ends(\"And the crowd goes wild!\") ➞ 0  \n",
    "count_same_ends(\"No I am not in a gang.\") ➞ 1  "
   ]
  },
  {
   "cell_type": "code",
   "execution_count": 7,
   "id": "1019cc37",
   "metadata": {},
   "outputs": [],
   "source": [
    "import string\n",
    "def count_same_ends(sent):\n",
    "    count = 0\n",
    "    words = list(map(lambda x: x.lower().strip(string.punctuation), sent.split()))\n",
    "    for word in words:\n",
    "        if word[0]==word[-1] and len(word)>1:\n",
    "            count+=1\n",
    "    return count"
   ]
  },
  {
   "cell_type": "code",
   "execution_count": 8,
   "id": "b52d92e6",
   "metadata": {},
   "outputs": [
    {
     "data": {
      "text/plain": [
       "1"
      ]
     },
     "execution_count": 8,
     "metadata": {},
     "output_type": "execute_result"
    }
   ],
   "source": [
    "count_same_ends(\"Pop! goes the balloon\")"
   ]
  },
  {
   "cell_type": "code",
   "execution_count": 9,
   "id": "ac643c1b",
   "metadata": {},
   "outputs": [
    {
     "data": {
      "text/plain": [
       "0"
      ]
     },
     "execution_count": 9,
     "metadata": {},
     "output_type": "execute_result"
    }
   ],
   "source": [
    "count_same_ends(\"And the crowd goes wild!\")"
   ]
  },
  {
   "cell_type": "code",
   "execution_count": 10,
   "id": "9f7ae0a2",
   "metadata": {},
   "outputs": [
    {
     "data": {
      "text/plain": [
       "1"
      ]
     },
     "execution_count": 10,
     "metadata": {},
     "output_type": "execute_result"
    }
   ],
   "source": [
    "count_same_ends(\"No I am not in a gang.\")"
   ]
  },
  {
   "cell_type": "code",
   "execution_count": null,
   "id": "10069ad0",
   "metadata": {},
   "outputs": [],
   "source": []
  },
  {
   "cell_type": "markdown",
   "id": "6c6d0be9",
   "metadata": {},
   "source": [
    "**2. The Atbash cipher is an encryption method in which each letter of a word is replaced with its \"mirror\" letter in the alphabet: A <=> Z; B <=> Y; C <=> X; etc.**  \n",
    "**Create a function that takes a string and applies the Atbash cipher to it.**  \n",
    "\n",
    ">**Examples**  \n",
    "atbash(\"apple\") ➞ \"zkkov\"  \n",
    "atbash(\"Hello world!\") ➞ \"Svool dliow!\"  \n",
    "atbash(\"Christmas is the 25th of December\") ➞ \"Xsirhgnzh rh gsv 25gs lu Wvxvnyvi\"  "
   ]
  },
  {
   "cell_type": "code",
   "execution_count": 109,
   "id": "9c7474ae",
   "metadata": {},
   "outputs": [],
   "source": [
    "import string\n",
    "def atbash(word):\n",
    "    mirror = {key:chr(155-ord(key)) for key in string.ascii_uppercase}\n",
    "    rslt =\"\"\n",
    "    for let in word:\n",
    "        if let not in string.punctuation and let !=\" \":\n",
    "            if ord(let)>=48 and ord(let)<=57:\n",
    "                rslt = rslt+let\n",
    "            elif let.isupper():\n",
    "                rslt = rslt + mirror[let]\n",
    "            else:\n",
    "                rslt = rslt + mirror[let.upper()].lower()\n",
    "        else:\n",
    "            rslt = rslt+let\n",
    "    return rslt"
   ]
  },
  {
   "cell_type": "code",
   "execution_count": 110,
   "id": "beab3b77",
   "metadata": {},
   "outputs": [
    {
     "data": {
      "text/plain": [
       "'zkkov'"
      ]
     },
     "execution_count": 110,
     "metadata": {},
     "output_type": "execute_result"
    }
   ],
   "source": [
    "atbash(\"apple\")"
   ]
  },
  {
   "cell_type": "code",
   "execution_count": 111,
   "id": "4ede129c",
   "metadata": {},
   "outputs": [
    {
     "data": {
      "text/plain": [
       "'Svool dliow!'"
      ]
     },
     "execution_count": 111,
     "metadata": {},
     "output_type": "execute_result"
    }
   ],
   "source": [
    "atbash(\"Hello world!\")"
   ]
  },
  {
   "cell_type": "code",
   "execution_count": 112,
   "id": "a307fdca",
   "metadata": {},
   "outputs": [
    {
     "data": {
      "text/plain": [
       "'Xsirhgnzh rh gsv 25gs lu Wvxvnyvi'"
      ]
     },
     "execution_count": 112,
     "metadata": {},
     "output_type": "execute_result"
    }
   ],
   "source": [
    "atbash(\"Christmas is the 25th of December\")"
   ]
  },
  {
   "cell_type": "code",
   "execution_count": null,
   "id": "c0acce70",
   "metadata": {},
   "outputs": [],
   "source": []
  },
  {
   "cell_type": "markdown",
   "id": "e1cdc650",
   "metadata": {},
   "source": [
    "**3. Create a class Employee that will take a full name as argument, as well as a set of none, one or more keywords. Each instance should have a name and a lastname attributes plus one more attribute for each of the keywords, if any.**  \n",
    "\n",
    "**Examples**  \n",
    "john = Employee(\"John Doe\")  \n",
    "mary = Employee(\"Mary Major\", salary=120000)  \n",
    "richard = Employee(\"Richard Roe\", salary=110000, height=178)  \n",
    "giancarlo = Employee(\"Giancarlo Rossi\", salary=115000, height=182, nationality=\"Italian\")  \n",
    "  \n",
    "john.name ➞ \"John\"  \n",
    "mary.lastname ➞ \"Major\"  \n",
    "richard.height ➞ 178  \n",
    "giancarlo.nationality ➞ \"Italian\""
   ]
  },
  {
   "cell_type": "code",
   "execution_count": 182,
   "id": "04150ce3",
   "metadata": {},
   "outputs": [],
   "source": [
    "class Employee:\n",
    "    def __init__(self,full_name,**kwargs):\n",
    "        self.name = full_name.split()[0]\n",
    "        self.lastname = full_name.split()[-1]\n",
    "        for key,value in kwargs.items():\n",
    "            if type(value)==str:\n",
    "                exec(\"self.{} = '{}'\".format(key,value))\n",
    "            else:\n",
    "                exec(\"self.{} = {}\".format(key,value))\n",
    "        "
   ]
  },
  {
   "cell_type": "code",
   "execution_count": 186,
   "id": "77efc7f6",
   "metadata": {},
   "outputs": [],
   "source": [
    "john = Employee(\"John Doe\")  \n",
    "mary = Employee(\"Mary Major\", salary=120000)  \n",
    "richard = Employee(\"Richard Roe\", salary=110000, height=178)  \n",
    "giancarlo = Employee(\"Giancarlo Rossi\", salary=115000, height=182, nationality=\"Italian\")  "
   ]
  },
  {
   "cell_type": "code",
   "execution_count": 188,
   "id": "ea1927a0",
   "metadata": {},
   "outputs": [
    {
     "data": {
      "text/plain": [
       "'John'"
      ]
     },
     "execution_count": 188,
     "metadata": {},
     "output_type": "execute_result"
    }
   ],
   "source": [
    "john.name  "
   ]
  },
  {
   "cell_type": "code",
   "execution_count": 189,
   "id": "c06fda8c",
   "metadata": {},
   "outputs": [
    {
     "data": {
      "text/plain": [
       "'Major'"
      ]
     },
     "execution_count": 189,
     "metadata": {},
     "output_type": "execute_result"
    }
   ],
   "source": [
    "mary.lastname"
   ]
  },
  {
   "cell_type": "code",
   "execution_count": 190,
   "id": "1ec3d84f",
   "metadata": {},
   "outputs": [
    {
     "data": {
      "text/plain": [
       "178"
      ]
     },
     "execution_count": 190,
     "metadata": {},
     "output_type": "execute_result"
    }
   ],
   "source": [
    "richard.height"
   ]
  },
  {
   "cell_type": "code",
   "execution_count": 191,
   "id": "3ab71e5a",
   "metadata": {},
   "outputs": [
    {
     "data": {
      "text/plain": [
       "'Italian'"
      ]
     },
     "execution_count": 191,
     "metadata": {},
     "output_type": "execute_result"
    }
   ],
   "source": [
    "giancarlo.nationality"
   ]
  },
  {
   "cell_type": "code",
   "execution_count": null,
   "id": "8ae1b14f",
   "metadata": {},
   "outputs": [],
   "source": []
  },
  {
   "cell_type": "markdown",
   "id": "d4e7cc83",
   "metadata": {},
   "source": [
    "**4. Create a function that determines whether each seat can \"see\" the front-stage. A number can \"see\" the front-stage if it is strictly greater than the number before it.**  \n",
    "\n",
    "Everyone can see the front-stage in the example below:  \n",
    "\n",
    "    # FRONT STAGE  \n",
    "[[1, 2, 3, 2, 1, 1],  \n",
    "[2, 4, 4, 3, 2, 2],  \n",
    "[5, 5, 5, 5, 4, 4],  \n",
    "[6, 6, 7, 6, 5, 5]]  \n",
    "\n",
    "    # Starting from the left, the 6 > 5 > 2 > 1, so all numbers can see.  \n",
    "    # 6 > 5 > 4 > 2 - so all numbers can see, etc.  \n",
    "\n",
    "Not everyone can see the front-stage in the example below:  \n",
    "\n",
    "    # FRONT STAGE  \n",
    "[[1, 2, 3, 2, 1, 1],  \n",
    "[2, 4, 4, 3, 2, 2],  \n",
    "[5, 5, 5, 10, 4, 4],  \n",
    "[6, 6, 7, 6, 5, 5]]  \n",
    "\n",
    "    # The 10 is directly in front of the 6 and blocking its view.  \n",
    "\n",
    "The function should return True if every number can see the front-stage, and False if even a single number cannot.  \n",
    "\n",
    "**Examples**  \n",
    "\n",
    "can_see_stage([  \n",
    "  [1, 2, 3],  \n",
    "  [4, 5, 6],  \n",
    "  [7, 8, 9]  \n",
    "]) ➞ True  \n",
    "\n",
    "can_see_stage([  \n",
    "  [0, 0, 0],  \n",
    "  [1, 1, 1],  \n",
    "  [2, 2, 2]  \n",
    "]) ➞ True  \n",
    "\n",
    "can_see_stage([  \n",
    "  [2, 0, 0],   \n",
    "  [1, 1, 1],   \n",
    "  [2, 2, 2]  \n",
    "]) ➞ False  \n",
    "\n",
    "can_see_stage([  \n",
    "  [1, 0, 0],  \n",
    "  [1, 1, 1],  \n",
    "  [2, 2, 2]  \n",
    "]) ➞ False  \n",
    "\n",
    "    # Number must be strictly smaller than  \n",
    "    # the number directly behind it.  "
   ]
  },
  {
   "cell_type": "code",
   "execution_count": 197,
   "id": "1e2fb158",
   "metadata": {},
   "outputs": [],
   "source": [
    "def can_see_stage(seat):\n",
    "    for col in range(len(seat[0])):\n",
    "        for row in range(len(seat)-1):\n",
    "            if seat[row][col] >=seat[row+1][col]:\n",
    "                return False\n",
    "    return True\n",
    "            "
   ]
  },
  {
   "cell_type": "code",
   "execution_count": 198,
   "id": "6696437c",
   "metadata": {},
   "outputs": [
    {
     "data": {
      "text/plain": [
       "True"
      ]
     },
     "execution_count": 198,
     "metadata": {},
     "output_type": "execute_result"
    }
   ],
   "source": [
    "can_see_stage([\n",
    "[1, 2, 3],\n",
    "[4, 5, 6],\n",
    "[7, 8, 9]\n",
    "]) "
   ]
  },
  {
   "cell_type": "code",
   "execution_count": 199,
   "id": "57cb2f71",
   "metadata": {},
   "outputs": [
    {
     "data": {
      "text/plain": [
       "True"
      ]
     },
     "execution_count": 199,
     "metadata": {},
     "output_type": "execute_result"
    }
   ],
   "source": [
    "can_see_stage([\n",
    "[0, 0, 0],\n",
    "[1, 1, 1],\n",
    "[2, 2, 2]\n",
    "])"
   ]
  },
  {
   "cell_type": "code",
   "execution_count": 200,
   "id": "a3e5d831",
   "metadata": {},
   "outputs": [
    {
     "data": {
      "text/plain": [
       "False"
      ]
     },
     "execution_count": 200,
     "metadata": {},
     "output_type": "execute_result"
    }
   ],
   "source": [
    "can_see_stage([\n",
    "[2, 0, 0],\n",
    "[1, 1, 1],\n",
    "[2, 2, 2]\n",
    "])"
   ]
  },
  {
   "cell_type": "code",
   "execution_count": 201,
   "id": "9f8a3c86",
   "metadata": {},
   "outputs": [
    {
     "data": {
      "text/plain": [
       "False"
      ]
     },
     "execution_count": 201,
     "metadata": {},
     "output_type": "execute_result"
    }
   ],
   "source": [
    "can_see_stage([\n",
    "[1, 0, 0],\n",
    "[1, 1, 1],\n",
    "[2, 2, 2]\n",
    "])"
   ]
  },
  {
   "cell_type": "code",
   "execution_count": null,
   "id": "3f833d81",
   "metadata": {},
   "outputs": [],
   "source": []
  },
  {
   "cell_type": "markdown",
   "id": "d53b804d",
   "metadata": {},
   "source": [
    "**5. Create a Pizza class with the attributes order_number and ingredients (which is given as a list). Only the ingredients will be given as input.**  \n",
    "\n",
    "You should also make it so that its possible to choose a ready made pizza flavour rather than typing out the ingredients manually! As well as creating this Pizza class, hard-code the following pizza flavours.  \n",
    "\n",
    "Name\t                    Ingredients\n",
    "hawaiian\t          ham, pineapple\n",
    "meat_festival\tbeef, meatball, bacon\n",
    "garden_feast\tspinach, olives, mushroom\n",
    "\n",
    "Examples\n",
    "\n",
    "p1 = Pizza([\"bacon\", \"parmesan\", \"ham\"])    # order 1\n",
    "p2 = Pizza.garden_feast()                  # order 2\n",
    "\n",
    "p1.ingredients ➞ [\"bacon\", \"parmesan\", \"ham\"]\n",
    "\n",
    "p2.ingredients ➞ [\"spinach\", \"olives\", \"mushroom\"]\n",
    "\n",
    "p1.order_number ➞ 1\n",
    "\n",
    "p2.order_number ➞ 2"
   ]
  },
  {
   "cell_type": "code",
   "execution_count": 225,
   "id": "ea22c31c",
   "metadata": {},
   "outputs": [],
   "source": [
    "class Pizza:\n",
    "    order_number = 0\n",
    "    ingredients=[]\n",
    "    def __init__(self,ingredients=None):\n",
    "        self.ingredients = ingredients\n",
    "        self.order_number = Pizza.order_number+1\n",
    "    \n",
    "    @staticmethod\n",
    "    def hawaiian():\n",
    "        Pizza.ingredients = [\"ham\", \"pineapple\"]\n",
    "    \n",
    "    def meat_festival(self):\n",
    "        self.ingredients = ['beef', 'meatball', 'bacon']\n",
    "    \n",
    "    def garden_feast(self):\n",
    "        self.ingredients = ['spinach', 'olives', 'mushroom']\n",
    "        \n",
    "        "
   ]
  },
  {
   "cell_type": "code",
   "execution_count": 230,
   "id": "0aa796f6",
   "metadata": {},
   "outputs": [],
   "source": [
    "p1 = Pizza([\"bacon\", \"parmesan\", \"ham\"])\n",
    "p2 = Pizza([\"bacon\", \"parmesan\"])"
   ]
  },
  {
   "cell_type": "code",
   "execution_count": 231,
   "id": "6901c8b0",
   "metadata": {},
   "outputs": [
    {
     "data": {
      "text/plain": [
       "['bacon', 'parmesan', 'ham']"
      ]
     },
     "execution_count": 231,
     "metadata": {},
     "output_type": "execute_result"
    }
   ],
   "source": [
    "p1.ingredients"
   ]
  },
  {
   "cell_type": "code",
   "execution_count": 232,
   "id": "cfc3280c",
   "metadata": {},
   "outputs": [
    {
     "data": {
      "text/plain": [
       "1"
      ]
     },
     "execution_count": 232,
     "metadata": {},
     "output_type": "execute_result"
    }
   ],
   "source": [
    "p1.order_number"
   ]
  },
  {
   "cell_type": "code",
   "execution_count": 233,
   "id": "8e754978",
   "metadata": {},
   "outputs": [
    {
     "data": {
      "text/plain": [
       "1"
      ]
     },
     "execution_count": 233,
     "metadata": {},
     "output_type": "execute_result"
    }
   ],
   "source": [
    "p2.order_number"
   ]
  },
  {
   "cell_type": "code",
   "execution_count": null,
   "id": "75f098fc",
   "metadata": {},
   "outputs": [],
   "source": []
  }
 ],
 "metadata": {
  "kernelspec": {
   "display_name": "Python 3 (ipykernel)",
   "language": "python",
   "name": "python3"
  },
  "language_info": {
   "codemirror_mode": {
    "name": "ipython",
    "version": 3
   },
   "file_extension": ".py",
   "mimetype": "text/x-python",
   "name": "python",
   "nbconvert_exporter": "python",
   "pygments_lexer": "ipython3",
   "version": "3.9.12"
  }
 },
 "nbformat": 4,
 "nbformat_minor": 5
}
