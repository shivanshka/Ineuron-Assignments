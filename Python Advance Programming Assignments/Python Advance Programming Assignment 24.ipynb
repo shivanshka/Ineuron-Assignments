{
 "cells": [
  {
   "cell_type": "markdown",
   "id": "94e13eb0",
   "metadata": {},
   "source": [
    "# Advance Programming Assignment 24"
   ]
  },
  {
   "cell_type": "markdown",
   "id": "34e25ebf",
   "metadata": {},
   "source": [
    "**1. Implement a class iterator to flatten a nested list of lists of integers. Each list element is either an integer or a list. There can be many levels of nested lists in lists.**  \n",
    "\n",
    "The class initializes with a nested list. It also has two methods:\n",
    "\n",
    "  1. next() returns an integer in the order of appearance.\n",
    "  2. hasNext() returns True / False regarding if all integers have been retrieved or not.\n",
    "\n",
    "Write the Class implementation for three required methods.\n",
    "\n",
    "Examples\n",
    "\n",
    "ni, actual = NestedIterator([[1, 1], 2, [1, 1]]), []  \n",
    "while ni.hasNext():  \n",
    "    actual.append(ni.next())  \n",
    "actual ➞ [1, 1, 2, 1, 1]  \n",
    "\n",
    "ni, actual = NestedIterator([1, [4, [6]]]), []  \n",
    "while ni.hasNext():  \n",
    "    actual.append(ni.next())  \n",
    "actual ➞ [1, 4, 6]  \n",
    "\n",
    "ni, actual = NestedIterator([[[]], []]), []  \n",
    "while ni.hasNext():  \n",
    "    actual.append(ni.next())  \n",
    "actual ➞ []  \n",
    "\n",
    "\n"
   ]
  },
  {
   "cell_type": "code",
   "execution_count": 50,
   "id": "506a9363",
   "metadata": {},
   "outputs": [],
   "source": [
    "class NestedIterator:\n",
    "    def __init__(self,lst:list):\n",
    "        self.lst= lst\n",
    "    \n",
    "    def hasNext(self):\n",
    "        if self.lst != []:\n",
    "            return True\n",
    "        else:\n",
    "            return False\n",
    "   \n",
    "    def nexted(self,k=None):\n",
    "        if k==None:\n",
    "            k = self.lst\n",
    "            \n",
    "        for i in k:\n",
    "            if type(i)==list:\n",
    "                self.lst.remove(i)\n",
    "                self.nexted(i)\n",
    "            else:\n",
    "                self.lst.remove(i)\n",
    "                return i\n",
    "        "
   ]
  },
  {
   "cell_type": "code",
   "execution_count": 51,
   "id": "c886969e",
   "metadata": {},
   "outputs": [
    {
     "ename": "ValueError",
     "evalue": "list.remove(x): x not in list",
     "output_type": "error",
     "traceback": [
      "\u001b[1;31m---------------------------------------------------------------------------\u001b[0m",
      "\u001b[1;31mValueError\u001b[0m                                Traceback (most recent call last)",
      "Input \u001b[1;32mIn [51]\u001b[0m, in \u001b[0;36m<cell line: 4>\u001b[1;34m()\u001b[0m\n\u001b[0;32m      3\u001b[0m i \u001b[38;5;241m=\u001b[39m \u001b[38;5;241m0\u001b[39m\n\u001b[0;32m      4\u001b[0m \u001b[38;5;28;01mwhile\u001b[39;00m i\u001b[38;5;241m<\u001b[39m\u001b[38;5;241m3\u001b[39m:  \n\u001b[1;32m----> 5\u001b[0m     actual\u001b[38;5;241m.\u001b[39mappend(\u001b[43mni\u001b[49m\u001b[38;5;241;43m.\u001b[39;49m\u001b[43mnexted\u001b[49m\u001b[43m(\u001b[49m\u001b[43m)\u001b[49m)  \n\u001b[0;32m      6\u001b[0m     i\u001b[38;5;241m+\u001b[39m\u001b[38;5;241m=\u001b[39m\u001b[38;5;241m1\u001b[39m\n",
      "Input \u001b[1;32mIn [50]\u001b[0m, in \u001b[0;36mNestedIterator.nexted\u001b[1;34m(self, k)\u001b[0m\n\u001b[0;32m     16\u001b[0m \u001b[38;5;28;01mif\u001b[39;00m \u001b[38;5;28mtype\u001b[39m(i)\u001b[38;5;241m==\u001b[39m\u001b[38;5;28mlist\u001b[39m:\n\u001b[0;32m     17\u001b[0m     \u001b[38;5;28mself\u001b[39m\u001b[38;5;241m.\u001b[39mlst\u001b[38;5;241m.\u001b[39mremove(i)\n\u001b[1;32m---> 18\u001b[0m     \u001b[38;5;28;43mself\u001b[39;49m\u001b[38;5;241;43m.\u001b[39;49m\u001b[43mnexted\u001b[49m\u001b[43m(\u001b[49m\u001b[43mi\u001b[49m\u001b[43m)\u001b[49m\n\u001b[0;32m     19\u001b[0m \u001b[38;5;28;01melse\u001b[39;00m:\n\u001b[0;32m     20\u001b[0m     \u001b[38;5;28mself\u001b[39m\u001b[38;5;241m.\u001b[39mlst\u001b[38;5;241m.\u001b[39mremove(i)\n",
      "Input \u001b[1;32mIn [50]\u001b[0m, in \u001b[0;36mNestedIterator.nexted\u001b[1;34m(self, k)\u001b[0m\n\u001b[0;32m     18\u001b[0m     \u001b[38;5;28mself\u001b[39m\u001b[38;5;241m.\u001b[39mnexted(i)\n\u001b[0;32m     19\u001b[0m \u001b[38;5;28;01melse\u001b[39;00m:\n\u001b[1;32m---> 20\u001b[0m     \u001b[38;5;28;43mself\u001b[39;49m\u001b[38;5;241;43m.\u001b[39;49m\u001b[43mlst\u001b[49m\u001b[38;5;241;43m.\u001b[39;49m\u001b[43mremove\u001b[49m\u001b[43m(\u001b[49m\u001b[43mi\u001b[49m\u001b[43m)\u001b[49m\n\u001b[0;32m     21\u001b[0m     \u001b[38;5;28;01mreturn\u001b[39;00m i\n",
      "\u001b[1;31mValueError\u001b[0m: list.remove(x): x not in list"
     ]
    }
   ],
   "source": [
    "ni= NestedIterator([[1, 1], 2, [1, 1]])\n",
    "actual =[]\n",
    "i = 0\n",
    "while i<3:  \n",
    "    actual.append(ni.nexted())  \n",
    "    i+=1\n"
   ]
  },
  {
   "cell_type": "code",
   "execution_count": 49,
   "id": "f9f88657",
   "metadata": {},
   "outputs": [
    {
     "data": {
      "text/plain": [
       "[2, 2, 2]"
      ]
     },
     "execution_count": 49,
     "metadata": {},
     "output_type": "execute_result"
    }
   ],
   "source": [
    "actual"
   ]
  },
  {
   "cell_type": "code",
   "execution_count": null,
   "id": "b74004aa",
   "metadata": {},
   "outputs": [],
   "source": []
  },
  {
   "cell_type": "code",
   "execution_count": null,
   "id": "dac6905c",
   "metadata": {},
   "outputs": [],
   "source": []
  },
  {
   "cell_type": "markdown",
   "id": "25dbb5bf",
   "metadata": {},
   "source": [
    "**2. Implement the class Shape that receives perimeter and density function into __init__ method. The list of consecutive corners defines shape of a 2-dimensional object. The density function defines the mass distribution inside the shape. To compute mass in a certain point m(x, y) = small_square * density(x, y). The __init__ method calls other internal methods that compute three characteristics of the shape:**\n",
    "\n",
    "   - area\n",
    "   - total mass\n",
    "   - center of mass (xc, yc)\n",
    "\n",
    "The computational grid has distance between two neighboring points as 2 * delta, the distance between a grid point and the perimeter wall is delta.\n",
    "\n",
    "Examples\n",
    "\n",
    "sh_ex1 = Shape([(1, 1), (3, 1), (3, 2), (1, 2)], lambda x, y: 100 + 100 * x)\n",
    "\n",
    "sh_ex1.area ➞ 2.0\n",
    "\n",
    "sh_ex1.mass ➞ 600.0\n",
    "\n",
    "sh_ex1.mass_center ➞ (2.1, 1.5)\n",
    "\n",
    "The example can be verified via analytical integration. Other shapes in Tests are slightly more complicated and require numerical integration as illustrated here:"
   ]
  },
  {
   "cell_type": "code",
   "execution_count": null,
   "id": "5bd4c23b",
   "metadata": {},
   "outputs": [],
   "source": []
  },
  {
   "cell_type": "code",
   "execution_count": null,
   "id": "743c6212",
   "metadata": {},
   "outputs": [],
   "source": []
  },
  {
   "cell_type": "code",
   "execution_count": null,
   "id": "4bfd8fec",
   "metadata": {},
   "outputs": [],
   "source": []
  },
  {
   "cell_type": "code",
   "execution_count": null,
   "id": "a7764772",
   "metadata": {},
   "outputs": [],
   "source": []
  },
  {
   "cell_type": "markdown",
   "id": "cdd25fa5",
   "metadata": {},
   "source": [
    "**3. Given a 3x3 matrix of a completed tic-tac-toe game, create a function that returns whether the game is a win for \"X\", \"O\", or a \"Draw\", where \"X\" and \"O\" represent themselves on the matrix, and \"E\" represents an empty spot.**  \n",
    "\n",
    ">**Examples**  \n",
    "\n",
    "tic_tac_toe([  \n",
    "  [\"X\", \"O\", \"X\"],  \n",
    "  [\"O\", \"X\",  \"O\"],  \n",
    "  [\"O\", \"X\",  \"X\"]  \n",
    "]) ➞ \"X\"  \n",
    "\n",
    "tic_tac_toe([  \n",
    "  [\"O\", \"O\", \"O\"],  \n",
    "  [\"O\", \"X\", \"X\"],  \n",
    "  [\"E\", \"X\", \"X\"]  \n",
    "]) ➞ \"O\"  \n",
    "\n",
    "tic_tac_toe([  \n",
    "  [\"X\", \"X\", \"O\"],  \n",
    "  [\"O\", \"O\", \"X\"],  \n",
    "  [\"X\", \"X\", \"O\"]  \n",
    "]) ➞ \"Draw\""
   ]
  },
  {
   "cell_type": "code",
   "execution_count": 24,
   "id": "1fcea5dd",
   "metadata": {},
   "outputs": [],
   "source": [
    "def row_win(game,player):\n",
    "    for row in range(3):\n",
    "        flag = True\n",
    "        for col in range(3):\n",
    "            if game[row][col] != player:\n",
    "                flag = False\n",
    "                continue\n",
    "        if flag==True:\n",
    "            return True\n",
    "    return flag\n",
    "\n",
    "def col_win(game,player):\n",
    "    for col in range(3):\n",
    "        flag = True\n",
    "        for row in range(3):\n",
    "            if game[row][col] != player:\n",
    "                flag = False\n",
    "                continue\n",
    "        if flag==True:\n",
    "            return True\n",
    "    return flag\n",
    "\n",
    "def diagonal_win(game,player):\n",
    "    flag = True\n",
    "    y=0\n",
    "    for x in range(3):\n",
    "        if game[x][x]!= player:\n",
    "            flag =False\n",
    "    if flag:\n",
    "        return flag\n",
    "    flag = True\n",
    "    \n",
    "    if flag:\n",
    "        for x in range(3):\n",
    "            y = 2-x\n",
    "            if game[x][y]!=player:\n",
    "                flag= False\n",
    "    return flag\n",
    "\n",
    "def tic_tac_toe(game):\n",
    "    winner =\"\"\n",
    "    for player in [\"X\",\"O\"]:\n",
    "        if (row_win(game,player) or col_win(game,player) or diagonal_win(game,player)):\n",
    "            winner=player\n",
    "    if winner==\"\":\n",
    "        winner=\"Draw\"\n",
    "    return winner\n",
    "    "
   ]
  },
  {
   "cell_type": "code",
   "execution_count": 25,
   "id": "02415e64",
   "metadata": {},
   "outputs": [
    {
     "data": {
      "text/plain": [
       "'X'"
      ]
     },
     "execution_count": 25,
     "metadata": {},
     "output_type": "execute_result"
    }
   ],
   "source": [
    "tic_tac_toe([\n",
    "[\"X\", \"O\", \"X\"],\n",
    "[\"O\", \"X\", \"O\"],\n",
    "[\"O\", \"X\", \"X\"]\n",
    "])"
   ]
  },
  {
   "cell_type": "code",
   "execution_count": 26,
   "id": "8bb938e1",
   "metadata": {},
   "outputs": [
    {
     "data": {
      "text/plain": [
       "'O'"
      ]
     },
     "execution_count": 26,
     "metadata": {},
     "output_type": "execute_result"
    }
   ],
   "source": [
    "tic_tac_toe([\n",
    "[\"O\", \"O\", \"O\"],\n",
    "[\"O\", \"X\", \"X\"],\n",
    "[\"E\", \"X\", \"X\"]\n",
    "])"
   ]
  },
  {
   "cell_type": "code",
   "execution_count": 27,
   "id": "9175e9c8",
   "metadata": {},
   "outputs": [
    {
     "data": {
      "text/plain": [
       "'Draw'"
      ]
     },
     "execution_count": 27,
     "metadata": {},
     "output_type": "execute_result"
    }
   ],
   "source": [
    "tic_tac_toe([\n",
    "[\"X\", \"X\", \"O\"],\n",
    "[\"O\", \"O\", \"X\"],\n",
    "[\"X\", \"X\", \"O\"]\n",
    "])"
   ]
  },
  {
   "cell_type": "code",
   "execution_count": null,
   "id": "b25325ee",
   "metadata": {},
   "outputs": [],
   "source": []
  },
  {
   "cell_type": "markdown",
   "id": "315c07b8",
   "metadata": {},
   "source": [
    "**4. Your computer might have been infected by a virus! Create a function that finds the viruses in files and removes them from your computer.**  \n",
    "\n",
    ">**Examples**  \n",
    "remove_virus(\"PC Files: spotifysetup.exe, virus.exe, dog.jpg\") ➞ \"PC Files: spotifysetup.exe, dog.jpg\"  \n",
    "remove_virus(\"PC Files: antivirus.exe, cat.pdf, lethalmalware.exe, dangerousvirus.exe \") ➞ \"PC Files: antivirus.exe, cat.pdf\"  \n",
    "remove_virus(\"PC Files: notvirus.exe, funnycat.gif\") ➞ \"PC Files: notvirus.exe, funnycat.gif\")  "
   ]
  },
  {
   "cell_type": "code",
   "execution_count": null,
   "id": "729b2c1b",
   "metadata": {},
   "outputs": [],
   "source": [
    "def remove_virus(files):\n",
    "    "
   ]
  },
  {
   "cell_type": "code",
   "execution_count": null,
   "id": "083407b4",
   "metadata": {},
   "outputs": [],
   "source": []
  },
  {
   "cell_type": "code",
   "execution_count": null,
   "id": "7100cfa1",
   "metadata": {},
   "outputs": [],
   "source": []
  },
  {
   "cell_type": "code",
   "execution_count": null,
   "id": "e114259d",
   "metadata": {},
   "outputs": [],
   "source": []
  },
  {
   "cell_type": "code",
   "execution_count": null,
   "id": "3c0f098c",
   "metadata": {},
   "outputs": [],
   "source": []
  },
  {
   "cell_type": "markdown",
   "id": "9f479625",
   "metadata": {},
   "source": [
    "**5. In a video game, a meteor will fall toward the main character's home planet. Given the meteor's trajectory as a string in the form y = mx + b and the character's position as a tuple of (x, y), return True if the meteor will hit the character and False if it will not.**  \n",
    "\n",
    ">**Examples**  \n",
    "will_hit(\"y = 2x - 5\", (0, 0)) ➞ False  \n",
    "will_hit(\"y = -4x + 6\", (1, 2)) ➞ True  \n",
    "will_hit(\"y = 2x + 6\", (3, 2)) ➞ False\n"
   ]
  },
  {
   "cell_type": "code",
   "execution_count": 18,
   "id": "080017db",
   "metadata": {},
   "outputs": [],
   "source": [
    "import re\n",
    "def will_hit(trajectory, pos):\n",
    "    _,_,*eq = trajectory.split()\n",
    "    if eq[0][0]==\"-\":\n",
    "        m = -int(eq[0].strip(\"-\").strip(\"x\"))\n",
    "    else:\n",
    "        m = int(eq[0].strip(\"x\"))\n",
    "    if eq[1]== \"-\":\n",
    "        b = -int(eq[2])\n",
    "    else:\n",
    "        b = int(eq[2])\n",
    "        \n",
    "    y = m*pos[0] + b\n",
    "    if y==pos[1]:\n",
    "        return True\n",
    "    else:\n",
    "        return False"
   ]
  },
  {
   "cell_type": "code",
   "execution_count": 19,
   "id": "8967f28b",
   "metadata": {},
   "outputs": [
    {
     "data": {
      "text/plain": [
       "False"
      ]
     },
     "execution_count": 19,
     "metadata": {},
     "output_type": "execute_result"
    }
   ],
   "source": [
    "will_hit(\"y = -2x - 5\", (0, 0))"
   ]
  },
  {
   "cell_type": "code",
   "execution_count": 20,
   "id": "8fb427ec",
   "metadata": {},
   "outputs": [
    {
     "data": {
      "text/plain": [
       "True"
      ]
     },
     "execution_count": 20,
     "metadata": {},
     "output_type": "execute_result"
    }
   ],
   "source": [
    "will_hit(\"y = -4x + 6\", (1, 2))"
   ]
  },
  {
   "cell_type": "code",
   "execution_count": 21,
   "id": "0da37407",
   "metadata": {},
   "outputs": [
    {
     "data": {
      "text/plain": [
       "False"
      ]
     },
     "execution_count": 21,
     "metadata": {},
     "output_type": "execute_result"
    }
   ],
   "source": [
    "will_hit(\"y = 2x + 6\", (3, 2))"
   ]
  },
  {
   "cell_type": "code",
   "execution_count": null,
   "id": "39e1470a",
   "metadata": {},
   "outputs": [],
   "source": []
  }
 ],
 "metadata": {
  "kernelspec": {
   "display_name": "Python 3 (ipykernel)",
   "language": "python",
   "name": "python3"
  },
  "language_info": {
   "codemirror_mode": {
    "name": "ipython",
    "version": 3
   },
   "file_extension": ".py",
   "mimetype": "text/x-python",
   "name": "python",
   "nbconvert_exporter": "python",
   "pygments_lexer": "ipython3",
   "version": "3.9.12"
  }
 },
 "nbformat": 4,
 "nbformat_minor": 5
}
