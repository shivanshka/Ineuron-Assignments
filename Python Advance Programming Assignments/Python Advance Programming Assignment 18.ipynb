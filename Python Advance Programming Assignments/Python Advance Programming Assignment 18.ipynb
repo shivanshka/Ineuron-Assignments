{
 "cells": [
  {
   "cell_type": "markdown",
   "id": "c4f60af7",
   "metadata": {},
   "source": [
    "# Advance Programming Assignment 18"
   ]
  },
  {
   "cell_type": "markdown",
   "id": "d42886f1",
   "metadata": {},
   "source": [
    "**1. A robot has been given a list of movement instructions. Each instruction is either left, right, up or down, followed by a distance to move. The robot starts at [0, 0]. You want to calculate where the robot will end up and return its final position as a list.**  \n",
    "\n",
    "To illustrate, if the robot is given the following instructions:  \n",
    "\n",
    "[\"right 10\", \"up 50\", \"left 30\", \"down 10\"]  \n",
    "\n",
    "It will end up 20 left and 40 up from where it started, so we return [-20, 40].  \n",
    "\n",
    ">**Examples**  \n",
    "track_robot([\"right 10\", \"up 50\", \"left 30\", \"down 10\"]) ➞ [-20, 40]  \n",
    "track_robot([]) ➞ [0, 0]  \n",
    "// If there are no instructions, the robot doesn't move.  \n",
    "track_robot([\"right 100\", \"right 100\", \"up 500\", \"up 10000\"]) ➞ [200, 10500]  "
   ]
  },
  {
   "cell_type": "code",
   "execution_count": 5,
   "id": "6f692d79",
   "metadata": {},
   "outputs": [],
   "source": [
    "def track_robot(command_list):\n",
    "    pos = [0,0]\n",
    "    for direction in command_list:\n",
    "        cmd = direction.split()\n",
    "        if cmd[0] in [\"right\",\"left\"]:\n",
    "            if cmd[0]==\"right\":\n",
    "                pos[0] = pos[0]+int(cmd[1])\n",
    "            else:\n",
    "                pos[0] = pos[0]-int(cmd[1])\n",
    "        elif cmd[0] in [\"up\",\"down\"]:\n",
    "            if cmd[0]==\"up\":\n",
    "                pos[1] = pos[1]+int(cmd[1])\n",
    "            else:\n",
    "                pos[1] = pos[1]-int(cmd[1])\n",
    "        else:\n",
    "            return \"wrong command entered\"\n",
    "    return pos"
   ]
  },
  {
   "cell_type": "code",
   "execution_count": 2,
   "id": "a352d526",
   "metadata": {},
   "outputs": [
    {
     "data": {
      "text/plain": [
       "[-20, 40]"
      ]
     },
     "execution_count": 2,
     "metadata": {},
     "output_type": "execute_result"
    }
   ],
   "source": [
    "track_robot([\"right 10\", \"up 50\", \"left 30\", \"down 10\"])"
   ]
  },
  {
   "cell_type": "code",
   "execution_count": 4,
   "id": "9025622e",
   "metadata": {},
   "outputs": [
    {
     "data": {
      "text/plain": [
       "[0, 0]"
      ]
     },
     "execution_count": 4,
     "metadata": {},
     "output_type": "execute_result"
    }
   ],
   "source": [
    "track_robot([])"
   ]
  },
  {
   "cell_type": "code",
   "execution_count": 6,
   "id": "8c586967",
   "metadata": {},
   "outputs": [
    {
     "data": {
      "text/plain": [
       "[200, 10500]"
      ]
     },
     "execution_count": 6,
     "metadata": {},
     "output_type": "execute_result"
    }
   ],
   "source": [
    "track_robot([\"right 100\", \"right 100\", \"up 500\", \"up 10000\"])"
   ]
  },
  {
   "cell_type": "code",
   "execution_count": null,
   "id": "4b4055cb",
   "metadata": {},
   "outputs": [],
   "source": []
  },
  {
   "cell_type": "markdown",
   "id": "e4e9d8fa",
   "metadata": {},
   "source": [
    "**2. Write a function that will return the longest word in a sentence. In cases where more than one word is found, return the first one.**  \n",
    "\n",
    ">**Examples**  \n",
    "find_longest(\"A thing of beauty is a joy forever.\") ➞ \"forever\"  \n",
    "find_longest(\"Forgetfulness is by all means powerless!\") ➞ \"forgetfulness\"  \n",
    "find_longest('\\\"Strengths\\\" is the longest and most commonly used word that contains only a single vowel.') ➞ \"strengths\"\n"
   ]
  },
  {
   "cell_type": "code",
   "execution_count": 11,
   "id": "ece87346",
   "metadata": {},
   "outputs": [],
   "source": [
    "import string\n",
    "def find_longest(sentence):\n",
    "    sentence_words = sentence.split()\n",
    "    longest_word = sorted(sentence_words,key=len,reverse=True)[0]\n",
    "    return longest_word.lower().strip(string.punctuation)"
   ]
  },
  {
   "cell_type": "code",
   "execution_count": 12,
   "id": "21886bf5",
   "metadata": {},
   "outputs": [
    {
     "data": {
      "text/plain": [
       "'forever'"
      ]
     },
     "execution_count": 12,
     "metadata": {},
     "output_type": "execute_result"
    }
   ],
   "source": [
    "find_longest(\"A thing of beauty is a joy forever.\")"
   ]
  },
  {
   "cell_type": "code",
   "execution_count": 13,
   "id": "7baa1a87",
   "metadata": {},
   "outputs": [
    {
     "data": {
      "text/plain": [
       "'forgetfulness'"
      ]
     },
     "execution_count": 13,
     "metadata": {},
     "output_type": "execute_result"
    }
   ],
   "source": [
    "find_longest(\"Forgetfulness is by all means powerless!\")"
   ]
  },
  {
   "cell_type": "code",
   "execution_count": 15,
   "id": "b0461f7e",
   "metadata": {},
   "outputs": [
    {
     "data": {
      "text/plain": [
       "'strengths'"
      ]
     },
     "execution_count": 15,
     "metadata": {},
     "output_type": "execute_result"
    }
   ],
   "source": [
    "find_longest(\"\\\"Strengths\\\" is the longest and most commonly used word that contains only a single vowel.\")"
   ]
  },
  {
   "cell_type": "code",
   "execution_count": null,
   "id": "38f03b0a",
   "metadata": {},
   "outputs": [],
   "source": []
  },
  {
   "cell_type": "markdown",
   "id": "8413b39e",
   "metadata": {},
   "source": [
    "**3. Create a function to check if a candidate is qualified in an imaginary coding interview of an imaginary tech startup.**  \n",
    "\n",
    "**The criteria for a candidate to be qualified in the coding interview is:**  \n",
    "\n",
    "   1. The candidate should have complete all the questions.\n",
    "   2. The maximum time given to complete the interview is 120 minutes.\n",
    "   3. The maximum time given for very easy questions is 5 minutes each.\n",
    "   4. The maximum time given for easy questions is 10 minutes each.\n",
    "   5. The maximum time given for medium questions is 15 minutes each.\n",
    "   6. The maximum time given for hard questions is 20 minutes each.\n",
    "\n",
    "If all the above conditions are satisfied, return \"qualified\", else return \"disqualified\".  \n",
    "\n",
    "You will be given a list of time taken by a candidate to solve a particular question and the total time taken by the candidate to complete the interview.  \n",
    "\n",
    "Given a list , in a true condition will always be in the format [very easy, very easy, easy, easy, medium, medium, hard, hard].  \n",
    "\n",
    "The maximum time to complete the interview includes a buffer time of 20 minutes.  \n",
    "\n",
    ">**Examples**  \n",
    "interview([5, 5, 10, 10, 15, 15, 20, 20], 120) ➞ \"qualified\"  \n",
    "interview([2, 3, 8, 6, 5, 12, 10, 18], 64) ➞  \"qualified\"  \n",
    "interview([5, 5, 10, 10, 25, 15, 20, 20], 120) ➞ \"disqualified\"  \n",
    "    --> # Exceeded the time limit for a medium question.  \n",
    "interview([5, 5, 10, 10, 15, 15, 20], 120) ➞ \"disqualified\"  \n",
    "    --> # Did not complete all the questions.  \n",
    "interview([5, 5, 10, 10, 15, 15, 20, 20], 130) ➞ \"disqualified\"  \n",
    "    --> # Solved all the questions in their respected time limits but exceeded the total time limit of the interview."
   ]
  },
  {
   "cell_type": "code",
   "execution_count": 16,
   "id": "dcdab39d",
   "metadata": {},
   "outputs": [],
   "source": [
    "def interview(ques_time,interview_time):\n",
    "    max_time = [5,5,10,10,15,15,20,20]\n",
    "    if len(ques_time)==8 and interview_time<=120:\n",
    "        for ques in range(len(ques_time)):\n",
    "            if ques_time[ques]>max_time[ques]:\n",
    "                return \"disqualified\"\n",
    "        return \"qualified\"\n",
    "    else:\n",
    "        return \"disqualified\""
   ]
  },
  {
   "cell_type": "code",
   "execution_count": 17,
   "id": "04df27d4",
   "metadata": {},
   "outputs": [
    {
     "data": {
      "text/plain": [
       "'qualified'"
      ]
     },
     "execution_count": 17,
     "metadata": {},
     "output_type": "execute_result"
    }
   ],
   "source": [
    "interview([5, 5, 10, 10, 15, 15, 20, 20], 120)"
   ]
  },
  {
   "cell_type": "code",
   "execution_count": 18,
   "id": "61ef9d6f",
   "metadata": {},
   "outputs": [
    {
     "data": {
      "text/plain": [
       "'qualified'"
      ]
     },
     "execution_count": 18,
     "metadata": {},
     "output_type": "execute_result"
    }
   ],
   "source": [
    "interview([2, 3, 8, 6, 5, 12, 10, 18], 64)"
   ]
  },
  {
   "cell_type": "code",
   "execution_count": 19,
   "id": "218ec894",
   "metadata": {},
   "outputs": [
    {
     "data": {
      "text/plain": [
       "'disqualified'"
      ]
     },
     "execution_count": 19,
     "metadata": {},
     "output_type": "execute_result"
    }
   ],
   "source": [
    "interview([5, 5, 10, 10, 25, 15, 20, 20], 120)"
   ]
  },
  {
   "cell_type": "code",
   "execution_count": 20,
   "id": "a3baa1b0",
   "metadata": {},
   "outputs": [
    {
     "data": {
      "text/plain": [
       "'disqualified'"
      ]
     },
     "execution_count": 20,
     "metadata": {},
     "output_type": "execute_result"
    }
   ],
   "source": [
    "interview([5, 5, 10, 10, 15, 15, 20], 120)"
   ]
  },
  {
   "cell_type": "code",
   "execution_count": 21,
   "id": "1d6dd7bf",
   "metadata": {},
   "outputs": [
    {
     "data": {
      "text/plain": [
       "'disqualified'"
      ]
     },
     "execution_count": 21,
     "metadata": {},
     "output_type": "execute_result"
    }
   ],
   "source": [
    "interview([5, 5, 10, 10, 15, 15, 20, 20], 130)"
   ]
  },
  {
   "cell_type": "code",
   "execution_count": null,
   "id": "53d538cc",
   "metadata": {},
   "outputs": [],
   "source": []
  },
  {
   "cell_type": "markdown",
   "id": "f36b242f",
   "metadata": {},
   "source": [
    "**4. Write a function that divides a list into chunks of size n, where n is the length of each chunk.**  \n",
    "\n",
    ">**Examples**  \n",
    "chunkify([2, 3, 4, 5], 2) ➞ [[2, 3], [4, 5]]  \n",
    "chunkify([2, 3, 4, 5, 6], 2) ➞ [[2, 3], [4, 5], [6]]  \n",
    "chunkify([2, 3, 4, 5, 6, 7], 3) ➞ [[2, 3, 4], [5, 6, 7]]  \n",
    "chunkify([2, 3, 4, 5, 6, 7], 1) ➞ [[2], [3], [4], [5], [6], [7]]  \n",
    "chunkify([2, 3, 4, 5, 6, 7], 7) ➞ [[2, 3, 4, 5, 6, 7]]  "
   ]
  },
  {
   "cell_type": "code",
   "execution_count": 9,
   "id": "1920e203",
   "metadata": {},
   "outputs": [],
   "source": [
    "\n",
    "def chunkify(lst,n):\n",
    "    try:\n",
    "        chunk_list =[]\n",
    "        chunk=[]\n",
    "        i=0\n",
    "        while i< len(lst):\n",
    "            chunk.append(lst[i])\n",
    "\n",
    "            if len(chunk)==n:\n",
    "                chunk_list.append(chunk)\n",
    "                chunk=[]\n",
    "            elif i==len(lst)-1:\n",
    "                chunk_list.append(chunk)\n",
    "\n",
    "            i+=1\n",
    "        return chunk_list\n",
    "    except Exception as e:\n",
    "        print(\"error occured: \",e)"
   ]
  },
  {
   "cell_type": "code",
   "execution_count": 4,
   "id": "9dac17b5",
   "metadata": {},
   "outputs": [
    {
     "data": {
      "text/plain": [
       "[[2, 3], [4, 5]]"
      ]
     },
     "execution_count": 4,
     "metadata": {},
     "output_type": "execute_result"
    }
   ],
   "source": [
    "chunkify([2, 3, 4, 5], 2)"
   ]
  },
  {
   "cell_type": "code",
   "execution_count": 5,
   "id": "f4820530",
   "metadata": {},
   "outputs": [
    {
     "data": {
      "text/plain": [
       "[[2, 3], [4, 5], [6]]"
      ]
     },
     "execution_count": 5,
     "metadata": {},
     "output_type": "execute_result"
    }
   ],
   "source": [
    "chunkify([2, 3, 4, 5, 6], 2)"
   ]
  },
  {
   "cell_type": "code",
   "execution_count": 6,
   "id": "d2a3a78f",
   "metadata": {},
   "outputs": [
    {
     "data": {
      "text/plain": [
       "[[2, 3, 4], [5, 6, 7]]"
      ]
     },
     "execution_count": 6,
     "metadata": {},
     "output_type": "execute_result"
    }
   ],
   "source": [
    "chunkify([2, 3, 4, 5, 6, 7], 3)"
   ]
  },
  {
   "cell_type": "code",
   "execution_count": 7,
   "id": "b3c1afb2",
   "metadata": {},
   "outputs": [
    {
     "data": {
      "text/plain": [
       "[[2], [3], [4], [5], [6], [7]]"
      ]
     },
     "execution_count": 7,
     "metadata": {},
     "output_type": "execute_result"
    }
   ],
   "source": [
    "chunkify([2, 3, 4, 5, 6, 7], 1)"
   ]
  },
  {
   "cell_type": "code",
   "execution_count": 8,
   "id": "8308e427",
   "metadata": {},
   "outputs": [
    {
     "data": {
      "text/plain": [
       "[[2, 3, 4, 5, 6, 7]]"
      ]
     },
     "execution_count": 8,
     "metadata": {},
     "output_type": "execute_result"
    }
   ],
   "source": [
    "chunkify([2, 3, 4, 5, 6, 7], 7)"
   ]
  },
  {
   "cell_type": "code",
   "execution_count": null,
   "id": "bb6017f0",
   "metadata": {},
   "outputs": [],
   "source": []
  },
  {
   "cell_type": "markdown",
   "id": "8cbdf4b9",
   "metadata": {},
   "source": [
    "**5. You are given a list of strings consisting of grocery items, with prices in parentheses. Return a list of prices in float format.**  \n",
    "\n",
    ">**Examples**  \n",
    "get_prices([\"salad ($4.99)\"]) ➞ [4.99]    \n",
    "\n",
    ">get_prices(['artichokes ($1.99)',\"rotiserrie chicken ($5.99)\",'gum ($0.75)'])➞ [1.99, 5.99, 0.75]  \n",
    "\n",
    ">get_prices([\"ice cream ($5.99)\",\"banana ($0.20)\",\"sandwich ($8.50)\",\"soup ($1.99)\"])➞ [5.99, 0.2, 8.50, 1.99]  "
   ]
  },
  {
   "cell_type": "code",
   "execution_count": 81,
   "id": "4cb565a4",
   "metadata": {},
   "outputs": [],
   "source": [
    "import re\n",
    "def get_prices(items_list):\n",
    "    pat = '[\\d]+[\\.]*[\\d]*'\n",
    "    prices = []\n",
    "    for item in items_list:\n",
    "        prices.extend(re.findall(pat,item))\n",
    "    return prices"
   ]
  },
  {
   "cell_type": "code",
   "execution_count": 82,
   "id": "a4ed4d50",
   "metadata": {},
   "outputs": [
    {
     "data": {
      "text/plain": [
       "['4.99']"
      ]
     },
     "execution_count": 82,
     "metadata": {},
     "output_type": "execute_result"
    }
   ],
   "source": [
    "get_prices([\"salad ($4.99)\"])"
   ]
  },
  {
   "cell_type": "code",
   "execution_count": 83,
   "id": "7183aeee",
   "metadata": {},
   "outputs": [
    {
     "data": {
      "text/plain": [
       "['1.99', '5.99', '0.75']"
      ]
     },
     "execution_count": 83,
     "metadata": {},
     "output_type": "execute_result"
    }
   ],
   "source": [
    "get_prices(['artichokes ($1.99)',\"rotiserrie chicken ($5.99)\",'gum ($0.75)'])"
   ]
  },
  {
   "cell_type": "code",
   "execution_count": 84,
   "id": "ba752b5a",
   "metadata": {},
   "outputs": [
    {
     "data": {
      "text/plain": [
       "['5.99', '0.20', '8', '1.99']"
      ]
     },
     "execution_count": 84,
     "metadata": {},
     "output_type": "execute_result"
    }
   ],
   "source": [
    "get_prices([\"ice cream ($5.99)\",\"banana ($0.20)\",\"sandwich ($8)\",\"soup ($1.99)\"])"
   ]
  },
  {
   "cell_type": "code",
   "execution_count": null,
   "id": "27517309",
   "metadata": {},
   "outputs": [],
   "source": []
  }
 ],
 "metadata": {
  "kernelspec": {
   "display_name": "Python 3 (ipykernel)",
   "language": "python",
   "name": "python3"
  },
  "language_info": {
   "codemirror_mode": {
    "name": "ipython",
    "version": 3
   },
   "file_extension": ".py",
   "mimetype": "text/x-python",
   "name": "python",
   "nbconvert_exporter": "python",
   "pygments_lexer": "ipython3",
   "version": "3.9.12"
  }
 },
 "nbformat": 4,
 "nbformat_minor": 5
}
