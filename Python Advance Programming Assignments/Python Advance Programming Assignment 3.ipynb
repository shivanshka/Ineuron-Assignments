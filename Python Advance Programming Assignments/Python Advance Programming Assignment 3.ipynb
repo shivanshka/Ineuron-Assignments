{
 "cells": [
  {
   "cell_type": "markdown",
   "id": "bb135e1b",
   "metadata": {},
   "source": [
    "# Advance Programming Assignment 3"
   ]
  },
  {
   "cell_type": "markdown",
   "id": "6119e556",
   "metadata": {},
   "source": [
    "**1. Create a function to perform basic arithmetic operations that includes addition, subtraction, multiplication and division on a string number (e.g. \"12 + 24\" or \"23 - 21\" or \"12 // 12\" or \"12 * 21\").**  \n",
    "\n",
    "Here, we have 1 followed by a space, operator followed by another space and 2. For the challenge, we are going to have only two numbers between 1 valid operator. The return value should be a number.  \n",
    "\n",
    "eval() is not allowed. In case of division, whenever the second number equals \"0\" return -1.  \n",
    "\n",
    "For example:  \n",
    "\n",
    "\"15 // 0\"  ➞ -1  \n",
    "\n",
    ">**Examples**  \n",
    "arithmetic_operation(\"12 + 12\") ➞ 24   \n",
    "// 12 + 12 = 24    \n",
    "arithmetic_operation(\"12 - 12\") ➞ 24   \n",
    "// 12 - 12 = 0    \n",
    "arithmetic_operation(\"12 * 12\") ➞ 144   \n",
    "// 12 * 12 = 144    \n",
    "arithmetic_operation(\"12 // 0\") ➞ -1   \n",
    "// 12 / 0 = -1  "
   ]
  },
  {
   "cell_type": "code",
   "execution_count": 48,
   "id": "7ebb736c",
   "metadata": {},
   "outputs": [],
   "source": [
    "def arithmetic_operation(exp):\n",
    "    lst = exp.split(\" \")\n",
    "    op = lst[1]\n",
    "    if op == \"*\":\n",
    "        return int(lst[0])*int(lst[2])\n",
    "    elif op == \"+\":\n",
    "        return int(lst[0])+int(lst[2])\n",
    "    elif op == \"-\":\n",
    "        return int(lst[0])-int(lst[2])\n",
    "    elif op == \"//\":\n",
    "        if int(lst[2]) == 0:\n",
    "            return -1\n",
    "        else:\n",
    "            fl = int(lst[0]) // int(lst[2])\n",
    "            return int(fl)\n",
    "    elif op == \"/\" :\n",
    "        if int(lst[2]) == 0:\n",
    "            return -1\n",
    "        else:\n",
    "            return int(lst[0])/int(lst[2])\n",
    "    else:\n",
    "        return \"Invalid operator\""
   ]
  },
  {
   "cell_type": "code",
   "execution_count": 51,
   "id": "9ca3d525",
   "metadata": {},
   "outputs": [
    {
     "name": "stdout",
     "output_type": "stream",
     "text": [
      "Enter your expression: 28 * 46\n",
      "28 * 46 = 1288\n"
     ]
    }
   ],
   "source": [
    "exp = input(\"Enter your expression: \")\n",
    "soln = arithmetic_operation(exp)\n",
    "print(f\"{exp} = {soln}\")"
   ]
  },
  {
   "cell_type": "code",
   "execution_count": 49,
   "id": "907eb912",
   "metadata": {},
   "outputs": [
    {
     "data": {
      "text/plain": [
       "24"
      ]
     },
     "execution_count": 49,
     "metadata": {},
     "output_type": "execute_result"
    }
   ],
   "source": [
    "arithmetic_operation(\"12 + 12\")"
   ]
  },
  {
   "cell_type": "code",
   "execution_count": 50,
   "id": "3c83eb7c",
   "metadata": {},
   "outputs": [
    {
     "data": {
      "text/plain": [
       "0"
      ]
     },
     "execution_count": 50,
     "metadata": {},
     "output_type": "execute_result"
    }
   ],
   "source": [
    "arithmetic_operation(\"12 - 12\")"
   ]
  },
  {
   "cell_type": "code",
   "execution_count": 33,
   "id": "27930417",
   "metadata": {},
   "outputs": [
    {
     "data": {
      "text/plain": [
       "144"
      ]
     },
     "execution_count": 33,
     "metadata": {},
     "output_type": "execute_result"
    }
   ],
   "source": [
    "arithmetic_operation(\"12 * 12\")"
   ]
  },
  {
   "cell_type": "code",
   "execution_count": 47,
   "id": "d7259767",
   "metadata": {},
   "outputs": [
    {
     "data": {
      "text/plain": [
       "-1"
      ]
     },
     "execution_count": 47,
     "metadata": {},
     "output_type": "execute_result"
    }
   ],
   "source": [
    "arithmetic_operation(\"12 // 0\")"
   ]
  },
  {
   "cell_type": "code",
   "execution_count": null,
   "id": "5f5b3139",
   "metadata": {},
   "outputs": [],
   "source": []
  },
  {
   "cell_type": "markdown",
   "id": "b3072eca",
   "metadata": {},
   "source": [
    "**2. Write a function that takes the coordinates of three points in the form of a 2d array and returns the perimeter of the triangle. The given points are the vertices of a triangle on a two-dimensional plane.**  \n",
    "\n",
    ">**Examples**  \n",
    "perimeter( [ [15, 7], [5, 22], [11, 1] ] ) ➞ 47.08  \n",
    "perimeter( [ [0, 0], [0, 1], [1, 0] ] ) ➞ 3.42  \n",
    "perimeter( [ [-10, -10], [10, 10 ], [-10, 10] ] ) ➞ 68.28  "
   ]
  },
  {
   "cell_type": "code",
   "execution_count": 58,
   "id": "dd42d1e1",
   "metadata": {},
   "outputs": [],
   "source": [
    "import math\n",
    "# Method 1:\n",
    "def perimeter(cord):\n",
    "    a,b,c = cord\n",
    "    dis_ab = math.sqrt(math.pow(b[0]-a[0],2)+math.pow(b[1]-a[1],2))\n",
    "    dis_bc = math.sqrt(math.pow(c[0]-b[0],2)+math.pow(c[1]-b[1],2))\n",
    "    dis_ca = math.sqrt(math.pow(a[0]-c[0],2)+math.pow(a[1]-c[1],2))\n",
    "    perimeter = round(dis_ab+dis_bc+dis_ca, ndigits=2)\n",
    "    return perimeter\n",
    "\n",
    "# Method 2:\n",
    "def perimeter2(cord):\n",
    "    a,b,c = cord\n",
    "    ab = math.dist(a,b)\n",
    "    bc = math.dist(b,c)\n",
    "    ac = math.dist(a,c)\n",
    "    perimeter = ab+bc+ac\n",
    "    return round(perimeter,ndigits=2)\n",
    "    "
   ]
  },
  {
   "cell_type": "code",
   "execution_count": 59,
   "id": "0d3fcbce",
   "metadata": {},
   "outputs": [
    {
     "data": {
      "text/plain": [
       "68.28"
      ]
     },
     "execution_count": 59,
     "metadata": {},
     "output_type": "execute_result"
    }
   ],
   "source": [
    "perimeter2( [ [-10, -10], [10, 10 ], [-10, 10] ] )"
   ]
  },
  {
   "cell_type": "code",
   "execution_count": 60,
   "id": "6cbeb0ab",
   "metadata": {},
   "outputs": [
    {
     "data": {
      "text/plain": [
       "47.08"
      ]
     },
     "execution_count": 60,
     "metadata": {},
     "output_type": "execute_result"
    }
   ],
   "source": [
    "perimeter( [ [15, 7], [5, 22], [11, 1] ] )"
   ]
  },
  {
   "cell_type": "code",
   "execution_count": 62,
   "id": "41ebdf75",
   "metadata": {},
   "outputs": [
    {
     "data": {
      "text/plain": [
       "3.41"
      ]
     },
     "execution_count": 62,
     "metadata": {},
     "output_type": "execute_result"
    }
   ],
   "source": [
    "perimeter2( [ [0, 0], [0, 1], [1, 0] ] )"
   ]
  },
  {
   "cell_type": "code",
   "execution_count": null,
   "id": "076caaf9",
   "metadata": {},
   "outputs": [],
   "source": []
  },
  {
   "cell_type": "markdown",
   "id": "5d92259d",
   "metadata": {},
   "source": [
    "**3. A city skyline can be represented as a 2-D list with 1s representing buildings. In the example below, the height of the tallest building is 4 (second-most right column).**  \n",
    "\n",
    "[[0, 0, 0, 0, 0, 0],  \n",
    "[0, 0, 0, 0, 1, 0],  \n",
    "[0, 0, 1, 0, 1, 0],  \n",
    "[0, 1, 1, 1, 1, 0],  \n",
    "[1, 1, 1, 1, 1, 1]]  \n",
    "\n",
    "Create a function that takes a skyline (2-D list of 0's and 1's) and returns the height of the tallest skyscraper.  \n",
    "\n",
    ">**Examples**  \n",
    "tallest_skyscraper([  \n",
    "  [0, 0, 0, 0],  \n",
    "  [0, 1, 0, 0],  \n",
    "  [0, 1, 1, 0],  \n",
    "  [1, 1, 1, 1]  \n",
    "]) ➞ 3  \n",
    "tallest_skyscraper([  \n",
    "  [0, 1, 0, 0],  \n",
    "  [0, 1, 0, 0],  \n",
    "  [0, 1, 1, 0],  \n",
    "  [1, 1, 1, 1]  \n",
    "]) ➞ 4  \n",
    "tallest_skyscraper([  \n",
    "  [0, 0, 0, 0],  \n",
    "  [0, 0, 0, 0],  \n",
    "  [1, 1, 1, 0],  \n",
    "  [1, 1, 1, 1]  \n",
    "]) ➞ 2  \n"
   ]
  },
  {
   "cell_type": "code",
   "execution_count": 130,
   "id": "404d360e",
   "metadata": {},
   "outputs": [],
   "source": [
    "import numpy as np\n",
    "def tallest_skyscraper(skyline):\n",
    "    skyline=np.asanyarray(skyline)\n",
    "    column = np.shape(skyline)[1]\n",
    "    n=np.split(skyline,column,axis=1)\n",
    "    maxi = list(map(np.count_nonzero,n))\n",
    "    return max(maxi)"
   ]
  },
  {
   "cell_type": "code",
   "execution_count": 135,
   "id": "9fa0353c",
   "metadata": {},
   "outputs": [
    {
     "name": "stdout",
     "output_type": "stream",
     "text": [
      "Height of tallest building = 3\n"
     ]
    }
   ],
   "source": [
    "skyl = tallest_skyscraper([\n",
    "[0, 0, 0, 0],\n",
    "[0, 1, 0, 0],\n",
    "[0, 1, 1, 0],\n",
    "[1, 1, 1, 1]\n",
    "])\n",
    "print(\"Height of tallest building =\",skyl)"
   ]
  },
  {
   "cell_type": "code",
   "execution_count": 136,
   "id": "73114ba0",
   "metadata": {},
   "outputs": [
    {
     "name": "stdout",
     "output_type": "stream",
     "text": [
      "Height of tallest building = 4\n"
     ]
    }
   ],
   "source": [
    "skyl = tallest_skyscraper([\n",
    "[0, 0, 0, 0, 0, 0],\n",
    "[0, 0, 0, 0, 1, 0],\n",
    "[0, 0, 1, 0, 1, 0],\n",
    "[0, 1, 1, 1, 1, 0],\n",
    "[1, 1, 1, 1, 1, 1]\n",
    "])\n",
    "print(\"Height of tallest building =\",skyl)"
   ]
  },
  {
   "cell_type": "code",
   "execution_count": 137,
   "id": "6b3e5c73",
   "metadata": {},
   "outputs": [
    {
     "name": "stdout",
     "output_type": "stream",
     "text": [
      "Height of tallest building = 4\n"
     ]
    }
   ],
   "source": [
    "skyl = tallest_skyscraper([\n",
    "[0, 1, 0, 0],\n",
    "[0, 1, 0, 0],\n",
    "[0, 1, 1, 0],\n",
    "[1, 1, 1, 1]\n",
    "])\n",
    "print(\"Height of tallest building =\",skyl)"
   ]
  },
  {
   "cell_type": "code",
   "execution_count": 138,
   "id": "f338d68c",
   "metadata": {},
   "outputs": [
    {
     "name": "stdout",
     "output_type": "stream",
     "text": [
      "Height of tallest building = 2\n"
     ]
    }
   ],
   "source": [
    "skyl = tallest_skyscraper([\n",
    "[0, 0, 0, 0],\n",
    "[0, 0, 0, 0],\n",
    "[1, 1, 1, 0],\n",
    "[1, 1, 1, 1]\n",
    "])\n",
    "print(\"Height of tallest building =\",skyl)"
   ]
  },
  {
   "cell_type": "code",
   "execution_count": null,
   "id": "0f432b84",
   "metadata": {},
   "outputs": [],
   "source": []
  },
  {
   "cell_type": "markdown",
   "id": "95e92b08",
   "metadata": {},
   "source": [
    "**4. A financial institution provides professional services to banks and claims charges from the customers based on the number of man-days provided. Internally, it has set a scheme to motivate and reward staff to meet and exceed targeted billable utilization and revenues by paying a bonus for each day claimed from customers in excess of a threshold target.** \n",
    "\n",
    "This quarterly scheme is calculated with a threshold target of 32 days per quarter, and the incentive payment for each billable day in excess of such threshold target is shown as follows:  \n",
    "\n",
    "Days                               Bonus  \n",
    "0 to 32 days\t                   Zero  \n",
    "33 to 40 days\t         SGD$325 per billable day  \n",
    "41 to 48 days\t         SGD$550 per billable day  \n",
    "Greater than 48 days      SGD$600 per billable day  \n",
    "\n",
    "Please note that incentive payment is calculated progressively. As an example, if an employee reached total billable days of 45 in a quarter, his/her incentive payment is computed as follows:  \n",
    "\n",
    "32*0 + 8*325 + 5*550 = 5350  \n",
    "\n",
    "Write a function to read the billable days of an employee and return the bonus he/she has obtained in that quarter.  \n",
    "\n",
    ">**Examples**  \n",
    "bonus(15) ➞ 0  \n",
    "bonus(37) ➞ 1625  \n",
    "bonus(50) ➞ 8200  "
   ]
  },
  {
   "cell_type": "code",
   "execution_count": 139,
   "id": "7087bf1c",
   "metadata": {},
   "outputs": [],
   "source": [
    "def bonus(bill_days):\n",
    "    if bill_days<=32:\n",
    "        return 0\n",
    "    \n",
    "    elif bill_days>32 and bill_days<=40:\n",
    "        return 325*(bill_days-32)\n",
    "    \n",
    "    elif bill_days>40 and bill_days<=48:\n",
    "        return 325*8+550*(bill_days-40)\n",
    "    \n",
    "    else:\n",
    "        return 325*8+550*8+600*(bill_days-48)"
   ]
  },
  {
   "cell_type": "code",
   "execution_count": 145,
   "id": "dc91ab40",
   "metadata": {},
   "outputs": [
    {
     "name": "stdout",
     "output_type": "stream",
     "text": [
      "Enter no. of billable days: 59\n",
      "Bonus for 59 days = 13600\n"
     ]
    }
   ],
   "source": [
    "days = int(input(\"Enter no. of billable days: \"))\n",
    "print(f\"Bonus for {days} days = {bonus(days)}\") "
   ]
  },
  {
   "cell_type": "code",
   "execution_count": 140,
   "id": "843cf2ab",
   "metadata": {},
   "outputs": [
    {
     "data": {
      "text/plain": [
       "0"
      ]
     },
     "execution_count": 140,
     "metadata": {},
     "output_type": "execute_result"
    }
   ],
   "source": [
    "bonus(15)"
   ]
  },
  {
   "cell_type": "code",
   "execution_count": 141,
   "id": "2849516f",
   "metadata": {},
   "outputs": [
    {
     "data": {
      "text/plain": [
       "1625"
      ]
     },
     "execution_count": 141,
     "metadata": {},
     "output_type": "execute_result"
    }
   ],
   "source": [
    "bonus(37)"
   ]
  },
  {
   "cell_type": "code",
   "execution_count": 142,
   "id": "aa3b644c",
   "metadata": {},
   "outputs": [
    {
     "data": {
      "text/plain": [
       "8200"
      ]
     },
     "execution_count": 142,
     "metadata": {},
     "output_type": "execute_result"
    }
   ],
   "source": [
    "bonus(50)"
   ]
  },
  {
   "cell_type": "code",
   "execution_count": 143,
   "id": "6e101093",
   "metadata": {},
   "outputs": [
    {
     "data": {
      "text/plain": [
       "5350"
      ]
     },
     "execution_count": 143,
     "metadata": {},
     "output_type": "execute_result"
    }
   ],
   "source": [
    "bonus(45)"
   ]
  },
  {
   "cell_type": "code",
   "execution_count": null,
   "id": "e88e58ba",
   "metadata": {},
   "outputs": [],
   "source": []
  },
  {
   "cell_type": "markdown",
   "id": "2c97e3df",
   "metadata": {},
   "source": [
    "**5. A number is said to be Disarium if the sum of its digits raised to their respective positions is the number itself.** \n",
    "\n",
    "Create a function that determines whether a number is a Disarium or not.  \n",
    "\n",
    ">**Examples**  \n",
    "is_disarium(75) ➞ False  \n",
    "    # 7^1 + 5^2 = 7 + 25 = 32  \n",
    "is_disarium(135) ➞ True  \n",
    "    # 1^1 + 3^2 + 5^3 = 1 + 9 + 125 = 135  \n",
    "is_disarium(544) ➞ False  \n",
    "is_disarium(518) ➞ True  \n",
    "is_disarium(466) ➞ False  \n",
    "is_disarium(8) ➞ True  \n"
   ]
  },
  {
   "cell_type": "code",
   "execution_count": 168,
   "id": "56b2fa08",
   "metadata": {},
   "outputs": [],
   "source": [
    "def is_disarium(num):\n",
    "    temp = num\n",
    "    summ=0\n",
    "    degree = len(str(num))\n",
    "    while temp>0:\n",
    "        rem = temp%10\n",
    "        summ += rem**degree\n",
    "        temp //= 10\n",
    "        degree -=1\n",
    "    return (summ == num)\n",
    "    "
   ]
  },
  {
   "cell_type": "code",
   "execution_count": 178,
   "id": "36206bd1",
   "metadata": {},
   "outputs": [
    {
     "name": "stdout",
     "output_type": "stream",
     "text": [
      "Enter no. to check for Disarium Number: 159\n",
      "159 is not a Disarium number\n"
     ]
    }
   ],
   "source": [
    "num = int(input(\"Enter no. to check for Disarium Number: \"))\n",
    "if is_disarium(num) == True:\n",
    "    print(f\"{num} is DISARIUM NUMBER!!\")\n",
    "else:\n",
    "    print(f\"{num} is not a Disarium number\")"
   ]
  },
  {
   "cell_type": "code",
   "execution_count": 169,
   "id": "65c967be",
   "metadata": {},
   "outputs": [
    {
     "data": {
      "text/plain": [
       "False"
      ]
     },
     "execution_count": 169,
     "metadata": {},
     "output_type": "execute_result"
    }
   ],
   "source": [
    "is_disarium(75)"
   ]
  },
  {
   "cell_type": "code",
   "execution_count": 170,
   "id": "ff006430",
   "metadata": {},
   "outputs": [
    {
     "data": {
      "text/plain": [
       "True"
      ]
     },
     "execution_count": 170,
     "metadata": {},
     "output_type": "execute_result"
    }
   ],
   "source": [
    "is_disarium(135)"
   ]
  },
  {
   "cell_type": "code",
   "execution_count": 171,
   "id": "88e34ebf",
   "metadata": {},
   "outputs": [
    {
     "data": {
      "text/plain": [
       "False"
      ]
     },
     "execution_count": 171,
     "metadata": {},
     "output_type": "execute_result"
    }
   ],
   "source": [
    "is_disarium(544)"
   ]
  },
  {
   "cell_type": "code",
   "execution_count": 172,
   "id": "fb18e123",
   "metadata": {},
   "outputs": [
    {
     "data": {
      "text/plain": [
       "True"
      ]
     },
     "execution_count": 172,
     "metadata": {},
     "output_type": "execute_result"
    }
   ],
   "source": [
    "is_disarium(518)"
   ]
  },
  {
   "cell_type": "code",
   "execution_count": 173,
   "id": "edf8e521",
   "metadata": {},
   "outputs": [
    {
     "data": {
      "text/plain": [
       "False"
      ]
     },
     "execution_count": 173,
     "metadata": {},
     "output_type": "execute_result"
    }
   ],
   "source": [
    "is_disarium(466)"
   ]
  },
  {
   "cell_type": "code",
   "execution_count": 174,
   "id": "425c7a0e",
   "metadata": {},
   "outputs": [
    {
     "data": {
      "text/plain": [
       "True"
      ]
     },
     "execution_count": 174,
     "metadata": {},
     "output_type": "execute_result"
    }
   ],
   "source": [
    "is_disarium(8)"
   ]
  },
  {
   "cell_type": "code",
   "execution_count": 175,
   "id": "d9ae0e3a",
   "metadata": {},
   "outputs": [
    {
     "data": {
      "text/plain": [
       "False"
      ]
     },
     "execution_count": 175,
     "metadata": {},
     "output_type": "execute_result"
    }
   ],
   "source": [
    "is_disarium(10)"
   ]
  },
  {
   "cell_type": "code",
   "execution_count": null,
   "id": "53a4009e",
   "metadata": {},
   "outputs": [],
   "source": []
  }
 ],
 "metadata": {
  "kernelspec": {
   "display_name": "Python 3 (ipykernel)",
   "language": "python",
   "name": "python3"
  },
  "language_info": {
   "codemirror_mode": {
    "name": "ipython",
    "version": 3
   },
   "file_extension": ".py",
   "mimetype": "text/x-python",
   "name": "python",
   "nbconvert_exporter": "python",
   "pygments_lexer": "ipython3",
   "version": "3.9.7"
  }
 },
 "nbformat": 4,
 "nbformat_minor": 5
}
