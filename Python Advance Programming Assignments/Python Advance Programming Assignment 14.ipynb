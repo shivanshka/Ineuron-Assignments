{
  "nbformat": 4,
  "nbformat_minor": 0,
  "metadata": {
    "colab": {
      "name": "Python Advance Programming Assignment 14.ipynb",
      "provenance": [],
      "collapsed_sections": []
    },
    "kernelspec": {
      "name": "python3",
      "display_name": "Python 3"
    },
    "language_info": {
      "name": "python"
    }
  },
  "cells": [
    {
      "cell_type": "markdown",
      "source": [
        "# Advance Programming Assignment 14\n"
      ],
      "metadata": {
        "id": "Vg-XpmyT4Fbn"
      }
    },
    {
      "cell_type": "markdown",
      "source": [
        "**1. Given a list of numbers, create a function that removes 25% from every number in the list except the smallest number, and adds the total amount removed to the smallest number.**  \n",
        "> **Examples**  \n",
        "show_the_love([4, 1, 4]) ➞ [3, 3, 3]  \n",
        "show_the_love([16, 10, 8]) ➞ [12, 7.5, 14.5]  \n",
        "show_the_love([2, 100]) ➞ [27, 75]\n",
        "\n",
        "\n",
        "\n"
      ],
      "metadata": {
        "id": "3-dWzJin4CID"
      }
    },
    {
      "cell_type": "code",
      "source": [
        "def show_the_love(num_list):\n",
        "  min_index = num_list.index(min(num_list))\n",
        "  for i in range(len(num_list)):\n",
        "    if i != min_index:\n",
        "      num_list[min_index] = num_list[min_index] + 0.25*num_list[i]\n",
        "      num_list[i] = 0.75 * num_list[i]\n",
        "  return num_list"
      ],
      "metadata": {
        "id": "lOdKqT9h7Z1n"
      },
      "execution_count": null,
      "outputs": []
    },
    {
      "cell_type": "code",
      "source": [
        "show_the_love([4, 1, 4])"
      ],
      "metadata": {
        "colab": {
          "base_uri": "https://localhost:8080/"
        },
        "id": "pkhVCWgG7aAx",
        "outputId": "7422321a-babb-4ebb-af98-9ca09756f117"
      },
      "execution_count": null,
      "outputs": [
        {
          "output_type": "execute_result",
          "data": {
            "text/plain": [
              "[3.0, 3.0, 3.0]"
            ]
          },
          "metadata": {},
          "execution_count": 2
        }
      ]
    },
    {
      "cell_type": "code",
      "source": [
        "show_the_love([16, 10, 8])"
      ],
      "metadata": {
        "colab": {
          "base_uri": "https://localhost:8080/"
        },
        "id": "WT6N8rEU7aLQ",
        "outputId": "afef610b-35be-43f0-a042-d95647ca52dc"
      },
      "execution_count": null,
      "outputs": [
        {
          "output_type": "execute_result",
          "data": {
            "text/plain": [
              "[12.0, 7.5, 14.5]"
            ]
          },
          "metadata": {},
          "execution_count": 3
        }
      ]
    },
    {
      "cell_type": "code",
      "source": [
        "show_the_love([2, 100])"
      ],
      "metadata": {
        "colab": {
          "base_uri": "https://localhost:8080/"
        },
        "id": "KG0qrYtm7aaO",
        "outputId": "3d769a84-d98c-44ab-ae77-714b9688de03"
      },
      "execution_count": null,
      "outputs": [
        {
          "output_type": "execute_result",
          "data": {
            "text/plain": [
              "[27.0, 75.0]"
            ]
          },
          "metadata": {},
          "execution_count": 4
        }
      ]
    },
    {
      "cell_type": "code",
      "source": [
        ""
      ],
      "metadata": {
        "id": "McwH1-Np7a9a"
      },
      "execution_count": null,
      "outputs": []
    },
    {
      "cell_type": "markdown",
      "source": [
        "**2. Create a function that takes in two words as input and returns a list of three elements, in the following order:**  \n",
        "  1. **Shared letters between two words.**  \n",
        "  2. **Letters unique to word 1.**  \n",
        "  3. **Letters unique to word 2.**  \n",
        "**Each element should have unique letters, and have each letter be alphabetically sorted.**  \n",
        "> **Examples**  \n",
        "letters(&quot;sharp&quot;, &quot;soap&quot;) ➞ [&quot;aps&quot;, &quot;hr&quot;, &quot;o&quot;]  \n",
        "letters(&quot;board&quot;, &quot;bored&quot;) ➞ [&quot;bdor&quot;, &quot;a&quot;, &quot;e&quot;]  \n",
        "letters(&quot;happiness&quot;, &quot;envelope&quot;) ➞ [&quot;enp&quot;, &quot;ahis&quot;, &quot;lov&quot;]  \n",
        "letters(&quot;kerfuffle&quot;, &quot;fluffy&quot;) ➞ [&quot;flu&quot;, &quot;ekr&quot;, &quot;y&quot;]  \n",
        "         # Even with multiple matching letters (e.g. 3 f&#39;s), there should  \n",
        "         # only exist a single &quot;f&quot; in your first element.  \n",
        "letters(&quot;match&quot;, &quot;ham&quot;) ➞ [&quot;ahm&quot;, &quot;ct&quot;, &quot;&quot;]  \n",
        "         # &quot;ham&quot; does not contain any letters that are not found already  \n",
        "         # in &quot;match&quot;."
      ],
      "metadata": {
        "id": "LAVOmrNu4v1X"
      }
    },
    {
      "cell_type": "code",
      "source": [
        "def letters(word1,word2):\n",
        "  word1 = set(word1)\n",
        "  word2 = set(word2)\n",
        "  result = []\n",
        "  for i in word1:\n",
        "    if i in word2:\n",
        "      "
      ],
      "metadata": {
        "id": "BxwC6QEg_Ivi"
      },
      "execution_count": null,
      "outputs": []
    },
    {
      "cell_type": "code",
      "source": [
        ""
      ],
      "metadata": {
        "id": "SkK84HFP_I8I"
      },
      "execution_count": null,
      "outputs": []
    },
    {
      "cell_type": "code",
      "source": [
        ""
      ],
      "metadata": {
        "id": "LXRXt6Mr_JLf"
      },
      "execution_count": null,
      "outputs": []
    },
    {
      "cell_type": "code",
      "source": [
        ""
      ],
      "metadata": {
        "id": "yvVSCDic_JaG"
      },
      "execution_count": null,
      "outputs": []
    },
    {
      "cell_type": "code",
      "source": [
        ""
      ],
      "metadata": {
        "id": "1EqZvR1L_Jn0"
      },
      "execution_count": null,
      "outputs": []
    },
    {
      "cell_type": "markdown",
      "source": [
        "**3. Write a function that pairs the first number in an array with the last, the second number with the second to last, etc.**  \n",
        ">**Examples**  \n",
        "pairs([1, 2, 3, 4, 5, 6, 7]) ➞ [[1, 7], [2, 6], [3, 5], [4, 4]]  \n",
        "pairs([1, 2, 3, 4, 5, 6]) ➞ [[1, 6], [2, 5], [3, 4]]  \n",
        "pairs([5, 9, 8, 1, 2]) ➞ [[5, 2], [9, 1], [8, 8]] \n",
        "pairs([]) ➞ []  "
      ],
      "metadata": {
        "id": "zula_apO4wH8"
      }
    },
    {
      "cell_type": "code",
      "source": [
        "def pairs(lis):\n",
        "  pair_list=[]\n",
        "  for i in range(int((len(lis)+1)/2)):\n",
        "    pair_list.append((lis[i],lis[-(i+1)]))\n",
        "  return pair_list"
      ],
      "metadata": {
        "id": "zqT12gkZB3Kh"
      },
      "execution_count": null,
      "outputs": []
    },
    {
      "cell_type": "code",
      "source": [
        "pairs([1, 2, 3, 4, 5, 6, 7])"
      ],
      "metadata": {
        "colab": {
          "base_uri": "https://localhost:8080/"
        },
        "id": "xqXnkOXNB3Wy",
        "outputId": "00537d08-e8fa-4ad9-e1dc-59af52b4ecdf"
      },
      "execution_count": null,
      "outputs": [
        {
          "output_type": "execute_result",
          "data": {
            "text/plain": [
              "[(1, 7), (2, 6), (3, 5), (4, 4)]"
            ]
          },
          "metadata": {},
          "execution_count": 20
        }
      ]
    },
    {
      "cell_type": "code",
      "source": [
        "pairs([1, 2, 3, 4, 5, 6])"
      ],
      "metadata": {
        "colab": {
          "base_uri": "https://localhost:8080/"
        },
        "id": "mpmv2zjZB3nI",
        "outputId": "60d78e48-85c3-4d88-9c4c-7d06e7e0516f"
      },
      "execution_count": null,
      "outputs": [
        {
          "output_type": "execute_result",
          "data": {
            "text/plain": [
              "[(1, 6), (2, 5), (3, 4)]"
            ]
          },
          "metadata": {},
          "execution_count": 21
        }
      ]
    },
    {
      "cell_type": "code",
      "source": [
        "pairs([5, 9, 8, 1, 2])"
      ],
      "metadata": {
        "colab": {
          "base_uri": "https://localhost:8080/"
        },
        "id": "njzWC-1xB387",
        "outputId": "58612307-c930-4cda-81e3-3fa4ec79baa8"
      },
      "execution_count": null,
      "outputs": [
        {
          "output_type": "execute_result",
          "data": {
            "text/plain": [
              "[(5, 2), (9, 1), (8, 8)]"
            ]
          },
          "metadata": {},
          "execution_count": 22
        }
      ]
    },
    {
      "cell_type": "code",
      "source": [
        "pairs([])"
      ],
      "metadata": {
        "colab": {
          "base_uri": "https://localhost:8080/"
        },
        "id": "QvIiOkrsB4J8",
        "outputId": "33e06102-9d51-4a79-af78-33ed33e74dde"
      },
      "execution_count": null,
      "outputs": [
        {
          "output_type": "execute_result",
          "data": {
            "text/plain": [
              "[]"
            ]
          },
          "metadata": {},
          "execution_count": 23
        }
      ]
    },
    {
      "cell_type": "code",
      "source": [
        ""
      ],
      "metadata": {
        "id": "5kIg428mLiRD"
      },
      "execution_count": null,
      "outputs": []
    },
    {
      "cell_type": "markdown",
      "source": [
        "**4. Write a function that adds two numbers. The catch however, is that the numbers will be strings.**  \n",
        ">**Examples**  \n",
        "add_str_nums(&quot;4&quot;, &quot;5&quot;) ➞ &quot;9&quot;  \n",
        "add_str_nums(&quot;abcdefg&quot;, &quot;3&quot;) ➞ &quot;-1&quot;  \n",
        "add_str_nums(&quot;1&quot;, &quot;&quot;) ➞ &quot;1&quot;  \n",
        "add_str_nums(&quot;1874682736267235927359283579235789257&quot;,  \n",
        "&quot;32652983572985729&quot;) ➞ &quot;  1874682736267235927391936562808774986&quot;"
      ],
      "metadata": {
        "id": "dkXrxRQg4w3-"
      }
    },
    {
      "cell_type": "code",
      "source": [
        "def add_str_nums(num1,num2):\n",
        "  add = eval(num1+\" + \"+num2)\n",
        "  return add"
      ],
      "metadata": {
        "id": "KHZKpT2AMurt"
      },
      "execution_count": null,
      "outputs": []
    },
    {
      "cell_type": "code",
      "source": [
        "add_str_nums(\"4\", \"5\")"
      ],
      "metadata": {
        "colab": {
          "base_uri": "https://localhost:8080/"
        },
        "id": "tzo6AGp7Mu4L",
        "outputId": "30a7793f-ddcb-4d71-e564-e14db63d88a9"
      },
      "execution_count": null,
      "outputs": [
        {
          "output_type": "execute_result",
          "data": {
            "text/plain": [
              "9"
            ]
          },
          "metadata": {},
          "execution_count": 25
        }
      ]
    },
    {
      "cell_type": "code",
      "source": [
        "add_str_nums(\"abcdefg\", \"3\")"
      ],
      "metadata": {
        "colab": {
          "base_uri": "https://localhost:8080/",
          "height": 294
        },
        "id": "8lXgsJJOMvE7",
        "outputId": "285fed63-b9ad-46ea-9f62-f16d1bcb3934"
      },
      "execution_count": null,
      "outputs": [
        {
          "output_type": "error",
          "ename": "NameError",
          "evalue": "ignored",
          "traceback": [
            "\u001b[0;31m---------------------------------------------------------------------------\u001b[0m",
            "\u001b[0;31mNameError\u001b[0m                                 Traceback (most recent call last)",
            "\u001b[0;32m<ipython-input-26-19d0d5aca27b>\u001b[0m in \u001b[0;36m<module>\u001b[0;34m()\u001b[0m\n\u001b[0;32m----> 1\u001b[0;31m \u001b[0madd_str_nums\u001b[0m\u001b[0;34m(\u001b[0m\u001b[0;34m\"abcdefg\"\u001b[0m\u001b[0;34m,\u001b[0m \u001b[0;34m\"3\"\u001b[0m\u001b[0;34m)\u001b[0m\u001b[0;34m\u001b[0m\u001b[0;34m\u001b[0m\u001b[0m\n\u001b[0m",
            "\u001b[0;32m<ipython-input-24-57837dfc111d>\u001b[0m in \u001b[0;36madd_str_nums\u001b[0;34m(num1, num2)\u001b[0m\n\u001b[1;32m      1\u001b[0m \u001b[0;32mdef\u001b[0m \u001b[0madd_str_nums\u001b[0m\u001b[0;34m(\u001b[0m\u001b[0mnum1\u001b[0m\u001b[0;34m,\u001b[0m\u001b[0mnum2\u001b[0m\u001b[0;34m)\u001b[0m\u001b[0;34m:\u001b[0m\u001b[0;34m\u001b[0m\u001b[0;34m\u001b[0m\u001b[0m\n\u001b[0;32m----> 2\u001b[0;31m   \u001b[0madd\u001b[0m \u001b[0;34m=\u001b[0m \u001b[0meval\u001b[0m\u001b[0;34m(\u001b[0m\u001b[0mnum1\u001b[0m\u001b[0;34m+\u001b[0m\u001b[0;34m\" + \"\u001b[0m\u001b[0;34m+\u001b[0m\u001b[0mnum2\u001b[0m\u001b[0;34m)\u001b[0m\u001b[0;34m\u001b[0m\u001b[0;34m\u001b[0m\u001b[0m\n\u001b[0m\u001b[1;32m      3\u001b[0m   \u001b[0;32mreturn\u001b[0m \u001b[0madd\u001b[0m\u001b[0;34m\u001b[0m\u001b[0;34m\u001b[0m\u001b[0m\n",
            "\u001b[0;32m<string>\u001b[0m in \u001b[0;36m<module>\u001b[0;34m()\u001b[0m\n",
            "\u001b[0;31mNameError\u001b[0m: name 'abcdefg' is not defined"
          ]
        }
      ]
    },
    {
      "cell_type": "code",
      "source": [
        "add_str_nums(\"1\", \"\")"
      ],
      "metadata": {
        "colab": {
          "base_uri": "https://localhost:8080/",
          "height": 133
        },
        "id": "fLluPo2JMvWQ",
        "outputId": "b3bdfb07-c2de-40f1-eab9-588cf756dbb1"
      },
      "execution_count": null,
      "outputs": [
        {
          "output_type": "error",
          "ename": "SyntaxError",
          "evalue": "ignored",
          "traceback": [
            "\u001b[0;36m  File \u001b[0;32m\"<string>\"\u001b[0;36m, line \u001b[0;32m1\u001b[0m\n\u001b[0;31m    1 +\u001b[0m\n\u001b[0m       ^\u001b[0m\n\u001b[0;31mSyntaxError\u001b[0m\u001b[0;31m:\u001b[0m unexpected EOF while parsing\n"
          ]
        }
      ]
    },
    {
      "cell_type": "code",
      "source": [
        "add_str_nums(\"1874682736267235927359283579235789257\",\"32652983572985729\")"
      ],
      "metadata": {
        "colab": {
          "base_uri": "https://localhost:8080/"
        },
        "id": "4r4cxj6nMxht",
        "outputId": "9a385980-9a2f-40e7-ef00-89101e7464c2"
      },
      "execution_count": null,
      "outputs": [
        {
          "output_type": "execute_result",
          "data": {
            "text/plain": [
              "1874682736267235927391936562808774986"
            ]
          },
          "metadata": {},
          "execution_count": 28
        }
      ]
    },
    {
      "cell_type": "code",
      "source": [
        ""
      ],
      "metadata": {
        "id": "T4VzX7unMxvi"
      },
      "execution_count": null,
      "outputs": []
    },
    {
      "cell_type": "markdown",
      "source": [
        "**5. lPaeesh le pemu mnxit ehess rtnisg! Oh, sorry, that was supposed to say: Please help me unmix these strings! Somehow my strings have all become mixed up; every pair of characters has been swapped. Help me undo this so I can understand my strings again.**  \n",
        ">**Examples**  \n",
        "unmix(&quot;123456&quot;) ➞ &quot;214365&quot;  \n",
        "unmix(&quot;hTsii s aimex dpus rtni.g&quot;) ➞ &quot;This is a mixed up string.&quot;  \n",
        "unmix(&quot;badce&quot;) ➞ &quot;abcde&quot;  "
      ],
      "metadata": {
        "id": "KtqQHvPR4xGH"
      }
    },
    {
      "cell_type": "code",
      "source": [
        ""
      ],
      "metadata": {
        "id": "XxjV01by7Wfy"
      },
      "execution_count": null,
      "outputs": []
    }
  ]
}