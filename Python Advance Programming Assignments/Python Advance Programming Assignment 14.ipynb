{
 "cells": [
  {
   "cell_type": "markdown",
   "metadata": {
    "id": "Vg-XpmyT4Fbn"
   },
   "source": [
    "# Advance Programming Assignment 14\n"
   ]
  },
  {
   "cell_type": "markdown",
   "metadata": {
    "id": "3-dWzJin4CID"
   },
   "source": [
    "**1. Given a list of numbers, create a function that removes 25% from every number in the list except the smallest number, and adds the total amount removed to the smallest number.**  \n",
    "> **Examples**  \n",
    "show_the_love([4, 1, 4]) ➞ [3, 3, 3]  \n",
    "show_the_love([16, 10, 8]) ➞ [12, 7.5, 14.5]  \n",
    "show_the_love([2, 100]) ➞ [27, 75]\n",
    "\n",
    "\n",
    "\n"
   ]
  },
  {
   "cell_type": "code",
   "execution_count": 1,
   "metadata": {
    "id": "lOdKqT9h7Z1n"
   },
   "outputs": [],
   "source": [
    "def show_the_love(num_list):\n",
    "    min_index = num_list.index(min(num_list))\n",
    "    for i in range(len(num_list)):\n",
    "        if i != min_index:\n",
    "            num_list[min_index] = num_list[min_index] + 0.25*num_list[i]\n",
    "            num_list[i] = 0.75 * num_list[i]\n",
    "    return num_list"
   ]
  },
  {
   "cell_type": "code",
   "execution_count": 2,
   "metadata": {
    "colab": {
     "base_uri": "https://localhost:8080/"
    },
    "id": "pkhVCWgG7aAx",
    "outputId": "7422321a-babb-4ebb-af98-9ca09756f117"
   },
   "outputs": [
    {
     "data": {
      "text/plain": [
       "[3.0, 3.0, 3.0]"
      ]
     },
     "execution_count": 2,
     "metadata": {},
     "output_type": "execute_result"
    }
   ],
   "source": [
    "show_the_love([4, 1, 4])"
   ]
  },
  {
   "cell_type": "code",
   "execution_count": 3,
   "metadata": {
    "colab": {
     "base_uri": "https://localhost:8080/"
    },
    "id": "WT6N8rEU7aLQ",
    "outputId": "afef610b-35be-43f0-a042-d95647ca52dc"
   },
   "outputs": [
    {
     "data": {
      "text/plain": [
       "[12.0, 7.5, 14.5]"
      ]
     },
     "execution_count": 3,
     "metadata": {},
     "output_type": "execute_result"
    }
   ],
   "source": [
    "show_the_love([16, 10, 8])"
   ]
  },
  {
   "cell_type": "code",
   "execution_count": 4,
   "metadata": {
    "colab": {
     "base_uri": "https://localhost:8080/"
    },
    "id": "KG0qrYtm7aaO",
    "outputId": "3d769a84-d98c-44ab-ae77-714b9688de03"
   },
   "outputs": [
    {
     "data": {
      "text/plain": [
       "[27.0, 75.0]"
      ]
     },
     "execution_count": 4,
     "metadata": {},
     "output_type": "execute_result"
    }
   ],
   "source": [
    "show_the_love([2, 100])"
   ]
  },
  {
   "cell_type": "code",
   "execution_count": null,
   "metadata": {
    "id": "McwH1-Np7a9a"
   },
   "outputs": [],
   "source": []
  },
  {
   "cell_type": "markdown",
   "metadata": {
    "id": "LAVOmrNu4v1X"
   },
   "source": [
    "**2. Create a function that takes in two words as input and returns a list of three elements, in the following order:**  \n",
    "  1. **Shared letters between two words.**  \n",
    "  2. **Letters unique to word 1.**  \n",
    "  3. **Letters unique to word 2.**  \n",
    "**Each element should have unique letters, and have each letter be alphabetically sorted.**  \n",
    "> **Examples**  \n",
    "letters(\"sharp\", \"soap\") ➞ [\"aps\", \"hr\", \"o\"]  \n",
    "letters(\"board\", \"bored\") ➞ [\"bdor\", \"a\", \"e\"]  \n",
    "letters(\"happiness\", \"envelope\") ➞ [\"enp\", \"ahis\", \"lov\"]  \n",
    "letters(\"kerfuffle\", \"fluffy\") ➞ [\"flu\", \"ekr\", \"y\"]  \n",
    "    --> # Even with multiple matching letters (e.g. 3 f's), there should only exist a single \"f\" in your first element.  \n",
    "letters(\"match\", \"ham\") ➞ [\"ahm\", \"ct\", \"\"]  \n",
    "    --> # \"ham\" does not contain any letters that are not found already in \"match\".\n"
   ]
  },
  {
   "cell_type": "code",
   "execution_count": 41,
   "metadata": {
    "id": "BxwC6QEg_Ivi"
   },
   "outputs": [],
   "source": [
    "def letters(word1,word2):\n",
    "    word1 = set(word1)\n",
    "    word2 = set(word2)\n",
    "    shared = \"\".join(sorted(list(word1.intersection(word2))))\n",
    "    word1_only = \"\".join(sorted(list(word1.difference(word2))))\n",
    "    word2_only = \"\".join(sorted(list(word2.difference(word1))))\n",
    "    \n",
    "    return [shared,word1_only,word2_only]"
   ]
  },
  {
   "cell_type": "code",
   "execution_count": 42,
   "metadata": {
    "id": "SkK84HFP_I8I"
   },
   "outputs": [
    {
     "data": {
      "text/plain": [
       "['aps', 'hr', 'o']"
      ]
     },
     "execution_count": 42,
     "metadata": {},
     "output_type": "execute_result"
    }
   ],
   "source": [
    "letters(\"sharp\", \"soap\")"
   ]
  },
  {
   "cell_type": "code",
   "execution_count": 43,
   "metadata": {
    "id": "LXRXt6Mr_JLf"
   },
   "outputs": [
    {
     "data": {
      "text/plain": [
       "['bdor', 'a', 'e']"
      ]
     },
     "execution_count": 43,
     "metadata": {},
     "output_type": "execute_result"
    }
   ],
   "source": [
    "letters(\"board\", \"bored\") "
   ]
  },
  {
   "cell_type": "code",
   "execution_count": 44,
   "metadata": {
    "id": "yvVSCDic_JaG"
   },
   "outputs": [
    {
     "data": {
      "text/plain": [
       "['enp', 'ahis', 'lov']"
      ]
     },
     "execution_count": 44,
     "metadata": {},
     "output_type": "execute_result"
    }
   ],
   "source": [
    "letters(\"happiness\", \"envelope\")"
   ]
  },
  {
   "cell_type": "code",
   "execution_count": 45,
   "metadata": {
    "id": "1EqZvR1L_Jn0"
   },
   "outputs": [
    {
     "data": {
      "text/plain": [
       "['flu', 'ekr', 'y']"
      ]
     },
     "execution_count": 45,
     "metadata": {},
     "output_type": "execute_result"
    }
   ],
   "source": [
    "letters(\"kerfuffle\", \"fluffy\") "
   ]
  },
  {
   "cell_type": "code",
   "execution_count": 46,
   "metadata": {},
   "outputs": [
    {
     "data": {
      "text/plain": [
       "['ahm', 'ct', '']"
      ]
     },
     "execution_count": 46,
     "metadata": {},
     "output_type": "execute_result"
    }
   ],
   "source": [
    "letters(\"match\", \"ham\") "
   ]
  },
  {
   "cell_type": "code",
   "execution_count": null,
   "metadata": {},
   "outputs": [],
   "source": []
  },
  {
   "cell_type": "markdown",
   "metadata": {
    "id": "zula_apO4wH8"
   },
   "source": [
    "**3. Write a function that pairs the first number in an array with the last, the second number with the second to last, etc.**  \n",
    ">**Examples**  \n",
    "pairs([1, 2, 3, 4, 5, 6, 7]) ➞ [[1, 7], [2, 6], [3, 5], [4, 4]]  \n",
    "pairs([1, 2, 3, 4, 5, 6]) ➞ [[1, 6], [2, 5], [3, 4]]  \n",
    "pairs([5, 9, 8, 1, 2]) ➞ [[5, 2], [9, 1], [8, 8]] \n",
    "pairs([]) ➞ []  "
   ]
  },
  {
   "cell_type": "code",
   "execution_count": 7,
   "metadata": {
    "id": "zqT12gkZB3Kh"
   },
   "outputs": [],
   "source": [
    "def pairs(lis):\n",
    "    pair_list=[]\n",
    "    for i in range(int((len(lis)+1)/2)):\n",
    "        pair_list.append((lis[i],lis[-(i+1)]))\n",
    "    return pair_list"
   ]
  },
  {
   "cell_type": "code",
   "execution_count": 8,
   "metadata": {
    "colab": {
     "base_uri": "https://localhost:8080/"
    },
    "id": "xqXnkOXNB3Wy",
    "outputId": "00537d08-e8fa-4ad9-e1dc-59af52b4ecdf"
   },
   "outputs": [
    {
     "data": {
      "text/plain": [
       "[(1, 7), (2, 6), (3, 5), (4, 4)]"
      ]
     },
     "execution_count": 8,
     "metadata": {},
     "output_type": "execute_result"
    }
   ],
   "source": [
    "pairs([1, 2, 3, 4, 5, 6, 7])"
   ]
  },
  {
   "cell_type": "code",
   "execution_count": 9,
   "metadata": {
    "colab": {
     "base_uri": "https://localhost:8080/"
    },
    "id": "mpmv2zjZB3nI",
    "outputId": "60d78e48-85c3-4d88-9c4c-7d06e7e0516f"
   },
   "outputs": [
    {
     "data": {
      "text/plain": [
       "[(1, 6), (2, 5), (3, 4)]"
      ]
     },
     "execution_count": 9,
     "metadata": {},
     "output_type": "execute_result"
    }
   ],
   "source": [
    "pairs([1, 2, 3, 4, 5, 6])"
   ]
  },
  {
   "cell_type": "code",
   "execution_count": 10,
   "metadata": {
    "colab": {
     "base_uri": "https://localhost:8080/"
    },
    "id": "njzWC-1xB387",
    "outputId": "58612307-c930-4cda-81e3-3fa4ec79baa8"
   },
   "outputs": [
    {
     "data": {
      "text/plain": [
       "[(5, 2), (9, 1), (8, 8)]"
      ]
     },
     "execution_count": 10,
     "metadata": {},
     "output_type": "execute_result"
    }
   ],
   "source": [
    "pairs([5, 9, 8, 1, 2])"
   ]
  },
  {
   "cell_type": "code",
   "execution_count": 11,
   "metadata": {
    "colab": {
     "base_uri": "https://localhost:8080/"
    },
    "id": "QvIiOkrsB4J8",
    "outputId": "33e06102-9d51-4a79-af78-33ed33e74dde"
   },
   "outputs": [
    {
     "data": {
      "text/plain": [
       "[]"
      ]
     },
     "execution_count": 11,
     "metadata": {},
     "output_type": "execute_result"
    }
   ],
   "source": [
    "pairs([])"
   ]
  },
  {
   "cell_type": "code",
   "execution_count": null,
   "metadata": {
    "id": "5kIg428mLiRD"
   },
   "outputs": [],
   "source": []
  },
  {
   "cell_type": "markdown",
   "metadata": {
    "id": "dkXrxRQg4w3-"
   },
   "source": [
    "**4. Write a function that adds two numbers. The catch however, is that the numbers will be strings.**  \n",
    ">**Examples**  \n",
    "add_str_nums(&quot;4&quot;, &quot;5&quot;) ➞ &quot;9&quot;  \n",
    "add_str_nums(&quot;abcdefg&quot;, &quot;3&quot;) ➞ &quot;-1&quot;  \n",
    "add_str_nums(&quot;1&quot;, &quot;&quot;) ➞ &quot;1&quot;  \n",
    "add_str_nums(&quot;1874682736267235927359283579235789257&quot;,  \n",
    "&quot;32652983572985729&quot;) ➞ &quot;  1874682736267235927391936562808774986&quot;"
   ]
  },
  {
   "cell_type": "code",
   "execution_count": 62,
   "metadata": {
    "id": "KHZKpT2AMurt"
   },
   "outputs": [],
   "source": [
    "import re\n",
    "def add_str_nums(num1,num2):\n",
    "    if num1 ==\"\":\n",
    "        num1=\"0\"\n",
    "    elif num2 == \"\":\n",
    "        num2=\"0\"\n",
    "        \n",
    "    if re.search(\"[\\d]+\",num1) and re.search(\"[\\d]+\",num1):\n",
    "        add = str(eval(num1+\"+\"+num2))\n",
    "    else:\n",
    "        add = \"-1\"\n",
    "    return add"
   ]
  },
  {
   "cell_type": "code",
   "execution_count": 63,
   "metadata": {
    "colab": {
     "base_uri": "https://localhost:8080/"
    },
    "id": "tzo6AGp7Mu4L",
    "outputId": "30a7793f-ddcb-4d71-e564-e14db63d88a9"
   },
   "outputs": [
    {
     "data": {
      "text/plain": [
       "'9'"
      ]
     },
     "execution_count": 63,
     "metadata": {},
     "output_type": "execute_result"
    }
   ],
   "source": [
    "add_str_nums(\"4\", \"5\")"
   ]
  },
  {
   "cell_type": "code",
   "execution_count": 64,
   "metadata": {
    "colab": {
     "base_uri": "https://localhost:8080/",
     "height": 294
    },
    "id": "8lXgsJJOMvE7",
    "outputId": "285fed63-b9ad-46ea-9f62-f16d1bcb3934"
   },
   "outputs": [
    {
     "data": {
      "text/plain": [
       "'-1'"
      ]
     },
     "execution_count": 64,
     "metadata": {},
     "output_type": "execute_result"
    }
   ],
   "source": [
    "add_str_nums(\"abcdefg\", \"3\")"
   ]
  },
  {
   "cell_type": "code",
   "execution_count": 65,
   "metadata": {
    "colab": {
     "base_uri": "https://localhost:8080/",
     "height": 133
    },
    "id": "fLluPo2JMvWQ",
    "outputId": "b3bdfb07-c2de-40f1-eab9-588cf756dbb1"
   },
   "outputs": [
    {
     "data": {
      "text/plain": [
       "'1'"
      ]
     },
     "execution_count": 65,
     "metadata": {},
     "output_type": "execute_result"
    }
   ],
   "source": [
    "add_str_nums(\"1\", \"\")"
   ]
  },
  {
   "cell_type": "code",
   "execution_count": 66,
   "metadata": {
    "colab": {
     "base_uri": "https://localhost:8080/"
    },
    "id": "4r4cxj6nMxht",
    "outputId": "9a385980-9a2f-40e7-ef00-89101e7464c2"
   },
   "outputs": [
    {
     "data": {
      "text/plain": [
       "'1874682736267235927391936562808774986'"
      ]
     },
     "execution_count": 66,
     "metadata": {},
     "output_type": "execute_result"
    }
   ],
   "source": [
    "add_str_nums(\"1874682736267235927359283579235789257\",\"32652983572985729\")"
   ]
  },
  {
   "cell_type": "code",
   "execution_count": null,
   "metadata": {
    "id": "T4VzX7unMxvi"
   },
   "outputs": [],
   "source": []
  },
  {
   "cell_type": "markdown",
   "metadata": {
    "id": "KtqQHvPR4xGH"
   },
   "source": [
    "**5. lPaeesh le pemu mnxit ehess rtnisg! Oh, sorry, that was supposed to say: Please help me unmix these strings! Somehow my strings have all become mixed up; every pair of characters has been swapped. Help me undo this so I can understand my strings again.**  \n",
    ">**Examples**  \n",
    "unmix(\"123456\") ➞ \"214365\"  \n",
    "unmix(\"hTsii  s aimex dpus rtni.g\") ➞ \"This is a mixed up string.\"  \n",
    "unmix(\"badce\") ➞ \"abcde\"  "
   ]
  },
  {
   "cell_type": "code",
   "execution_count": 69,
   "metadata": {
    "id": "XxjV01by7Wfy"
   },
   "outputs": [],
   "source": [
    "def unmix(mixed):\n",
    "    strng = list(mixed)\n",
    "    for i in range(0,len(strng)-1,2):\n",
    "        strng[i],strng[i+1]=strng[i+1],strng[i]\n",
    "    return \"\".join(strng)"
   ]
  },
  {
   "cell_type": "code",
   "execution_count": 70,
   "metadata": {},
   "outputs": [
    {
     "data": {
      "text/plain": [
       "'214365'"
      ]
     },
     "execution_count": 70,
     "metadata": {},
     "output_type": "execute_result"
    }
   ],
   "source": [
    "unmix(\"123456\")   "
   ]
  },
  {
   "cell_type": "code",
   "execution_count": 75,
   "metadata": {},
   "outputs": [
    {
     "data": {
      "text/plain": [
       "'This is a mixed up string.'"
      ]
     },
     "execution_count": 75,
     "metadata": {},
     "output_type": "execute_result"
    }
   ],
   "source": [
    "unmix(\"hTsii  s aimex dpus rtni.g\")"
   ]
  },
  {
   "cell_type": "code",
   "execution_count": 72,
   "metadata": {},
   "outputs": [
    {
     "data": {
      "text/plain": [
       "'abcde'"
      ]
     },
     "execution_count": 72,
     "metadata": {},
     "output_type": "execute_result"
    }
   ],
   "source": [
    "unmix(\"badce\")"
   ]
  },
  {
   "cell_type": "code",
   "execution_count": 74,
   "metadata": {},
   "outputs": [
    {
     "data": {
      "text/plain": [
       "'Please help me unmix these strings!'"
      ]
     },
     "execution_count": 74,
     "metadata": {},
     "output_type": "execute_result"
    }
   ],
   "source": [
    "unmix(\"lPaeesh le pemu mnxit ehess rtnisg!\")"
   ]
  },
  {
   "cell_type": "code",
   "execution_count": null,
   "metadata": {},
   "outputs": [],
   "source": []
  }
 ],
 "metadata": {
  "colab": {
   "collapsed_sections": [],
   "name": "Python Advance Programming Assignment 14.ipynb",
   "provenance": []
  },
  "kernelspec": {
   "display_name": "Python 3 (ipykernel)",
   "language": "python",
   "name": "python3"
  },
  "language_info": {
   "codemirror_mode": {
    "name": "ipython",
    "version": 3
   },
   "file_extension": ".py",
   "mimetype": "text/x-python",
   "name": "python",
   "nbconvert_exporter": "python",
   "pygments_lexer": "ipython3",
   "version": "3.9.12"
  }
 },
 "nbformat": 4,
 "nbformat_minor": 1
}
