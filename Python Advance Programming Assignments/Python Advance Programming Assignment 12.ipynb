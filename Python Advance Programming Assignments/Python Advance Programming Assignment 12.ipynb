{
 "cells": [
  {
   "cell_type": "markdown",
   "id": "72fc5376",
   "metadata": {},
   "source": [
    "# Advance Programming Assignment 12"
   ]
  },
  {
   "cell_type": "markdown",
   "id": "ff80491a",
   "metadata": {},
   "source": [
    "**1. For this challenge, forget how to add two numbers together. The best explanation on what to do for this function is this meme:**\n",
    "\n",
    "> **Examples**  \n",
    "meme_sum(26, 39) ➞ 515  \n",
    "    # 2+3 = 5, 6+9 = 15  \n",
    "    # 26 + 39 = 515  \n",
    "meme_sum(122, 81) ➞ 1103    \n",
    "    # 1+0 = 1, 2+8 = 10, 2+1 = 3  \n",
    "    # 122 + 81 = 1103  \n",
    "meme_sum(1222, 30277) ➞ 31499  "
   ]
  },
  {
   "cell_type": "code",
   "execution_count": 4,
   "id": "ba4ab2a4",
   "metadata": {},
   "outputs": [],
   "source": [
    "def meme_sum(a,b):\n",
    "    max_ = max(a,b)\n",
    "    sum_ = \"\"\n",
    "    if max_== b:\n",
    "        while b>0:\n",
    "            rem1 = b%10\n",
    "            rem2 = a%10\n",
    "            sum_ = str(rem1+rem2)+sum_\n",
    "            a//=10\n",
    "            b//=10\n",
    "    else:\n",
    "        while a>0:\n",
    "            rem1 = b%10\n",
    "            rem2 = a%10\n",
    "            sum_ = str(rem1+rem2)+sum_\n",
    "            a//=10\n",
    "            b//=10\n",
    "    return int(sum_)"
   ]
  },
  {
   "cell_type": "code",
   "execution_count": 5,
   "id": "ba550d10",
   "metadata": {},
   "outputs": [
    {
     "data": {
      "text/plain": [
       "515"
      ]
     },
     "execution_count": 5,
     "metadata": {},
     "output_type": "execute_result"
    }
   ],
   "source": [
    "meme_sum(26, 39)"
   ]
  },
  {
   "cell_type": "code",
   "execution_count": 6,
   "id": "71917f86",
   "metadata": {},
   "outputs": [
    {
     "data": {
      "text/plain": [
       "1103"
      ]
     },
     "execution_count": 6,
     "metadata": {},
     "output_type": "execute_result"
    }
   ],
   "source": [
    "meme_sum(122, 81)"
   ]
  },
  {
   "cell_type": "code",
   "execution_count": 7,
   "id": "5bc76cab",
   "metadata": {},
   "outputs": [
    {
     "data": {
      "text/plain": [
       "31499"
      ]
     },
     "execution_count": 7,
     "metadata": {},
     "output_type": "execute_result"
    }
   ],
   "source": [
    "meme_sum(1222, 30277)"
   ]
  },
  {
   "cell_type": "code",
   "execution_count": null,
   "id": "2c293ab2",
   "metadata": {},
   "outputs": [],
   "source": []
  },
  {
   "cell_type": "markdown",
   "id": "74bd3cbb",
   "metadata": {},
   "source": [
    "**2. Given an integer, create a function that returns the next prime. If the number is prime, return the number itself.**  \n",
    "\n",
    "> **Examples**  \n",
    "next_prime(12) ➞ 13  \n",
    "next_prime(24) ➞ 29  \n",
    "next_prime(11) ➞ 11  \n",
    "    # 11 is a prime, so we return the number itself."
   ]
  },
  {
   "cell_type": "code",
   "execution_count": 18,
   "id": "9b1b843b",
   "metadata": {},
   "outputs": [],
   "source": [
    "def check_prime(x):\n",
    "    if x==2:\n",
    "        return True\n",
    "    elif x==0 or x==1:\n",
    "        return False\n",
    "    elif x%2!=0:\n",
    "        for i in range(3,x,2):\n",
    "            if x%i == 0:\n",
    "                return False\n",
    "        return True\n",
    "    else:\n",
    "        return False\n",
    "    \n",
    "def next_prime(n):\n",
    "    while True:\n",
    "        if check_prime(n) == True:\n",
    "            return n\n",
    "        else:\n",
    "            n+=1"
   ]
  },
  {
   "cell_type": "code",
   "execution_count": 19,
   "id": "091a2fab",
   "metadata": {},
   "outputs": [
    {
     "data": {
      "text/plain": [
       "13"
      ]
     },
     "execution_count": 19,
     "metadata": {},
     "output_type": "execute_result"
    }
   ],
   "source": [
    "next_prime(12)"
   ]
  },
  {
   "cell_type": "code",
   "execution_count": 20,
   "id": "86aa62dd",
   "metadata": {},
   "outputs": [
    {
     "data": {
      "text/plain": [
       "29"
      ]
     },
     "execution_count": 20,
     "metadata": {},
     "output_type": "execute_result"
    }
   ],
   "source": [
    "next_prime(24)"
   ]
  },
  {
   "cell_type": "code",
   "execution_count": 21,
   "id": "a40c157c",
   "metadata": {},
   "outputs": [
    {
     "data": {
      "text/plain": [
       "11"
      ]
     },
     "execution_count": 21,
     "metadata": {},
     "output_type": "execute_result"
    }
   ],
   "source": [
    "next_prime(11)"
   ]
  },
  {
   "cell_type": "code",
   "execution_count": null,
   "id": "27e74829",
   "metadata": {},
   "outputs": [],
   "source": []
  },
  {
   "cell_type": "markdown",
   "id": "340baf34",
   "metadata": {},
   "source": [
    "**3. If a person traveled up a hill for 18mins at 20mph and then traveled back down the same path at 60mph then their average speed traveled was 30mph.  \n",
    "Write a function that returns the average speed traveled given an uphill time, uphill rate and a downhill rate. Uphill time is given in minutes. Return the rate as an integer (mph). No rounding is necessary.**  \n",
    "\n",
    "> **Examples**  \n",
    "ave_spd(18, 20, 60) ➞ 30  \n",
    "ave_spd(30, 10, 30) ➞ 15  \n",
    "ave_spd(30, 8, 24) ➞ 12  "
   ]
  },
  {
   "cell_type": "code",
   "execution_count": 22,
   "id": "2fe817ec",
   "metadata": {},
   "outputs": [],
   "source": [
    "def ave_spd(uphill_time, uphill_rate, downhill_rate):\n",
    "    uphill_time_hrs = uphill_time/60\n",
    "    distance = uphill_time_hrs*uphill_rate\n",
    "    downhill_time = distance/downhill_rate\n",
    "    \n",
    "    average_speed = (2*distance)/(uphill_time_hrs+downhill_time)\n",
    "    return average_speed"
   ]
  },
  {
   "cell_type": "code",
   "execution_count": 23,
   "id": "195459fe",
   "metadata": {},
   "outputs": [
    {
     "data": {
      "text/plain": [
       "30.0"
      ]
     },
     "execution_count": 23,
     "metadata": {},
     "output_type": "execute_result"
    }
   ],
   "source": [
    "ave_spd(18, 20, 60)"
   ]
  },
  {
   "cell_type": "code",
   "execution_count": 24,
   "id": "346291ae",
   "metadata": {},
   "outputs": [
    {
     "data": {
      "text/plain": [
       "15.0"
      ]
     },
     "execution_count": 24,
     "metadata": {},
     "output_type": "execute_result"
    }
   ],
   "source": [
    "ave_spd(30, 10, 30)"
   ]
  },
  {
   "cell_type": "code",
   "execution_count": 25,
   "id": "0e485a1e",
   "metadata": {},
   "outputs": [
    {
     "data": {
      "text/plain": [
       "12.0"
      ]
     },
     "execution_count": 25,
     "metadata": {},
     "output_type": "execute_result"
    }
   ],
   "source": [
    "ave_spd(30, 8, 24)"
   ]
  },
  {
   "cell_type": "code",
   "execution_count": null,
   "id": "8f1fed1b",
   "metadata": {},
   "outputs": [],
   "source": []
  },
  {
   "cell_type": "markdown",
   "id": "fad2287b",
   "metadata": {},
   "source": [
    "**4. The Kempner Function, applied to a composite number, permits to find the smallest integer greater than zero whose factorial is exactly divided by the number.**  \n",
    "\n",
    "kempner(6) ➞ 3  \n",
    "\n",
    "1! = 1 % 6 > 0  \n",
    "2! = 2 % 6 > 0  \n",
    "3! = 6 % 6 === 0  \n",
    "\n",
    "kempner(10) ➞ 5  \n",
    "\n",
    "1! = 1 % 10 > 0  \n",
    "2! = 2 % 10 > 0  \n",
    "3! = 6 % 10 > 0  \n",
    "4! = 24 % 10 > 0  \n",
    "5! = 120 % 10 === 0  \n",
    "\n",
    "A Kempner Function applied to a prime will always return the prime itself.  \n",
    "\n",
    "kempner(2) ➞ 2  \n",
    "kempner(5) ➞ 5  \n",
    "\n",
    "Given an integer n, implement a Kempner Function.  \n",
    "\n",
    "> **Examples**  \n",
    "kempner(6) ➞ 3  \n",
    "kempner(10) ➞ 5  \n",
    "kempner(2) ➞ 2  "
   ]
  },
  {
   "cell_type": "code",
   "execution_count": 29,
   "id": "3112696c",
   "metadata": {},
   "outputs": [],
   "source": [
    "def factorial(x):\n",
    "    fact = 1\n",
    "    for i in range(1,x+1):\n",
    "        fact = fact*i\n",
    "    return fact\n",
    "\n",
    "def kempner(n):\n",
    "    k=1\n",
    "    while True:\n",
    "        if factorial(k)%n==0:\n",
    "            return k\n",
    "        else:\n",
    "            k+=1"
   ]
  },
  {
   "cell_type": "code",
   "execution_count": 30,
   "id": "23e929a9",
   "metadata": {},
   "outputs": [
    {
     "data": {
      "text/plain": [
       "3"
      ]
     },
     "execution_count": 30,
     "metadata": {},
     "output_type": "execute_result"
    }
   ],
   "source": [
    "kempner(6)"
   ]
  },
  {
   "cell_type": "code",
   "execution_count": 31,
   "id": "d099cfe0",
   "metadata": {},
   "outputs": [
    {
     "data": {
      "text/plain": [
       "5"
      ]
     },
     "execution_count": 31,
     "metadata": {},
     "output_type": "execute_result"
    }
   ],
   "source": [
    "kempner(10)"
   ]
  },
  {
   "cell_type": "code",
   "execution_count": 32,
   "id": "67f5c4a5",
   "metadata": {},
   "outputs": [
    {
     "data": {
      "text/plain": [
       "2"
      ]
     },
     "execution_count": 32,
     "metadata": {},
     "output_type": "execute_result"
    }
   ],
   "source": [
    "kempner(2)"
   ]
  },
  {
   "cell_type": "code",
   "execution_count": null,
   "id": "22a100f2",
   "metadata": {},
   "outputs": [],
   "source": []
  },
  {
   "cell_type": "markdown",
   "id": "ce4f74f6",
   "metadata": {},
   "source": [
    "**5. You work in a factory, and your job is to take items from a conveyor belt and pack them into boxes. Each box can hold a maximum of 10 kgs. Given a list containing the weight (in kg) of each item, how many boxes would you need to pack all of the items?**  \n",
    "\n",
    "> **Example**  \n",
    "boxes([2, 1, 2, 5, 4, 3, 6, 1, 1, 9, 3, 2]) ➞ 5  \n",
    "    # Box 1 = [2, 1, 2, 5] (10kg)  \n",
    "    # Box 2 = [4, 3] (7kg)  \n",
    "    # Box 3 = [6, 1, 1] (8kg)  \n",
    "    # Box 4 = [9] (9kg)  \n",
    "    # Box 5 = [3, 2] (5kg)  \n"
   ]
  },
  {
   "cell_type": "code",
   "execution_count": 62,
   "id": "c30907d2",
   "metadata": {},
   "outputs": [],
   "source": [
    "def boxes(items_weight):\n",
    "    weight = 0\n",
    "    box = 0\n",
    "    i=0\n",
    "    while i < len(items_weight):\n",
    "        weight = weight + items_weight[i]\n",
    "        if i == len(items_weight)-1:\n",
    "            box+=1\n",
    "        elif weight + items_weight[i+1] > 10:\n",
    "            box+=1\n",
    "            weight = 0\n",
    "        i+=1\n",
    "    return box\n",
    "            "
   ]
  },
  {
   "cell_type": "code",
   "execution_count": 63,
   "id": "4c8ddeb6",
   "metadata": {},
   "outputs": [
    {
     "data": {
      "text/plain": [
       "5"
      ]
     },
     "execution_count": 63,
     "metadata": {},
     "output_type": "execute_result"
    }
   ],
   "source": [
    "boxes([2, 1, 2, 5, 4, 3, 6, 1, 1, 9, 3, 2])"
   ]
  },
  {
   "cell_type": "code",
   "execution_count": null,
   "id": "bd6bdffc",
   "metadata": {},
   "outputs": [],
   "source": []
  }
 ],
 "metadata": {
  "kernelspec": {
   "display_name": "Python 3 (ipykernel)",
   "language": "python",
   "name": "python3"
  },
  "language_info": {
   "codemirror_mode": {
    "name": "ipython",
    "version": 3
   },
   "file_extension": ".py",
   "mimetype": "text/x-python",
   "name": "python",
   "nbconvert_exporter": "python",
   "pygments_lexer": "ipython3",
   "version": "3.9.12"
  }
 },
 "nbformat": 4,
 "nbformat_minor": 5
}
