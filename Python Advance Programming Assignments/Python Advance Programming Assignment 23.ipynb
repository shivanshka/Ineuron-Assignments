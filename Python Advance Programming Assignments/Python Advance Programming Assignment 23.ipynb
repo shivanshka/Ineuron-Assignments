{
 "cells": [
  {
   "cell_type": "markdown",
   "id": "02ad5e89",
   "metadata": {},
   "source": [
    "# Advance Programming Assignment 23"
   ]
  },
  {
   "attachments": {
    "image.png": {
     "image/png": "[encoded data removed]"
    }
   },
   "cell_type": "markdown",
   "id": "668b6cc7",
   "metadata": {},
   "source": [
    "**1. Create a class Sudoku that takes a string as an argument. The string will contain the numbers of a regular 9x9 sudoku board left to right and top to bottom, with zeros filling up the empty cells.**  \n",
    "\n",
    "Attributes\n",
    "\n",
    "An instance of the class Sudoku will have one attribute:\n",
    "\n",
    "   - board: a list representing the board, with sublits for each row, with the numbers as integers. Empty cell represented with 0.\n",
    "\n",
    "Methods\n",
    "\n",
    "An instance of the class Sudoku wil have three methods:\n",
    "\n",
    "   - get_row(n): will return the row in position n.\n",
    "   - get_col(n): will return the column in position n.\n",
    "   - get_sqr([n, m]): will return the square in position n if only one argument is given, and the square to which the cell in position (n, m) belongs to if two arguments are given.\n",
    "\n",
    "Example  \n",
    "![image.png](attachment:image.png)\n",
    "game = Sudoku(\"417950030000000700060007000050009106800600000000003400900005000000430000200701580\")  \n",
    "\n",
    "\n",
    "game.board ➞ [  \n",
    "  [4, 1, 7, 9, 5, 0, 0, 3, 0],  \n",
    "  [0, 0, 0, 0, 0, 0, 7, 0, 0],  \n",
    "  [0, 6, 0, 0, 0, 7, 0, 0, 0],  \n",
    "  [0, 5, 0, 0, 0, 9, 1, 0, 6],  \n",
    "  [8, 0, 0, 6, 0, 0, 0, 0, 0],  \n",
    "  [0, 0, 0, 0, 0, 3, 4, 0, 0],  \n",
    "  [9, 0, 0, 0, 0, 5, 0, 0, 0],  \n",
    "  [0, 0, 0, 4, 3, 0, 0, 0, 0],  \n",
    "  [2, 0, 0, 7, 0, 1, 5, 8, 0]  \n",
    "]  \n",
    "\n",
    "game.get_row(0) ➞ [4, 1, 7, 9, 5, 0, 0, 3, 0]  \n",
    "game.get_col(8) ➞ [0, 0, 0, 6, 0, 0, 0, 0, 0]  \n",
    "game.get_sqr(1) ➞ [9, 5, 0, 0, 0, 0, 0, 0, 7]  \n",
    "game.get_sqr(1, 8) ➞ [0, 3, 0, 7, 0, 0, 0, 0, 0]  \n",
    "game.get_sqr(8, 3) ➞ [0, 0, 5, 4, 3, 0, 7, 0, 1]  \n"
   ]
  },
  {
   "cell_type": "code",
   "execution_count": 25,
   "id": "2a5d5298",
   "metadata": {},
   "outputs": [],
   "source": [
    "import numpy as np\n",
    "class Sudoku:\n",
    "    def __init__(self,number_strng:str):\n",
    "        self.number_strng = [int(i) for i in number_strng]\n",
    "        self.board = np.asarray(self.number_strng).reshape((9,9)).tolist()\n",
    "        \n",
    "    def get_row(self,row:int):\n",
    "        req_row = []\n",
    "        for col in range(len(self.board[0])):\n",
    "            req_row.append(self.board[row][col])\n",
    "        return req_row\n",
    "    \n",
    "    def get_col(self,col:int):\n",
    "        req_col = []\n",
    "        for row in range(len(self.board)):\n",
    "            req_col.append(self.board[row][col])\n",
    "        return req_col\n",
    "    \n",
    "    def get_sqr(self,*args):\n",
    "        req_sqr = []\n",
    "        sqrs = {1:[0,2,0,2],2:[0,2,3,5],3:[0,2,6,8],4:[3,5,0,2],5:[3,5,3,5],6:[3,5,6,8],\n",
    "              7:[6,8,0,2],8:[6,8,3,5],9:[6,8,6,8]}\n",
    "        if len(args) == 1:\n",
    "            sq = args[0]\n",
    "            dims = sqrs[sq+1]\n",
    "            for row in range(dims[0],dims[1]+1):\n",
    "                for col in range(dims[2],dims[3]+1):\n",
    "                    req_sqr.append(self.board[row][col])\n",
    "        else:\n",
    "            n = args[0]\n",
    "            m = args[1]\n",
    "            sq_dim = 0\n",
    "            for key in sqrs:\n",
    "                if n in range(sqrs[key][0],sqrs[key][1]+1):\n",
    "                    if m in range(sqrs[key][2],sqrs[key][3]+1):\n",
    "                        sq_dim=key\n",
    "                        \n",
    "            for row in range(sqrs[sq_dim][0],sqrs[sq_dim][1]+1):\n",
    "                for col in range(sqrs[sq_dim][2],sqrs[sq_dim][3]+1):\n",
    "                    req_sqr.append(self.board[row][col])\n",
    "        return req_sqr\n",
    "    \n",
    "            "
   ]
  },
  {
   "cell_type": "code",
   "execution_count": 26,
   "id": "30b9a23c",
   "metadata": {},
   "outputs": [],
   "source": [
    "game = Sudoku(\"417950030000000700060007000050009106800600000000003400900005000000430000200701580\")"
   ]
  },
  {
   "cell_type": "code",
   "execution_count": 27,
   "id": "c97af037",
   "metadata": {},
   "outputs": [
    {
     "data": {
      "text/plain": [
       "[[4, 1, 7, 9, 5, 0, 0, 3, 0],\n",
       " [0, 0, 0, 0, 0, 0, 7, 0, 0],\n",
       " [0, 6, 0, 0, 0, 7, 0, 0, 0],\n",
       " [0, 5, 0, 0, 0, 9, 1, 0, 6],\n",
       " [8, 0, 0, 6, 0, 0, 0, 0, 0],\n",
       " [0, 0, 0, 0, 0, 3, 4, 0, 0],\n",
       " [9, 0, 0, 0, 0, 5, 0, 0, 0],\n",
       " [0, 0, 0, 4, 3, 0, 0, 0, 0],\n",
       " [2, 0, 0, 7, 0, 1, 5, 8, 0]]"
      ]
     },
     "execution_count": 27,
     "metadata": {},
     "output_type": "execute_result"
    }
   ],
   "source": [
    "game.board"
   ]
  },
  {
   "cell_type": "code",
   "execution_count": 28,
   "id": "29278fc9",
   "metadata": {},
   "outputs": [
    {
     "data": {
      "text/plain": [
       "[4, 1, 7, 9, 5, 0, 0, 3, 0]"
      ]
     },
     "execution_count": 28,
     "metadata": {},
     "output_type": "execute_result"
    }
   ],
   "source": [
    "game.get_row(0)"
   ]
  },
  {
   "cell_type": "code",
   "execution_count": 29,
   "id": "0a9d3e17",
   "metadata": {},
   "outputs": [
    {
     "data": {
      "text/plain": [
       "[0, 0, 0, 6, 0, 0, 0, 0, 0]"
      ]
     },
     "execution_count": 29,
     "metadata": {},
     "output_type": "execute_result"
    }
   ],
   "source": [
    "game.get_col(8)"
   ]
  },
  {
   "cell_type": "code",
   "execution_count": 30,
   "id": "4b4e11c9",
   "metadata": {},
   "outputs": [
    {
     "data": {
      "text/plain": [
       "[9, 5, 0, 0, 0, 0, 0, 0, 7]"
      ]
     },
     "execution_count": 30,
     "metadata": {},
     "output_type": "execute_result"
    }
   ],
   "source": [
    "game.get_sqr(1)"
   ]
  },
  {
   "cell_type": "code",
   "execution_count": 31,
   "id": "d7983ee2",
   "metadata": {},
   "outputs": [
    {
     "data": {
      "text/plain": [
       "[0, 3, 0, 7, 0, 0, 0, 0, 0]"
      ]
     },
     "execution_count": 31,
     "metadata": {},
     "output_type": "execute_result"
    }
   ],
   "source": [
    "game.get_sqr(1, 8)"
   ]
  },
  {
   "cell_type": "code",
   "execution_count": 32,
   "id": "ab4b5cde",
   "metadata": {},
   "outputs": [
    {
     "data": {
      "text/plain": [
       "[0, 0, 5, 4, 3, 0, 7, 0, 1]"
      ]
     },
     "execution_count": 32,
     "metadata": {},
     "output_type": "execute_result"
    }
   ],
   "source": [
    "game.get_sqr(8,3)"
   ]
  },
  {
   "cell_type": "code",
   "execution_count": null,
   "id": "c9b5bfc6",
   "metadata": {},
   "outputs": [],
   "source": []
  },
  {
   "cell_type": "markdown",
   "id": "970c2839",
   "metadata": {},
   "source": [
    "2. The function input is two non-empty linked lists representing two non-negative integers. The digits are stored in reverse order, and each of their nodes contains a single digit. Add the two numbers and return the sum as a linked list, in which the digits are also stored in reversed order. The class ListNode, building block of the linked list, is defined in the Tests tab.\n",
    "\n",
    "Class definition\n",
    "\n",
    "class ListNode:\n",
    "    def __init__(self, val=0, next=None):\n",
    "        self.val = val\n",
    "        self.next = next\n",
    "\n",
    "Examples\n",
    "\n",
    "lt1 = ListNode(2)\n",
    "lt1.add_data([4, 3])\n",
    "lt2 = ListNode(5)\n",
    "lt2.add_data([6, 4])\n",
    "    # print(lt1.get_data())    # [2, 4, 3]\n",
    "    # print(lt2.get_data())    # [5, 6, 4]\n",
    "    # print(342 + 465)         # 807\n",
    "add_two_numbers(lt1, lt2).get_data() ➞ [7, 0, 8]\n",
    "\n",
    "lt1 = ListNode(0)\n",
    "lt2 = ListNode(0)\n",
    "    # print(lt1.get_data())    # [0]\n",
    "    # print(lt2.get_data())    # [0]\n",
    "    # print(0 + 0)             # 0\n",
    "add_two_numbers(lt1, lt2).get_data() ➞ [0]\n",
    "\n",
    "lt1 = ListNode(9)\n",
    "lt1.add_data([9,9,9,9,9,9])\n",
    "lt2 = ListNode(9)\n",
    "lt2.add_data([9,9,9])\n",
    "    # print(lt1.get_data())    # [9, 9, 9, 9, 9, 9, 9]\n",
    "    # print(lt2.get_data())    # [9, 9, 9, 9]\n",
    "    # print(9999999 + 9999)    # 10009998\n",
    "add_two_numbers(lt1, lt2).get_data() ➞ [8, 9, 9, 9, 0, 0, 0, 1]\n"
   ]
  },
  {
   "cell_type": "markdown",
   "id": "15efef90",
   "metadata": {},
   "source": [
    "3. Write a class called CoffeeShop, which has three instance variables:\n",
    "\n",
    "   1. name : a string (basically, of the shop)\n",
    "   2. menu : a list of items (of dict type), with each item containing the item (name of the item), type (whether a food or a drink) and price.\n",
    "   3. orders : an empty list\n",
    "\n",
    "and seven methods:\n",
    "\n",
    "  1. add_order: adds the name of the item to the end of the orders list if it exists on the menu, otherwise, return \"This item is currently unavailable!\"\n",
    "  2. fulfill_order: if the orders list is not empty, return \"The {item} is ready!\". If the orders list is empty, return \"All orders have been fulfilled!\"\n",
    "  3. list_orders: returns the item names of the orders taken, otherwise, an empty list.\n",
    "  4. due_amount: returns the total amount due for the orders taken.\n",
    "  5. cheapest_item: returns the name of the cheapest item on the menu.\n",
    "  6. drinks_only: returns only the item names of type drink from the menu.\n",
    "  7. food_only: returns only the item names of type food from the menu.\n",
    "\n",
    "IMPORTANT: Orders are fulfilled in a FIFO (first-in, first-out) order.\n",
    "\n",
    "Examples\n",
    "\n",
    "tcs.add_order(\"hot cocoa\") ➞ \"This item is currently unavailable!\"  \n",
    "        # Tesha's coffee shop does not sell hot cocoa  \n",
    "tcs.add_order(\"iced tea\") ➞ \"This item is currently unavailable!\"  \n",
    "    # specifying the variant of \"iced tea\" will help the process  \n",
    "\n",
    "tcs.add_order(\"cinnamon roll\") ➞  \"Order added!\"  \n",
    "tcs.add_order(\"iced coffee\") ➞ \"Order added!\"  \n",
    "tcs.list_orders ➞ [\"cinnamon roll\", \"iced coffee\"]  \n",
    "    # all items of the current order  \n",
    "\n",
    "tcs.due_amount() ➞ 2.17  \n",
    "\n",
    "tcs.fulfill_order() ➞ \"The cinnamon roll is ready!\"  \n",
    "tcs.fulfill_order() ➞ \"The iced coffee is ready!\"  \n",
    "tcs.fulfill_order() ➞ \"All orders have been fulfilled!\"  \n",
    "    # all orders have been presumably served  \n",
    "\n",
    "tcs.list_orders() ➞ []  \n",
    "    # an empty list is returned if all orders have been exhausted\n",
    "\n",
    "tcs.due_amount() ➞ 0.0  \n",
    "    # no new orders taken, expect a zero payable  \n",
    "\n",
    "tcs.cheapest_item() ➞ \"lemonade\"  \n",
    "tcs.drinks_only() ➞ [\"orange juice\", \"lemonade\", \"cranberry juice\", \"pineapple juice\", \"lemon iced tea\", \"vanilla chai latte\", \"hot chocolate\", \"iced coffee\"]  \n",
    "tcs.food_only() ➞ [\"tuna sandwich\", \"ham and cheese sandwich\", \"bacon and egg\", \"steak\", \"hamburger\", \"cinnamon roll\"]\n"
   ]
  },
  {
   "cell_type": "code",
   "execution_count": 46,
   "id": "99afb892",
   "metadata": {},
   "outputs": [],
   "source": [
    "class CoffeeShop:\n",
    "    def __init__(self,name:str,menu:dict):\n",
    "        self.name = name\n",
    "        self.menu = menu\n",
    "        self.orders = []\n",
    "        \n",
    "    def add_order(self,item:str):\n",
    "        if item in list(self.menu.keys()):\n",
    "            self.orders.append(item)\n",
    "            return \"Order added!\"\n",
    "        else:\n",
    "            return  \"This item is currently unavailable!\"\n",
    "        \n",
    "    def fulfill_order(self):\n",
    "        if self.orders != list():\n",
    "            return f\"The {self.orders.pop(0)} is ready!\"\n",
    "        else:\n",
    "            return \"All orders have been fulfilled!\"\n",
    "    \n",
    "    def list_orders(self):\n",
    "        return self.orders\n",
    "    \n",
    "    def due_amount(self):\n",
    "        total_amount = 0\n",
    "        for item in self.orders:\n",
    "            total_amount = total_amount + self.menu[item][1]\n",
    "        return total_amount\n",
    "    \n",
    "    def cheapest_item(self):\n",
    "        min_price = min([i[1] for i in self.menu.values()])\n",
    "        for key, value in self.menu.items():\n",
    "            if value[1] == min_price:\n",
    "                return key\n",
    "            \n",
    "    def drinks_only(self):\n",
    "        drinks = []\n",
    "        for key, value in self.menu.items():\n",
    "            if value[0] == \"drinks\":\n",
    "                drinks.append(key)\n",
    "        return drinks\n",
    "        \n",
    "    def food_only(self):\n",
    "        food = []\n",
    "        for key, value in self.menu.items():\n",
    "            if value[0] == \"food\":\n",
    "                food.append(key)\n",
    "        return food\n",
    "        "
   ]
  },
  {
   "cell_type": "code",
   "execution_count": 47,
   "id": "76f3f966",
   "metadata": {},
   "outputs": [],
   "source": [
    "menu = {\"orange juice\":[\"drinks\",5.00], \"lemonade\":[\"drinks\",2.00], \"cranberry juice\":[\"drinks\",15.00],\n",
    "        \"pineapple juice\":[\"drinks\",8.50], \"lemon iced tea\":[\"drinks\",15.50], \"vanilla chai latte\":[\"drinks\",5.00],\n",
    "        \"hot chocolate\":[\"drinks\",20.50], \"iced coffee\":[\"drinks\",25.00],\"tuna sandwich\":[\"food\",10.00], \n",
    "        \"ham and cheese sandwich\":[\"food\",25.00], \"bacon and egg\":[\"food\",35.50],\"steak\":[\"food\",45.00], \n",
    "        \"hamburger\":[\"food\",27.50], \"cinnamon roll\":[\"food\",5.00]}\n",
    "tcs = CoffeeShop(\"Tesha's coffee shop\",menu)"
   ]
  },
  {
   "cell_type": "code",
   "execution_count": 48,
   "id": "ed2171dd",
   "metadata": {},
   "outputs": [
    {
     "data": {
      "text/plain": [
       "'This item is currently unavailable!'"
      ]
     },
     "execution_count": 48,
     "metadata": {},
     "output_type": "execute_result"
    }
   ],
   "source": [
    "tcs.add_order(\"hot cocoa\")"
   ]
  },
  {
   "cell_type": "code",
   "execution_count": 49,
   "id": "70f0612d",
   "metadata": {},
   "outputs": [
    {
     "data": {
      "text/plain": [
       "'This item is currently unavailable!'"
      ]
     },
     "execution_count": 49,
     "metadata": {},
     "output_type": "execute_result"
    }
   ],
   "source": [
    "tcs.add_order(\"iced tea\")"
   ]
  },
  {
   "cell_type": "code",
   "execution_count": 50,
   "id": "fa53034d",
   "metadata": {},
   "outputs": [
    {
     "data": {
      "text/plain": [
       "'Order added!'"
      ]
     },
     "execution_count": 50,
     "metadata": {},
     "output_type": "execute_result"
    }
   ],
   "source": [
    "tcs.add_order(\"cinnamon roll\")"
   ]
  },
  {
   "cell_type": "code",
   "execution_count": 51,
   "id": "80cc1860",
   "metadata": {},
   "outputs": [
    {
     "data": {
      "text/plain": [
       "'Order added!'"
      ]
     },
     "execution_count": 51,
     "metadata": {},
     "output_type": "execute_result"
    }
   ],
   "source": [
    "tcs.add_order(\"iced coffee\")"
   ]
  },
  {
   "cell_type": "code",
   "execution_count": 52,
   "id": "46ffea49",
   "metadata": {},
   "outputs": [
    {
     "data": {
      "text/plain": [
       "['cinnamon roll', 'iced coffee']"
      ]
     },
     "execution_count": 52,
     "metadata": {},
     "output_type": "execute_result"
    }
   ],
   "source": [
    "tcs.list_orders()"
   ]
  },
  {
   "cell_type": "code",
   "execution_count": 53,
   "id": "d9e4f1c8",
   "metadata": {},
   "outputs": [
    {
     "data": {
      "text/plain": [
       "30.0"
      ]
     },
     "execution_count": 53,
     "metadata": {},
     "output_type": "execute_result"
    }
   ],
   "source": [
    "tcs.due_amount()    # different price set"
   ]
  },
  {
   "cell_type": "code",
   "execution_count": 54,
   "id": "f70d5d38",
   "metadata": {},
   "outputs": [
    {
     "data": {
      "text/plain": [
       "'The cinnamon roll is ready!'"
      ]
     },
     "execution_count": 54,
     "metadata": {},
     "output_type": "execute_result"
    }
   ],
   "source": [
    "tcs.fulfill_order()"
   ]
  },
  {
   "cell_type": "code",
   "execution_count": 55,
   "id": "89ac9264",
   "metadata": {},
   "outputs": [
    {
     "data": {
      "text/plain": [
       "'The iced coffee is ready!'"
      ]
     },
     "execution_count": 55,
     "metadata": {},
     "output_type": "execute_result"
    }
   ],
   "source": [
    "tcs.fulfill_order()"
   ]
  },
  {
   "cell_type": "code",
   "execution_count": 56,
   "id": "ec37c5e6",
   "metadata": {},
   "outputs": [
    {
     "data": {
      "text/plain": [
       "'All orders have been fulfilled!'"
      ]
     },
     "execution_count": 56,
     "metadata": {},
     "output_type": "execute_result"
    }
   ],
   "source": [
    "tcs.fulfill_order()"
   ]
  },
  {
   "cell_type": "code",
   "execution_count": 57,
   "id": "6fe01912",
   "metadata": {},
   "outputs": [
    {
     "data": {
      "text/plain": [
       "[]"
      ]
     },
     "execution_count": 57,
     "metadata": {},
     "output_type": "execute_result"
    }
   ],
   "source": [
    "tcs.list_orders()"
   ]
  },
  {
   "cell_type": "code",
   "execution_count": 58,
   "id": "695be849",
   "metadata": {},
   "outputs": [
    {
     "data": {
      "text/plain": [
       "0"
      ]
     },
     "execution_count": 58,
     "metadata": {},
     "output_type": "execute_result"
    }
   ],
   "source": [
    "tcs.due_amount()"
   ]
  },
  {
   "cell_type": "code",
   "execution_count": 59,
   "id": "a8d6ef08",
   "metadata": {},
   "outputs": [
    {
     "data": {
      "text/plain": [
       "'lemonade'"
      ]
     },
     "execution_count": 59,
     "metadata": {},
     "output_type": "execute_result"
    }
   ],
   "source": [
    "tcs.cheapest_item()"
   ]
  },
  {
   "cell_type": "code",
   "execution_count": 60,
   "id": "f9c50206",
   "metadata": {},
   "outputs": [
    {
     "data": {
      "text/plain": [
       "['orange juice',\n",
       " 'lemonade',\n",
       " 'cranberry juice',\n",
       " 'pineapple juice',\n",
       " 'lemon iced tea',\n",
       " 'vanilla chai latte',\n",
       " 'hot chocolate',\n",
       " 'iced coffee']"
      ]
     },
     "execution_count": 60,
     "metadata": {},
     "output_type": "execute_result"
    }
   ],
   "source": [
    "tcs.drinks_only()"
   ]
  },
  {
   "cell_type": "code",
   "execution_count": 61,
   "id": "d87f9494",
   "metadata": {},
   "outputs": [
    {
     "data": {
      "text/plain": [
       "['tuna sandwich',\n",
       " 'ham and cheese sandwich',\n",
       " 'bacon and egg',\n",
       " 'steak',\n",
       " 'hamburger',\n",
       " 'cinnamon roll']"
      ]
     },
     "execution_count": 61,
     "metadata": {},
     "output_type": "execute_result"
    }
   ],
   "source": [
    "tcs.food_only() "
   ]
  },
  {
   "cell_type": "code",
   "execution_count": null,
   "id": "13fc95e3",
   "metadata": {},
   "outputs": [],
   "source": []
  },
  {
   "cell_type": "markdown",
   "id": "1d26cb29",
   "metadata": {},
   "source": [
    "**4. In this challenge, write a funcion loneliest_number to find the last Lonely number inside a sequence. A number is Lonely if the distance from its closest Prime sets a new record of the sequence.**\n",
    "\n",
    "Sequence = from 0 to 3\n",
    "\n",
    "    # Any number lower than 3 doesn't have a Prime preceeding it...  \n",
    "    # ...so that you'll consider only its next closest Prime.  \n",
    "\n",
    "0 has distance 2 from its closest Prime (2)  \n",
    "    # It's a new record! 0 It's the first lonely number of the sequence  \n",
    "1 has distance 1 from its closest Prime (2)  \n",
    "2 has distance 1 from 3  \n",
    "3 has distance 1 from 2  \n",
    "\n",
    "    # The sequence 0 to 3  has only one Lonely number: 0  \n",
    "\n",
    "Sequence = Numbers from 5 to 10  \n",
    "\n",
    "5 has distance 2 from its closest Prime (3 or 7)  \n",
    "    # It's a new record! 5 It's the first lonely number of the sequence  \n",
    "6 has distance 1 from 5 or 7  \n",
    "7 has distance 2 from 5  \n",
    "8 has distance 1 from 7  \n",
    "9 has distance 2 from 7 or 11  \n",
    "10 has distance 1 from 11  \n",
    "\n",
    "    # The sequence 5 to 10  has only one Lonely number: 5\n",
    "\n",
    "Sequence = Numbers from 19 to 24  \n",
    "\n",
    "19 has distance 2 from its closest Prime (17)  \n",
    "    # It's a new record! 19 It's the first lonely number of the sequence  \n",
    "20 has distance 1 from 19  \n",
    "21 has distance 2 from 5  \n",
    "22 has distance 1 from 23  \n",
    "23 has distance 4 from 17 or 29  \n",
    "    # It's a new record! 23 is the second lonely number of the sequence  \n",
    "24 has distance 1 from 23  \n",
    "\n",
    "    # The sequence 19 to 24  has two Lonely numbers: 19 and 23\n",
    "\n",
    "The function loneliest_number must accept two integers lo and hi being the inclusive bounds of the sequence to analyze, and returns a dictionay (dict) object with the following keys and values:  \n",
    "\n",
    "   - number: is the last Lonely number found in the given sequence;\n",
    "   - distance: is the distance of the number from its closest Prime;\n",
    "   - closest: is the Prime closest to number (if two Primes are equally distant from number, return the higher Prime).\n",
    "\n",
    "Examples  \n",
    "\n",
    "loneliest_number(0, 22) ➞ {\n",
    "  number: 0, distance: 2, closest: 2\n",
    "}  \n",
    "\n",
    "loneliest_number(8, 123) ➞ {\n",
    "  number: 53, distance: 6, closest: 59\n",
    "}  \n",
    "\n",
    "loneliest_number(938, 1190) ➞ {\n",
    "  number: 1140, distance: 11, closest: 1151\n",
    "}  \n",
    "\n",
    "loneliest_number(120, 1190) ➞ {\n",
    "  number: 211, distance: 12, closest: 223\n",
    "}  "
   ]
  },
  {
   "cell_type": "code",
   "execution_count": null,
   "id": "9a766d30",
   "metadata": {},
   "outputs": [],
   "source": [
    "def prime_list(lo,hi):\n",
    "    primes = []\n",
    "    flag= True\n",
    "    for i in range(lo,hi+1):\n",
    "        if i ==2:\n",
    "            primes.append(i)\n",
    "        elif i%2!=0 and i!=1:\n",
    "            for j in range(3,i,2):\n",
    "                if i%j==0:\n",
    "                    flag = False\n",
    "            if flag==True:\n",
    "                primes.append(i)\n",
    "        else:\n",
    "            continue\n",
    "    return primes\n",
    "\n",
    "def loneliest_number(lo,hi):\n",
    "    \n",
    "    primes = prime_list(lo,hi)"
   ]
  },
  {
   "cell_type": "code",
   "execution_count": null,
   "id": "1106f9c7",
   "metadata": {},
   "outputs": [],
   "source": []
  },
  {
   "cell_type": "code",
   "execution_count": null,
   "id": "a640fd27",
   "metadata": {},
   "outputs": [],
   "source": []
  },
  {
   "cell_type": "code",
   "execution_count": null,
   "id": "c5d26969",
   "metadata": {},
   "outputs": [],
   "source": []
  },
  {
   "cell_type": "code",
   "execution_count": null,
   "id": "4435f2be",
   "metadata": {},
   "outputs": [],
   "source": []
  },
  {
   "cell_type": "markdown",
   "id": "0d0956e9",
   "metadata": {},
   "source": [
    "**5. Implement a class Selfie that can store the current state of the object in the form of binary string. It can take multiple pictures and then recover to a state it was before. During testing an object will be provided with new attributes and their values. It will store its state. Then the values will be changed. Then it will be given new attributes. It will store its state again. It will be repeated few times.**\n",
    "\n",
    "Later the states of the object will be recovered given an index. The return value should be a new Selfie with the requested historic state and the state history of the new object should be updated with a copy of current object's state history.\n",
    "\n",
    "The object also knows how many states it has stored. If the index is not within the range of stored states, the object stays as is. If the argument is invalid, n < 0 or n >= self.n_states(), the current object (or a copy thereof) should be returned.\n",
    "\n",
    "Examples\n",
    "\n",
    "p = Selfie()  \n",
    "p.x = 2  \n",
    "p.save_state()  \n",
    "p.x = 5  \n",
    "p = p.recover_state(0)  \n",
    "p.x ➞ 2  \n"
   ]
  },
  {
   "cell_type": "code",
   "execution_count": null,
   "id": "35c763cc",
   "metadata": {},
   "outputs": [],
   "source": [
    "class Selfie:\n",
    "    def __init__(self):\n",
    "        "
   ]
  },
  {
   "cell_type": "code",
   "execution_count": null,
   "id": "7773ebc1",
   "metadata": {},
   "outputs": [],
   "source": []
  }
 ],
 "metadata": {
  "kernelspec": {
   "display_name": "Python 3 (ipykernel)",
   "language": "python",
   "name": "python3"
  },
  "language_info": {
   "codemirror_mode": {
    "name": "ipython",
    "version": 3
   },
   "file_extension": ".py",
   "mimetype": "text/x-python",
   "name": "python",
   "nbconvert_exporter": "python",
   "pygments_lexer": "ipython3",
   "version": "3.9.12"
  }
 },
 "nbformat": 4,
 "nbformat_minor": 5
}
