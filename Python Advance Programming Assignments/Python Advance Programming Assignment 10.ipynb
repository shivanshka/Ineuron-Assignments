{
 "cells": [
  {
   "cell_type": "markdown",
   "metadata": {},
   "source": [
    "# Advance Programming Assignment 10"
   ]
  },
  {
   "cell_type": "markdown",
   "metadata": {},
   "source": [
    "**1. Create a function that takes the width, height and character and returns a picture frame as a 2D list.**  \n",
    "\n",
    ">**Examples**  \n",
    "\n",
    "get_frame(4, 5, \"#\") ➞ [  \n",
    "  [\"####\"],  \n",
    "  [\"#  #\"],  \n",
    "  [\"#  #\"],  \n",
    "  [\"#  #\"],  \n",
    "  [\"####\"]  \n",
    "]  \n",
    "    # Frame is 4 characters wide and 5 characters tall.  \n",
    "\n",
    "\n",
    "get_frame(10, 3, \"*\") ➞ [  \n",
    "  [\"**********\"],  \n",
    "  [\"*        *\"],  \n",
    "  [\"**********\"]  \n",
    "]  \n",
    "    # Frame is 10 characters and wide and 3 characters tall.  \n",
    "\n",
    "\n",
    "get_frame(2, 5, \"0\") ➞ \"invalid\"  \n",
    "    # Frame's width is not more than 2.  "
   ]
  },
  {
   "cell_type": "code",
   "execution_count": 18,
   "metadata": {},
   "outputs": [],
   "source": [
    "import numpy as np\n",
    "def get_frame(width, height, character):\n",
    "    if width > 2 and height > 2:\n",
    "        frame = []\n",
    "        for i in  range(height):\n",
    "            b = []\n",
    "            for j in range(1):\n",
    "                if i == 0 or i== height-1:\n",
    "                    b.append(character*width)\n",
    "                else:\n",
    "                    b.append(character+\" \"*(width-2)+character)\n",
    "            frame.append(b)\n",
    "        return np.asarray(frame)\n",
    "    else:\n",
    "        return \"invalid\""
   ]
  },
  {
   "cell_type": "code",
   "execution_count": 19,
   "metadata": {},
   "outputs": [
    {
     "name": "stdout",
     "output_type": "stream",
     "text": [
      "[['****']\n",
      " ['*  *']\n",
      " ['*  *']\n",
      " ['*  *']\n",
      " ['****']]\n"
     ]
    }
   ],
   "source": [
    "print(get_frame(4, 5, \"*\"))"
   ]
  },
  {
   "cell_type": "code",
   "execution_count": 21,
   "metadata": {},
   "outputs": [
    {
     "name": "stdout",
     "output_type": "stream",
     "text": [
      "[['**********']\n",
      " ['*        *']\n",
      " ['**********']]\n"
     ]
    }
   ],
   "source": [
    "print(get_frame(10, 3, \"*\"))"
   ]
  },
  {
   "cell_type": "code",
   "execution_count": 22,
   "metadata": {},
   "outputs": [
    {
     "name": "stdout",
     "output_type": "stream",
     "text": [
      "invalid\n"
     ]
    }
   ],
   "source": [
    "print(get_frame(2, 5, \"0\"))"
   ]
  },
  {
   "cell_type": "code",
   "execution_count": 24,
   "metadata": {},
   "outputs": [
    {
     "name": "stdout",
     "output_type": "stream",
     "text": [
      "[['00000000']\n",
      " ['0      0']\n",
      " ['0      0']\n",
      " ['0      0']\n",
      " ['0      0']\n",
      " ['00000000']]\n"
     ]
    }
   ],
   "source": [
    "print(get_frame(8, 6, \"0\"))"
   ]
  },
  {
   "cell_type": "code",
   "execution_count": null,
   "metadata": {},
   "outputs": [],
   "source": []
  },
  {
   "cell_type": "markdown",
   "metadata": {},
   "source": [
    "**2. Write three functions:**  \n",
    "\n",
    "  1. boolean_and  \n",
    "  2. boolean_or  \n",
    "  3. boolean_xor  \n",
    "**These functions should evaluate a list of True and False values, starting from the leftmost element and evaluating pairwise.**  \n",
    "\n",
    ">**Examples**\n",
    "---> boolean_and([True, True, False, True]) ➞ False  \n",
    "    # [True, True, False, True] => [True, False, True] => [False, True] => False  \n",
    "---> boolean_or([True, True, False, False]) ➞ True  \n",
    "    # [True, True, False, True] => [True, False, False] => [True, False] => True  \n",
    "---> boolean_xor([True, True, False, False]) ➞ False  \n",
    "    # [True, True, False, False] => [False, False, False] => [False, False] => False"
   ]
  },
  {
   "cell_type": "code",
   "execution_count": 44,
   "metadata": {},
   "outputs": [],
   "source": [
    "#------------AND---------------\n",
    "def boolean_and(bool_list):\n",
    "    def and_check(a,b):\n",
    "        if a==True and b==True:\n",
    "            return True\n",
    "        else:\n",
    "            return False\n",
    "\n",
    "    while len(bool_list) > 1:\n",
    "        result = and_check(bool_list[0], bool_list[1])\n",
    "        bool_list[0] = result\n",
    "        bool_list.pop(1)\n",
    "    return bool_list[0]\n",
    "\n",
    "#------------OR---------------\n",
    "\n",
    "def boolean_or(bool_list):\n",
    "    def and_check(a,b):\n",
    "        if a==False and b==False:\n",
    "            return False\n",
    "        else:\n",
    "            return True\n",
    "\n",
    "    while len(bool_list) > 1:\n",
    "        result = and_check(bool_list[0], bool_list[1])\n",
    "        bool_list[0] = result\n",
    "        bool_list.pop(1)\n",
    "    return bool_list[0]\n",
    "\n",
    "#------------XOR---------------    \n",
    "\n",
    "def boolean_xor(bool_list):\n",
    "    def and_check(a,b):\n",
    "        if (a==False and b == True) or (a==True and b==False):\n",
    "            return True\n",
    "        else:\n",
    "            return False\n",
    "\n",
    "    while len(bool_list) > 1:\n",
    "        result = and_check(bool_list[0], bool_list[1])\n",
    "        bool_list[0] = result\n",
    "        bool_list.pop(1)\n",
    "    return bool_list[0]\n",
    "  "
   ]
  },
  {
   "cell_type": "code",
   "execution_count": 40,
   "metadata": {},
   "outputs": [
    {
     "data": {
      "text/plain": [
       "False"
      ]
     },
     "execution_count": 40,
     "metadata": {},
     "output_type": "execute_result"
    }
   ],
   "source": [
    "boolean_and([True,True,False,True])"
   ]
  },
  {
   "cell_type": "code",
   "execution_count": 41,
   "metadata": {},
   "outputs": [
    {
     "data": {
      "text/plain": [
       "True"
      ]
     },
     "execution_count": 41,
     "metadata": {},
     "output_type": "execute_result"
    }
   ],
   "source": [
    "boolean_or([True, True, False, False])"
   ]
  },
  {
   "cell_type": "code",
   "execution_count": 46,
   "metadata": {},
   "outputs": [
    {
     "data": {
      "text/plain": [
       "False"
      ]
     },
     "execution_count": 46,
     "metadata": {},
     "output_type": "execute_result"
    }
   ],
   "source": [
    "boolean_xor([True, True, False, False])"
   ]
  },
  {
   "cell_type": "code",
   "execution_count": null,
   "metadata": {},
   "outputs": [],
   "source": []
  },
  {
   "cell_type": "markdown",
   "metadata": {},
   "source": [
    "**3. Create a function that creates a box based on dimension n.**  \n",
    "\n",
    ">**Examples**  \n",
    "make_box(5) ➞ [  \n",
    "  \"#####\",  \n",
    "  \"#   #\",  \n",
    "  \"#   #\",  \n",
    "  \"#   #\",  \n",
    "  \"#####\"  \n",
    "]  \n",
    "\n",
    "make_box(3) ➞ [  \n",
    "  \"###\",  \n",
    "  \"# #\",  \n",
    "  \"###\"  \n",
    "]  \n",
    "\n",
    "make_box(2) ➞ [  \n",
    "  \"##\",  \n",
    "  \"##\"  \n",
    "]  \n",
    "\n",
    "make_box(1) ➞ [  \n",
    "  \"#\"  \n",
    "] "
   ]
  },
  {
   "cell_type": "code",
   "execution_count": 60,
   "metadata": {},
   "outputs": [],
   "source": [
    "import numpy as np\n",
    "def make_box(n):\n",
    "    if n > 0:\n",
    "        frame = []\n",
    "        for i in  range(n):\n",
    "            b = []\n",
    "            for j in range(1):\n",
    "                if i == 0 or i== n-1:\n",
    "                    b.append(\"#\"*n)\n",
    "                else:\n",
    "                    b.append(\"#\"+\" \"*(n-2)+\"#\")\n",
    "            frame.append(b)\n",
    "        return np.asarray(frame)\n",
    "    else:\n",
    "        return \"invalid\""
   ]
  },
  {
   "cell_type": "code",
   "execution_count": 61,
   "metadata": {},
   "outputs": [
    {
     "name": "stdout",
     "output_type": "stream",
     "text": [
      "[['#####']\n",
      " ['#   #']\n",
      " ['#   #']\n",
      " ['#   #']\n",
      " ['#####']]\n"
     ]
    }
   ],
   "source": [
    "print(make_box(5))"
   ]
  },
  {
   "cell_type": "code",
   "execution_count": 53,
   "metadata": {},
   "outputs": [
    {
     "name": "stdout",
     "output_type": "stream",
     "text": [
      "[['###']\n",
      " ['# #']\n",
      " ['###']]\n"
     ]
    }
   ],
   "source": [
    "print(make_box(3))"
   ]
  },
  {
   "cell_type": "code",
   "execution_count": 54,
   "metadata": {},
   "outputs": [
    {
     "name": "stdout",
     "output_type": "stream",
     "text": [
      "[['##']\n",
      " ['##']]\n"
     ]
    }
   ],
   "source": [
    "print(make_box(2))"
   ]
  },
  {
   "cell_type": "code",
   "execution_count": 55,
   "metadata": {},
   "outputs": [
    {
     "name": "stdout",
     "output_type": "stream",
     "text": [
      "[['#']]\n"
     ]
    }
   ],
   "source": [
    "print(make_box(1))"
   ]
  },
  {
   "cell_type": "code",
   "execution_count": null,
   "metadata": {},
   "outputs": [],
   "source": []
  },
  {
   "cell_type": "markdown",
   "metadata": {},
   "source": [
    "**4. Given a common phrase, return False if any individual word in the phrase contains duplicate letters. Return True otherwise.**  \n",
    "\n",
    "> **Examples**  \n",
    "no_duplicate_letters(\"Fortune favours the bold.\") ➞ True  \n",
    "no_duplicate_letters(\"You can lead a horse to water, but you can't make him drink.\") ➞ True  \n",
    "no_duplicate_letters(\"Look before you leap.\") ➞ False  \n",
    "    ---- # Duplicate letters in \"Look\" and \"before\".  \n",
    "no_duplicate_letters(\"An apple a day keeps the doctor away.\") ➞ False  \n",
    "    ---- # Duplicate letters in \"apple\", \"keeps\", \"doctor\", and \"away\"."
   ]
  },
  {
   "cell_type": "code",
   "execution_count": 90,
   "metadata": {},
   "outputs": [],
   "source": [
    "from collections import Counter\n",
    "def no_duplicate_letters(phrase):\n",
    "    try:\n",
    "        phrase_words = phrase.split()\n",
    "        for i in phrase_words:\n",
    "            letter_count = Counter(i)\n",
    "            if len(letter_count.keys()) < len(i):\n",
    "                return False\n",
    "        return True\n",
    "    except Exception as e:\n",
    "        print(\"Error occured: \",e)"
   ]
  },
  {
   "cell_type": "code",
   "execution_count": 91,
   "metadata": {},
   "outputs": [
    {
     "data": {
      "text/plain": [
       "True"
      ]
     },
     "execution_count": 91,
     "metadata": {},
     "output_type": "execute_result"
    }
   ],
   "source": [
    "no_duplicate_letters(\"Fortune favours the bold.\")"
   ]
  },
  {
   "cell_type": "code",
   "execution_count": 92,
   "metadata": {},
   "outputs": [
    {
     "data": {
      "text/plain": [
       "True"
      ]
     },
     "execution_count": 92,
     "metadata": {},
     "output_type": "execute_result"
    }
   ],
   "source": [
    "no_duplicate_letters(\"You can lead a horse to water, but you can't make him drink.\")"
   ]
  },
  {
   "cell_type": "code",
   "execution_count": 93,
   "metadata": {},
   "outputs": [
    {
     "data": {
      "text/plain": [
       "False"
      ]
     },
     "execution_count": 93,
     "metadata": {},
     "output_type": "execute_result"
    }
   ],
   "source": [
    "no_duplicate_letters(\"Look before you leap.\")"
   ]
  },
  {
   "cell_type": "code",
   "execution_count": 94,
   "metadata": {},
   "outputs": [
    {
     "data": {
      "text/plain": [
       "False"
      ]
     },
     "execution_count": 94,
     "metadata": {},
     "output_type": "execute_result"
    }
   ],
   "source": [
    "no_duplicate_letters(\"An apple a day keeps the doctor away.\")"
   ]
  },
  {
   "cell_type": "code",
   "execution_count": null,
   "metadata": {},
   "outputs": [],
   "source": []
  },
  {
   "cell_type": "markdown",
   "metadata": {},
   "source": [
    "**5. Write a regular expression that will match the states that voted yes to President Trump's impeachment. You must use RegEx positive lookahead.**  \n",
    "\n",
    ">**Example**  \n",
    "\n",
    "txt = \"Texas = no, California = yes, Florida = yes, Michigan = no\"  \n",
    "pattern = \"yourregularexpressionhere\"  \n",
    "\n",
    "re.findall(pattern, txt) ➞ [\"California\", \"Florida\"]  \n"
   ]
  },
  {
   "cell_type": "code",
   "execution_count": 109,
   "metadata": {},
   "outputs": [],
   "source": [
    "import re\n",
    "def votes(txt):\n",
    "    pattern = \"[a-zA-Z]+(?= = yes)\"\n",
    "    result_list = re.findall(pattern,txt)\n",
    "    return result_list"
   ]
  },
  {
   "cell_type": "code",
   "execution_count": 110,
   "metadata": {},
   "outputs": [
    {
     "data": {
      "text/plain": [
       "['California', 'Florida']"
      ]
     },
     "execution_count": 110,
     "metadata": {},
     "output_type": "execute_result"
    }
   ],
   "source": [
    "votes(\"Texas = no, California = yes, Florida = yes, Michigan = no\")"
   ]
  },
  {
   "cell_type": "code",
   "execution_count": null,
   "metadata": {},
   "outputs": [],
   "source": []
  }
 ],
 "metadata": {
  "interpreter": {
   "hash": "91bb753b057673435fb8d6f6a083e6c818364728098c7ae050ca3a25357dd754"
  },
  "kernelspec": {
   "display_name": "Python 3.9.7 ('base')",
   "language": "python",
   "name": "python3"
  },
  "language_info": {
   "codemirror_mode": {
    "name": "ipython",
    "version": 3
   },
   "file_extension": ".py",
   "mimetype": "text/x-python",
   "name": "python",
   "nbconvert_exporter": "python",
   "pygments_lexer": "ipython3",
   "version": "3.9.7"
  },
  "orig_nbformat": 4
 },
 "nbformat": 4,
 "nbformat_minor": 2
}
