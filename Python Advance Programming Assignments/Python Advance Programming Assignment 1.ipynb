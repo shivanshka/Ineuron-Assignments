{
 "cells": [
  {
   "cell_type": "markdown",
   "id": "ca175908",
   "metadata": {},
   "source": [
    "# Advance Programming Assignment 1"
   ]
  },
  {
   "cell_type": "markdown",
   "id": "2b5e50c0",
   "metadata": {},
   "source": [
    "**1. Write a function that takes a list of lists and returns the value of all of the symbols in it, where each symbol adds or takes something from the total score.**   \n",
    "\n",
    ">**Symbol values:**  \n",
    "    # = 5  \n",
    "    O = 3  \n",
    "    X = 1  \n",
    "    ! = -1  \n",
    "   !! = -3  \n",
    "  !!! = -5  \n",
    "\n",
    "A list of lists containing 2 #s, a O, and a !!! would equal (0 + 5 + 5 + 3 - 5) 8.  \n",
    "\n",
    "If the final score is negative, return 0 (e.g. 3 #s, 3 !!s, 2 !!!s and a X would be (0 + 5 + 5 + 5 - 3 - 3 - 3 - 5 - 5 + 1) -3, so return 0.  \n",
    "\n",
    ">**Examples**  \n",
    "check_score([\n",
    "  [\"#\", \"!\"],\n",
    "  [\"!!\", \"X\"]\n",
    "]) ➞ 2  \n",
    "check_score([\n",
    "  [\"!!!\", \"O\", \"!\"],\n",
    "  [\"X\", \"#\", \"!!!\"],\n",
    "  [\"!!\", \"X\", \"O\"]\n",
    "]) ➞ 0  "
   ]
  },
  {
   "cell_type": "code",
   "execution_count": 4,
   "id": "3907f6c3",
   "metadata": {},
   "outputs": [],
   "source": [
    "def check_score(lis):\n",
    "    symbols = {'#': 5, 'O': 3, 'X': 1, '!': -1, '!!': -3, '!!!': -5}\n",
    "    values = [symbols[j] for i in lis for j in i]\n",
    "    add = sum(values)\n",
    "    if add<0:\n",
    "        add=0\n",
    "    return add"
   ]
  },
  {
   "cell_type": "code",
   "execution_count": 11,
   "id": "bfa2b0f8",
   "metadata": {},
   "outputs": [
    {
     "name": "stdout",
     "output_type": "stream",
     "text": [
      "Total score = 2\n"
     ]
    }
   ],
   "source": [
    "score = check_score([ [\"#\", \"!\"], [\"!!\", \"X\"] ])\n",
    "print(\"Total score =\",score)"
   ]
  },
  {
   "cell_type": "code",
   "execution_count": 12,
   "id": "16a6b316",
   "metadata": {},
   "outputs": [
    {
     "name": "stdout",
     "output_type": "stream",
     "text": [
      "Total score = 0\n"
     ]
    }
   ],
   "source": [
    "score = check_score([ [\"!!!\", \"O\", \"!\"], [\"X\", \"#\", \"!!!\"], [\"!!\", \"X\", \"O\"] ])\n",
    "print(\"Total score =\",score)"
   ]
  },
  {
   "cell_type": "code",
   "execution_count": 13,
   "id": "12801052",
   "metadata": {},
   "outputs": [
    {
     "name": "stdout",
     "output_type": "stream",
     "text": [
      "Total score = 8\n"
     ]
    }
   ],
   "source": [
    "score= check_score([['#','O'],['#','!!!']])\n",
    "print(\"Total score =\",score)"
   ]
  },
  {
   "cell_type": "code",
   "execution_count": null,
   "id": "3a555e9b",
   "metadata": {},
   "outputs": [],
   "source": []
  },
  {
   "cell_type": "markdown",
   "id": "81ee6bb5",
   "metadata": {},
   "source": [
    "**2. Create a function that takes a variable number of arguments, each argument representing the number of items in a group, and returns the number of permutations (combinations) of items that you could get by taking one item from each group.**  \n",
    "\n",
    ">**Examples**  \n",
    "combinations(2, 3) ➞ 6  \n",
    "combinations(3, 7, 4) ➞ 84  \n",
    "combinations(2, 3, 4, 5) ➞ 120  "
   ]
  },
  {
   "cell_type": "code",
   "execution_count": 14,
   "id": "176c5c44",
   "metadata": {},
   "outputs": [],
   "source": [
    "from functools import reduce\n",
    "def combinations(*args):\n",
    "    comb = reduce(lambda a,b:a*b, args)\n",
    "    return comb"
   ]
  },
  {
   "cell_type": "code",
   "execution_count": 16,
   "id": "8dda5109",
   "metadata": {},
   "outputs": [
    {
     "name": "stdout",
     "output_type": "stream",
     "text": [
      "Total no of combinations of taking one item from each group = 120\n"
     ]
    }
   ],
   "source": [
    "no_of_comb = combinations(2, 3, 4, 5)\n",
    "print(f\"Total no of combinations of taking one item from each group = {no_of_comb}\")"
   ]
  },
  {
   "cell_type": "markdown",
   "id": "8e005e1d",
   "metadata": {},
   "source": [
    "**3. Create a function that takes a string as an argument and returns the Morse code equivalent.**  \n",
    "\n",
    ">**Examples**  \n",
    "encode_morse(\"EDABBIT CHALLENGE\") ➞ \". -.. .- -... -... .. -   -.-. .... .- .-.. .-.. . -. --. .\"  \n",
    "encode_morse(\"HELP ME !\") ➞ \".... . .-.. .--.   -- .   -.-.--\"  \n",
    "\n",
    "This dictionary can be used for coding:  \n",
    "\n",
    "char_to_dots = {\n",
    "  'A': '.-', 'B': '-...', 'C': '-.-.', 'D': '-..', 'E': '.', 'F': '..-.',\n",
    "  'G': '--.', 'H': '....', 'I': '..', 'J': '.---', 'K': '-.-', 'L': '.-..',\n",
    "  'M': '--', 'N': '-.', 'O': '---', 'P': '.--.', 'Q': '--.-', 'R': '.-.',\n",
    "  'S': '...', 'T': '-', 'U': '..-', 'V': '...-', 'W': '.--', 'X': '-..-',\n",
    "  'Y': '-.--', 'Z': '--..', ' ': ' ', '0': '-----',\n",
    "  '1': '.----', '2': '..---', '3': '...--', '4': '....-', '5': '.....',\n",
    "  '6': '-....', '7': '--...', '8': '---..', '9': '----.',\n",
    "  '&': '.-...', \"'\": '.----.', '@': '.--.-.', ')': '-.--.-', '(': '-.--.',\n",
    "  ':': '---...', ',': '--..--', '=': '-...-', '!': '-.-.--', '.': '.-.-.-',\n",
    "  '-': '-....-', '+': '.-.-.', '\"': '.-..-.', '?': '..--..', '/': '-..-.'\n",
    "}"
   ]
  },
  {
   "cell_type": "code",
   "execution_count": 17,
   "id": "517ecff8",
   "metadata": {},
   "outputs": [],
   "source": [
    "def encode_morse(strr):\n",
    "    char_to_dots = { \n",
    "        'A': '.-', 'B': '-...', 'C': '-.-.', 'D': '-..', 'E': '.', 'F': '..-.', \n",
    "        'G': '--.', 'H': '....', 'I': '..', 'J': '.---', 'K': '-.-', 'L': '.-..', \n",
    "        'M': '--', 'N': '-.', 'O': '---', 'P': '.--.', 'Q': '--.-', 'R': '.-.', \n",
    "        'S': '...', 'T': '-', 'U': '..-', 'V': '...-', 'W': '.--', 'X': '-..-', \n",
    "        'Y': '-.--', 'Z': '--..', ' ': ' ', '0': '-----', \n",
    "        '1': '.----', '2': '..---', '3': '...--', '4': '....-', '5': '.....', '6': '-....', \n",
    "        '7': '--...', '8': '---..', '9': '----.', \n",
    "        '&': '.-...', \"'\": '.----.', '@': '.--.-.', ')': '-.--.-', '(': '-.--.', \n",
    "        ':': '---...', ',': '--..--', '=': '-...-', '!': '-.-.--', '.': '.-.-.-', \n",
    "        '-': '-....-', '+': '.-.-.', '\"': '.-..-.', '?': '..--..', '/': '-..-.'\n",
    "    }\n",
    "    lis = list(map(lambda x: char_to_dots[x],list(strr.upper())))\n",
    "    morse_code = \"\".join(lis)\n",
    "    return morse_code"
   ]
  },
  {
   "cell_type": "code",
   "execution_count": 39,
   "id": "c6753711",
   "metadata": {},
   "outputs": [
    {
     "name": "stdout",
     "output_type": "stream",
     "text": [
      "Enter your string: My Name is Shivansh Kaushal\n",
      "Morse code for 'My Name is Shivansh Kaushal' : \n",
      "'---.-- -..---. ..... ............-.--........ -.-.-..-........-.-..'\n"
     ]
    }
   ],
   "source": [
    "s = input(\"Enter your string: \")\n",
    "morse_code = encode_morse(s)\n",
    "print(f\"Morse code for '{s}' : \\n'{morse_code}'\")"
   ]
  },
  {
   "cell_type": "code",
   "execution_count": 18,
   "id": "e4fa4cda",
   "metadata": {},
   "outputs": [
    {
     "data": {
      "text/plain": [
       "'.-...--...-.....- -.-......-.-...-...-.--..'"
      ]
     },
     "execution_count": 18,
     "metadata": {},
     "output_type": "execute_result"
    }
   ],
   "source": [
    "encode_morse(\"EDABBIT CHALLENGE\")"
   ]
  },
  {
   "cell_type": "code",
   "execution_count": 19,
   "id": "9dd09e8b",
   "metadata": {},
   "outputs": [
    {
     "data": {
      "text/plain": [
       "'......-...--. --. -.-.--'"
      ]
     },
     "execution_count": 19,
     "metadata": {},
     "output_type": "execute_result"
    }
   ],
   "source": [
    "encode_morse(\"HELP ME !\")"
   ]
  },
  {
   "cell_type": "code",
   "execution_count": null,
   "id": "a489239e",
   "metadata": {},
   "outputs": [],
   "source": []
  },
  {
   "cell_type": "markdown",
   "id": "8a24d17b",
   "metadata": {},
   "source": [
    "**4.  Write a function that takes a number and returns True if it's a prime; False otherwise. The number can be 2^64-1 (2 to the power of 63, not XOR). With the standard technique it would be O(2^64-1), which is much too large for the 10 second time limit.**  \n",
    "\n",
    ">**Examples**  \n",
    "prime(7) ➞ True  \n",
    "prime(56963) ➞ True  \n",
    "prime(5151512515524) ➞ False  "
   ]
  },
  {
   "cell_type": "code",
   "execution_count": 11,
   "id": "5a3b9a2a",
   "metadata": {},
   "outputs": [],
   "source": [
    "import math\n",
    "def prime(num):\n",
    "    if num==2:\n",
    "        return True\n",
    "    \n",
    "    elif num==1 or num%2 == 0:\n",
    "        return False\n",
    "    else:\n",
    "        for i in range(3,int(math.sqrt(num)),2):\n",
    "            if num%i==0:\n",
    "                return False\n",
    "        return True"
   ]
  },
  {
   "cell_type": "code",
   "execution_count": 13,
   "id": "77087750",
   "metadata": {},
   "outputs": [
    {
     "name": "stdout",
     "output_type": "stream",
     "text": [
      "Enter no. to check for prime: 4589317\n",
      "4589317 is not a Prime Number\n"
     ]
    }
   ],
   "source": [
    "num = int(input(\"Enter no. to check for prime: \"))\n",
    "p = prime(num)\n",
    "if p==True:\n",
    "    print(f\"{num} is PRIME NUMBER!!\")\n",
    "else:\n",
    "    print(f\"{num} is not a Prime Number\")\n"
   ]
  },
  {
   "cell_type": "code",
   "execution_count": 3,
   "id": "15e9faeb",
   "metadata": {},
   "outputs": [
    {
     "data": {
      "text/plain": [
       "False"
      ]
     },
     "execution_count": 3,
     "metadata": {},
     "output_type": "execute_result"
    }
   ],
   "source": [
    "prime(5151512515524)"
   ]
  },
  {
   "cell_type": "code",
   "execution_count": 14,
   "id": "c8024694",
   "metadata": {},
   "outputs": [
    {
     "data": {
      "text/plain": [
       "True"
      ]
     },
     "execution_count": 14,
     "metadata": {},
     "output_type": "execute_result"
    }
   ],
   "source": [
    "prime(56963)"
   ]
  },
  {
   "cell_type": "code",
   "execution_count": 15,
   "id": "dce2d055",
   "metadata": {},
   "outputs": [
    {
     "data": {
      "text/plain": [
       "True"
      ]
     },
     "execution_count": 15,
     "metadata": {},
     "output_type": "execute_result"
    }
   ],
   "source": [
    "prime(7)"
   ]
  },
  {
   "cell_type": "code",
   "execution_count": null,
   "id": "ae22afbb",
   "metadata": {},
   "outputs": [],
   "source": []
  },
  {
   "cell_type": "markdown",
   "id": "e6b9391e",
   "metadata": {},
   "source": [
    "**5.  Create a function that converts a word to a bitstring and then to a boolean list based on the following criteria:**  \n",
    "\n",
    "    1. Locate the position of the letter in the English alphabet (from 1 to 26).\n",
    "    2. Odd positions will be represented as 1 and 0 otherwise.\n",
    "    3. Convert the represented positions to boolean values, 1 for True and 0 for False.\n",
    "    4. Store the conversions into an array.\n",
    "\n",
    ">**Examples**  \n",
    "\n",
    ">to_boolean_list(\"deep\") ➞ [False, True, True, False]  \n",
    "    # deep converts to 0110  \n",
    "    # d is the 4th alphabet - 0  \n",
    "    # e is the 5th alphabet - 1  \n",
    "    # e is the 5th alphabet - 1  \n",
    "    # p is the 16th alphabet - 0  \n",
    "to_boolean_list(\"loves\") ➞ [False, True, False, True, True]  \n",
    "to_boolean_list(\"tesh\") ➞ [False, True, True, False]"
   ]
  },
  {
   "cell_type": "code",
   "execution_count": 34,
   "id": "7bb1805f",
   "metadata": {},
   "outputs": [],
   "source": [
    "def to_boolean_list(word):\n",
    "    word = word.lower()\n",
    "    lis= [0 if (ord(i)-96)%2==0 else 1 for i in list(word)]\n",
    "    bool_list = list(map(bool,lis))\n",
    "    return bool_list"
   ]
  },
  {
   "cell_type": "code",
   "execution_count": 40,
   "id": "3d3b0316",
   "metadata": {},
   "outputs": [
    {
     "name": "stdout",
     "output_type": "stream",
     "text": [
      "Enter your word: WIND\n",
      "Boolean list for \"WIND\" : [True, True, False, False]\n"
     ]
    }
   ],
   "source": [
    "word = input(\"Enter your word: \")\n",
    "bl = to_boolean_list(word)\n",
    "print(f'Boolean list for \"{word}\" : {bl}' )"
   ]
  },
  {
   "cell_type": "code",
   "execution_count": 35,
   "id": "b260752d",
   "metadata": {},
   "outputs": [
    {
     "data": {
      "text/plain": [
       "[False, True, True, False]"
      ]
     },
     "execution_count": 35,
     "metadata": {},
     "output_type": "execute_result"
    }
   ],
   "source": [
    "to_boolean_list(\"deep\")"
   ]
  },
  {
   "cell_type": "code",
   "execution_count": 36,
   "id": "fed3595d",
   "metadata": {},
   "outputs": [
    {
     "data": {
      "text/plain": [
       "[False, True, False, True, True]"
      ]
     },
     "execution_count": 36,
     "metadata": {},
     "output_type": "execute_result"
    }
   ],
   "source": [
    "to_boolean_list(\"loves\")"
   ]
  },
  {
   "cell_type": "code",
   "execution_count": 38,
   "id": "d397b539",
   "metadata": {},
   "outputs": [
    {
     "data": {
      "text/plain": [
       "[False, True, True, False]"
      ]
     },
     "execution_count": 38,
     "metadata": {},
     "output_type": "execute_result"
    }
   ],
   "source": [
    "to_boolean_list(\"Tesh\")"
   ]
  },
  {
   "cell_type": "code",
   "execution_count": null,
   "id": "066c498f",
   "metadata": {},
   "outputs": [],
   "source": []
  }
 ],
 "metadata": {
  "kernelspec": {
   "display_name": "Python 3 (ipykernel)",
   "language": "python",
   "name": "python3"
  },
  "language_info": {
   "codemirror_mode": {
    "name": "ipython",
    "version": 3
   },
   "file_extension": ".py",
   "mimetype": "text/x-python",
   "name": "python",
   "nbconvert_exporter": "python",
   "pygments_lexer": "ipython3",
   "version": "3.9.7"
  }
 },
 "nbformat": 4,
 "nbformat_minor": 5
}
