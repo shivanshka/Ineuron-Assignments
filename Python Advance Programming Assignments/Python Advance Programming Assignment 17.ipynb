{
 "cells": [
  {
   "cell_type": "markdown",
   "id": "61d099c3",
   "metadata": {},
   "source": [
    "# Advance Programming Assignment 17"
   ]
  },
  {
   "cell_type": "markdown",
   "id": "9b9a8679",
   "metadata": {},
   "source": [
    "**1. Create a function that transposes a 2D matrix.**  \n",
    "\n",
    ">**Examples**  \n",
    "transpose_matrix([  \n",
    "  [1, 1, 1],  \n",
    "  [2, 2, 2],  \n",
    "  [3, 3, 3]  \n",
    "]) ➞ [  \n",
    "  [1, 2, 3],  \n",
    "  [1, 2, 3],  \n",
    "  [1, 2, 3]]    \n",
    "transpose_matrix([  \n",
    "  [5, 5],  \n",
    "  [6, 7],  \n",
    "  [9, 1]  \n",
    "]) ➞ [  \n",
    "  [5, 6, 9],  \n",
    "  [5, 7, 1]  \n",
    "]  "
   ]
  },
  {
   "cell_type": "code",
   "execution_count": 9,
   "id": "1dccf68c",
   "metadata": {},
   "outputs": [],
   "source": [
    "import numpy as np\n",
    "def transpose_matrix(mat):\n",
    "    return np.asmatrix(mat).T"
   ]
  },
  {
   "cell_type": "code",
   "execution_count": 10,
   "id": "482f0da0",
   "metadata": {},
   "outputs": [
    {
     "data": {
      "text/plain": [
       "matrix([[1, 2, 3],\n",
       "        [1, 2, 3],\n",
       "        [1, 2, 3]])"
      ]
     },
     "execution_count": 10,
     "metadata": {},
     "output_type": "execute_result"
    }
   ],
   "source": [
    "transpose_matrix([\n",
    "[1, 1, 1],\n",
    "[2, 2, 2],\n",
    "[3, 3, 3]\n",
    "]) "
   ]
  },
  {
   "cell_type": "code",
   "execution_count": 11,
   "id": "67085b50",
   "metadata": {},
   "outputs": [
    {
     "data": {
      "text/plain": [
       "matrix([[5, 6, 9],\n",
       "        [5, 7, 1]])"
      ]
     },
     "execution_count": 11,
     "metadata": {},
     "output_type": "execute_result"
    }
   ],
   "source": [
    "transpose_matrix([\n",
    "[5, 5],\n",
    "[6, 7],\n",
    "[9, 1]\n",
    "])"
   ]
  },
  {
   "cell_type": "code",
   "execution_count": null,
   "id": "1ad652a1",
   "metadata": {},
   "outputs": [],
   "source": []
  },
  {
   "cell_type": "markdown",
   "id": "a44886ac",
   "metadata": {},
   "source": [
    "**2. Create a function that determines whether a string is a valid hex code.\n",
    "A hex code must begin with a pound key # and is exactly 6 characters in length. Each character must be a digit from 0-9 or an alphabetic character from A-F. All alphabetic characters may be uppercase or lowercase.**  \n",
    "\n",
    ">**Examples**  \n",
    "is_valid_hex_code(\"#CD5C5C\") ➞ True  \n",
    "is_valid_hex_code(\"#EAECEE\") ➞ True  \n",
    "is_valid_hex_code(\"#eaecee\") ➞ True  \n",
    "is_valid_hex_code(\"#CD5C58C\") ➞ False  \n",
    "    --> # Length exceeds 6  \n",
    "is_valid_hex_code(\"#CD5C5Z\") ➞ False  \n",
    "    --> # Not all alphabetic characters in A-F  \n",
    "is_valid_hex_code(\"#CD5C&C\") ➞ False  \n",
    "    --> # Contains unacceptable character  \n",
    "is_valid_hex_code(\"CD5C5C\") ➞ False  \n",
    "    --> # Missing #"
   ]
  },
  {
   "cell_type": "code",
   "execution_count": 19,
   "id": "20b01b23",
   "metadata": {},
   "outputs": [],
   "source": [
    "import re\n",
    "def is_valid_hex_code(code):\n",
    "    try:\n",
    "        patt = \"^#[0-9a-fA-F]{6}\"\n",
    "        if len(code)==7 and re.search(patt,code):\n",
    "            return True\n",
    "        return False\n",
    "    except Exception as e:\n",
    "        print(\"Error occured: \",e)"
   ]
  },
  {
   "cell_type": "code",
   "execution_count": 13,
   "id": "28f8d1d8",
   "metadata": {},
   "outputs": [
    {
     "data": {
      "text/plain": [
       "True"
      ]
     },
     "execution_count": 13,
     "metadata": {},
     "output_type": "execute_result"
    }
   ],
   "source": [
    "is_valid_hex_code(\"#CD5C5C\")"
   ]
  },
  {
   "cell_type": "code",
   "execution_count": 14,
   "id": "e27eee4c",
   "metadata": {},
   "outputs": [
    {
     "data": {
      "text/plain": [
       "False"
      ]
     },
     "execution_count": 14,
     "metadata": {},
     "output_type": "execute_result"
    }
   ],
   "source": [
    "is_valid_hex_code(\"#CD5C5Z\")"
   ]
  },
  {
   "cell_type": "code",
   "execution_count": 15,
   "id": "b6c920bf",
   "metadata": {},
   "outputs": [
    {
     "data": {
      "text/plain": [
       "False"
      ]
     },
     "execution_count": 15,
     "metadata": {},
     "output_type": "execute_result"
    }
   ],
   "source": [
    "is_valid_hex_code(\"CD5C5C\")"
   ]
  },
  {
   "cell_type": "code",
   "execution_count": 16,
   "id": "8812e189",
   "metadata": {},
   "outputs": [
    {
     "data": {
      "text/plain": [
       "True"
      ]
     },
     "execution_count": 16,
     "metadata": {},
     "output_type": "execute_result"
    }
   ],
   "source": [
    "is_valid_hex_code(\"#EAECEE\")"
   ]
  },
  {
   "cell_type": "code",
   "execution_count": 17,
   "id": "3d747bcf",
   "metadata": {},
   "outputs": [
    {
     "data": {
      "text/plain": [
       "True"
      ]
     },
     "execution_count": 17,
     "metadata": {},
     "output_type": "execute_result"
    }
   ],
   "source": [
    "is_valid_hex_code(\"#eaecee\")"
   ]
  },
  {
   "cell_type": "code",
   "execution_count": 18,
   "id": "7ad345e7",
   "metadata": {},
   "outputs": [
    {
     "data": {
      "text/plain": [
       "False"
      ]
     },
     "execution_count": 18,
     "metadata": {},
     "output_type": "execute_result"
    }
   ],
   "source": [
    "is_valid_hex_code(\"#CD5C58C\")"
   ]
  },
  {
   "cell_type": "code",
   "execution_count": 20,
   "id": "d61db794",
   "metadata": {},
   "outputs": [
    {
     "data": {
      "text/plain": [
       "False"
      ]
     },
     "execution_count": 20,
     "metadata": {},
     "output_type": "execute_result"
    }
   ],
   "source": [
    "is_valid_hex_code(\"#CD5C&C\")"
   ]
  },
  {
   "cell_type": "code",
   "execution_count": null,
   "id": "1a9855c3",
   "metadata": {},
   "outputs": [],
   "source": []
  },
  {
   "cell_type": "markdown",
   "id": "e331293d",
   "metadata": {},
   "source": [
    "**3. Given a list of math equations (given as strings), return the percentage of correct answers as a string. Round to the nearest whole number.**  \n",
    "\n",
    ">**Examples**  \n",
    "mark_maths([\"2+2=4\", \"3+2=5\", \"10-3=3\", \"5+5=10\"]) ➞ \"75%\"  \n",
    "mark_maths([\"1-2=-2\"]), \"0%\"  \n",
    "mark_maths([\"2+3=5\", \"4+4=9\", \"3-1=2\"]) ➞ \"67%\"  "
   ]
  },
  {
   "cell_type": "code",
   "execution_count": 53,
   "id": "6b0e5a6c",
   "metadata": {},
   "outputs": [],
   "source": [
    "def mark_maths(math_eq):\n",
    "    try:\n",
    "        total_ques = len(math_eq)\n",
    "        correct_ans = 0\n",
    "        for ques in math_eq:\n",
    "            q = str(eval(ques.split(\"=\")[0]))\n",
    "            a = ques.split(\"=\")[1]\n",
    "            if q == a:\n",
    "                correct_ans+=1\n",
    "        result = (correct_ans/total_ques)*100\n",
    "        return \"{}%\".format(round(result))\n",
    "    except Exception as e:\n",
    "        print(\"Incorrect input\")\n",
    "        print(\"error occured: \",e)"
   ]
  },
  {
   "cell_type": "code",
   "execution_count": 50,
   "id": "0bacdcaa",
   "metadata": {},
   "outputs": [
    {
     "data": {
      "text/plain": [
       "'75%'"
      ]
     },
     "execution_count": 50,
     "metadata": {},
     "output_type": "execute_result"
    }
   ],
   "source": [
    "mark_maths([\"2+2=4\", \"3+2=5\", \"10-3=3\", \"5+5=10\"])"
   ]
  },
  {
   "cell_type": "code",
   "execution_count": 51,
   "id": "bd789cc9",
   "metadata": {},
   "outputs": [
    {
     "data": {
      "text/plain": [
       "'0%'"
      ]
     },
     "execution_count": 51,
     "metadata": {},
     "output_type": "execute_result"
    }
   ],
   "source": [
    "mark_maths([\"1-2=-2\"])"
   ]
  },
  {
   "cell_type": "code",
   "execution_count": 52,
   "id": "f1c5b175",
   "metadata": {},
   "outputs": [
    {
     "data": {
      "text/plain": [
       "'67%'"
      ]
     },
     "execution_count": 52,
     "metadata": {},
     "output_type": "execute_result"
    }
   ],
   "source": [
    "mark_maths([\"2+3=5\", \"4+4=9\", \"3-1=2\"])"
   ]
  },
  {
   "cell_type": "code",
   "execution_count": null,
   "id": "dfb5d1e1",
   "metadata": {},
   "outputs": [],
   "source": []
  },
  {
   "cell_type": "markdown",
   "id": "2d068783",
   "metadata": {},
   "source": [
    "**4. There are two players, Alice and Bob, each with a 3-by-3 grid. A referee tells Alice to fill out one particular row in the grid (say the second row) by putting either a 1 or a 0 in each box, such that the sum of the numbers in that row is odd. The referee tells Bob to fill out one column in the grid (say the first column) by putting either a 1 or a 0 in each box, such that the sum of the numbers in that column is even.**  \n",
    "\n",
    "Alice and Bob win the game if Alice’s numbers give an odd sum, Bob’s give an even sum, and (most important) they’ve each written down the same number in the one square where their row and column intersect.  \n",
    "\n",
    ">**Examples**  \n",
    "magic_square_game([2, \"100\"], [1, \"101\"]) ➞ False  \n",
    "magic_square_game([2, \"001\"], [1, \"101\"]) ➞ True  \n",
    "magic_square_game([3, \"111\"], [2, \"011\"]) ➞ True  \n",
    "magic_square_game([1, \"010\"], [3, \"101\"]) ➞ False  \n",
    "    # Two lists, Alice [row, \"her choice\"], Bob [column, \"his choice\"]\n"
   ]
  },
  {
   "cell_type": "code",
   "execution_count": 72,
   "id": "f0076c20",
   "metadata": {},
   "outputs": [],
   "source": [
    "def magic_square_game(alice, bob):\n",
    "    alice_sum = sum([int(i) for i in alice[1]])\n",
    "    bob_sum = sum([int(i) for i in bob[1]])\n",
    "    if alice_sum%2!=0 and bob_sum%2==0:\n",
    "        row,column = alice[0]-1, bob[0]-1\n",
    "        if alice[1][column] == bob[1][row]:\n",
    "            return True\n",
    "    return False"
   ]
  },
  {
   "cell_type": "code",
   "execution_count": 74,
   "id": "44eda52c",
   "metadata": {},
   "outputs": [
    {
     "data": {
      "text/plain": [
       "False"
      ]
     },
     "execution_count": 74,
     "metadata": {},
     "output_type": "execute_result"
    }
   ],
   "source": [
    "magic_square_game([2, \"100\"], [1, \"101\"])"
   ]
  },
  {
   "cell_type": "code",
   "execution_count": 75,
   "id": "a1338ca8",
   "metadata": {},
   "outputs": [
    {
     "data": {
      "text/plain": [
       "True"
      ]
     },
     "execution_count": 75,
     "metadata": {},
     "output_type": "execute_result"
    }
   ],
   "source": [
    "magic_square_game([2, \"001\"], [1, \"101\"])"
   ]
  },
  {
   "cell_type": "code",
   "execution_count": 76,
   "id": "b15399ae",
   "metadata": {},
   "outputs": [
    {
     "data": {
      "text/plain": [
       "True"
      ]
     },
     "execution_count": 76,
     "metadata": {},
     "output_type": "execute_result"
    }
   ],
   "source": [
    "magic_square_game([3, \"111\"], [2, \"011\"])"
   ]
  },
  {
   "cell_type": "code",
   "execution_count": 77,
   "id": "3ef221f5",
   "metadata": {},
   "outputs": [
    {
     "data": {
      "text/plain": [
       "False"
      ]
     },
     "execution_count": 77,
     "metadata": {},
     "output_type": "execute_result"
    }
   ],
   "source": [
    "magic_square_game([1, \"010\"], [3, \"101\"])"
   ]
  },
  {
   "cell_type": "code",
   "execution_count": null,
   "id": "8032cc20",
   "metadata": {},
   "outputs": [],
   "source": []
  },
  {
   "cell_type": "markdown",
   "id": "5bf8ae93",
   "metadata": {},
   "source": [
    "**5. From point A, an object is moving towards point B at constant velocity va (in km/hr). From point B, another object is moving towards point A at constant velocity vb (in km/hr). Knowing this and the distance between point A and B (in km), write a function that returns how much time passes until both objects meet.**  \n",
    "\n",
    "Format the output like this:\n",
    "\n",
    "\"2h 23min 34s\"\n",
    "\n",
    ">**Examples**  \n",
    "lets_meet(100, 10, 30) ➞ \"2h 30min 0s\"  \n",
    "lets_meet(280, 70, 80) ➞ \"1h 52min 0s\"  \n",
    "-lets_meet(90, 75, 65) ➞ \"0h 38min 34s\"  "
   ]
  },
  {
   "cell_type": "code",
   "execution_count": 105,
   "id": "b95379a9",
   "metadata": {},
   "outputs": [],
   "source": [
    "def lets_meet(dist,va,vb):\n",
    "    average_speed = va+vb\n",
    "    meet_time_hr = dist/average_speed\n",
    "    meet_time_min = (meet_time_hr - int(meet_time_hr))*60\n",
    "    meet_time_sec = (meet_time_min - int(meet_time_min))*60\n",
    "    return \"{}h {}min {}s\".format(int(meet_time_hr),int(meet_time_min),int(meet_time_sec))"
   ]
  },
  {
   "cell_type": "code",
   "execution_count": 106,
   "id": "c9ff6664",
   "metadata": {},
   "outputs": [
    {
     "data": {
      "text/plain": [
       "'0h 38min 34s'"
      ]
     },
     "execution_count": 106,
     "metadata": {},
     "output_type": "execute_result"
    }
   ],
   "source": [
    "lets_meet(90,75,65)"
   ]
  },
  {
   "cell_type": "code",
   "execution_count": 107,
   "id": "458b69e5",
   "metadata": {},
   "outputs": [
    {
     "data": {
      "text/plain": [
       "'2h 30min 0s'"
      ]
     },
     "execution_count": 107,
     "metadata": {},
     "output_type": "execute_result"
    }
   ],
   "source": [
    "lets_meet(100, 10, 30)"
   ]
  },
  {
   "cell_type": "code",
   "execution_count": 108,
   "id": "87db91bb",
   "metadata": {},
   "outputs": [
    {
     "data": {
      "text/plain": [
       "'1h 52min 0s'"
      ]
     },
     "execution_count": 108,
     "metadata": {},
     "output_type": "execute_result"
    }
   ],
   "source": [
    "lets_meet(280, 70, 80)"
   ]
  },
  {
   "cell_type": "code",
   "execution_count": null,
   "id": "1fa322c8",
   "metadata": {},
   "outputs": [],
   "source": []
  }
 ],
 "metadata": {
  "kernelspec": {
   "display_name": "Python 3 (ipykernel)",
   "language": "python",
   "name": "python3"
  },
  "language_info": {
   "codemirror_mode": {
    "name": "ipython",
    "version": 3
   },
   "file_extension": ".py",
   "mimetype": "text/x-python",
   "name": "python",
   "nbconvert_exporter": "python",
   "pygments_lexer": "ipython3",
   "version": "3.9.12"
  }
 },
 "nbformat": 4,
 "nbformat_minor": 5
}
