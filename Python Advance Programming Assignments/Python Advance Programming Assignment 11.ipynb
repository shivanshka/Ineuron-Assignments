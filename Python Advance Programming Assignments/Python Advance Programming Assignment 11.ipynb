{
 "cells": [
  {
   "cell_type": "markdown",
   "id": "93067ea6",
   "metadata": {},
   "source": [
    "# Advance Programming Assignment 11"
   ]
  },
  {
   "cell_type": "markdown",
   "id": "e0630ce0",
   "metadata": {},
   "source": [
    "**1. Create a function that takes a list and returns a new list containing only prime numbers.**  \n",
    "\n",
    "> **Examples**  \n",
    "filter_primes([7, 9, 3, 9, 10, 11, 27]) ➞ [7, 3, 11]  \n",
    "filter_primes([10007, 1009, 1007, 27, 147, 77, 1001, 70]) ➞ [10007, 1009]  \n",
    "filter_primes([1009, 10, 10, 10, 3, 33, 9, 4, 1, 61, 63, 69, 1087, 1091, 1093, 1097]) ➞ [1009, 3, 61, 1087, 1091, 1093, 1097]  "
   ]
  },
  {
   "cell_type": "code",
   "execution_count": 2,
   "id": "d988b31a",
   "metadata": {},
   "outputs": [],
   "source": [
    "def prime_check(num):\n",
    "    if num == 2:\n",
    "        return True\n",
    "    elif num == 0 or num == 1:\n",
    "        return False\n",
    "    elif num%2!=0:\n",
    "        for i in range(3,num,2):\n",
    "            if num%i==0:\n",
    "                return False\n",
    "        return True\n",
    "    else:\n",
    "        return False\n",
    "        \n",
    "def filter_primes(num_list):\n",
    "    prime_list = [num for num in num_list if prime_check(num)]\n",
    "    return prime_list"
   ]
  },
  {
   "cell_type": "code",
   "execution_count": 3,
   "id": "5a3ea9d5",
   "metadata": {},
   "outputs": [
    {
     "data": {
      "text/plain": [
       "[7, 3, 11]"
      ]
     },
     "execution_count": 3,
     "metadata": {},
     "output_type": "execute_result"
    }
   ],
   "source": [
    "filter_primes([7, 9, 3, 9, 10, 11, 27])"
   ]
  },
  {
   "cell_type": "code",
   "execution_count": 4,
   "id": "77640363",
   "metadata": {},
   "outputs": [
    {
     "data": {
      "text/plain": [
       "[10007, 1009]"
      ]
     },
     "execution_count": 4,
     "metadata": {},
     "output_type": "execute_result"
    }
   ],
   "source": [
    "filter_primes([10007, 1009, 1007, 27, 147, 77, 1001, 70])"
   ]
  },
  {
   "cell_type": "code",
   "execution_count": 5,
   "id": "42b9bcea",
   "metadata": {},
   "outputs": [
    {
     "data": {
      "text/plain": [
       "[1009, 3, 61, 1087, 1091, 1093, 1097]"
      ]
     },
     "execution_count": 5,
     "metadata": {},
     "output_type": "execute_result"
    }
   ],
   "source": [
    "filter_primes([1009, 10, 10, 10, 3, 33, 9, 4, 1, 61, 63, 69, 1087, 1091, 1093, 1097])"
   ]
  },
  {
   "cell_type": "code",
   "execution_count": null,
   "id": "fcaa8216",
   "metadata": {},
   "outputs": [],
   "source": []
  },
  {
   "cell_type": "markdown",
   "id": "f9ad2803",
   "metadata": {},
   "source": [
    "**2. Once a water balloon pops, is soaks the area around it. The ground gets drier the further away you travel from the balloon.\n",
    "   The effect of a water balloon popping can be modeled using a list. Create a function that takes a list which takes the pre-    pop state and returns the state after the balloon is popped. The pre-pop state will contain at most a single balloon, whose    size is represented by the only non-zero element.**  \n",
    "\n",
    "> **Examples**  \n",
    "pop([0, 0, 0, 0, 4, 0, 0, 0, 0]) ➞ [0, 1, 2, 3, 4, 3, 2, 1, 0]  \n",
    "pop([0, 0, 0, 3, 0, 0, 0]) ➞ [0, 1, 2, 3, 2, 1, 0]  \n",
    "pop([0, 0, 2, 0, 0]) ➞ [0, 1, 2, 1, 0]  \n",
    "pop([0]) ➞ [0]  "
   ]
  },
  {
   "cell_type": "code",
   "execution_count": 37,
   "id": "ad5b18f6",
   "metadata": {},
   "outputs": [],
   "source": [
    "def pop(pre_pop_state):\n",
    "    post_pop = []\n",
    "    c = 1\n",
    "    index = int((len(pre_pop_state))/2)\n",
    "    for i in range(len(pre_pop_state)):\n",
    "        if i>index:\n",
    "            post_pop.append(pre_pop_state[index] - c)\n",
    "            c+=1\n",
    "        else:\n",
    "            post_pop.append(i)\n",
    "    return post_pop\n",
    "    "
   ]
  },
  {
   "cell_type": "code",
   "execution_count": 38,
   "id": "30f57122",
   "metadata": {},
   "outputs": [
    {
     "data": {
      "text/plain": [
       "[0, 1, 2, 3, 4, 3, 2, 1, 0]"
      ]
     },
     "execution_count": 38,
     "metadata": {},
     "output_type": "execute_result"
    }
   ],
   "source": [
    "pop([0, 0, 0, 0, 4, 0, 0, 0, 0])"
   ]
  },
  {
   "cell_type": "code",
   "execution_count": 40,
   "id": "aa0af43f",
   "metadata": {},
   "outputs": [
    {
     "data": {
      "text/plain": [
       "[0, 1, 2, 3, 2, 1, 0]"
      ]
     },
     "execution_count": 40,
     "metadata": {},
     "output_type": "execute_result"
    }
   ],
   "source": [
    "pop([0, 0, 0, 3, 0, 0, 0])"
   ]
  },
  {
   "cell_type": "code",
   "execution_count": 41,
   "id": "15a8fd46",
   "metadata": {},
   "outputs": [
    {
     "data": {
      "text/plain": [
       "[0, 1, 2, 1, 0]"
      ]
     },
     "execution_count": 41,
     "metadata": {},
     "output_type": "execute_result"
    }
   ],
   "source": [
    "pop([0, 0, 2, 0, 0])"
   ]
  },
  {
   "cell_type": "code",
   "execution_count": 42,
   "id": "3f3d34c9",
   "metadata": {},
   "outputs": [
    {
     "data": {
      "text/plain": [
       "[0]"
      ]
     },
     "execution_count": 42,
     "metadata": {},
     "output_type": "execute_result"
    }
   ],
   "source": [
    "pop([0])"
   ]
  },
  {
   "cell_type": "code",
   "execution_count": null,
   "id": "1e01c77f",
   "metadata": {},
   "outputs": [],
   "source": []
  },
  {
   "cell_type": "markdown",
   "id": "d2074719",
   "metadata": {},
   "source": [
    "**3. \"Loves me, loves me not\" is a traditional game in which a person plucks off all the petals of a flower one by one, saying the phrase \"Loves me\" and \"Loves me not\" when determining whether the one that they love, loves them back.\n",
    "Given a number of petals, return a string which repeats the phrases \"Loves me\" and \"Loves me not\" for every alternating petal, and return the last phrase in all caps. Remember to put a comma and space between phrases.**  \n",
    "\n",
    "> **Examples**  \n",
    "loves_me(3) ➞ \"Loves me, Loves me not, LOVES ME\"  \n",
    "loves_me(6) ➞ \"Loves me, Loves me not, Loves me, Loves me not, Loves me, LOVES ME NOT\"  \n",
    "loves_me(1) ➞ \"LOVES ME\""
   ]
  },
  {
   "cell_type": "code",
   "execution_count": 20,
   "id": "4c5f4e08",
   "metadata": {},
   "outputs": [],
   "source": [
    "def loves_me(num_of_petals):\n",
    "    loves = []\n",
    "    for i in range(num_of_petals):\n",
    "        if i%2 == 0:\n",
    "            str_ = \"Loves me\"\n",
    "        else:\n",
    "            str_ = \"Loves me not\"\n",
    "        \n",
    "        if i==(num_of_petals-1):\n",
    "            loves.append(str_.upper())\n",
    "        else:\n",
    "            loves.append(str_)\n",
    "    return \", \".join(loves)"
   ]
  },
  {
   "cell_type": "code",
   "execution_count": 21,
   "id": "790f317e",
   "metadata": {},
   "outputs": [
    {
     "data": {
      "text/plain": [
       "'Loves me, Loves me not, LOVES ME'"
      ]
     },
     "execution_count": 21,
     "metadata": {},
     "output_type": "execute_result"
    }
   ],
   "source": [
    "loves_me(3)"
   ]
  },
  {
   "cell_type": "code",
   "execution_count": 22,
   "id": "e22288ea",
   "metadata": {},
   "outputs": [
    {
     "data": {
      "text/plain": [
       "'Loves me, Loves me not, Loves me, Loves me not, Loves me, LOVES ME NOT'"
      ]
     },
     "execution_count": 22,
     "metadata": {},
     "output_type": "execute_result"
    }
   ],
   "source": [
    "loves_me(6)"
   ]
  },
  {
   "cell_type": "code",
   "execution_count": 23,
   "id": "0ad371ca",
   "metadata": {},
   "outputs": [
    {
     "data": {
      "text/plain": [
       "'LOVES ME'"
      ]
     },
     "execution_count": 23,
     "metadata": {},
     "output_type": "execute_result"
    }
   ],
   "source": [
    "loves_me(1)"
   ]
  },
  {
   "cell_type": "code",
   "execution_count": null,
   "id": "937db14c",
   "metadata": {},
   "outputs": [],
   "source": []
  },
  {
   "cell_type": "markdown",
   "id": "c52d5590",
   "metadata": {},
   "source": [
    "**4. Write a function that sorts each string in a list by the letter in alphabetic ascending order (a-z).**  \n",
    "\n",
    "> **Examples**  \n",
    "sort_by_letter([\"932c\", \"832u32\", \"2344b\"])➞ [\"2344b\", \"932c\", \"832u32\"]  \n",
    "sort_by_letter([\"99a\", \"78b\", \"c2345\", \"11d\"])➞ [\"99a\", \"78b\", \"c2345\", \"11d\"]  \n",
    "sort_by_letter([\"572z\", \"5y5\", \"304q2\"])➞ [\"304q2\", \"5y5\", \"572z\"]  \n",
    "sort_by_letter([])➞ []  \n"
   ]
  },
  {
   "cell_type": "code",
   "execution_count": 32,
   "id": "718c132c",
   "metadata": {},
   "outputs": [],
   "source": [
    "import re\n",
    "def sort_by_letter(lis):\n",
    "    letters = [re.findall(\"[a-z]\",i)[0] for i in lis]\n",
    "    letters.sort()\n",
    "    sorted_lis =[]\n",
    "    for j in letters:\n",
    "        for k in  lis:\n",
    "            if j in k:\n",
    "                sorted_lis.append(k)          \n",
    "    return sorted_lis"
   ]
  },
  {
   "cell_type": "code",
   "execution_count": 33,
   "id": "d7d8e75f",
   "metadata": {},
   "outputs": [
    {
     "data": {
      "text/plain": [
       "['2344b', '932c', '832u32']"
      ]
     },
     "execution_count": 33,
     "metadata": {},
     "output_type": "execute_result"
    }
   ],
   "source": [
    "sort_by_letter([\"932c\", \"832u32\", \"2344b\"])"
   ]
  },
  {
   "cell_type": "code",
   "execution_count": 34,
   "id": "60e6dc1d",
   "metadata": {},
   "outputs": [
    {
     "data": {
      "text/plain": [
       "['99a', '78b', 'c2345', '11d']"
      ]
     },
     "execution_count": 34,
     "metadata": {},
     "output_type": "execute_result"
    }
   ],
   "source": [
    "sort_by_letter([\"99a\", \"78b\", \"c2345\", \"11d\"])"
   ]
  },
  {
   "cell_type": "code",
   "execution_count": 35,
   "id": "6905f8d1",
   "metadata": {},
   "outputs": [
    {
     "data": {
      "text/plain": [
       "['304q2', '5y5', '572z']"
      ]
     },
     "execution_count": 35,
     "metadata": {},
     "output_type": "execute_result"
    }
   ],
   "source": [
    "sort_by_letter([\"572z\", \"5y5\", \"304q2\"])"
   ]
  },
  {
   "cell_type": "code",
   "execution_count": 37,
   "id": "7a97f533",
   "metadata": {},
   "outputs": [
    {
     "data": {
      "text/plain": [
       "[]"
      ]
     },
     "execution_count": 37,
     "metadata": {},
     "output_type": "execute_result"
    }
   ],
   "source": [
    "sort_by_letter([])"
   ]
  },
  {
   "cell_type": "code",
   "execution_count": null,
   "id": "2f83b226",
   "metadata": {},
   "outputs": [],
   "source": []
  },
  {
   "cell_type": "markdown",
   "id": "649608e4",
   "metadata": {},
   "source": [
    "**5. There are three cups on a table, at positions A, B, and C. At the start, there is a ball hidden under the cup at position B.\n",
    "However, I perform several swaps on the cups, which is notated as two letters. For example, if I swap the cups at positions A and B, I could notate this as AB or BA.\n",
    "Create a function that returns the letter position that the ball is at, once I finish swapping the cups. The swaps will be given to you as a list.**\n",
    "\n",
    "> **Example**  \n",
    "cup_swapping([\"AB\", \"CA\", \"AB\"]) ➞ \"C\"  \n",
    "    # Ball begins at position B.  \n",
    "    # Cups A and B swap, so the ball is at position A.  \n",
    "    # Cups C and A swap, so the ball is at position C.  \n",
    "    # Cups A and B swap, but the ball is at position C, so it doesn't move.  "
   ]
  },
  {
   "cell_type": "code",
   "execution_count": 38,
   "id": "4bafa7a4",
   "metadata": {},
   "outputs": [],
   "source": [
    "def cup_swapping(swaps_list):\n",
    "    position = \"B\"\n",
    "    for i in swaps_list:\n",
    "        if position == i[0]:\n",
    "            position = i[1]\n",
    "        elif position == i[1]:\n",
    "            position = i[0]\n",
    "        else:\n",
    "            pass\n",
    "    return position\n",
    "            "
   ]
  },
  {
   "cell_type": "code",
   "execution_count": 39,
   "id": "df87f388",
   "metadata": {},
   "outputs": [
    {
     "data": {
      "text/plain": [
       "'C'"
      ]
     },
     "execution_count": 39,
     "metadata": {},
     "output_type": "execute_result"
    }
   ],
   "source": [
    "cup_swapping([\"AB\", \"CA\", \"AB\"])"
   ]
  },
  {
   "cell_type": "code",
   "execution_count": 42,
   "id": "808b5d1d",
   "metadata": {},
   "outputs": [
    {
     "data": {
      "text/plain": [
       "'B'"
      ]
     },
     "execution_count": 42,
     "metadata": {},
     "output_type": "execute_result"
    }
   ],
   "source": [
    "cup_swapping([\"BC\", \"CA\", \"AB\"])"
   ]
  },
  {
   "cell_type": "code",
   "execution_count": null,
   "id": "b67e0303",
   "metadata": {},
   "outputs": [],
   "source": []
  }
 ],
 "metadata": {
  "kernelspec": {
   "display_name": "Python 3 (ipykernel)",
   "language": "python",
   "name": "python3"
  },
  "language_info": {
   "codemirror_mode": {
    "name": "ipython",
    "version": 3
   },
   "file_extension": ".py",
   "mimetype": "text/x-python",
   "name": "python",
   "nbconvert_exporter": "python",
   "pygments_lexer": "ipython3",
   "version": "3.9.12"
  }
 },
 "nbformat": 4,
 "nbformat_minor": 5
}
