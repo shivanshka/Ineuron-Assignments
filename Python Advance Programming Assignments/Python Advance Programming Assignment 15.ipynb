{
 "cells": [
  {
   "cell_type": "markdown",
   "id": "e27053b8",
   "metadata": {},
   "source": [
    "# Advance Programming Assignment 15"
   ]
  },
  {
   "cell_type": "markdown",
   "id": "6987595b",
   "metadata": {},
   "source": [
    "**1. Write a function that returns True if a given name can generate an array of words.**  \n",
    "\n",
    ">**Examples**  \n",
    "anagram(\"Justin Bieber\", [\"injures\", \"ebb\", \"it\"]) ➞ True  \n",
    "anagram(\"Natalie Portman\", [\"ornamental\", \"pita\"]) ➞ True  \n",
    "anagram(\"Chris Pratt\", [\"chirps\", \"rat\"]) ➞ False  \n",
    "    # Not all letters are used  \n",
    "anagram(\"Jeff Goldblum\", [\"jog\", \"meld\", \"bluffs\"]) ➞ False  \n",
    "    # \"s\" does not exist in the original name"
   ]
  },
  {
   "cell_type": "code",
   "execution_count": 152,
   "id": "25381f09",
   "metadata": {},
   "outputs": [],
   "source": [
    "def words_letters(word_list):\n",
    "    letter =[]\n",
    "    for i in word_list:\n",
    "        letter.extend(list(i))\n",
    "    return letter\n",
    "\n",
    "def anagram(name,word_list):\n",
    "    name_letters = list(map(lambda x:x.lower(),list(name)))\n",
    "    name_letters.remove(\" \")\n",
    "    words_letter = words_letters(word_list)\n",
    "    if len(name_letters) != len(words_letter):\n",
    "        return False\n",
    "    else:\n",
    "        for let in range(len(words_letter)):\n",
    "            if words_letter[let] not in name_letters:\n",
    "                return False\n",
    "        return True"
   ]
  },
  {
   "cell_type": "code",
   "execution_count": 153,
   "id": "4965d51d",
   "metadata": {},
   "outputs": [
    {
     "data": {
      "text/plain": [
       "True"
      ]
     },
     "execution_count": 153,
     "metadata": {},
     "output_type": "execute_result"
    }
   ],
   "source": [
    "anagram(\"Justin Bieber\", [\"injures\", \"ebb\", \"it\"])"
   ]
  },
  {
   "cell_type": "code",
   "execution_count": 154,
   "id": "c553f589",
   "metadata": {},
   "outputs": [
    {
     "data": {
      "text/plain": [
       "True"
      ]
     },
     "execution_count": 154,
     "metadata": {},
     "output_type": "execute_result"
    }
   ],
   "source": [
    "anagram(\"Natalie Portman\", [\"ornamental\", \"pita\"])"
   ]
  },
  {
   "cell_type": "code",
   "execution_count": 155,
   "id": "5f531469",
   "metadata": {},
   "outputs": [
    {
     "data": {
      "text/plain": [
       "False"
      ]
     },
     "execution_count": 155,
     "metadata": {},
     "output_type": "execute_result"
    }
   ],
   "source": [
    "anagram(\"Chris Pratt\", [\"chirps\", \"rat\"])"
   ]
  },
  {
   "cell_type": "code",
   "execution_count": 156,
   "id": "fef8e118",
   "metadata": {},
   "outputs": [
    {
     "data": {
      "text/plain": [
       "False"
      ]
     },
     "execution_count": 156,
     "metadata": {},
     "output_type": "execute_result"
    }
   ],
   "source": [
    "anagram(\"Jeff Goldblum\", [\"jog\", \"meld\", \"bluffs\"])"
   ]
  },
  {
   "cell_type": "code",
   "execution_count": null,
   "id": "184c88a5",
   "metadata": {},
   "outputs": [],
   "source": []
  },
  {
   "cell_type": "markdown",
   "id": "181e8703",
   "metadata": {},
   "source": [
    "**2. Given an array of users, each defined by an object with the following properties: name, score, reputation create a function that sorts the array to form the correct leaderboard.\n",
    "The leaderboard takes into consideration the score of each user of course, but an emphasis is put on their reputation in the community, so to get the trueScore, you should add the reputation multiplied by 2 to the score.\n",
    "Once you know the trueScore of each user, sort the array according to it in descending order.**  \n",
    "\n",
    ">**Examples**  \n",
    "leaderboards([  \n",
    "  { \"name\": \"a\", \"score\": 100, \"reputation\": 20 },  \n",
    "  { \"name\": \"b\", \"score\": 90, \"reputation\": 40 },  \n",
    "  { \"name\": \"c\", \"score\": 115, \"reputation\": 30 },  \n",
    "]) ➞ [  \n",
    "  { \"name\": \"c\", \"score\": 115, \"reputation\": 30 },  # trueScore = 175  \n",
    "  { \"name\": \"b\", \"score\": 90, \"reputation\": 40 },   # trueScore = 170  \n",
    "  { \"name\": \"a\", \"score\": 100, \"reputation\": 20 }   # trueScore = 140  \n",
    "]"
   ]
  },
  {
   "cell_type": "code",
   "execution_count": 114,
   "id": "b5f867c7",
   "metadata": {},
   "outputs": [],
   "source": [
    "def leaderboards(users):\n",
    "    for i in range(len(users)-1):\n",
    "        for j in range(len(users)-1):\n",
    "            true_score1 = users[j][\"score\"]+2*users[j][\"reputation\"]\n",
    "            true_score2 = users[j+1][\"score\"]+2*users[j+1][\"reputation\"]                                        \n",
    "            if true_score1 < true_score2:\n",
    "                users[j],users[j+1] = users[j+1],users[j]\n",
    "    return users"
   ]
  },
  {
   "cell_type": "code",
   "execution_count": 118,
   "id": "affd5ffc",
   "metadata": {},
   "outputs": [
    {
     "data": {
      "text/plain": [
       "[{'name': 'c', 'score': 115, 'reputation': 30},\n",
       " {'name': 'b', 'score': 90, 'reputation': 40},\n",
       " {'name': 'a', 'score': 100, 'reputation': 20}]"
      ]
     },
     "execution_count": 118,
     "metadata": {},
     "output_type": "execute_result"
    }
   ],
   "source": [
    "leaderboards([\n",
    "{ \"name\": \"a\", \"score\": 100, \"reputation\": 20 },\n",
    "{ \"name\": \"b\", \"score\": 90, \"reputation\": 40 },\n",
    "{ \"name\": \"c\", \"score\": 115, \"reputation\": 30 },\n",
    "])"
   ]
  },
  {
   "cell_type": "code",
   "execution_count": null,
   "id": "28a68566",
   "metadata": {},
   "outputs": [],
   "source": []
  },
  {
   "cell_type": "markdown",
   "id": "d356360c",
   "metadata": {},
   "source": [
    "**3. Create a function that, given a phrase and a number of letters guessed, returns a string with hyphens - for every letter of the phrase not guessed, and each letter guessed in place.**  \n",
    "\n",
    ">**Examples**  \n",
    "hangman(\"helicopter\", [\"o\", \"e\", \"s\"]) ➞ \"-e---o--e-\"  \n",
    "hangman(\"tree\", [\"r\", \"t\", \"e\"]) ➞ \"tree\"  \n",
    "hangman(\"Python rules\", [\"a\", \"n\", \"p\", \"r\", \"z\"]) ➞ \"P----n r----\"  \n",
    "hangman(\"He\"s a very naughty boy!\", [\"e\", \"a\", \"y\"]) ➞ \"-e\"- a -e-y -a----y –y!\"\n"
   ]
  },
  {
   "cell_type": "code",
   "execution_count": 80,
   "id": "282a0801",
   "metadata": {},
   "outputs": [],
   "source": [
    "import string\n",
    "def hangman(phrase, guessed_letters):\n",
    "    for i in range(len(phrase)):\n",
    "        if phrase[i].lower() not in guessed_letters and phrase[i]!=\" \" and phrase[i] not in string.punctuation:\n",
    "            phrase = phrase.replace(phrase[i],\"-\")\n",
    "    return phrase\n",
    "            "
   ]
  },
  {
   "cell_type": "code",
   "execution_count": 81,
   "id": "08d141f3",
   "metadata": {},
   "outputs": [
    {
     "data": {
      "text/plain": [
       "'-e---o--e-'"
      ]
     },
     "execution_count": 81,
     "metadata": {},
     "output_type": "execute_result"
    }
   ],
   "source": [
    "hangman(\"helicopter\", [\"o\", \"e\", \"s\"])"
   ]
  },
  {
   "cell_type": "code",
   "execution_count": 82,
   "id": "22c359e2",
   "metadata": {},
   "outputs": [
    {
     "data": {
      "text/plain": [
       "'tree'"
      ]
     },
     "execution_count": 82,
     "metadata": {},
     "output_type": "execute_result"
    }
   ],
   "source": [
    "hangman(\"tree\", [\"r\", \"t\", \"e\"])"
   ]
  },
  {
   "cell_type": "code",
   "execution_count": 83,
   "id": "ac316bfc",
   "metadata": {},
   "outputs": [
    {
     "data": {
      "text/plain": [
       "'P----n r----'"
      ]
     },
     "execution_count": 83,
     "metadata": {},
     "output_type": "execute_result"
    }
   ],
   "source": [
    "hangman(\"Python rules\", [\"a\", \"n\", \"p\", \"r\", \"z\"])"
   ]
  },
  {
   "cell_type": "code",
   "execution_count": 84,
   "id": "91848ae5",
   "metadata": {},
   "outputs": [
    {
     "data": {
      "text/plain": [
       "\"-e'- a -e-y -a----y --y!\""
      ]
     },
     "execution_count": 84,
     "metadata": {},
     "output_type": "execute_result"
    }
   ],
   "source": [
    "hangman(\"He's a very naughty boy!\", [\"e\", \"a\", \"y\"])"
   ]
  },
  {
   "cell_type": "code",
   "execution_count": null,
   "id": "9f70dd08",
   "metadata": {},
   "outputs": [],
   "source": []
  },
  {
   "cell_type": "markdown",
   "id": "f7315da6",
   "metadata": {},
   "source": [
    "**4. The Collatz sequence is as follows:**  \n",
    "  - Start with some given integer n.  \n",
    "  - If it is even, the next number will be n divided by 2.  \n",
    "  - If it is odd, multiply it by 3 and add 1 to make the next number.  \n",
    "  - The sequence stops when it reaches 1.  \n",
    "**According to the Collatz conjecture, it will always reach 1. If that's true, you can construct a finite sequence following the aforementioned method for any given integer.**  \n",
    "\n",
    "**Write a function that takes in an integer n and returns the highest integer in the corresponding Collatz sequence.**\n",
    "\n",
    "> **Examples**  \n",
    "max_collatz(10) ➞ 16  \n",
    "    # Collatz sequence: 10, 5, 16, 8, 4, 2, 1  \n",
    "max_collatz(32) ➞ 32  \n",
    "    # Collatz sequence: 32, 16, 8, 4, 2, 1  \n",
    "max_collatz(85) ➞ 256  \n",
    "    # Collatz sequence: 85, 256, 128, 64, 32, 16, 8, 4, 2, 1\n"
   ]
  },
  {
   "cell_type": "code",
   "execution_count": 57,
   "id": "aef05f12",
   "metadata": {},
   "outputs": [],
   "source": [
    "def max_collatz(n):\n",
    "    collatz_seq = [1]\n",
    "    while n > 1:\n",
    "        collatz_seq.append(int(n))\n",
    "        if n%2==0:\n",
    "            n = n/2\n",
    "        else:\n",
    "            n = n*3 + 1\n",
    "    return max(collatz_seq)"
   ]
  },
  {
   "cell_type": "code",
   "execution_count": 58,
   "id": "4e80b1b0",
   "metadata": {},
   "outputs": [
    {
     "data": {
      "text/plain": [
       "16"
      ]
     },
     "execution_count": 58,
     "metadata": {},
     "output_type": "execute_result"
    }
   ],
   "source": [
    "max_collatz(10)"
   ]
  },
  {
   "cell_type": "code",
   "execution_count": 59,
   "id": "78682965",
   "metadata": {},
   "outputs": [
    {
     "data": {
      "text/plain": [
       "32"
      ]
     },
     "execution_count": 59,
     "metadata": {},
     "output_type": "execute_result"
    }
   ],
   "source": [
    "max_collatz(32)"
   ]
  },
  {
   "cell_type": "code",
   "execution_count": 60,
   "id": "b0656625",
   "metadata": {},
   "outputs": [
    {
     "data": {
      "text/plain": [
       "256"
      ]
     },
     "execution_count": 60,
     "metadata": {},
     "output_type": "execute_result"
    }
   ],
   "source": [
    "max_collatz(85)"
   ]
  },
  {
   "cell_type": "code",
   "execution_count": null,
   "id": "fc06993c",
   "metadata": {},
   "outputs": [],
   "source": []
  },
  {
   "cell_type": "markdown",
   "id": "a8b556de",
   "metadata": {},
   "source": [
    "**5. Write a function that sorts a list of integers by their digit length in descending order, then settles ties by sorting numbers with the same digit length in ascending order.**  \n",
    "\n",
    ">**Examples**  \n",
    "digit_sort([77, 23, 5, 7, 101])\n",
    "➞ [101, 23, 77, 5, 7]  \n",
    "digit_sort([1, 5, 9, 2, 789, 563, 444])\n",
    "➞ [444, 563, 789, 1, 2, 5, 9]  \n",
    "digit_sort([53219, 3772, 564, 32, 1])\n",
    "➞ [53219, 3772, 564, 32, 1]  "
   ]
  },
  {
   "cell_type": "code",
   "execution_count": 25,
   "id": "830eb50f",
   "metadata": {},
   "outputs": [],
   "source": [
    "def digit_sort(num_list):\n",
    "    num_list = [str(i) for i in num_list]\n",
    "    len_set = set([len(i) for i in num_list])\n",
    "    result_list =[]\n",
    "    for i in len_set:\n",
    "        temp_list = [j for j in num_list if len(j)==i]\n",
    "        temp_list.sort()\n",
    "        result_list.extend(temp_list)\n",
    "    result_list = sorted(result_list,key=len,reverse=True)\n",
    "    return [int(k) for k in result_list]"
   ]
  },
  {
   "cell_type": "code",
   "execution_count": 26,
   "id": "739ee460",
   "metadata": {},
   "outputs": [
    {
     "data": {
      "text/plain": [
       "[101, 23, 77, 5, 7]"
      ]
     },
     "execution_count": 26,
     "metadata": {},
     "output_type": "execute_result"
    }
   ],
   "source": [
    "digit_sort([77, 23, 5, 7, 101])"
   ]
  },
  {
   "cell_type": "code",
   "execution_count": 27,
   "id": "fa9732aa",
   "metadata": {},
   "outputs": [
    {
     "data": {
      "text/plain": [
       "[444, 563, 789, 1, 2, 5, 9]"
      ]
     },
     "execution_count": 27,
     "metadata": {},
     "output_type": "execute_result"
    }
   ],
   "source": [
    "digit_sort([1, 5, 9, 2, 789, 563, 444])"
   ]
  },
  {
   "cell_type": "code",
   "execution_count": 28,
   "id": "db43a729",
   "metadata": {},
   "outputs": [
    {
     "data": {
      "text/plain": [
       "[53219, 3772, 564, 32, 1]"
      ]
     },
     "execution_count": 28,
     "metadata": {},
     "output_type": "execute_result"
    }
   ],
   "source": [
    "digit_sort([53219, 3772, 564, 32, 1])"
   ]
  },
  {
   "cell_type": "code",
   "execution_count": 20,
   "id": "c23f8153",
   "metadata": {},
   "outputs": [],
   "source": []
  },
  {
   "cell_type": "code",
   "execution_count": null,
   "id": "8dcb5861",
   "metadata": {},
   "outputs": [],
   "source": []
  }
 ],
 "metadata": {
  "kernelspec": {
   "display_name": "Python 3 (ipykernel)",
   "language": "python",
   "name": "python3"
  },
  "language_info": {
   "codemirror_mode": {
    "name": "ipython",
    "version": 3
   },
   "file_extension": ".py",
   "mimetype": "text/x-python",
   "name": "python",
   "nbconvert_exporter": "python",
   "pygments_lexer": "ipython3",
   "version": "3.9.12"
  }
 },
 "nbformat": 4,
 "nbformat_minor": 5
}
