{
 "cells": [
  {
   "cell_type": "markdown",
   "id": "784a7939",
   "metadata": {},
   "source": [
    "# Advance Programming Assignment 7"
   ]
  },
  {
   "cell_type": "markdown",
   "id": "138a7236",
   "metadata": {},
   "source": [
    "**1. Write a function that counts how many concentric layers a rug.**  \n",
    "\n",
    "> **Examples**\n",
    "\n",
    ">count_layers([  \n",
    "  \"AAAA\",  \n",
    "  \"ABBA\",  \n",
    "  \"AAAA\"\n",
    "]) ➞ 2  \n",
    "\n",
    ">count_layers([  \n",
    "  \"AAAAAAAAA\",  \n",
    "  \"ABBBBBBBA\",  \n",
    "  \"ABBAAABBA\",  \n",
    "  \"ABBBBBBBA\",  \n",
    "  \"AAAAAAAAA\"\n",
    "]) ➞ 3  \n",
    "\n",
    ">count_layers([  \n",
    "  \"AAAAAAAAAAA\",  \n",
    "  \"AABBBBBBBAA\",  \n",
    "  \"AABCCCCCBAA\",  \n",
    "  \"AABCAAACBAA\",  \n",
    "  \"AABCADACBAA\",  \n",
    "  \"AABCAAACBAA\",  \n",
    "  \"AABCCCCCBAA\",  \n",
    "  \"AABBBBBBBAA\",  \n",
    "  \"AAAAAAAAAAA\"\n",
    "]) ➞ 5  "
   ]
  },
  {
   "cell_type": "code",
   "execution_count": null,
   "id": "905b0926",
   "metadata": {},
   "outputs": [],
   "source": []
  },
  {
   "cell_type": "code",
   "execution_count": null,
   "id": "51770d14",
   "metadata": {},
   "outputs": [],
   "source": []
  },
  {
   "cell_type": "code",
   "execution_count": null,
   "id": "0bb906f4",
   "metadata": {},
   "outputs": [],
   "source": []
  },
  {
   "cell_type": "markdown",
   "id": "6eaf9b16",
   "metadata": {},
   "source": [
    "**2. There are many different styles of music and many albums exhibit multiple styles. Create a function that takes a list of musical styles from albums and returns how many styles are unique.**  \n",
    "\n",
    ">**Examples**  \n",
    "\n",
    ">unique_styles([\n",
    "  \"Dub,Dancehall\",\n",
    "  \"Industrial,Heavy Metal\",\n",
    "  \"Techno,Dubstep\",\n",
    "  \"Synth-pop,Euro-Disco\",\n",
    "  \"Industrial,Techno,Minimal\"\n",
    "]) ➞ 9  \n",
    "\n",
    ">unique_styles([\n",
    "  \"Soul\",\n",
    "  \"House,Folk\",\n",
    "  \"Trance,Downtempo,Big Beat,House\",\n",
    "  \"Deep House\",\n",
    "  \"Soul\"\n",
    "]) ➞ 7  "
   ]
  },
  {
   "cell_type": "code",
   "execution_count": 6,
   "id": "60eabc12",
   "metadata": {},
   "outputs": [],
   "source": [
    "def unique_styles(styles):\n",
    "    try:\n",
    "        styles_lis = [j for i in styles for j in i.split(\",\")]\n",
    "        unique_styles = len(set(styles_lis))\n",
    "        return unique_styles\n",
    "    except:\n",
    "        print(\"Please enter correct list of styles\")"
   ]
  },
  {
   "cell_type": "code",
   "execution_count": 7,
   "id": "09eae561",
   "metadata": {},
   "outputs": [
    {
     "data": {
      "text/plain": [
       "9"
      ]
     },
     "execution_count": 7,
     "metadata": {},
     "output_type": "execute_result"
    }
   ],
   "source": [
    "unique_styles([ \"Dub,Dancehall\", \"Industrial,Heavy Metal\", \"Techno,Dubstep\", \"Synth-pop,Euro-Disco\", \"Industrial,Techno,Minimal\" ])"
   ]
  },
  {
   "cell_type": "code",
   "execution_count": 8,
   "id": "29ea0082",
   "metadata": {},
   "outputs": [
    {
     "data": {
      "text/plain": [
       "7"
      ]
     },
     "execution_count": 8,
     "metadata": {},
     "output_type": "execute_result"
    }
   ],
   "source": [
    "unique_styles([ \"Soul\", \"House,Folk\", \"Trance,Downtempo,Big Beat,House\", \"Deep House\", \"Soul\" ])"
   ]
  },
  {
   "cell_type": "code",
   "execution_count": null,
   "id": "ef3736cb",
   "metadata": {},
   "outputs": [],
   "source": []
  },
  {
   "cell_type": "markdown",
   "id": "a31b846d",
   "metadata": {},
   "source": [
    "**3. Create a function that finds a target number in a list of prime numbers. Implement a binary search algorithm in your function. The target number will be from 2 through 97. If the target is prime then return \"yes\" else return \"no\".**  \n",
    "\n",
    ">**Examples**  \n",
    "\n",
    "primes = [2, 3, 5, 7, 11, 13, 17, 19, 23, 29, 31, 37, 41, 43, 47, 53, 59, 61, 67, 71, 73, 79, 83, 89, 97]  \n",
    "\n",
    "\n",
    "is_prime(primes, 3) ➞ \"yes\"  \n",
    "\n",
    "is_prime(primes, 4) ➞ \"no\"  \n",
    "\n",
    "is_prime(primes, 67) ➞ \"yes\"  \n",
    "\n",
    "is_prime(primes, 36) ➞ \"no\"  "
   ]
  },
  {
   "cell_type": "code",
   "execution_count": null,
   "id": "d9075c32",
   "metadata": {},
   "outputs": [],
   "source": []
  },
  {
   "cell_type": "code",
   "execution_count": null,
   "id": "4c1458ac",
   "metadata": {},
   "outputs": [],
   "source": []
  },
  {
   "cell_type": "code",
   "execution_count": null,
   "id": "68706aa1",
   "metadata": {},
   "outputs": [],
   "source": []
  },
  {
   "cell_type": "markdown",
   "id": "042e3665",
   "metadata": {},
   "source": [
    "**4. Create a function that takes in n, a, b and returns the number of positive values raised to the nth power that lie in the range [a, b], inclusive.**  \n",
    "\n",
    ">**Examples**  \n",
    "power_ranger(2, 49, 65) ➞ 2  \n",
    "    # 2 squares (n^2) lie between 49 and 65, 49 (7^2) and 64 (8^2)  \n",
    "power_ranger(3, 1, 27) ➞ 3  \n",
    "    # 3 cubes (n^3) lie between 1 and 27, 1 (1^3), 8 (2^3) and 27 (3^3)  \n",
    "power_ranger(10, 1, 5) ➞ 1  \n",
    "    # 1 value raised to the 10th power lies between 1 and 5, 1 (1^10)  \n",
    "power_ranger(5, 31, 33) ➞ 1  \n",
    "power_ranger(4, 250, 1300) ➞ 3  "
   ]
  },
  {
   "cell_type": "code",
   "execution_count": 31,
   "id": "19af837a",
   "metadata": {},
   "outputs": [],
   "source": [
    "import math\n",
    "def power_ranger(n,a,b):\n",
    "    try:\n",
    "        if type(n) != int or n<0:\n",
    "            raise ValueError(\"Please enter valid value of n\")\n",
    "        count = 0\n",
    "        for i in range(a,b+1):\n",
    "            for j in range(i+1):\n",
    "                if i == math.pow(j,n):\n",
    "                    count+=1\n",
    "        return count\n",
    "    except Exception as e:\n",
    "        print(\"Please enter valid inputs\")\n",
    "        print(\"error: \",e)"
   ]
  },
  {
   "cell_type": "code",
   "execution_count": 33,
   "id": "a241893d",
   "metadata": {},
   "outputs": [
    {
     "data": {
      "text/plain": [
       "2"
      ]
     },
     "execution_count": 33,
     "metadata": {},
     "output_type": "execute_result"
    }
   ],
   "source": [
    "power_ranger(2, 49, 65)"
   ]
  },
  {
   "cell_type": "code",
   "execution_count": 17,
   "id": "849c7a1c",
   "metadata": {},
   "outputs": [
    {
     "data": {
      "text/plain": [
       "3"
      ]
     },
     "execution_count": 17,
     "metadata": {},
     "output_type": "execute_result"
    }
   ],
   "source": [
    "power_ranger(3, 1, 27)"
   ]
  },
  {
   "cell_type": "code",
   "execution_count": 19,
   "id": "97dffaab",
   "metadata": {},
   "outputs": [
    {
     "data": {
      "text/plain": [
       "1"
      ]
     },
     "execution_count": 19,
     "metadata": {},
     "output_type": "execute_result"
    }
   ],
   "source": [
    "power_ranger(10, 1, 5)"
   ]
  },
  {
   "cell_type": "code",
   "execution_count": 20,
   "id": "80e5aa9f",
   "metadata": {},
   "outputs": [
    {
     "data": {
      "text/plain": [
       "1"
      ]
     },
     "execution_count": 20,
     "metadata": {},
     "output_type": "execute_result"
    }
   ],
   "source": [
    "power_ranger(5, 31, 33)"
   ]
  },
  {
   "cell_type": "code",
   "execution_count": 21,
   "id": "e5743ca9",
   "metadata": {},
   "outputs": [
    {
     "data": {
      "text/plain": [
       "3"
      ]
     },
     "execution_count": 21,
     "metadata": {},
     "output_type": "execute_result"
    }
   ],
   "source": [
    "power_ranger(4, 250, 1300)"
   ]
  },
  {
   "cell_type": "code",
   "execution_count": null,
   "id": "bbc5f01d",
   "metadata": {},
   "outputs": [],
   "source": []
  },
  {
   "cell_type": "markdown",
   "id": "9d9c1fb6",
   "metadata": {},
   "source": [
    "**5. Given a number, return the difference between the maximum and minimum numbers that can be formed when the digits are rearranged.**  \n",
    "\n",
    ">**Examples**  \n",
    "rearranged_difference(972882) ➞ 760833  \n",
    "    # 988722 - 227889 = 760833  \n",
    "rearranged_difference(3320707) ➞ 7709823  \n",
    "    # 7733200 - 23377 = 7709823  \n",
    "rearranged_difference(90010) ➞ 90981  \n",
    "    # 91000 - 19 = 90981  \n"
   ]
  },
  {
   "cell_type": "code",
   "execution_count": 36,
   "id": "36721307",
   "metadata": {},
   "outputs": [],
   "source": [
    "def rearranged_difference(num):\n",
    "    num = list(str(num))\n",
    "    maxi = int(\"\".join(sorted(num,reverse = True)))\n",
    "    mini = int(\"\".join(sorted(num)))\n",
    "    difference = maxi - mini\n",
    "    return difference"
   ]
  },
  {
   "cell_type": "code",
   "execution_count": 37,
   "id": "5bcf9683",
   "metadata": {},
   "outputs": [
    {
     "data": {
      "text/plain": [
       "760833"
      ]
     },
     "execution_count": 37,
     "metadata": {},
     "output_type": "execute_result"
    }
   ],
   "source": [
    "rearranged_difference(972882)"
   ]
  },
  {
   "cell_type": "code",
   "execution_count": 38,
   "id": "c68c3a1c",
   "metadata": {},
   "outputs": [
    {
     "data": {
      "text/plain": [
       "7709823"
      ]
     },
     "execution_count": 38,
     "metadata": {},
     "output_type": "execute_result"
    }
   ],
   "source": [
    "rearranged_difference(3320707)"
   ]
  },
  {
   "cell_type": "code",
   "execution_count": 39,
   "id": "4a28fb3f",
   "metadata": {},
   "outputs": [
    {
     "data": {
      "text/plain": [
       "90981"
      ]
     },
     "execution_count": 39,
     "metadata": {},
     "output_type": "execute_result"
    }
   ],
   "source": [
    "rearranged_difference(90010)"
   ]
  },
  {
   "cell_type": "code",
   "execution_count": null,
   "id": "4f4dbd77",
   "metadata": {},
   "outputs": [],
   "source": []
  }
 ],
 "metadata": {
  "kernelspec": {
   "display_name": "Python 3 (ipykernel)",
   "language": "python",
   "name": "python3"
  },
  "language_info": {
   "codemirror_mode": {
    "name": "ipython",
    "version": 3
   },
   "file_extension": ".py",
   "mimetype": "text/x-python",
   "name": "python",
   "nbconvert_exporter": "python",
   "pygments_lexer": "ipython3",
   "version": "3.9.7"
  }
 },
 "nbformat": 4,
 "nbformat_minor": 5
}
