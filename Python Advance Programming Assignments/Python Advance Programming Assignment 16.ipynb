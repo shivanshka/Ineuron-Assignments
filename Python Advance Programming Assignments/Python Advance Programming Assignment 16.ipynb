{
 "cells": [
  {
   "cell_type": "markdown",
   "id": "e31dae86",
   "metadata": {},
   "source": [
    "# Advance Programming Assignment 16"
   ]
  },
  {
   "cell_type": "markdown",
   "id": "be14ddd0",
   "metadata": {},
   "source": [
    "**1. Rondo Form is a type of musical structure, in which there is a recurring theme/refrain, notated as A. Here are the rules for valid rondo forms:**  \n",
    "\n",
    "   - Rondo forms always start and end with an A section.\n",
    "   - In between the A sections, there should be contrasting sections notated as B, then C, then D, etc... No letter should be skipped.\n",
    "   - There shouldn't be any repeats in the sequence (such as ABBACCA).  \n",
    "\n",
    "**Create a function which validates whether a given string is a valid Rondo Form.**  \n",
    "\n",
    ">**Examples**  \n",
    "valid_rondo(\"ABACADAEAFAGAHAIAJA\") ➞ True  \n",
    "valid_rondo(\"ABA\") ➞ True  \n",
    "valid_rondo(\"ABBACCA\") ➞ False  \n",
    "valid_rondo(\"ACAC\") ➞ False  \n",
    "valid_rondo(\"A\") ➞ False  "
   ]
  },
  {
   "cell_type": "code",
   "execution_count": 33,
   "id": "de5e1d37",
   "metadata": {},
   "outputs": [],
   "source": [
    "def valid_rondo(strng):\n",
    "    strng_list = list(strng)\n",
    "    seq = 66\n",
    "    if len(strng_list)>1:\n",
    "        for i in range(len(strng_list)):\n",
    "            if i%2==0:\n",
    "                if strng_list[i]==\"A\" and strng_list[-1]==\"A\":\n",
    "                    continue\n",
    "                else:\n",
    "                    return False\n",
    "            else:\n",
    "                if strng_list[i]==chr(seq):\n",
    "                    seq+=1\n",
    "                    continue\n",
    "                else:\n",
    "                    return False\n",
    "        return True\n",
    "    else:\n",
    "        return False"
   ]
  },
  {
   "cell_type": "code",
   "execution_count": 34,
   "id": "fdc4f348",
   "metadata": {},
   "outputs": [
    {
     "data": {
      "text/plain": [
       "True"
      ]
     },
     "execution_count": 34,
     "metadata": {},
     "output_type": "execute_result"
    }
   ],
   "source": [
    "valid_rondo(\"ABACADAEAFAGAHAIAJA\")"
   ]
  },
  {
   "cell_type": "code",
   "execution_count": 35,
   "id": "3f3c9ebe",
   "metadata": {},
   "outputs": [
    {
     "data": {
      "text/plain": [
       "True"
      ]
     },
     "execution_count": 35,
     "metadata": {},
     "output_type": "execute_result"
    }
   ],
   "source": [
    "valid_rondo(\"ABA\")"
   ]
  },
  {
   "cell_type": "code",
   "execution_count": 36,
   "id": "4fd1ee6a",
   "metadata": {},
   "outputs": [
    {
     "data": {
      "text/plain": [
       "False"
      ]
     },
     "execution_count": 36,
     "metadata": {},
     "output_type": "execute_result"
    }
   ],
   "source": [
    "valid_rondo(\"ABBACCA\")"
   ]
  },
  {
   "cell_type": "code",
   "execution_count": 37,
   "id": "0bb334c4",
   "metadata": {},
   "outputs": [
    {
     "data": {
      "text/plain": [
       "False"
      ]
     },
     "execution_count": 37,
     "metadata": {},
     "output_type": "execute_result"
    }
   ],
   "source": [
    "valid_rondo(\"ACAC\")"
   ]
  },
  {
   "cell_type": "code",
   "execution_count": 38,
   "id": "4d390edf",
   "metadata": {},
   "outputs": [
    {
     "data": {
      "text/plain": [
       "False"
      ]
     },
     "execution_count": 38,
     "metadata": {},
     "output_type": "execute_result"
    }
   ],
   "source": [
    "valid_rondo(\"A\")"
   ]
  },
  {
   "cell_type": "code",
   "execution_count": null,
   "id": "16f2265e",
   "metadata": {},
   "outputs": [],
   "source": []
  },
  {
   "cell_type": "markdown",
   "id": "f5ab79e4",
   "metadata": {},
   "source": [
    "**2. Create a function that returns the whole of the first sentence which contains a specific word. Include the full stop at the end of the sentence.**  \n",
    "\n",
    ">**Examples**  \n",
    "txt = \"I have a cat. I have a mat. Things are going swell.\"  \n",
    "sentence_searcher(txt, \"have\") ➞ \"I have a cat.\"  \n",
    "sentence_searcher(txt, \"MAT\") ➞ \"I have a mat.\"  \n",
    "sentence_searcher(txt, \"things\") ➞ \"Things are going swell.\"  \n",
    "sentence_searcher(txt, \"flat\") ➞ \"\"  "
   ]
  },
  {
   "cell_type": "code",
   "execution_count": 69,
   "id": "a6687c3a",
   "metadata": {},
   "outputs": [],
   "source": [
    "def sentence_searcher(txt, word):\n",
    "    txt = txt.split(\".\")\n",
    "    for sentence in txt:\n",
    "        if word.lower() in sentence.lower():\n",
    "            return sentence.strip()+\".\"\n",
    "    return \"\"\n",
    "        "
   ]
  },
  {
   "cell_type": "code",
   "execution_count": 70,
   "id": "f0d6831e",
   "metadata": {},
   "outputs": [
    {
     "data": {
      "text/plain": [
       "'I have a cat.'"
      ]
     },
     "execution_count": 70,
     "metadata": {},
     "output_type": "execute_result"
    }
   ],
   "source": [
    "txt = \"I have a cat. I have a mat. Things are going swell.\"\n",
    "sentence_searcher(txt, \"have\")"
   ]
  },
  {
   "cell_type": "code",
   "execution_count": 71,
   "id": "9d32b1d0",
   "metadata": {},
   "outputs": [
    {
     "data": {
      "text/plain": [
       "'I have a mat.'"
      ]
     },
     "execution_count": 71,
     "metadata": {},
     "output_type": "execute_result"
    }
   ],
   "source": [
    "sentence_searcher(txt, \"MAT\")"
   ]
  },
  {
   "cell_type": "code",
   "execution_count": 72,
   "id": "5d7bf470",
   "metadata": {},
   "outputs": [
    {
     "data": {
      "text/plain": [
       "'Things are going swell.'"
      ]
     },
     "execution_count": 72,
     "metadata": {},
     "output_type": "execute_result"
    }
   ],
   "source": [
    "sentence_searcher(txt, \"things\")"
   ]
  },
  {
   "cell_type": "code",
   "execution_count": 73,
   "id": "f2a7bc5f",
   "metadata": {},
   "outputs": [
    {
     "data": {
      "text/plain": [
       "''"
      ]
     },
     "execution_count": 73,
     "metadata": {},
     "output_type": "execute_result"
    }
   ],
   "source": [
    "sentence_searcher(txt, \"flat\")"
   ]
  },
  {
   "cell_type": "code",
   "execution_count": null,
   "id": "72edbc69",
   "metadata": {},
   "outputs": [],
   "source": []
  },
  {
   "cell_type": "markdown",
   "id": "01258941",
   "metadata": {},
   "source": [
    "**3. Given a number, find the \"round \"of each digit of the number. An integer is called \"round\" if all its digits except the leftmost (most significant) are equal to zero.**  \n",
    "\n",
    "    - Round numbers: 4000, 1, 9, 800, 90\n",
    "    - Not round numbers: 110, 707, 222, 1001\n",
    "\n",
    "**Create a function that takes a number and returns the \"round\" of each digit (except if the digit is zero) as a string. Check out the following examples for more clarification.**  \n",
    "\n",
    ">**Examples**  \n",
    "sum_round(101) ➞ \"1 100\"  \n",
    "sum_round(1234) ➞ \"4 30 200 1000\"  \n",
    "sum_round(54210) ➞ \"10 200 4000 50000\"  "
   ]
  },
  {
   "cell_type": "code",
   "execution_count": 111,
   "id": "35549dda",
   "metadata": {},
   "outputs": [],
   "source": [
    "def sum_round(num):\n",
    "    num_str = str(num)\n",
    "    factor = 1\n",
    "    result =[]\n",
    "    for i in num_str[::-1]:\n",
    "        if i!='0':\n",
    "            value = int(i)*factor\n",
    "            result.append(str(value))\n",
    "        factor = factor*10\n",
    "    return \" \".join(result)"
   ]
  },
  {
   "cell_type": "code",
   "execution_count": 113,
   "id": "80144d67",
   "metadata": {},
   "outputs": [
    {
     "data": {
      "text/plain": [
       "'1 100'"
      ]
     },
     "execution_count": 113,
     "metadata": {},
     "output_type": "execute_result"
    }
   ],
   "source": [
    "sum_round(101)"
   ]
  },
  {
   "cell_type": "code",
   "execution_count": 114,
   "id": "39d5aea8",
   "metadata": {},
   "outputs": [
    {
     "data": {
      "text/plain": [
       "'4 30 200 1000'"
      ]
     },
     "execution_count": 114,
     "metadata": {},
     "output_type": "execute_result"
    }
   ],
   "source": [
    "sum_round(1234)"
   ]
  },
  {
   "cell_type": "code",
   "execution_count": 117,
   "id": "2d9f16ad",
   "metadata": {},
   "outputs": [
    {
     "data": {
      "text/plain": [
       "'10 200 4000 50000'"
      ]
     },
     "execution_count": 117,
     "metadata": {},
     "output_type": "execute_result"
    }
   ],
   "source": [
    "sum_round(54210)"
   ]
  },
  {
   "cell_type": "code",
   "execution_count": null,
   "id": "2d39b13f",
   "metadata": {},
   "outputs": [],
   "source": []
  },
  {
   "cell_type": "markdown",
   "id": "bcb8c62d",
   "metadata": {},
   "source": [
    "**4. Your task, is to create N x N multiplication table, of size n provided in parameter.**  \n",
    "\n",
    "For example, when n is 5, the multiplication table is:  \n",
    "\n",
    "   - 1, 2, 3, 4, 5\n",
    "   - 2, 4, 6, 8, 10\n",
    "   - 3, 6, 9, 12, 15\n",
    "   - 4, 8, 12, 16, 20\n",
    "   - 5, 10, 15, 20, 25\n",
    "\n",
    "This example will result in:  \n",
    "\n",
    "[[1, 2, 3, 4, 5], [2, 4, 6, 8, 10], [3, 6, 9, 12, 15], [4, 8, 12, 16, 20], [5, 10, 15, 20, 25]]  \n",
    "\n",
    ">**Examples**  \n",
    "multiplication_table(1) ➞ [[1]]  \n",
    "multiplication_table(3) ➞ [[1, 2, 3], [2, 4, 6], [3, 6, 9]]\n"
   ]
  },
  {
   "cell_type": "code",
   "execution_count": 90,
   "id": "56f93c37",
   "metadata": {},
   "outputs": [],
   "source": [
    "def multiplication_table(N):\n",
    "    a=[]\n",
    "    for i in range(1,N+1):\n",
    "        b=[]\n",
    "        for j in range(1,N+1):\n",
    "            b.append(i*j)\n",
    "        a.append(b)\n",
    "    return a\n",
    "\n",
    "#Method 2:\n",
    "import numpy as np\n",
    "def multiplication_table2(N):\n",
    "    return np.fromfunction(lambda i,j: (i+1)*(j+1),(N,N))"
   ]
  },
  {
   "cell_type": "code",
   "execution_count": 91,
   "id": "be7140c1",
   "metadata": {},
   "outputs": [
    {
     "data": {
      "text/plain": [
       "array([[1., 2., 3.],\n",
       "       [2., 4., 6.],\n",
       "       [3., 6., 9.]])"
      ]
     },
     "execution_count": 91,
     "metadata": {},
     "output_type": "execute_result"
    }
   ],
   "source": [
    "multiplication_table2(3)"
   ]
  },
  {
   "cell_type": "code",
   "execution_count": 76,
   "id": "f59ca735",
   "metadata": {},
   "outputs": [
    {
     "data": {
      "text/plain": [
       "[[1, 2, 3, 4, 5],\n",
       " [2, 4, 6, 8, 10],\n",
       " [3, 6, 9, 12, 15],\n",
       " [4, 8, 12, 16, 20],\n",
       " [5, 10, 15, 20, 25]]"
      ]
     },
     "execution_count": 76,
     "metadata": {},
     "output_type": "execute_result"
    }
   ],
   "source": [
    "multiplication_table(5)"
   ]
  },
  {
   "cell_type": "code",
   "execution_count": 77,
   "id": "ba19c22c",
   "metadata": {},
   "outputs": [
    {
     "data": {
      "text/plain": [
       "[[1]]"
      ]
     },
     "execution_count": 77,
     "metadata": {},
     "output_type": "execute_result"
    }
   ],
   "source": [
    "multiplication_table(1)"
   ]
  },
  {
   "cell_type": "code",
   "execution_count": null,
   "id": "78ab1862",
   "metadata": {},
   "outputs": [],
   "source": []
  },
  {
   "cell_type": "markdown",
   "id": "35df9569",
   "metadata": {},
   "source": [
    "**5. Create a function that returns True if two lines rhyme and False otherwise. For the purposes of this exercise, two lines rhyme if the last word from each sentence contains the same vowels.**  \n",
    "\n",
    ">**Examples**  \n",
    "does_rhyme(\"Sam I am!\", \"Green eggs and ham.\") ➞ True  \n",
    "does_rhyme(\"Sam I am!\", \"Green eggs and HAM.\") ➞ True  \n",
    "   ---> # Capitalization and punctuation should not matter.  \n",
    "does_rhyme(\"You are off to the races\", \"a splendid day.\") ➞ False  \n",
    "does_rhyme(\"and frequently do?\", \"you gotta move.\") ➞ False  \n"
   ]
  },
  {
   "cell_type": "code",
   "execution_count": 125,
   "id": "4e72ffd4",
   "metadata": {},
   "outputs": [],
   "source": [
    "import string\n",
    "def does_rhyme(sent1,sent2):\n",
    "    vowels = \"aeiou\"\n",
    "    sent1_last_word = sent1.split()[-1]\n",
    "    sent2_last_word = sent2.split()[-1]\n",
    "    vowels_sent1 = [i.lower() for i in sent1_last_word if i.lower() in vowels]\n",
    "    vowels_sent2 = [i.lower() for i in sent2_last_word if i.lower() in vowels]\n",
    "    if len(vowels_sent1) == len(vowels_sent2):\n",
    "        for j in vowels_sent1:\n",
    "            if j not in vowels_sent2:\n",
    "                return False\n",
    "        return True\n",
    "    return False"
   ]
  },
  {
   "cell_type": "code",
   "execution_count": 132,
   "id": "e84414fb",
   "metadata": {},
   "outputs": [
    {
     "data": {
      "text/plain": [
       "True"
      ]
     },
     "execution_count": 132,
     "metadata": {},
     "output_type": "execute_result"
    }
   ],
   "source": [
    "does_rhyme(\"Sam I am!\", \"Green eggs and ham.\")"
   ]
  },
  {
   "cell_type": "code",
   "execution_count": 128,
   "id": "0958bdb5",
   "metadata": {},
   "outputs": [
    {
     "data": {
      "text/plain": [
       "True"
      ]
     },
     "execution_count": 128,
     "metadata": {},
     "output_type": "execute_result"
    }
   ],
   "source": [
    "does_rhyme(\"Sam I am!\", \"Green eggs and HAM.\")"
   ]
  },
  {
   "cell_type": "code",
   "execution_count": 129,
   "id": "722261f0",
   "metadata": {},
   "outputs": [
    {
     "data": {
      "text/plain": [
       "False"
      ]
     },
     "execution_count": 129,
     "metadata": {},
     "output_type": "execute_result"
    }
   ],
   "source": [
    "does_rhyme(\"You are off to the races\", \"a splendid day.\") "
   ]
  },
  {
   "cell_type": "code",
   "execution_count": 130,
   "id": "9023c455",
   "metadata": {},
   "outputs": [
    {
     "data": {
      "text/plain": [
       "False"
      ]
     },
     "execution_count": 130,
     "metadata": {},
     "output_type": "execute_result"
    }
   ],
   "source": [
    "does_rhyme(\"and frequently do?\", \"you gotta move.\")"
   ]
  },
  {
   "cell_type": "code",
   "execution_count": null,
   "id": "a521b83b",
   "metadata": {},
   "outputs": [],
   "source": []
  }
 ],
 "metadata": {
  "kernelspec": {
   "display_name": "Python 3 (ipykernel)",
   "language": "python",
   "name": "python3"
  },
  "language_info": {
   "codemirror_mode": {
    "name": "ipython",
    "version": 3
   },
   "file_extension": ".py",
   "mimetype": "text/x-python",
   "name": "python",
   "nbconvert_exporter": "python",
   "pygments_lexer": "ipython3",
   "version": "3.9.12"
  }
 },
 "nbformat": 4,
 "nbformat_minor": 5
}
