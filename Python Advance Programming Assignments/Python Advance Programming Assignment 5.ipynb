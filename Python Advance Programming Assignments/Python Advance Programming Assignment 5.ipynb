{
 "cells": [
  {
   "cell_type": "markdown",
   "id": "dc5eaae7",
   "metadata": {},
   "source": [
    "# Advance Programming Assignment 5"
   ]
  },
  {
   "cell_type": "markdown",
   "id": "641f38fb",
   "metadata": {},
   "source": [
    "**1. Create a function that takes a number n (integer greater than zero) as an argument, and returns 2 if n is odd and 8 if n is even.**  \n",
    "\n",
    "You can only use the following arithmetic operators: addition of numbers +, subtraction of numbers -, multiplication of number *, division of number /, and exponentiation **.  \n",
    "\n",
    "You are not allowed to use any other methods in this challenge (i.e. no if statements, comparison operators, etc).  \n",
    "\n",
    ">**Examples**  \n",
    "f(1) ➞ 2  \n",
    "f(2) ➞ 8  \n",
    "f(3) ➞ 2  "
   ]
  },
  {
   "cell_type": "code",
   "execution_count": null,
   "id": "8a924b99",
   "metadata": {},
   "outputs": [],
   "source": [
    "def f(n):\n",
    "    even = 2**(n/2)"
   ]
  },
  {
   "cell_type": "code",
   "execution_count": null,
   "id": "227e7829",
   "metadata": {},
   "outputs": [],
   "source": []
  },
  {
   "cell_type": "code",
   "execution_count": null,
   "id": "d3a80d7c",
   "metadata": {},
   "outputs": [],
   "source": []
  },
  {
   "cell_type": "markdown",
   "id": "cf751da7",
   "metadata": {},
   "source": [
    "**2. Create a function that returns the majority vote in a list. A majority vote is an element that occurs > N/2 times in a list (where N is the length of the list).**  \n",
    "\n",
    ">**Examples**  \n",
    "majority_vote([\"A\", \"A\", \"B\"]) ➞ \"A\"  \n",
    "majority_vote([\"A\", \"A\", \"A\", \"B\", \"C\", \"A\"]) ➞ \"A\"  \n",
    "majority_vote([\"A\", \"B\", \"B\", \"A\", \"C\", \"C\"]) ➞ None  "
   ]
  },
  {
   "cell_type": "code",
   "execution_count": 1,
   "id": "ed3c9873",
   "metadata": {},
   "outputs": [],
   "source": [
    "from collections import Counter\n",
    "def majority_vote(lst):\n",
    "    majority = int(len(lst)/2)\n",
    "    votes_count = Counter(lst)\n",
    "    maxi = max(votes_count.values())\n",
    "    for i in votes_count:\n",
    "        if votes_count[i] == maxi:\n",
    "            if maxi > majority:\n",
    "                return i\n",
    "    return \"None\""
   ]
  },
  {
   "cell_type": "code",
   "execution_count": 2,
   "id": "211cd14c",
   "metadata": {},
   "outputs": [
    {
     "data": {
      "text/plain": [
       "'A'"
      ]
     },
     "execution_count": 2,
     "metadata": {},
     "output_type": "execute_result"
    }
   ],
   "source": [
    "majority_vote([\"A\", \"A\", \"B\"])"
   ]
  },
  {
   "cell_type": "code",
   "execution_count": 6,
   "id": "8e3c9075",
   "metadata": {},
   "outputs": [
    {
     "data": {
      "text/plain": [
       "'C'"
      ]
     },
     "execution_count": 6,
     "metadata": {},
     "output_type": "execute_result"
    }
   ],
   "source": [
    "majority_vote([\"C\", \"C\", \"C\", \"B\", \"C\", \"A\"])"
   ]
  },
  {
   "cell_type": "code",
   "execution_count": 4,
   "id": "89e7dccb",
   "metadata": {},
   "outputs": [
    {
     "data": {
      "text/plain": [
       "'None'"
      ]
     },
     "execution_count": 4,
     "metadata": {},
     "output_type": "execute_result"
    }
   ],
   "source": [
    "majority_vote([\"A\", \"B\", \"B\", \"A\", \"C\", \"C\"])"
   ]
  },
  {
   "cell_type": "code",
   "execution_count": 7,
   "id": "26cbdc65",
   "metadata": {},
   "outputs": [
    {
     "data": {
      "text/plain": [
       "'A'"
      ]
     },
     "execution_count": 7,
     "metadata": {},
     "output_type": "execute_result"
    }
   ],
   "source": [
    "majority_vote([\"A\", \"A\", \"A\", \"B\", \"C\", \"A\"])"
   ]
  },
  {
   "cell_type": "code",
   "execution_count": null,
   "id": "979f389a",
   "metadata": {},
   "outputs": [],
   "source": []
  },
  {
   "cell_type": "markdown",
   "id": "01cb327d",
   "metadata": {},
   "source": [
    "**3. Create a function that takes a string txt and censors any word from a given list lst. The text removed must be replaced by the given character char.**  \n",
    "\n",
    ">**Examples**  \n",
    "censor_string(\"Today is a Wednesday!\", [\"Today\", \"a\"], \"-\") ➞ \"----- is - Wednesday!\"  \n",
    "censor_string(\"The cow jumped over the moon.\", [\"cow\", \"over\"], \"*\"), \"The *** jumped **** the moon.\")  \n",
    "censor_string(\"Why did the chicken cross the road?\", [\"Did\", \"chicken\", \"road\"], \"*\") ➞ \"Why *** the ******* cross the ****?\"  "
   ]
  },
  {
   "cell_type": "code",
   "execution_count": 63,
   "id": "3fa64785",
   "metadata": {},
   "outputs": [],
   "source": [
    "def censor_string(txt,lst,ch):\n",
    "    txt_list = txt.split(\" \")\n",
    "    for i in range(len(txt_list)):\n",
    "        for j in lst:\n",
    "            if txt_list[i].casefold() == j.casefold():\n",
    "                txt_list[i]= ch*len(j)\n",
    "    censored = \" \".join(txt_list)\n",
    "    return censored"
   ]
  },
  {
   "cell_type": "code",
   "execution_count": 64,
   "id": "83a87baf",
   "metadata": {},
   "outputs": [
    {
     "data": {
      "text/plain": [
       "'----- is - Wednesday!'"
      ]
     },
     "execution_count": 64,
     "metadata": {},
     "output_type": "execute_result"
    }
   ],
   "source": [
    "censor_string(\"Today is a Wednesday!\", [\"Today\", \"a\"], \"-\")"
   ]
  },
  {
   "cell_type": "code",
   "execution_count": 65,
   "id": "c1169c28",
   "metadata": {},
   "outputs": [
    {
     "data": {
      "text/plain": [
       "'The *** jumped **** the moon.'"
      ]
     },
     "execution_count": 65,
     "metadata": {},
     "output_type": "execute_result"
    }
   ],
   "source": [
    "censor_string(\"The cow jumped over the moon.\", [\"cow\", \"over\"], \"*\")"
   ]
  },
  {
   "cell_type": "code",
   "execution_count": 67,
   "id": "2d87d301",
   "metadata": {},
   "outputs": [
    {
     "data": {
      "text/plain": [
       "'Why *** the ******* cross the road?'"
      ]
     },
     "execution_count": 67,
     "metadata": {},
     "output_type": "execute_result"
    }
   ],
   "source": [
    "censor_string(\"Why did the chicken cross the road?\", [\"Did\", \"chicken\", \"road\"], \"*\")"
   ]
  },
  {
   "cell_type": "code",
   "execution_count": null,
   "id": "821eefaa",
   "metadata": {},
   "outputs": [],
   "source": []
  },
  {
   "cell_type": "code",
   "execution_count": null,
   "id": "e2c66f1f",
   "metadata": {},
   "outputs": [],
   "source": []
  },
  {
   "cell_type": "markdown",
   "id": "7472c92f",
   "metadata": {},
   "source": [
    "**4. In mathematics a Polydivisible Number (or magic number) is a number in a given number base with digits abcde... that has the following properties:**  \n",
    "\n",
    "- Its first digit a is not 0.  \n",
    "- The number formed by its first two digits ab is a multiple of 2.  \n",
    "- The number formed by its first three digits abc is a multiple of 3.    \n",
    "- The number formed by its first four digits abcd is a multiple of 4.\n",
    "\n",
    "Create a function which takes an integer n and returns True if the given number is a Polydivisible Number and False otherwise.  \n",
    "\n",
    ">**Examples**  \n",
    "is_polydivisible(1232) ➞ True  \n",
    "    # 1     / 1 = 1  \n",
    "    # 12    / 2 = 6  \n",
    "    # 123   / 3 = 41  \n",
    "    # 1232  / 4 = 308  \n",
    "is_polydivisible(123220 ) ➞ False  \n",
    "    # 1   / 1 = 1  \n",
    "    # 12   / 2 = 6  \n",
    "    # 123   / 3 = 41  \n",
    "    # 1232   / 4 = 308  \n",
    "    # 12322   / 5 = 2464.4         # Not a Whole Number  \n",
    "    # 123220   /6 = 220536.333...  # Not a Whole Number  \n",
    "\n"
   ]
  },
  {
   "cell_type": "code",
   "execution_count": 76,
   "id": "34bcd509",
   "metadata": {},
   "outputs": [],
   "source": [
    "def is_polydivisible(num):\n",
    "    n = str(num)\n",
    "    if int(n[0])!=0:\n",
    "        for i in range(2,len(n)+1):\n",
    "            if int(n[0:i])%i==0:\n",
    "                flag = True\n",
    "            else:\n",
    "                flag = False\n",
    "                break     \n",
    "    return flag"
   ]
  },
  {
   "cell_type": "code",
   "execution_count": 77,
   "id": "fd7479dc",
   "metadata": {},
   "outputs": [
    {
     "data": {
      "text/plain": [
       "True"
      ]
     },
     "execution_count": 77,
     "metadata": {},
     "output_type": "execute_result"
    }
   ],
   "source": [
    "is_polydivisible(1232)"
   ]
  },
  {
   "cell_type": "code",
   "execution_count": 78,
   "id": "4c74f6c2",
   "metadata": {},
   "outputs": [
    {
     "data": {
      "text/plain": [
       "False"
      ]
     },
     "execution_count": 78,
     "metadata": {},
     "output_type": "execute_result"
    }
   ],
   "source": [
    "is_polydivisible(123220)"
   ]
  },
  {
   "cell_type": "code",
   "execution_count": null,
   "id": "00f1133f",
   "metadata": {},
   "outputs": [],
   "source": []
  },
  {
   "cell_type": "markdown",
   "id": "f5311c82",
   "metadata": {},
   "source": [
    "**5. Create a function that takes a list of numbers and returns the sum of all prime numbers in the list.**  \n",
    "\n",
    ">**Examples**  \n",
    "sum_primes([1, 2, 3, 4, 5, 6, 7, 8, 9, 10]) ➞ 17  \n",
    "sum_primes([2, 3, 4, 11, 20, 50, 71]) ➞ 87  \n",
    "sum_primes([]) ➞ None  "
   ]
  },
  {
   "cell_type": "code",
   "execution_count": 90,
   "id": "f68cdf2c",
   "metadata": {},
   "outputs": [],
   "source": [
    "import math\n",
    "def prime(num):\n",
    "    if num == 2:\n",
    "        return True\n",
    "    elif num % 2==0 or num == 1:\n",
    "        return False\n",
    "    else:\n",
    "        for i in range(2,int(math.sqrt(num))+1):\n",
    "            if num%i==0:\n",
    "                return False\n",
    "        return True\n",
    "    \n",
    "def sum_primes(lst):\n",
    "    prime_lst = list(filter(prime,lst))\n",
    "    return sum(prime_lst)"
   ]
  },
  {
   "cell_type": "code",
   "execution_count": 91,
   "id": "f962db23",
   "metadata": {},
   "outputs": [
    {
     "data": {
      "text/plain": [
       "17"
      ]
     },
     "execution_count": 91,
     "metadata": {},
     "output_type": "execute_result"
    }
   ],
   "source": [
    "sum_primes([1, 2, 3, 4, 5, 6, 7, 8, 9, 10])"
   ]
  },
  {
   "cell_type": "code",
   "execution_count": 92,
   "id": "9014e5e2",
   "metadata": {},
   "outputs": [
    {
     "data": {
      "text/plain": [
       "87"
      ]
     },
     "execution_count": 92,
     "metadata": {},
     "output_type": "execute_result"
    }
   ],
   "source": [
    "sum_primes([2, 3, 4, 11, 20, 50, 71])"
   ]
  },
  {
   "cell_type": "code",
   "execution_count": 93,
   "id": "68107d15",
   "metadata": {},
   "outputs": [
    {
     "data": {
      "text/plain": [
       "0"
      ]
     },
     "execution_count": 93,
     "metadata": {},
     "output_type": "execute_result"
    }
   ],
   "source": [
    "sum_primes([])"
   ]
  },
  {
   "cell_type": "code",
   "execution_count": null,
   "id": "65f03fac",
   "metadata": {},
   "outputs": [],
   "source": []
  },
  {
   "cell_type": "code",
   "execution_count": null,
   "id": "7e40e833",
   "metadata": {},
   "outputs": [],
   "source": []
  }
 ],
 "metadata": {
  "kernelspec": {
   "display_name": "Python 3 (ipykernel)",
   "language": "python",
   "name": "python3"
  },
  "language_info": {
   "codemirror_mode": {
    "name": "ipython",
    "version": 3
   },
   "file_extension": ".py",
   "mimetype": "text/x-python",
   "name": "python",
   "nbconvert_exporter": "python",
   "pygments_lexer": "ipython3",
   "version": "3.9.7"
  }
 },
 "nbformat": 4,
 "nbformat_minor": 5
}
