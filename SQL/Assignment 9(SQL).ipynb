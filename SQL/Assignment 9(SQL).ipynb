{
 "cells": [
  {
   "cell_type": "markdown",
   "id": "d475aaea",
   "metadata": {},
   "source": [
    "##### Q-1. Write an SQL query to show the top n (say 10) records of a table."
   ]
  },
  {
   "cell_type": "code",
   "execution_count": null,
   "id": "4d137be0",
   "metadata": {},
   "outputs": [],
   "source": [
    "select * from worker order by worker_id desc limit 10;"
   ]
  },
  {
   "cell_type": "markdown",
   "id": "5d1c1d29",
   "metadata": {},
   "source": [
    "##### Q-2.  Write an SQL query to determine the nth (say n=5) highest salary from a table."
   ]
  },
  {
   "cell_type": "code",
   "execution_count": null,
   "id": "2d752e29",
   "metadata": {},
   "outputs": [],
   "source": [
    "#Method 1\n",
    "SELECT * FROM WORKER ORDER BY SALARY DESC LIMIT 4,1;\n",
    "\n",
    "#Method 2\n",
    "SELECT * FROM WORKER W1 WHERE 5-1 = (SELECT COUNT(DISTINCT (W2.SALARY)) FROM WORKER W2 WHERE W1.SALARY>=W2.SALARY); "
   ]
  }
 ],
 "metadata": {
  "kernelspec": {
   "display_name": "Python 3 (ipykernel)",
   "language": "python",
   "name": "python3"
  },
  "language_info": {
   "codemirror_mode": {
    "name": "ipython",
    "version": 3
   },
   "file_extension": ".py",
   "mimetype": "text/x-python",
   "name": "python",
   "nbconvert_exporter": "python",
   "pygments_lexer": "ipython3",
   "version": "3.9.7"
  }
 },
 "nbformat": 4,
 "nbformat_minor": 5
}
