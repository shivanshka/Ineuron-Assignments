{
 "cells": [
  {
   "cell_type": "markdown",
   "id": "09a53d08",
   "metadata": {},
   "source": [
    "##### Q-1. Write an SQL query to print details of the Workers who have joined in Feb’2014."
   ]
  },
  {
   "cell_type": "code",
   "execution_count": null,
   "id": "6c6a9672",
   "metadata": {},
   "outputs": [],
   "source": [
    "select * from worker where year(joining_date)=2014 and month(joining_date) = 2;"
   ]
  },
  {
   "cell_type": "markdown",
   "id": "b0ffbc65",
   "metadata": {},
   "source": [
    "##### Q-2. Write an SQL query to fetch duplicate records having matching data in some fields of a table."
   ]
  },
  {
   "cell_type": "code",
   "execution_count": null,
   "id": "7180897c",
   "metadata": {},
   "outputs": [],
   "source": [
    "SELECT WORKER_TITLE, AFFECTED_FROM, COUNT(*) FROM TITLE \n",
    "GROUP BY WORKER_TITLE, AFFECTED_FROM\n",
    "HAVING COUNT(*)>1;"
   ]
  },
  {
   "cell_type": "markdown",
   "id": "75a26e8c",
   "metadata": {},
   "source": [
    "##### Q-3. How to remove duplicate rows from Employees table.\n"
   ]
  },
  {
   "cell_type": "code",
   "execution_count": null,
   "id": "8e80dadf",
   "metadata": {},
   "outputs": [],
   "source": [
    "select firstname, lastname,country, count(*) from employee group by firstname, lastname,country having count(*)>1;"
   ]
  }
 ],
 "metadata": {
  "kernelspec": {
   "display_name": "Python 3 (ipykernel)",
   "language": "python",
   "name": "python3"
  },
  "language_info": {
   "codemirror_mode": {
    "name": "ipython",
    "version": 3
   },
   "file_extension": ".py",
   "mimetype": "text/x-python",
   "name": "python",
   "nbconvert_exporter": "python",
   "pygments_lexer": "ipython3",
   "version": "3.9.7"
  }
 },
 "nbformat": 4,
 "nbformat_minor": 5
}
