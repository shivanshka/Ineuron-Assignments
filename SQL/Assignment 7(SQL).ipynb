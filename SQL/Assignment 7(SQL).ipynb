{
 "cells": [
  {
   "cell_type": "markdown",
   "id": "99232bc5",
   "metadata": {},
   "source": [
    "#####  Q1. Write an SQL query to show only odd rows from a table."
   ]
  },
  {
   "cell_type": "code",
   "execution_count": null,
   "id": "2d789d43",
   "metadata": {},
   "outputs": [],
   "source": [
    "select * from worker where worker_id % 2 <>0;"
   ]
  },
  {
   "cell_type": "markdown",
   "id": "19b1a194",
   "metadata": {},
   "source": [
    "##### Q2. Write an SQL query to clone a new table from another table."
   ]
  },
  {
   "cell_type": "code",
   "execution_count": null,
   "id": "199657d9",
   "metadata": {},
   "outputs": [],
   "source": [
    "create table workerclone like worker;   #without datavalues"
   ]
  }
 ],
 "metadata": {
  "kernelspec": {
   "display_name": "Python 3 (ipykernel)",
   "language": "python",
   "name": "python3"
  },
  "language_info": {
   "codemirror_mode": {
    "name": "ipython",
    "version": 3
   },
   "file_extension": ".py",
   "mimetype": "text/x-python",
   "name": "python",
   "nbconvert_exporter": "python",
   "pygments_lexer": "ipython3",
   "version": "3.9.7"
  }
 },
 "nbformat": 4,
 "nbformat_minor": 5
}
