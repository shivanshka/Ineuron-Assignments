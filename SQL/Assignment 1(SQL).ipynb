{
 "cells": [
  {
   "cell_type": "markdown",
   "id": "26df178c",
   "metadata": {},
   "source": [
    "##### Q-1. Write an SQL query to fetch “FIRST_NAME” from Worker table using the alias name as worker_name?"
   ]
  },
  {
   "cell_type": "code",
   "execution_count": null,
   "id": "85a10ac6",
   "metadata": {},
   "outputs": [],
   "source": [
    "SELECT first_name AS worker_name FROM worker;"
   ]
  },
  {
   "cell_type": "markdown",
   "id": "0682a93d",
   "metadata": {},
   "source": [
    "##### Q-2. Write an SQL query to fetch unique values of DEPARTMENT from Worker table."
   ]
  },
  {
   "cell_type": "code",
   "execution_count": null,
   "id": "40311c17",
   "metadata": {},
   "outputs": [],
   "source": [
    "SELECT DISTINCT department FROM worker;"
   ]
  },
  {
   "cell_type": "markdown",
   "id": "69ce9c77",
   "metadata": {},
   "source": [
    "##### Q-3. Write an SQL query to show the last 5 record from a table."
   ]
  },
  {
   "cell_type": "code",
   "execution_count": null,
   "id": "36bbdcf9",
   "metadata": {},
   "outputs": [],
   "source": [
    "SELECT * FROM (SELECT * FROM WORKER order by worker_id desc limit 5) as last_1 order by worker_id;"
   ]
  },
  {
   "cell_type": "code",
   "execution_count": null,
   "id": "bded7c2d",
   "metadata": {},
   "outputs": [],
   "source": []
  }
 ],
 "metadata": {
  "kernelspec": {
   "display_name": "Python 3 (ipykernel)",
   "language": "python",
   "name": "python3"
  },
  "language_info": {
   "codemirror_mode": {
    "name": "ipython",
    "version": 3
   },
   "file_extension": ".py",
   "mimetype": "text/x-python",
   "name": "python",
   "nbconvert_exporter": "python",
   "pygments_lexer": "ipython3",
   "version": "3.9.7"
  }
 },
 "nbformat": 4,
 "nbformat_minor": 5
}
