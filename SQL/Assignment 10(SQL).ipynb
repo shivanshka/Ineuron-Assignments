{
 "cells": [
  {
   "cell_type": "markdown",
   "id": "d97798f2",
   "metadata": {},
   "source": [
    "##### Q-1. Write an SQL query to determine the 5th highest salary without using TOP or limit method."
   ]
  },
  {
   "cell_type": "code",
   "execution_count": null,
   "id": "73f0bb64",
   "metadata": {},
   "outputs": [],
   "source": [
    "SELECT * FROM WORKER W1 WHERE 4 = (SELECT COUNT(DISTINCT (W2.SALARY)) FROM WORKER W2 WHERE W1.SALARY>=W2.SALARY); "
   ]
  },
  {
   "cell_type": "markdown",
   "id": "2be0b538",
   "metadata": {},
   "source": [
    "##### Q-2. Write an SQL query to fetch the list of employees with the same salary."
   ]
  },
  {
   "cell_type": "code",
   "execution_count": null,
   "id": "c08ea88e",
   "metadata": {},
   "outputs": [],
   "source": [
    "SELECT distinct * FROM WORKER W1, WORKER W2 WHERE W1.SALARY = W2.SALARY AND W1.WORKER_ID != W2.WORKER_ID;"
   ]
  }
 ],
 "metadata": {
  "kernelspec": {
   "display_name": "Python 3 (ipykernel)",
   "language": "python",
   "name": "python3"
  },
  "language_info": {
   "codemirror_mode": {
    "name": "ipython",
    "version": 3
   },
   "file_extension": ".py",
   "mimetype": "text/x-python",
   "name": "python",
   "nbconvert_exporter": "python",
   "pygments_lexer": "ipython3",
   "version": "3.9.7"
  }
 },
 "nbformat": 4,
 "nbformat_minor": 5
}
