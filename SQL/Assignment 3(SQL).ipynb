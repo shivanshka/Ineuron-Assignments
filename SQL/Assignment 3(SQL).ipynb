{
 "cells": [
  {
   "cell_type": "markdown",
   "id": "01e2387b",
   "metadata": {},
   "source": [
    "##### Q-1. Write an SQL query to print the FIRST_NAME from Worker table after removing white spaces from the right side."
   ]
  },
  {
   "cell_type": "code",
   "execution_count": null,
   "id": "f1dfbfbe",
   "metadata": {},
   "outputs": [],
   "source": [
    "SELECT rtrim(FIRST_NAME) AS name_trim FROM worker; "
   ]
  },
  {
   "cell_type": "markdown",
   "id": "6c2e8f0d",
   "metadata": {},
   "source": [
    "##### Q-2. Write an SQL query that fetches the unique values of DEPARTMENT from Worker table and prints its length."
   ]
  },
  {
   "cell_type": "code",
   "execution_count": null,
   "id": "247693ec",
   "metadata": {},
   "outputs": [],
   "source": [
    "SELECT DISTINCT DEPARTMENT, LENGTH(DEPARTMENT) AS DEPT_LEN FROM WORKER;"
   ]
  },
  {
   "cell_type": "markdown",
   "id": "44739d2f",
   "metadata": {},
   "source": [
    "##### Q-3. Write an SQL query to fetch nth max salaries from a table."
   ]
  },
  {
   "cell_type": "code",
   "execution_count": null,
   "id": "6f92a6c5",
   "metadata": {},
   "outputs": [],
   "source": [
    "SELECT distinct Salary from worker a WHERE n >= (SELECT count(distinct Salary) from worker b WHERE a.Salary <= b.Salary) order by a.Salary desc;"
   ]
  }
 ],
 "metadata": {
  "kernelspec": {
   "display_name": "Python 3 (ipykernel)",
   "language": "python",
   "name": "python3"
  },
  "language_info": {
   "codemirror_mode": {
    "name": "ipython",
    "version": 3
   },
   "file_extension": ".py",
   "mimetype": "text/x-python",
   "name": "python",
   "nbconvert_exporter": "python",
   "pygments_lexer": "ipython3",
   "version": "3.9.7"
  }
 },
 "nbformat": 4,
 "nbformat_minor": 5
}
