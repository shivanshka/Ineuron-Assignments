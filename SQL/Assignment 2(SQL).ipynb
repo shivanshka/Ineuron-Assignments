{
 "cells": [
  {
   "cell_type": "markdown",
   "id": "c25d91b3",
   "metadata": {},
   "source": [
    "##### Q-1. Write an SQL query to print the first three characters of  FIRST_NAME from Worker table."
   ]
  },
  {
   "cell_type": "code",
   "execution_count": null,
   "id": "5fbd2f04",
   "metadata": {},
   "outputs": [],
   "source": [
    "#Method 1\n",
    "SELECT LEFT(FIRST_NAME,3) FROM WORKER;\n",
    "\n",
    "#Method 2 \n",
    "SELECT SUBSTRING(FIRST_NAME,1,3) FROM WORKER;"
   ]
  },
  {
   "cell_type": "markdown",
   "id": "f0875f5d",
   "metadata": {},
   "source": [
    "##### Q-2. Write an SQL query to find the position of the alphabet (‘a’) in the first name column ‘Amitabh’ from Worker table."
   ]
  },
  {
   "cell_type": "code",
   "execution_count": null,
   "id": "7216025d",
   "metadata": {},
   "outputs": [],
   "source": [
    "SELECT  instr(First_name, \"a\") as matchposition from worker where first_name=\"Amitabh\";"
   ]
  },
  {
   "cell_type": "markdown",
   "id": "fca64647",
   "metadata": {},
   "source": [
    "#####  Q-3. Write an SQL query to print the name of employees having the highest salary in each department."
   ]
  },
  {
   "cell_type": "code",
   "execution_count": null,
   "id": "21c37f95",
   "metadata": {},
   "outputs": [],
   "source": [
    "\n",
    "SELECT First_name,last_name,MAX(SALARY) AS total_sal, department from worker group by department;"
   ]
  },
  {
   "cell_type": "code",
   "execution_count": null,
   "id": "d65244e1",
   "metadata": {},
   "outputs": [],
   "source": []
  },
  {
   "cell_type": "code",
   "execution_count": null,
   "id": "72524209",
   "metadata": {},
   "outputs": [],
   "source": []
  }
 ],
 "metadata": {
  "kernelspec": {
   "display_name": "Python 3 (ipykernel)",
   "language": "python",
   "name": "python3"
  },
  "language_info": {
   "codemirror_mode": {
    "name": "ipython",
    "version": 3
   },
   "file_extension": ".py",
   "mimetype": "text/x-python",
   "name": "python",
   "nbconvert_exporter": "python",
   "pygments_lexer": "ipython3",
   "version": "3.9.7"
  }
 },
 "nbformat": 4,
 "nbformat_minor": 5
}
