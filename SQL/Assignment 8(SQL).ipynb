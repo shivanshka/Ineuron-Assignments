{
 "cells": [
  {
   "cell_type": "markdown",
   "id": "cc9765ad",
   "metadata": {},
   "source": [
    "##### Q-1. Write an SQL query to fetch intersecting records of two tables."
   ]
  },
  {
   "cell_type": "code",
   "execution_count": null,
   "id": "ee325e76",
   "metadata": {},
   "outputs": [],
   "source": [
    "(select * from worker) intersect (select * from workerclone);"
   ]
  },
  {
   "cell_type": "markdown",
   "id": "9c02cdfe",
   "metadata": {},
   "source": [
    "##### Q-2. Write an SQL query to show records from one table that another table does not have."
   ]
  },
  {
   "cell_type": "code",
   "execution_count": null,
   "id": "ed7cf22e",
   "metadata": {},
   "outputs": [],
   "source": [
    "select * from worker where not exists (select * from title); "
   ]
  },
  {
   "cell_type": "code",
   "execution_count": null,
   "id": "f5ca65bd",
   "metadata": {},
   "outputs": [],
   "source": []
  }
 ],
 "metadata": {
  "kernelspec": {
   "display_name": "Python 3 (ipykernel)",
   "language": "python",
   "name": "python3"
  },
  "language_info": {
   "codemirror_mode": {
    "name": "ipython",
    "version": 3
   },
   "file_extension": ".py",
   "mimetype": "text/x-python",
   "name": "python",
   "nbconvert_exporter": "python",
   "pygments_lexer": "ipython3",
   "version": "3.9.7"
  }
 },
 "nbformat": 4,
 "nbformat_minor": 5
}
