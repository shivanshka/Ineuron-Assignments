{
 "cells": [
  {
   "cell_type": "markdown",
   "id": "620b5d09",
   "metadata": {},
   "source": [
    "##### Q-1. Write an SQL query to print details of workers excluding first names, “Vipul” and “Satish” from Worker table."
   ]
  },
  {
   "cell_type": "code",
   "execution_count": null,
   "id": "6e9132f7",
   "metadata": {},
   "outputs": [],
   "source": [
    "SELECT * FROM WORKER WHERE FIRST_NAME not in (\"vipul\", \"Satish\");"
   ]
  },
  {
   "cell_type": "markdown",
   "id": "837bb6bd",
   "metadata": {},
   "source": [
    "##### Q-2. Write an SQL query to print details of the Workers whose FIRST_NAME ends with ‘h’ and contains six alphabets."
   ]
  },
  {
   "cell_type": "code",
   "execution_count": null,
   "id": "d32e50bf",
   "metadata": {},
   "outputs": [],
   "source": [
    "select * from worker where first_name like \"_____h\";"
   ]
  },
  {
   "cell_type": "markdown",
   "id": "75eccffd",
   "metadata": {},
   "source": [
    "#####  Q-3. Write a query to validate Email of Employee."
   ]
  },
  {
   "cell_type": "code",
   "execution_count": null,
   "id": "0b0e004b",
   "metadata": {},
   "outputs": [],
   "source": [
    "select email, email regexp '^[A-Za-z0-9._%\\-+!#$&/=?^|~]+@[A-Za-z0-9.-]+[.][A-Za-z]+$' as valid_email from employees;"
   ]
  }
 ],
 "metadata": {
  "kernelspec": {
   "display_name": "Python 3 (ipykernel)",
   "language": "python",
   "name": "python3"
  },
  "language_info": {
   "codemirror_mode": {
    "name": "ipython",
    "version": 3
   },
   "file_extension": ".py",
   "mimetype": "text/x-python",
   "name": "python",
   "nbconvert_exporter": "python",
   "pygments_lexer": "ipython3",
   "version": "3.9.7"
  }
 },
 "nbformat": 4,
 "nbformat_minor": 5
}
