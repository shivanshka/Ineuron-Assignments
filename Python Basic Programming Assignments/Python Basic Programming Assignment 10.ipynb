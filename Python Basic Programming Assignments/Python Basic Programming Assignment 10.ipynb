{
 "cells": [
  {
   "cell_type": "markdown",
   "id": "88f450fc",
   "metadata": {},
   "source": [
    "# Basic Programming Assignment 10"
   ]
  },
  {
   "cell_type": "markdown",
   "id": "feb4cc6f",
   "metadata": {},
   "source": [
    "1.\tWrite a Python program to find sum of elements in list?\n",
    "2.\tWrite a Python program to  Multiply all numbers in the list?\n",
    "3.\tWrite a Python program to find smallest number in a list?\n",
    "4.\tWrite a Python program to find largest number in a list?\n",
    "5.\tWrite a Python program to find second largest number in a list?\n",
    "6.\tWrite a Python program to find N largest elements from a list?\n",
    "7.\tWrite a Python program to print even numbers in a list?\n",
    "8.\tWrite a Python program to print odd numbers in a List?\n",
    "9.\tWrite a Python program to Remove empty List from List?\n",
    "10.\tWrite a Python program to Cloning or Copying a list?\n",
    "11.\tWrite a Python program to Count occurrences of an element in a list?"
   ]
  },
  {
   "cell_type": "code",
   "execution_count": null,
   "id": "7019a64d",
   "metadata": {},
   "outputs": [],
   "source": []
  },
  {
   "cell_type": "markdown",
   "id": "04831f35",
   "metadata": {},
   "source": [
    "1.\tWrite a Python program to find sum of elements in list?"
   ]
  },
  {
   "cell_type": "code",
   "execution_count": 52,
   "id": "a1243a09",
   "metadata": {},
   "outputs": [],
   "source": [
    "def list_sum(lst):\n",
    "    summ=0\n",
    "    for i in lst:\n",
    "        summ+=i\n",
    "    return summ    \n",
    "\n",
    "# Method 2\n",
    "from functools import reduce\n",
    "def list_sum2(lst):\n",
    "    summ = reduce(lambda x,y: x+y,lst)\n",
    "    return summ"
   ]
  },
  {
   "cell_type": "code",
   "execution_count": 53,
   "id": "c953607d",
   "metadata": {},
   "outputs": [
    {
     "name": "stdout",
     "output_type": "stream",
     "text": [
      "Sum = 175\n"
     ]
    }
   ],
   "source": [
    "n=list_sum([1,2,3,48,65,56])\n",
    "print(\"Sum =\",n)"
   ]
  },
  {
   "cell_type": "code",
   "execution_count": 54,
   "id": "9d6dc36a",
   "metadata": {},
   "outputs": [
    {
     "name": "stdout",
     "output_type": "stream",
     "text": [
      "Sum = 175\n"
     ]
    }
   ],
   "source": [
    "#Method 2\n",
    "n=list_sum2([1,2,3,48,65,56])\n",
    "print(\"Sum =\",n)"
   ]
  },
  {
   "cell_type": "code",
   "execution_count": null,
   "id": "bb4629e2",
   "metadata": {},
   "outputs": [],
   "source": []
  },
  {
   "cell_type": "markdown",
   "id": "8655058b",
   "metadata": {},
   "source": [
    "2.\tWrite a Python program to  Multiply all numbers in the list?"
   ]
  },
  {
   "cell_type": "code",
   "execution_count": 55,
   "id": "823baa0d",
   "metadata": {},
   "outputs": [],
   "source": [
    "def list_multiply(lst):\n",
    "    multi=1\n",
    "    for i in lst:\n",
    "        multi=i*multi\n",
    "    return multi\n",
    "\n",
    "# Method 2\n",
    "from functools import reduce\n",
    "def list_multiply2(lst):\n",
    "    multi = reduce(lambda x,y: x*y,lst)\n",
    "    return multi"
   ]
  },
  {
   "cell_type": "code",
   "execution_count": 57,
   "id": "69de3172",
   "metadata": {},
   "outputs": [
    {
     "name": "stdout",
     "output_type": "stream",
     "text": [
      "Multiplication = 1048320\n"
     ]
    }
   ],
   "source": [
    "m=list_multiply([1,2,3,48,65,56])\n",
    "print(\"Multiplication =\",m)"
   ]
  },
  {
   "cell_type": "code",
   "execution_count": 58,
   "id": "cc1f39ca",
   "metadata": {},
   "outputs": [
    {
     "name": "stdout",
     "output_type": "stream",
     "text": [
      "Multiplication = 1048320\n"
     ]
    }
   ],
   "source": [
    "# Method 2\n",
    "m=list_multiply2([1,2,3,48,65,56])\n",
    "print(\"Multiplication =\",m)"
   ]
  },
  {
   "cell_type": "code",
   "execution_count": null,
   "id": "de8cecd1",
   "metadata": {},
   "outputs": [],
   "source": []
  },
  {
   "cell_type": "markdown",
   "id": "6e11312e",
   "metadata": {},
   "source": [
    "3.\tWrite a Python program to find smallest number in a list?"
   ]
  },
  {
   "cell_type": "code",
   "execution_count": 25,
   "id": "146abe48",
   "metadata": {},
   "outputs": [],
   "source": [
    "def small(lst):\n",
    "    small = lst[0]\n",
    "    for i in range(0,len(lst)):\n",
    "        if small>lst[i]:\n",
    "            small = lst[i]\n",
    "    return small\n",
    "\n",
    "# Method 2:\n",
    "def small2(lst):\n",
    "    lst.sort()\n",
    "    return lst[0]"
   ]
  },
  {
   "cell_type": "code",
   "execution_count": 26,
   "id": "3be3e2a4",
   "metadata": {},
   "outputs": [
    {
     "name": "stdout",
     "output_type": "stream",
     "text": [
      "Smallest element = 2\n"
     ]
    }
   ],
   "source": [
    "m=small([45,2,3,48,65,56])\n",
    "print(\"Smallest element =\",m)"
   ]
  },
  {
   "cell_type": "code",
   "execution_count": 27,
   "id": "c56cf3d5",
   "metadata": {},
   "outputs": [
    {
     "name": "stdout",
     "output_type": "stream",
     "text": [
      "Smallest element = 3\n"
     ]
    }
   ],
   "source": [
    "# Method 2\n",
    "m=small2([45,28,3,48,65,56])\n",
    "print(\"Smallest element =\",m)  "
   ]
  },
  {
   "cell_type": "code",
   "execution_count": null,
   "id": "6c36e35d",
   "metadata": {},
   "outputs": [],
   "source": []
  },
  {
   "cell_type": "markdown",
   "id": "fc0ab3d4",
   "metadata": {},
   "source": [
    "4.\tWrite a Python program to find largest number in a list?"
   ]
  },
  {
   "cell_type": "code",
   "execution_count": 23,
   "id": "b0ce6123",
   "metadata": {},
   "outputs": [],
   "source": [
    "def large(lst):\n",
    "    greater = 0\n",
    "    for i in range(0,len(lst)):\n",
    "        if greater<lst[i]:\n",
    "            greater = lst[i]\n",
    "    return greater\n",
    "\n",
    "# Method 2:\n",
    "def large2(lst):\n",
    "    lst.sort()\n",
    "    return lst[-1]"
   ]
  },
  {
   "cell_type": "code",
   "execution_count": 24,
   "id": "61aae51b",
   "metadata": {},
   "outputs": [
    {
     "name": "stdout",
     "output_type": "stream",
     "text": [
      "Largest element = 65\n"
     ]
    }
   ],
   "source": [
    "n=large([45,2,3,48,65,56])\n",
    "print(\"Largest element =\",n)"
   ]
  },
  {
   "cell_type": "code",
   "execution_count": null,
   "id": "563268b2",
   "metadata": {},
   "outputs": [],
   "source": []
  },
  {
   "cell_type": "markdown",
   "id": "1426f6fb",
   "metadata": {},
   "source": [
    "5.\tWrite a Python program to find second largest number in a list?"
   ]
  },
  {
   "cell_type": "code",
   "execution_count": 46,
   "id": "3a69f287",
   "metadata": {},
   "outputs": [],
   "source": [
    "def second_largest(lis):\n",
    "    lis.sort()\n",
    "    return lis[-2]"
   ]
  },
  {
   "cell_type": "code",
   "execution_count": 47,
   "id": "a663424b",
   "metadata": {},
   "outputs": [
    {
     "name": "stdout",
     "output_type": "stream",
     "text": [
      "Second Largest element = 56\n"
     ]
    }
   ],
   "source": [
    "n=second_largest([45,2,3,48,65,56])\n",
    "print(\"Second Largest element =\",n)"
   ]
  },
  {
   "cell_type": "code",
   "execution_count": null,
   "id": "874cf11e",
   "metadata": {},
   "outputs": [],
   "source": []
  },
  {
   "cell_type": "markdown",
   "id": "56dfc3eb",
   "metadata": {},
   "source": [
    "6.\tWrite a Python program to find N largest elements from a list?"
   ]
  },
  {
   "cell_type": "code",
   "execution_count": 2,
   "id": "c2710edc",
   "metadata": {},
   "outputs": [],
   "source": [
    "def n_largest(lst,n):\n",
    "    lst.sort()\n",
    "    return lst[-n:]"
   ]
  },
  {
   "cell_type": "code",
   "execution_count": 3,
   "id": "c1ef3cfd",
   "metadata": {},
   "outputs": [
    {
     "name": "stdout",
     "output_type": "stream",
     "text": [
      "Enter value of n: 3\n",
      "Original list:  [2, 3, 45, 48, 56, 65]\n",
      "3 largest elements are :  [48, 56, 65]\n"
     ]
    }
   ],
   "source": [
    "lis=[45,2,3,48,65,56]\n",
    "n = int(input(\"Enter value of n: \"))\n",
    "large= n_largest(lis,n)\n",
    "print(\"Original list: \",lis)\n",
    "print(f\"{n} largest elements are : \",large)"
   ]
  },
  {
   "cell_type": "code",
   "execution_count": null,
   "id": "d1ef9303",
   "metadata": {},
   "outputs": [],
   "source": []
  },
  {
   "cell_type": "markdown",
   "id": "2837297a",
   "metadata": {},
   "source": [
    "7.\tWrite a Python program to print even numbers in a list?"
   ]
  },
  {
   "cell_type": "code",
   "execution_count": 40,
   "id": "736cd8d3",
   "metadata": {},
   "outputs": [
    {
     "name": "stdout",
     "output_type": "stream",
     "text": [
      "[2, 48, 56]\n"
     ]
    }
   ],
   "source": [
    "lis=[45,2,3,48,65,56]\n",
    "even_list = list(filter(lambda x: x%2==0, lis))\n",
    "print(even_list)"
   ]
  },
  {
   "cell_type": "code",
   "execution_count": null,
   "id": "421391c4",
   "metadata": {},
   "outputs": [],
   "source": []
  },
  {
   "cell_type": "markdown",
   "id": "0d1de8b6",
   "metadata": {},
   "source": [
    "8.\tWrite a Python program to print odd numbers in a List?"
   ]
  },
  {
   "cell_type": "code",
   "execution_count": 41,
   "id": "05a8a6e0",
   "metadata": {},
   "outputs": [
    {
     "name": "stdout",
     "output_type": "stream",
     "text": [
      "[45, 3, 65]\n"
     ]
    }
   ],
   "source": [
    "lis=[45,2,3,48,65,56]\n",
    "odd_list = list(filter(lambda x: x%2!=0, lis))\n",
    "print(odd_list)"
   ]
  },
  {
   "cell_type": "code",
   "execution_count": null,
   "id": "a2cc8ff6",
   "metadata": {},
   "outputs": [],
   "source": []
  },
  {
   "cell_type": "markdown",
   "id": "7950ba93",
   "metadata": {},
   "source": [
    "9.\tWrite a Python program to Remove empty List from List?"
   ]
  },
  {
   "cell_type": "code",
   "execution_count": 42,
   "id": "30abd111",
   "metadata": {},
   "outputs": [],
   "source": [
    "def remove_empty(lst):\n",
    "    for i in lst:\n",
    "        if i == []:\n",
    "            lst.remove(i)\n",
    "    return lst"
   ]
  },
  {
   "cell_type": "code",
   "execution_count": 64,
   "id": "6c486806",
   "metadata": {},
   "outputs": [
    {
     "name": "stdout",
     "output_type": "stream",
     "text": [
      "Original list: [45, 2, 3, 48, 65, 56]\n",
      "Refined list after removing empty list:  [45, 2, 3, 48, 65, 56]\n"
     ]
    }
   ],
   "source": [
    "lis=[45,2,3,48,65,[],56,[]]\n",
    "new_lis = remove_empty(lis)\n",
    "print(\"Original list:\",lis)\n",
    "print(\"Refined list after removing empty list: \",new_lis)"
   ]
  },
  {
   "cell_type": "code",
   "execution_count": null,
   "id": "6751c262",
   "metadata": {},
   "outputs": [],
   "source": []
  },
  {
   "cell_type": "markdown",
   "id": "507d616f",
   "metadata": {},
   "source": [
    "10.\tWrite a Python program to Cloning or Copying a list?"
   ]
  },
  {
   "cell_type": "code",
   "execution_count": 10,
   "id": "6448b12e",
   "metadata": {},
   "outputs": [],
   "source": [
    "def list_copier(lst):\n",
    "    lst_copy=lst[:]\n",
    "    return lst_copy"
   ]
  },
  {
   "cell_type": "code",
   "execution_count": 11,
   "id": "0a60c7d4",
   "metadata": {},
   "outputs": [
    {
     "name": "stdout",
     "output_type": "stream",
     "text": [
      "[45, 2, 3, 48, 65, 56]\n"
     ]
    }
   ],
   "source": [
    "lis =[45,2,3,48,65,56]\n",
    "list_copy = list_copier(lis)\n",
    "print(list_copy)"
   ]
  },
  {
   "cell_type": "code",
   "execution_count": 12,
   "id": "27907bd3",
   "metadata": {},
   "outputs": [],
   "source": [
    "lis[0] = 1"
   ]
  },
  {
   "cell_type": "code",
   "execution_count": 13,
   "id": "9e63a54e",
   "metadata": {},
   "outputs": [
    {
     "data": {
      "text/plain": [
       "[45, 2, 3, 48, 65, 56]"
      ]
     },
     "execution_count": 13,
     "metadata": {},
     "output_type": "execute_result"
    }
   ],
   "source": [
    "list_copy"
   ]
  },
  {
   "cell_type": "code",
   "execution_count": 14,
   "id": "d5572ddd",
   "metadata": {},
   "outputs": [
    {
     "data": {
      "text/plain": [
       "[1, 2, 3, 48, 65, 56]"
      ]
     },
     "execution_count": 14,
     "metadata": {},
     "output_type": "execute_result"
    }
   ],
   "source": [
    "lis"
   ]
  },
  {
   "cell_type": "markdown",
   "id": "89e931d1",
   "metadata": {},
   "source": [
    "11.\tWrite a Python program to Count occurrences of an element in a list?"
   ]
  },
  {
   "cell_type": "code",
   "execution_count": 5,
   "id": "e15b8a90",
   "metadata": {},
   "outputs": [],
   "source": [
    "def element_occur(lst,element):\n",
    "    count = lst.count(element)\n",
    "    return count "
   ]
  },
  {
   "cell_type": "code",
   "execution_count": 9,
   "id": "75bac918",
   "metadata": {},
   "outputs": [
    {
     "name": "stdout",
     "output_type": "stream",
     "text": [
      "Enter element to find its total occurrence: 48\n",
      "Original list:  [45, 2, 3, '48', 65, 56, '48']\n",
      "Total occurrence of 48 is 2\n"
     ]
    }
   ],
   "source": [
    "lis =[45,2,3,\"48\",65,56,\"48\"]\n",
    "element = input(\"Enter element to find its total occurrence: \")\n",
    "count = element_occur(lis,element)\n",
    "print(\"Original list: \",lis)\n",
    "print(f\"Total occurrence of {element} is\", count)"
   ]
  },
  {
   "cell_type": "code",
   "execution_count": null,
   "id": "fede4594",
   "metadata": {},
   "outputs": [],
   "source": []
  }
 ],
 "metadata": {
  "kernelspec": {
   "display_name": "Python 3 (ipykernel)",
   "language": "python",
   "name": "python3"
  },
  "language_info": {
   "codemirror_mode": {
    "name": "ipython",
    "version": 3
   },
   "file_extension": ".py",
   "mimetype": "text/x-python",
   "name": "python",
   "nbconvert_exporter": "python",
   "pygments_lexer": "ipython3",
   "version": "3.9.7"
  }
 },
 "nbformat": 4,
 "nbformat_minor": 5
}
