{
 "cells": [
  {
   "cell_type": "markdown",
   "id": "0db49df6",
   "metadata": {},
   "source": [
    "# Basic Programming Assignment 6"
   ]
  },
  {
   "cell_type": "markdown",
   "id": "eaaa0103",
   "metadata": {},
   "source": [
    "1.\tWrite a Python Program to Display Fibonacci Sequence Using Recursion?\n",
    "2.\tWrite a Python Program to Find Factorial of Number Using Recursion?\n",
    "3.\tWrite a Python Program to calculate your Body Mass Index?\n",
    "4.\tWrite a Python Program to calculate the natural logarithm of any number?\n",
    "5.\tWrite a Python Program for cube sum of first n natural numbers?"
   ]
  },
  {
   "cell_type": "code",
   "execution_count": null,
   "id": "6964c9dc",
   "metadata": {},
   "outputs": [],
   "source": []
  },
  {
   "cell_type": "markdown",
   "id": "a1f9fbf7",
   "metadata": {},
   "source": [
    "1.\tWrite a Python Program to Display Fibonacci Sequence Using Recursion?"
   ]
  },
  {
   "cell_type": "code",
   "execution_count": 45,
   "id": "934cf0f4",
   "metadata": {},
   "outputs": [],
   "source": [
    "def febonacci(num,a=0,b=1,count = 1):\n",
    "    print(a, end=\" \")\n",
    "    a, b = b, a+b\n",
    "    \n",
    "    if count<= num:\n",
    "        count +=1\n",
    "        febonacci(num,a,b,count)\n",
    "    "
   ]
  },
  {
   "cell_type": "code",
   "execution_count": 46,
   "id": "d94068b2",
   "metadata": {},
   "outputs": [
    {
     "name": "stdout",
     "output_type": "stream",
     "text": [
      "0 1 1 2 3 5 8 13 21 34 55 "
     ]
    }
   ],
   "source": [
    "febonacci(10)         # Enter the number of terms for the series"
   ]
  },
  {
   "cell_type": "code",
   "execution_count": null,
   "id": "432a8bd3",
   "metadata": {},
   "outputs": [],
   "source": []
  },
  {
   "cell_type": "markdown",
   "id": "d6aa664d",
   "metadata": {},
   "source": [
    "2.\tWrite a Python Program to Find Factorial of Number Using Recursion?"
   ]
  },
  {
   "cell_type": "code",
   "execution_count": 15,
   "id": "09fbb454",
   "metadata": {},
   "outputs": [],
   "source": [
    "def factorial(num, count = 1, facto = 1):\n",
    "    facto = count*facto\n",
    "    if count < num:\n",
    "        count +=1\n",
    "        factorial(num, count, facto)\n",
    "    else:\n",
    "        print(f\"Factorial, {num}! = {facto}\")\n",
    "        return facto\n",
    "    "
   ]
  },
  {
   "cell_type": "code",
   "execution_count": 17,
   "id": "6e042d42",
   "metadata": {},
   "outputs": [
    {
     "name": "stdout",
     "output_type": "stream",
     "text": [
      "Factorial, 20! = 2432902008176640000\n"
     ]
    }
   ],
   "source": [
    "factorial(20)"
   ]
  },
  {
   "cell_type": "code",
   "execution_count": null,
   "id": "9a72b73b",
   "metadata": {},
   "outputs": [],
   "source": []
  },
  {
   "cell_type": "markdown",
   "id": "c07928eb",
   "metadata": {},
   "source": [
    "3.\tWrite a Python Program to calculate your Body Mass Index?"
   ]
  },
  {
   "cell_type": "code",
   "execution_count": 26,
   "id": "f8b92d58",
   "metadata": {},
   "outputs": [],
   "source": [
    "def bmi():\n",
    "    height = float(input(\"Enter your height in centimeters(cm): \"))\n",
    "    weight = float(input(\"Enter your weight in kilograms(kg): \"))\n",
    "    BMI = round(weight/((height/100)**2), ndigits = 2)\n",
    "    if BMI <15:\n",
    "        cat = 'You are SEVERELY UNDERWEIGHT.'\n",
    "        \n",
    "    elif BMI>= 15 and BMI <18.5:\n",
    "        cat = \"You are UNDERWEIGHT.\"\n",
    "    \n",
    "    elif BMI>= 18.5 and BMI <=25:\n",
    "        cat = \"Your BMI is NORMAL, you are HEALTHY.\"\n",
    "    \n",
    "    elif BMI> 25 and BMI <=30:\n",
    "        cat = \"You are OVERWEIGHT.\"\n",
    "        \n",
    "    elif BMI> 30 and BMI <=40:\n",
    "        cat = \"You are OBESE.\"\n",
    "    \n",
    "    else:\n",
    "        cat = \"You are SEVERELY OBESE.\"\n",
    "        \n",
    "    print(\"Your BMI is \",BMI)\n",
    "    print(cat)\n",
    "    return BMI\n",
    "    "
   ]
  },
  {
   "cell_type": "code",
   "execution_count": 27,
   "id": "4b22630a",
   "metadata": {},
   "outputs": [
    {
     "name": "stdout",
     "output_type": "stream",
     "text": [
      "Enter your height in centimeters(cm): 173\n",
      "Enter your weight in kilograms(kg): 95\n",
      "Your BMI is  31.74\n",
      "You are OBESE.\n"
     ]
    },
    {
     "data": {
      "text/plain": [
       "31.74"
      ]
     },
     "execution_count": 27,
     "metadata": {},
     "output_type": "execute_result"
    }
   ],
   "source": [
    "bmi()"
   ]
  },
  {
   "cell_type": "code",
   "execution_count": null,
   "id": "ff6d1335",
   "metadata": {},
   "outputs": [],
   "source": []
  },
  {
   "cell_type": "markdown",
   "id": "de1a2294",
   "metadata": {},
   "source": [
    "4.\tWrite a Python Program to calculate the natural logarithm of any number?"
   ]
  },
  {
   "cell_type": "code",
   "execution_count": 33,
   "id": "4140a922",
   "metadata": {},
   "outputs": [],
   "source": [
    "import math\n",
    "def nat_log():\n",
    "    num = float(input(\"Enter number to find its natural log: \"))\n",
    "    log = round(math.log(num), ndigits = 5)\n",
    "    print(f\"log of {num} = {log}\")"
   ]
  },
  {
   "cell_type": "code",
   "execution_count": 36,
   "id": "7441a4dc",
   "metadata": {},
   "outputs": [
    {
     "name": "stdout",
     "output_type": "stream",
     "text": [
      "Enter number to find its natural log: 172.5\n",
      "log of 172.5 = 5.1504\n"
     ]
    }
   ],
   "source": [
    "nat_log()"
   ]
  },
  {
   "cell_type": "code",
   "execution_count": null,
   "id": "1f4d495a",
   "metadata": {},
   "outputs": [],
   "source": []
  },
  {
   "cell_type": "markdown",
   "id": "585e2f83",
   "metadata": {},
   "source": [
    "5.\tWrite a Python Program for cube sum of first n natural numbers?"
   ]
  },
  {
   "cell_type": "code",
   "execution_count": 41,
   "id": "fa26ba61",
   "metadata": {},
   "outputs": [],
   "source": [
    "def cube_sum():\n",
    "    n = int(input(\"Enter the value of n: \"))\n",
    "    sum = ((n/2)*(n+1))**2\n",
    "    print(f\"Cube sum of first {n} natural number = {sum}\")\n",
    "    return sum"
   ]
  },
  {
   "cell_type": "code",
   "execution_count": 42,
   "id": "06423aa7",
   "metadata": {},
   "outputs": [
    {
     "name": "stdout",
     "output_type": "stream",
     "text": [
      "Enter the value of n: 5\n",
      "Cube sum of first 5 natural number = 225.0\n"
     ]
    },
    {
     "data": {
      "text/plain": [
       "225.0"
      ]
     },
     "execution_count": 42,
     "metadata": {},
     "output_type": "execute_result"
    }
   ],
   "source": [
    "cube_sum()"
   ]
  },
  {
   "cell_type": "code",
   "execution_count": null,
   "id": "5b4b9fc4",
   "metadata": {},
   "outputs": [],
   "source": []
  }
 ],
 "metadata": {
  "kernelspec": {
   "display_name": "Python 3 (ipykernel)",
   "language": "python",
   "name": "python3"
  },
  "language_info": {
   "codemirror_mode": {
    "name": "ipython",
    "version": 3
   },
   "file_extension": ".py",
   "mimetype": "text/x-python",
   "name": "python",
   "nbconvert_exporter": "python",
   "pygments_lexer": "ipython3",
   "version": "3.9.7"
  }
 },
 "nbformat": 4,
 "nbformat_minor": 5
}
