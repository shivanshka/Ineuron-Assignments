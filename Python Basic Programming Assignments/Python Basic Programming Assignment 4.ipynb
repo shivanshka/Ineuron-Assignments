{
 "cells": [
  {
   "cell_type": "markdown",
   "id": "8d757a6f",
   "metadata": {},
   "source": [
    "# Basic Programming Assignment 4"
   ]
  },
  {
   "cell_type": "markdown",
   "id": "3363e6c4",
   "metadata": {},
   "source": [
    "1.\tWrite a Python Program to Find the Factorial of a Number?\n",
    "2.\tWrite a Python Program to Display the multiplication Table?\n",
    "3.\tWrite a Python Program to Print the Fibonacci sequence?\n",
    "4.\tWrite a Python Program to Check Armstrong Number?\n",
    "5.\tWrite a Python Program to Find Armstrong Number in an Interval?\n",
    "6.\tWrite a Python Program to Find the Sum of Natural Numbers?"
   ]
  },
  {
   "cell_type": "markdown",
   "id": "d2a9f782",
   "metadata": {},
   "source": []
  },
  {
   "cell_type": "markdown",
   "id": "1ac69192",
   "metadata": {},
   "source": [
    "1.\tWrite a Python Program to Find the Factorial of a Number?"
   ]
  },
  {
   "cell_type": "code",
   "execution_count": 21,
   "id": "bc8717af",
   "metadata": {},
   "outputs": [],
   "source": [
    "def factorial():\n",
    "    num = int(input(\"Enter a number to find its FACTORIAL: \"))\n",
    "    a = 1\n",
    "    f = 1\n",
    "    while a <= num:\n",
    "        f = f*a\n",
    "        a+=1\n",
    "    print(\"Factorial, {0}! = {1}\".format(num,f))\n",
    "    return f "
   ]
  },
  {
   "cell_type": "code",
   "execution_count": 24,
   "id": "f9aaee5e",
   "metadata": {},
   "outputs": [
    {
     "name": "stdout",
     "output_type": "stream",
     "text": [
      "Enter a number to find its FACTORIAL: 10\n",
      "Factorial, 10! = 3628800\n"
     ]
    },
    {
     "data": {
      "text/plain": [
       "3628800"
      ]
     },
     "execution_count": 24,
     "metadata": {},
     "output_type": "execute_result"
    }
   ],
   "source": [
    "factorial()"
   ]
  },
  {
   "cell_type": "markdown",
   "id": "33d63f4d",
   "metadata": {},
   "source": []
  },
  {
   "cell_type": "markdown",
   "id": "533f48ef",
   "metadata": {},
   "source": [
    "2.\tWrite a Python Program to Display the multiplication Table?"
   ]
  },
  {
   "cell_type": "code",
   "execution_count": 27,
   "id": "aa9f68fb",
   "metadata": {},
   "outputs": [],
   "source": [
    "def table():\n",
    "    num = int(input(\"Enter the number to print its table: \"))\n",
    "    for i in range(1,11):\n",
    "        print(f\"{num} x {i} = {num*i}\")"
   ]
  },
  {
   "cell_type": "code",
   "execution_count": 30,
   "id": "ed24f194",
   "metadata": {},
   "outputs": [
    {
     "name": "stdout",
     "output_type": "stream",
     "text": [
      "Enter the number to print its table: 18\n",
      "18 x 1 = 18\n",
      "18 x 2 = 36\n",
      "18 x 3 = 54\n",
      "18 x 4 = 72\n",
      "18 x 5 = 90\n",
      "18 x 6 = 108\n",
      "18 x 7 = 126\n",
      "18 x 8 = 144\n",
      "18 x 9 = 162\n",
      "18 x 10 = 180\n"
     ]
    }
   ],
   "source": [
    "table()"
   ]
  },
  {
   "cell_type": "code",
   "execution_count": null,
   "id": "3a56aeb9",
   "metadata": {},
   "outputs": [],
   "source": []
  },
  {
   "cell_type": "markdown",
   "id": "96061c3d",
   "metadata": {},
   "source": [
    "3.\tWrite a Python Program to Print the Fibonacci sequence?"
   ]
  },
  {
   "cell_type": "code",
   "execution_count": 38,
   "id": "2bdf9456",
   "metadata": {},
   "outputs": [],
   "source": [
    "def febonacci():\n",
    "    num = int(input(\"Enter the number to print Febonacci series: \"))\n",
    "    a=0\n",
    "    b=1\n",
    "    for i in range(0 , num+1):\n",
    "        print(a, end=\" \")\n",
    "        a,b = b,a+b"
   ]
  },
  {
   "cell_type": "code",
   "execution_count": 39,
   "id": "014a83b8",
   "metadata": {},
   "outputs": [
    {
     "name": "stdout",
     "output_type": "stream",
     "text": [
      "Enter the number to print Febonacci series: 10\n",
      "0 1 1 2 3 5 8 13 21 34 55 "
     ]
    }
   ],
   "source": [
    "febonacci()"
   ]
  },
  {
   "cell_type": "code",
   "execution_count": null,
   "id": "69bca85c",
   "metadata": {},
   "outputs": [],
   "source": []
  },
  {
   "cell_type": "markdown",
   "id": "c1ed7152",
   "metadata": {},
   "source": [
    "4.\tWrite a Python Program to Check Armstrong Number?"
   ]
  },
  {
   "cell_type": "code",
   "execution_count": 30,
   "id": "db0e7283",
   "metadata": {},
   "outputs": [],
   "source": [
    "def armstrong():\n",
    "    num = int(input(\"Enter the number to check whether it is ARMSTRONG or not: \"))\n",
    "    if num>9:\n",
    "        degree = len(str(num))\n",
    "        num1 = num\n",
    "        armst = 0\n",
    "        while num1>0 :\n",
    "            last_digit = num1%10\n",
    "            armst = armst + (last_digit**degree)\n",
    "            num1 = int(num1/10)\n",
    "        if armst == num:\n",
    "            print(f\"{num} is a ARMSTRONG NUMBER!\")\n",
    "        else:\n",
    "            print(f\"{num} is not a ARMSTRONG NUMBER!\")"
   ]
  },
  {
   "cell_type": "code",
   "execution_count": 31,
   "id": "adb797d1",
   "metadata": {},
   "outputs": [
    {
     "name": "stdout",
     "output_type": "stream",
     "text": [
      "Enter the number to check whether it is ARMSTRONG or not: 153\n",
      "153 is a ARMSTRONG NUMBER!\n"
     ]
    }
   ],
   "source": [
    "armstrong()"
   ]
  },
  {
   "cell_type": "code",
   "execution_count": null,
   "id": "bb43e3af",
   "metadata": {},
   "outputs": [],
   "source": []
  },
  {
   "cell_type": "markdown",
   "id": "fd2bf5e4",
   "metadata": {},
   "source": [
    "5.\tWrite a Python Program to Find Armstrong Number in an Interval?"
   ]
  },
  {
   "cell_type": "code",
   "execution_count": 28,
   "id": "0e2256f4",
   "metadata": {},
   "outputs": [],
   "source": [
    "def armstrong_generator(a,b):\n",
    "    for i in range(a,b+1):\n",
    "        if i>9:\n",
    "            degree = len(str(i))\n",
    "            num1 = i\n",
    "            armst = 0\n",
    "            while num1>0 :\n",
    "                last_digit = num1%10\n",
    "                armst = armst + (last_digit**degree)\n",
    "                num1 = int(num1/10)\n",
    "            if armst == i:\n",
    "                yield i\n",
    "        "
   ]
  },
  {
   "cell_type": "code",
   "execution_count": 32,
   "id": "60b88954",
   "metadata": {},
   "outputs": [
    {
     "name": "stdout",
     "output_type": "stream",
     "text": [
      "Enter a starting number of interval: 100\n",
      "Enter a last number of interval: 15000\n",
      "153\n",
      "370\n",
      "371\n",
      "407\n",
      "1634\n",
      "8208\n",
      "9474\n"
     ]
    }
   ],
   "source": [
    "a = int(input(\"Enter a starting number of interval: \"))\n",
    "b = int(input(\"Enter a last number of interval: \"))\n",
    "for i in armstrong_generator(a,b):\n",
    "    print(i)"
   ]
  },
  {
   "cell_type": "code",
   "execution_count": null,
   "id": "8fa7425a",
   "metadata": {},
   "outputs": [],
   "source": []
  },
  {
   "cell_type": "markdown",
   "id": "635832e0",
   "metadata": {},
   "source": [
    "6.\tWrite a Python Program to Find the Sum of Natural Numbers?"
   ]
  },
  {
   "cell_type": "code",
   "execution_count": 42,
   "id": "17bf40a0",
   "metadata": {},
   "outputs": [],
   "source": [
    "def sum_nat_number():\n",
    "    n = int(input(\"Enter the value of n: \"))\n",
    "    add = (n/2)*(n+1)\n",
    "    print(f\"Sum of first {n} natural numbers is {add}\")"
   ]
  },
  {
   "cell_type": "code",
   "execution_count": 50,
   "id": "a2df5ba4",
   "metadata": {},
   "outputs": [
    {
     "name": "stdout",
     "output_type": "stream",
     "text": [
      "Enter the value of n: 100\n",
      "Sum of first 100 natural numbers is 5050.0\n"
     ]
    }
   ],
   "source": [
    "sum_nat_number()"
   ]
  },
  {
   "cell_type": "code",
   "execution_count": null,
   "id": "6322ca83",
   "metadata": {},
   "outputs": [],
   "source": []
  }
 ],
 "metadata": {
  "kernelspec": {
   "display_name": "Python 3 (ipykernel)",
   "language": "python",
   "name": "python3"
  },
  "language_info": {
   "codemirror_mode": {
    "name": "ipython",
    "version": 3
   },
   "file_extension": ".py",
   "mimetype": "text/x-python",
   "name": "python",
   "nbconvert_exporter": "python",
   "pygments_lexer": "ipython3",
   "version": "3.9.7"
  }
 },
 "nbformat": 4,
 "nbformat_minor": 5
}
