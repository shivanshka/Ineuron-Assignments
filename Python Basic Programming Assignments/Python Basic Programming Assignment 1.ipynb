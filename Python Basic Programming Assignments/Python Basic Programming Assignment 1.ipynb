{
 "cells": [
  {
   "cell_type": "markdown",
   "id": "097f0f59",
   "metadata": {},
   "source": [
    "# Basic Programming Assignment 1"
   ]
  },
  {
   "cell_type": "markdown",
   "id": "b057c23e",
   "metadata": {},
   "source": [
    "1.\tWrite a Python program to print \"Hello Python\"?\n",
    "2.\tWrite a Python program to do arithmetical operations addition and division.?\n",
    "3.\tWrite a Python program to find the area of a triangle?\n",
    "4.\tWrite a Python program to swap two variables?\n",
    "5.\tWrite a Python program to generate a random number?"
   ]
  },
  {
   "cell_type": "markdown",
   "id": "c7b71b8e",
   "metadata": {},
   "source": [
    "1.\tWrite a Python program to print \"Hello Python\"?"
   ]
  },
  {
   "cell_type": "code",
   "execution_count": 4,
   "id": "fc23a2a0",
   "metadata": {},
   "outputs": [],
   "source": [
    "def printer():\n",
    "    print(\"Hello Python\")"
   ]
  },
  {
   "cell_type": "code",
   "execution_count": 5,
   "id": "1aaaa827",
   "metadata": {},
   "outputs": [
    {
     "name": "stdout",
     "output_type": "stream",
     "text": [
      "Hello Python\n"
     ]
    }
   ],
   "source": [
    "printer()"
   ]
  },
  {
   "cell_type": "code",
   "execution_count": null,
   "id": "cb7a8f58",
   "metadata": {},
   "outputs": [],
   "source": []
  },
  {
   "cell_type": "markdown",
   "id": "a28c816b",
   "metadata": {},
   "source": [
    "2.\tWrite a Python program to do arithmetical operations addition and division.?"
   ]
  },
  {
   "cell_type": "code",
   "execution_count": 8,
   "id": "a902fa13",
   "metadata": {},
   "outputs": [],
   "source": [
    "def add_div():\n",
    "    a = int(input(\"Enter first no: \"))\n",
    "    b = int(input(\"Enter second no: \"))\n",
    "    sum = a+b\n",
    "    div = a/b\n",
    "    return f\"Sum of {a} and {b} = {sum}\" , f\"Division of {a} and {b} = {div}\""
   ]
  },
  {
   "cell_type": "code",
   "execution_count": 9,
   "id": "046f09a2",
   "metadata": {},
   "outputs": [
    {
     "name": "stdout",
     "output_type": "stream",
     "text": [
      "Enter first no: 125\n",
      "Enter second no: 25\n"
     ]
    },
    {
     "data": {
      "text/plain": [
       "('Sum of 125 and 25 = 150', 'Division of 125 and 25 = 5.0')"
      ]
     },
     "execution_count": 9,
     "metadata": {},
     "output_type": "execute_result"
    }
   ],
   "source": [
    "add_div()"
   ]
  },
  {
   "cell_type": "code",
   "execution_count": null,
   "id": "54e629ee",
   "metadata": {},
   "outputs": [],
   "source": []
  },
  {
   "cell_type": "markdown",
   "id": "9b3164ec",
   "metadata": {},
   "source": [
    "3.\tWrite a Python program to find the area of a triangle?"
   ]
  },
  {
   "cell_type": "code",
   "execution_count": 10,
   "id": "2393b423",
   "metadata": {},
   "outputs": [],
   "source": [
    "def area_of_triangle():\n",
    "    base = int(input(\"Length of base of triangle: \"))\n",
    "    height = int(input(\"Length of height of triangle: \"))\n",
    "    area = 0.5 * base * height\n",
    "    return f\"Area of triangle is {area}\""
   ]
  },
  {
   "cell_type": "code",
   "execution_count": 24,
   "id": "3e21e631",
   "metadata": {},
   "outputs": [
    {
     "name": "stdout",
     "output_type": "stream",
     "text": [
      "Length of base of triangle: 40\n",
      "Length of height of triangle: 90\n"
     ]
    },
    {
     "data": {
      "text/plain": [
       "'Area of triangle is 1800.0'"
      ]
     },
     "execution_count": 24,
     "metadata": {},
     "output_type": "execute_result"
    }
   ],
   "source": [
    "area_of_triangle()"
   ]
  },
  {
   "cell_type": "code",
   "execution_count": null,
   "id": "bbbd74ea",
   "metadata": {},
   "outputs": [],
   "source": []
  },
  {
   "cell_type": "markdown",
   "id": "037ac682",
   "metadata": {},
   "source": [
    "4.\tWrite a Python program to swap two variables?"
   ]
  },
  {
   "cell_type": "code",
   "execution_count": 12,
   "id": "43873159",
   "metadata": {},
   "outputs": [],
   "source": [
    "def swaper(a, b):\n",
    "    c = a\n",
    "    a = b\n",
    "    b = c\n",
    "    return a, b"
   ]
  },
  {
   "cell_type": "code",
   "execution_count": 15,
   "id": "096886c6",
   "metadata": {},
   "outputs": [
    {
     "name": "stdout",
     "output_type": "stream",
     "text": [
      "a= 5  b= 10\n",
      "a= 10  b= 5\n"
     ]
    }
   ],
   "source": [
    "a = 5\n",
    "b = 10\n",
    "print(\"a=\",a,\" b=\",b)\n",
    "a, b = swaper(a, b)\n",
    "print(\"a=\",a,\" b=\",b)"
   ]
  },
  {
   "cell_type": "code",
   "execution_count": null,
   "id": "eb846a63",
   "metadata": {},
   "outputs": [],
   "source": []
  },
  {
   "cell_type": "markdown",
   "id": "d1cd0bbb",
   "metadata": {},
   "source": [
    "5.\tWrite a Python program to generate a random number?"
   ]
  },
  {
   "cell_type": "code",
   "execution_count": 23,
   "id": "6153b9df",
   "metadata": {},
   "outputs": [
    {
     "name": "stdout",
     "output_type": "stream",
     "text": [
      "963\n"
     ]
    }
   ],
   "source": [
    "import random\n",
    "n = random.randint(0 , 999)\n",
    "print(n)"
   ]
  },
  {
   "cell_type": "code",
   "execution_count": null,
   "id": "3e67ec3c",
   "metadata": {},
   "outputs": [],
   "source": []
  },
  {
   "cell_type": "code",
   "execution_count": null,
   "id": "d06b998e",
   "metadata": {},
   "outputs": [],
   "source": []
  }
 ],
 "metadata": {
  "kernelspec": {
   "display_name": "Python 3 (ipykernel)",
   "language": "python",
   "name": "python3"
  },
  "language_info": {
   "codemirror_mode": {
    "name": "ipython",
    "version": 3
   },
   "file_extension": ".py",
   "mimetype": "text/x-python",
   "name": "python",
   "nbconvert_exporter": "python",
   "pygments_lexer": "ipython3",
   "version": "3.9.7"
  }
 },
 "nbformat": 4,
 "nbformat_minor": 5
}
