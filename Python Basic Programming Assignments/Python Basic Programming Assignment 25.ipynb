{
 "cells": [
  {
   "cell_type": "markdown",
   "id": "71a1fb50",
   "metadata": {},
   "source": [
    "# Basic Programming Assignment 25"
   ]
  },
  {
   "cell_type": "markdown",
   "id": "d5215219",
   "metadata": {},
   "source": [
    "**Question 1.**  \n",
    "Create a function that takes three integer arguments (a, b, c) and returns the amount of integers which are of equal value. \n",
    ">**Examples**  \n",
    "equal(3, 4, 3) ➞ 2  \n",
    "equal(1, 1, 1) ➞ 3  \n",
    "equal(3, 4, 1) ➞ 0  \n",
    "\n",
    "Notes  \n",
    "Your function must return 0, 2 or 3.  "
   ]
  },
  {
   "cell_type": "code",
   "execution_count": 76,
   "id": "ca23810b",
   "metadata": {},
   "outputs": [],
   "source": [
    "def equal(a,b,c):\n",
    "    if a==b and a==c:\n",
    "        count = 3\n",
    "    elif a==b or a==c or b==c:\n",
    "        count = 2\n",
    "    else:\n",
    "        count = 0\n",
    "    return count    "
   ]
  },
  {
   "cell_type": "code",
   "execution_count": 77,
   "id": "95ce1f1f",
   "metadata": {},
   "outputs": [
    {
     "data": {
      "text/plain": [
       "3"
      ]
     },
     "execution_count": 77,
     "metadata": {},
     "output_type": "execute_result"
    }
   ],
   "source": [
    "equal(1,1,1)"
   ]
  },
  {
   "cell_type": "code",
   "execution_count": 78,
   "id": "e1e1f526",
   "metadata": {},
   "outputs": [
    {
     "data": {
      "text/plain": [
       "2"
      ]
     },
     "execution_count": 78,
     "metadata": {},
     "output_type": "execute_result"
    }
   ],
   "source": [
    "equal(3, 4, 3)"
   ]
  },
  {
   "cell_type": "code",
   "execution_count": 80,
   "id": "aa52f935",
   "metadata": {},
   "outputs": [
    {
     "data": {
      "text/plain": [
       "2"
      ]
     },
     "execution_count": 80,
     "metadata": {},
     "output_type": "execute_result"
    }
   ],
   "source": [
    "equal(3, 4, 4)"
   ]
  },
  {
   "cell_type": "code",
   "execution_count": null,
   "id": "ae82ad54",
   "metadata": {},
   "outputs": [],
   "source": []
  },
  {
   "cell_type": "markdown",
   "id": "0d47ecba",
   "metadata": {},
   "source": [
    "**Question 2.**  \n",
    "Write a function that converts a dictionary into a list of keys-values tuples.  \n",
    ">**Examples**  \n",
    "dict_to_list({\n",
    "  \"D\": 1,\n",
    "  \"B\": 2,\n",
    "  \"C\": 3\n",
    "            }) ➞ [(\"B\", 2), (\"C\", 3), (\"D\", 1)]  \n",
    "\n",
    ">dict_to_list({\n",
    "  \"likes\": 2,\n",
    "  \"dislikes\": 3,\n",
    "  \"followers\": 10\n",
    "             }) ➞ [(\"dislikes\", 3), (\"followers\", 10), (\"likes\", 2)]  \n",
    "\n",
    "Note: \n",
    "Return the elements in the list in alphabetical order."
   ]
  },
  {
   "cell_type": "code",
   "execution_count": 10,
   "id": "e9442b1f",
   "metadata": {},
   "outputs": [],
   "source": [
    "def dict_to_list(dict):\n",
    "    flat_dict = [(i , dict[i]) for i in dict]\n",
    "    flat_dict.sort()\n",
    "    return flat_dict"
   ]
  },
  {
   "cell_type": "code",
   "execution_count": 13,
   "id": "20091fd8",
   "metadata": {},
   "outputs": [
    {
     "data": {
      "text/plain": [
       "[('B', 2), ('C', 3), ('D', 1)]"
      ]
     },
     "execution_count": 13,
     "metadata": {},
     "output_type": "execute_result"
    }
   ],
   "source": [
    "dict_to_list({\"D\": 1, \"B\": 2, \"C\": 3 })"
   ]
  },
  {
   "cell_type": "code",
   "execution_count": 11,
   "id": "336cd847",
   "metadata": {},
   "outputs": [
    {
     "data": {
      "text/plain": [
       "[('dislikes', 3), ('followers', 10), ('likes', 2)]"
      ]
     },
     "execution_count": 11,
     "metadata": {},
     "output_type": "execute_result"
    }
   ],
   "source": [
    "dict_to_list({ \"likes\": 2, \"dislikes\": 3, \"followers\": 10 }) "
   ]
  },
  {
   "cell_type": "code",
   "execution_count": null,
   "id": "af90650d",
   "metadata": {},
   "outputs": [],
   "source": []
  },
  {
   "cell_type": "markdown",
   "id": "8cd84a9b",
   "metadata": {},
   "source": [
    "**Question 3**  \n",
    "Write a function that creates a dictionary with each (key, value) pair being the (lower case, upper case) versions of a letter, respectively.  \n",
    ">**Examples**  \n",
    "mapping([\"p\", \"s\"]) ➞ { \"p\": \"P\", \"s\": \"S\" }  \n",
    "mapping([\"a\", \"b\", \"c\"]) ➞ { \"a\": \"A\", \"b\": \"B\", \"c\": \"C\" }  \n",
    "mapping([\"a\", \"v\", \"y\", \"z\"]) ➞ { \"a\": \"A\", \"v\": \"V\", \"y\": \"Y\", \"z\": \"Z\" }  \n",
    "\n",
    "Notes: \n",
    "All of the letters in the input list will always be lowercase.\n"
   ]
  },
  {
   "cell_type": "code",
   "execution_count": 25,
   "id": "5f3d2abf",
   "metadata": {},
   "outputs": [],
   "source": [
    "def mapping(lis):\n",
    "    dict ={k:k.upper() for k in lis}\n",
    "    return dict\n",
    "    "
   ]
  },
  {
   "cell_type": "code",
   "execution_count": 22,
   "id": "46c54536",
   "metadata": {},
   "outputs": [
    {
     "data": {
      "text/plain": [
       "{'p': 'P', 's': 'S'}"
      ]
     },
     "execution_count": 22,
     "metadata": {},
     "output_type": "execute_result"
    }
   ],
   "source": [
    "mapping([\"p\", \"s\"])"
   ]
  },
  {
   "cell_type": "code",
   "execution_count": 23,
   "id": "4f39e6d0",
   "metadata": {},
   "outputs": [
    {
     "data": {
      "text/plain": [
       "{'a': 'A', 'b': 'B', 'c': 'C'}"
      ]
     },
     "execution_count": 23,
     "metadata": {},
     "output_type": "execute_result"
    }
   ],
   "source": [
    "mapping([\"a\", \"b\", \"c\"])"
   ]
  },
  {
   "cell_type": "code",
   "execution_count": 26,
   "id": "02ebb4bf",
   "metadata": {},
   "outputs": [
    {
     "data": {
      "text/plain": [
       "{'a': 'A', 'v': 'V', 'y': 'Y', 'z': 'Z'}"
      ]
     },
     "execution_count": 26,
     "metadata": {},
     "output_type": "execute_result"
    }
   ],
   "source": [
    "mapping([\"a\", \"v\", \"y\", \"z\"])"
   ]
  },
  {
   "cell_type": "code",
   "execution_count": null,
   "id": "3a44a4b9",
   "metadata": {},
   "outputs": [],
   "source": []
  },
  {
   "cell_type": "markdown",
   "id": "a19b7705",
   "metadata": {},
   "source": [
    "**Question 4.**  \n",
    "Write a function, that replaces all vowels in a string with a specified vowel.  \n",
    ">**Examples**  \n",
    "vow_replace(\"apples and bananas\", \"u\") ➞ \"upplus und bununus\"  \n",
    "vow_replace(\"cheese casserole\", \"o\") ➞ \"chooso cossorolo\"  \n",
    "vow_replace(\"stuffed jalapeno poppers\", \"e\") ➞ \"steffed jelepene peppers\"  \n",
    "\n",
    "Note: \n",
    "All words will be lowercase. Y is not considered a vowel."
   ]
  },
  {
   "cell_type": "code",
   "execution_count": 40,
   "id": "da483aa9",
   "metadata": {},
   "outputs": [],
   "source": [
    "import re\n",
    "def vow_replace(strr, vowel):\n",
    "    vowels = \"aeiou\"\n",
    "    for i in vowels:\n",
    "        strr = strr.replace(i,vowel)\n",
    "    return strr"
   ]
  },
  {
   "cell_type": "code",
   "execution_count": 41,
   "id": "322d007f",
   "metadata": {},
   "outputs": [
    {
     "data": {
      "text/plain": [
       "'upplus und bununus'"
      ]
     },
     "execution_count": 41,
     "metadata": {},
     "output_type": "execute_result"
    }
   ],
   "source": [
    "vow_replace(\"apples and bananas\", \"u\")"
   ]
  },
  {
   "cell_type": "code",
   "execution_count": 42,
   "id": "09dd5108",
   "metadata": {},
   "outputs": [
    {
     "data": {
      "text/plain": [
       "'chooso cossorolo'"
      ]
     },
     "execution_count": 42,
     "metadata": {},
     "output_type": "execute_result"
    }
   ],
   "source": [
    "vow_replace(\"cheese casserole\", \"o\")"
   ]
  },
  {
   "cell_type": "code",
   "execution_count": 43,
   "id": "c49072d8",
   "metadata": {},
   "outputs": [
    {
     "data": {
      "text/plain": [
       "'steffed jelepene peppers'"
      ]
     },
     "execution_count": 43,
     "metadata": {},
     "output_type": "execute_result"
    }
   ],
   "source": [
    "vow_replace(\"stuffed jalapeno poppers\", \"e\")"
   ]
  },
  {
   "cell_type": "code",
   "execution_count": null,
   "id": "39c47ca0",
   "metadata": {},
   "outputs": [],
   "source": []
  },
  {
   "cell_type": "markdown",
   "id": "20390aa7",
   "metadata": {},
   "source": [
    "**Question 5.**  \n",
    "Create a function that takes a string as input and capitalizes a letter if its ASCII code is even and returns its lower case version if its ASCII code is odd.  \n",
    ">**Examples**  \n",
    "ascii_capitalize(\"to be or not to be!\") ➞ \"To Be oR NoT To Be!\"  \n",
    "ascii_capitalize(\"THE LITTLE MERMAID\") ➞ \"THe LiTTLe meRmaiD\"  \n",
    "ascii_capitalize(\"Oh what a beautiful morning.\") ➞ \"oH wHaT a BeauTiFuL moRNiNg.\"  "
   ]
  },
  {
   "cell_type": "code",
   "execution_count": 48,
   "id": "090c3643",
   "metadata": {},
   "outputs": [],
   "source": [
    "def ascii_capitalize(strr):\n",
    "    new_strr = ''\n",
    "    for i in strr: \n",
    "        if ord(i) % 2 == 0:\n",
    "            new_strr = new_strr + i.upper()    \n",
    "        else:\n",
    "            new_strr = new_strr + i.lower()\n",
    "    return new_strr"
   ]
  },
  {
   "cell_type": "code",
   "execution_count": 53,
   "id": "a2021bb0",
   "metadata": {},
   "outputs": [
    {
     "name": "stdout",
     "output_type": "stream",
     "text": [
      "Enter your string: Oh what a beautiful morning.\n",
      "\n",
      "Original string: Oh what a beautiful morning.\n",
      "New string: oH wHaT a BeauTiFuL moRNiNg.\n"
     ]
    }
   ],
   "source": [
    "strr = input(\"Enter your string: \")\n",
    "new = ascii_capitalize(strr)\n",
    "print(\"\\nOriginal string:\",strr)\n",
    "print(\"New string:\",new)"
   ]
  },
  {
   "cell_type": "code",
   "execution_count": 49,
   "id": "45fad86f",
   "metadata": {},
   "outputs": [
    {
     "data": {
      "text/plain": [
       "'To Be oR NoT To Be!'"
      ]
     },
     "execution_count": 49,
     "metadata": {},
     "output_type": "execute_result"
    }
   ],
   "source": [
    "ascii_capitalize(\"to be or not to be!\")"
   ]
  },
  {
   "cell_type": "code",
   "execution_count": 50,
   "id": "69bd4a7c",
   "metadata": {},
   "outputs": [
    {
     "data": {
      "text/plain": [
       "'THe LiTTLe meRmaiD'"
      ]
     },
     "execution_count": 50,
     "metadata": {},
     "output_type": "execute_result"
    }
   ],
   "source": [
    "ascii_capitalize(\"THE LITTLE MERMAID\")"
   ]
  },
  {
   "cell_type": "code",
   "execution_count": 51,
   "id": "b3744d00",
   "metadata": {},
   "outputs": [
    {
     "data": {
      "text/plain": [
       "'oH wHaT a BeauTiFuL moRNiNg.'"
      ]
     },
     "execution_count": 51,
     "metadata": {},
     "output_type": "execute_result"
    }
   ],
   "source": [
    "ascii_capitalize(\"Oh what a beautiful morning.\")"
   ]
  },
  {
   "cell_type": "code",
   "execution_count": 66,
   "id": "6c272e59",
   "metadata": {},
   "outputs": [],
   "source": []
  },
  {
   "cell_type": "code",
   "execution_count": null,
   "id": "b0fcf631",
   "metadata": {},
   "outputs": [],
   "source": []
  }
 ],
 "metadata": {
  "kernelspec": {
   "display_name": "Python 3 (ipykernel)",
   "language": "python",
   "name": "python3"
  },
  "language_info": {
   "codemirror_mode": {
    "name": "ipython",
    "version": 3
   },
   "file_extension": ".py",
   "mimetype": "text/x-python",
   "name": "python",
   "nbconvert_exporter": "python",
   "pygments_lexer": "ipython3",
   "version": "3.9.7"
  }
 },
 "nbformat": 4,
 "nbformat_minor": 5
}
