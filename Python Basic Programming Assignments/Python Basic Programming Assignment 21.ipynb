{
 "cells": [
  {
   "cell_type": "markdown",
   "id": "1365f5b6",
   "metadata": {},
   "source": [
    "# Basic Programming Assignment 21"
   ]
  },
  {
   "cell_type": "markdown",
   "id": "be7ac255",
   "metadata": {},
   "source": [
    "**Question 1.**  \n",
    "Write a function that takes a list and a number as arguments. Add the number to the end of the list, then remove the first element of the list. The function should then return the updated list.  \n",
    ">**Examples**  \n",
    "next_in_line([5, 6, 7, 8, 9], 1) ➞ [6, 7, 8, 9, 1]  \n",
    "next_in_line([7, 6, 3, 23, 17], 10) ➞ [6, 3, 23, 17, 10]  \n",
    "next_in_line([1, 10, 20, 42 ], 6) ➞ [10, 20, 42, 6]  \n",
    "next_in_line([], 6) ➞ \"No list has been selected\"  "
   ]
  },
  {
   "cell_type": "code",
   "execution_count": 8,
   "id": "5f52bcc9",
   "metadata": {},
   "outputs": [],
   "source": [
    "def next_in_line(lst, arg):\n",
    "    \"\"\"Returns the list after adding the passed element and removing the first one.\"\"\"\n",
    "    if lst != []:\n",
    "        lst.append(arg)\n",
    "        lst.pop(0)\n",
    "        return lst\n",
    "    else:\n",
    "        return \"No list has been selected\""
   ]
  },
  {
   "cell_type": "code",
   "execution_count": 13,
   "id": "904572c9",
   "metadata": {},
   "outputs": [
    {
     "name": "stdout",
     "output_type": "stream",
     "text": [
      "[6, 7, 8, 9, 1]\n"
     ]
    }
   ],
   "source": [
    "a = next_in_line([5, 6, 7, 8, 9], 1)\n",
    "print(a)"
   ]
  },
  {
   "cell_type": "code",
   "execution_count": 14,
   "id": "f53f714e",
   "metadata": {},
   "outputs": [
    {
     "name": "stdout",
     "output_type": "stream",
     "text": [
      "[6, 3, 23, 17, 10]\n"
     ]
    }
   ],
   "source": [
    "b = next_in_line([7, 6, 3, 23, 17], 10)\n",
    "print(b)"
   ]
  },
  {
   "cell_type": "code",
   "execution_count": 15,
   "id": "f76a26e9",
   "metadata": {},
   "outputs": [
    {
     "name": "stdout",
     "output_type": "stream",
     "text": [
      "[10, 20, 42, 6]\n"
     ]
    }
   ],
   "source": [
    "c= next_in_line([1, 10, 20, 42 ], 6)\n",
    "print(c)"
   ]
  },
  {
   "cell_type": "code",
   "execution_count": 16,
   "id": "8f891ac9",
   "metadata": {},
   "outputs": [
    {
     "name": "stdout",
     "output_type": "stream",
     "text": [
      "No list has been selected\n"
     ]
    }
   ],
   "source": [
    "d = next_in_line([], 6)\n",
    "print(d)"
   ]
  },
  {
   "cell_type": "code",
   "execution_count": null,
   "id": "93897326",
   "metadata": {},
   "outputs": [],
   "source": []
  },
  {
   "cell_type": "markdown",
   "id": "b79f034a",
   "metadata": {},
   "source": [
    "**Question 2.**  \n",
    "Create the function that takes a list of dictionaries and returns the sum of people's budgets.  \n",
    ">**Examples**  \n",
    "get_budgets([\n",
    "  { \"name\": \"John\", \"age\": 21, \"budget\": 23000 },\n",
    "  { \"name\": \"Steve\",  \"age\": 32, \"budget\": 40000 },\n",
    "  { \"name\": \"Martin\",  \"age\": 16, \"budget\": 2700 }\n",
    "]) ➞ 65700\n",
    "\n",
    ">get_budgets([\n",
    "  { \"name\": \"John\",  \"age\": 21, \"budget\": 29000 },\n",
    "  { \"name\": \"Steve\",  \"age\": 32, \"budget\": 32000 },\n",
    "  { \"name\": \"Martin\",  \"age\": 16, \"budget\": 1600 }\n",
    "]) ➞ 62600"
   ]
  },
  {
   "cell_type": "code",
   "execution_count": 28,
   "id": "c8eae555",
   "metadata": {},
   "outputs": [],
   "source": [
    "def get_budgets(lst):\n",
    "    \"\"\"Return the sum of budgets of people passed as dictionary in a list\"\"\"\n",
    "    from functools import reduce \n",
    "    try:\n",
    "        total_budget =0\n",
    "        for i in lst:\n",
    "            total_budget += i[\"budget\"]   \n",
    "        return total_budget\n",
    "    except Exception as e:\n",
    "        print(\"Error occured: \",e)"
   ]
  },
  {
   "cell_type": "code",
   "execution_count": 29,
   "id": "9fe9c660",
   "metadata": {},
   "outputs": [
    {
     "name": "stdout",
     "output_type": "stream",
     "text": [
      "Total budget= 65700\n"
     ]
    }
   ],
   "source": [
    "total_budget = get_budgets([ { \"name\": \"John\", \"age\": 21, \"budget\": 23000 }, \n",
    "                             { \"name\": \"Steve\", \"age\": 32, \"budget\": 40000 }, \n",
    "                             { \"name\": \"Martin\", \"age\": 16, \"budget\": 2700 } \n",
    "                           ]) \n",
    "print(\"Total budget=\",total_budget)"
   ]
  },
  {
   "cell_type": "code",
   "execution_count": 30,
   "id": "487f942d",
   "metadata": {},
   "outputs": [
    {
     "name": "stdout",
     "output_type": "stream",
     "text": [
      "Total budget= 62600\n"
     ]
    }
   ],
   "source": [
    "total_budget = get_budgets([ { \"name\": \"John\", \"age\": 21, \"budget\": 29000 }, \n",
    "                             { \"name\": \"Steve\", \"age\": 32, \"budget\": 32000 }, \n",
    "                             { \"name\": \"Martin\", \"age\": 16, \"budget\": 1600 } \n",
    "                           ])\n",
    "print(\"Total budget=\",total_budget)"
   ]
  },
  {
   "cell_type": "code",
   "execution_count": null,
   "id": "50287dbb",
   "metadata": {},
   "outputs": [],
   "source": []
  },
  {
   "cell_type": "markdown",
   "id": "a147f356",
   "metadata": {},
   "source": [
    "**Question 3.**  \n",
    "Create a function that takes a string and returns a string with its letters in alphabetical order.  \n",
    ">**Examples**  \n",
    "alphabet_soup(\"hello\") ➞ \"ehllo\"  \n",
    "alphabet_soup(\"edabit\") ➞ \"abdeit\"  \n",
    "alphabet_soup(\"hacker\") ➞ \"acehkr\"  \n",
    "alphabet_soup(\"geek\") ➞ \"eegk\"  \n",
    "alphabet_soup(\"javascript\") ➞ \"aacijprstv\"  "
   ]
  },
  {
   "cell_type": "code",
   "execution_count": 33,
   "id": "b2503cde",
   "metadata": {},
   "outputs": [],
   "source": [
    "def alphabet_soup(strr):\n",
    "    l = list(strr)\n",
    "    l.sort()\n",
    "    strr = \"\".join(l)\n",
    "    return strr"
   ]
  },
  {
   "cell_type": "code",
   "execution_count": 34,
   "id": "bfab5868",
   "metadata": {},
   "outputs": [
    {
     "data": {
      "text/plain": [
       "'ehllo'"
      ]
     },
     "execution_count": 34,
     "metadata": {},
     "output_type": "execute_result"
    }
   ],
   "source": [
    "alphabet_soup(\"hello\") "
   ]
  },
  {
   "cell_type": "code",
   "execution_count": 35,
   "id": "9a0c67bd",
   "metadata": {},
   "outputs": [
    {
     "data": {
      "text/plain": [
       "'abdeit'"
      ]
     },
     "execution_count": 35,
     "metadata": {},
     "output_type": "execute_result"
    }
   ],
   "source": [
    "alphabet_soup(\"edabit\")"
   ]
  },
  {
   "cell_type": "code",
   "execution_count": 36,
   "id": "ad507eb5",
   "metadata": {},
   "outputs": [
    {
     "data": {
      "text/plain": [
       "'acehkr'"
      ]
     },
     "execution_count": 36,
     "metadata": {},
     "output_type": "execute_result"
    }
   ],
   "source": [
    "alphabet_soup(\"hacker\")"
   ]
  },
  {
   "cell_type": "code",
   "execution_count": 37,
   "id": "c3259d9d",
   "metadata": {},
   "outputs": [
    {
     "data": {
      "text/plain": [
       "'eegk'"
      ]
     },
     "execution_count": 37,
     "metadata": {},
     "output_type": "execute_result"
    }
   ],
   "source": [
    "alphabet_soup(\"geek\")"
   ]
  },
  {
   "cell_type": "code",
   "execution_count": 38,
   "id": "6b67aa24",
   "metadata": {},
   "outputs": [
    {
     "data": {
      "text/plain": [
       "'aacijprstv'"
      ]
     },
     "execution_count": 38,
     "metadata": {},
     "output_type": "execute_result"
    }
   ],
   "source": [
    "alphabet_soup(\"javascript\")"
   ]
  },
  {
   "cell_type": "code",
   "execution_count": null,
   "id": "a347a937",
   "metadata": {},
   "outputs": [],
   "source": []
  },
  {
   "cell_type": "markdown",
   "id": "31fac058",
   "metadata": {},
   "source": [
    "**Question 4.**  \n",
    "Suppose that you invest $10,000 for 10 years at an interest rate of 6% compounded monthly. What will be the value of your investment at the end of the 10 year period?  \n",
    "\n",
    "Create a function that accepts the principal p, the term in years t, the interest rate r, and the number of compounding periods per year n. The function returns the value at the end of term rounded to the nearest cent.  \n",
    "\n",
    "For the example above:  \n",
    "compound_interest(10000, 10, 0.06, 12) ➞ 18193.97  \n",
    "\n",
    "Note that the interest rate is given as a decimal and n=12 because with monthly compounding there are 12 periods per year.  Compounding can also be done annually, quarterly, weekly, or daily.  \n",
    ">**Examples**  \n",
    "compound_interest(100, 1, 0.05, 1) ➞ 105.0  \n",
    "compound_interest(3500, 15, 0.1, 4) ➞ 15399.26  \n",
    "compound_interest(100000, 20, 0.15, 365) ➞ 2007316.26  "
   ]
  },
  {
   "cell_type": "code",
   "execution_count": 53,
   "id": "0a0aa40a",
   "metadata": {},
   "outputs": [],
   "source": [
    "def compound_interest(p, t, r,n):\n",
    "    amount = p*(1+ r/n)**(n*t)\n",
    "    amount = round(amount, ndigits=2)\n",
    "    return amount"
   ]
  },
  {
   "cell_type": "code",
   "execution_count": 58,
   "id": "52059b0c",
   "metadata": {},
   "outputs": [
    {
     "name": "stdout",
     "output_type": "stream",
     "text": [
      "Enter the principle amount: 3500\n",
      "Enter the rate of interest: 10\n",
      "Enter the time period: 15\n",
      "Enter 1 for anually, 2 for semi-anually, 4 for quaterly, 52 for weekly and 365 for daily: 4\n",
      "Amount after specified time = 15399.26\n"
     ]
    }
   ],
   "source": [
    "p = int(input(\"Enter the principle amount: \"))\n",
    "r = float(input(\"Enter the rate of interest: \"))\n",
    "t = float(input(\"Enter the time period: \"))\n",
    "n = int(input(\"Enter 1 for anually, 2 for semi-anually, 4 for quaterly, 52 for weekly and 365 for daily: \")) \n",
    "amount=compound_interest(p, t, r/100, n)\n",
    "print(\"Amount after specified time =\",amount)"
   ]
  },
  {
   "cell_type": "code",
   "execution_count": null,
   "id": "eb3dae20",
   "metadata": {},
   "outputs": [],
   "source": []
  },
  {
   "cell_type": "markdown",
   "id": "eb3076db",
   "metadata": {},
   "source": [
    "**Question 5.**  \n",
    "Write a function that takes a list of elements and returns only the integers.  \n",
    ">**Examples**  \n",
    "return_only_integer([9, 2, \"space\", \"car\", \"lion\", 16]) ➞ [9, 2, 16]  \n",
    "return_only_integer([\"hello\", 81, \"basketball\", 123, \"fox\"]) ➞ [81, 123]  \n",
    "return_only_integer([10, \"121\", 56, 20, \"car\", 3, \"lion\"]) ➞ [10, 56, 20, 3]  \n",
    "return_only_integer([\"String\",  True,  3.3,  1]) ➞ [1]  "
   ]
  },
  {
   "cell_type": "code",
   "execution_count": 40,
   "id": "6c812023",
   "metadata": {},
   "outputs": [],
   "source": [
    "def return_only_integer(lis):\n",
    "    filter_list = list(filter(lambda x: type(x)==int, lis))\n",
    "    return filter_list"
   ]
  },
  {
   "cell_type": "code",
   "execution_count": 41,
   "id": "1c75b715",
   "metadata": {},
   "outputs": [
    {
     "data": {
      "text/plain": [
       "[9, 2, 16]"
      ]
     },
     "execution_count": 41,
     "metadata": {},
     "output_type": "execute_result"
    }
   ],
   "source": [
    "return_only_integer([9, 2, \"space\", \"car\", \"lion\", 16])"
   ]
  },
  {
   "cell_type": "code",
   "execution_count": 42,
   "id": "e8dc39c6",
   "metadata": {},
   "outputs": [
    {
     "data": {
      "text/plain": [
       "[81, 123]"
      ]
     },
     "execution_count": 42,
     "metadata": {},
     "output_type": "execute_result"
    }
   ],
   "source": [
    "return_only_integer([\"hello\", 81, \"basketball\", 123, \"fox\"])"
   ]
  },
  {
   "cell_type": "code",
   "execution_count": 43,
   "id": "f851b62c",
   "metadata": {},
   "outputs": [
    {
     "data": {
      "text/plain": [
       "[10, 56, 20, 3]"
      ]
     },
     "execution_count": 43,
     "metadata": {},
     "output_type": "execute_result"
    }
   ],
   "source": [
    "return_only_integer([10, \"121\", 56, 20, \"car\", 3, \"lion\"])"
   ]
  },
  {
   "cell_type": "code",
   "execution_count": 44,
   "id": "f9a4f98f",
   "metadata": {},
   "outputs": [
    {
     "data": {
      "text/plain": [
       "[1]"
      ]
     },
     "execution_count": 44,
     "metadata": {},
     "output_type": "execute_result"
    }
   ],
   "source": [
    "return_only_integer([\"String\", True, 3.3, 1])"
   ]
  },
  {
   "cell_type": "code",
   "execution_count": null,
   "id": "2fdbf7ac",
   "metadata": {},
   "outputs": [],
   "source": []
  }
 ],
 "metadata": {
  "kernelspec": {
   "display_name": "Python 3 (ipykernel)",
   "language": "python",
   "name": "python3"
  },
  "language_info": {
   "codemirror_mode": {
    "name": "ipython",
    "version": 3
   },
   "file_extension": ".py",
   "mimetype": "text/x-python",
   "name": "python",
   "nbconvert_exporter": "python",
   "pygments_lexer": "ipython3",
   "version": "3.9.7"
  }
 },
 "nbformat": 4,
 "nbformat_minor": 5
}
