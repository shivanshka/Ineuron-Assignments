{
 "cells": [
  {
   "cell_type": "markdown",
   "id": "51d9d5d8",
   "metadata": {},
   "source": [
    "# Basic Programming Assignment 24"
   ]
  },
  {
   "cell_type": "markdown",
   "id": "84ba3541",
   "metadata": {},
   "source": [
    "**Question 1.**  \n",
    "Create a function that takes an integer and returns a list from 1 to the given number, where:  \n",
    "1.\tIf the number can be divided evenly by 4, amplify it by 10 (i.e. return 10 times the number).  \n",
    "2.\tIf the number cannot be divided evenly by 4, simply return the number.  \n",
    ">**Examples**  \n",
    "amplify(4) ➞ [1, 2, 3, 40]  \n",
    "amplify(3) ➞ [1, 2, 3]  \n",
    "amplify(25) ➞ [1, 2, 3, 40, 5, 6, 7, 80, 9, 10, 11, 120, 13, 14, 15, 160, 17, 18, 19, 200, 21, 22, 23, 240, 25]  \n",
    "\n",
    "Notes  \n",
    "•\tThe given integer will always be equal to or greater than 1.  \n",
    "•\tInclude the number (see example above).  \n",
    "•\tTo perform this problem with its intended purpose, try doing it with list comprehensions. If that's too difficult, just solve the challenge any way you can.  "
   ]
  },
  {
   "cell_type": "code",
   "execution_count": 3,
   "id": "4f281a64",
   "metadata": {},
   "outputs": [],
   "source": [
    "def amplify(num):\n",
    "    ampli = [i*10 if i%4==0 else i for i in range(1,num+1)]\n",
    "    return ampli"
   ]
  },
  {
   "cell_type": "code",
   "execution_count": 7,
   "id": "7b16692e",
   "metadata": {},
   "outputs": [
    {
     "name": "stdout",
     "output_type": "stream",
     "text": [
      "Enter the number: 25\n",
      "[1, 2, 3, 40, 5, 6, 7, 80, 9, 10, 11, 120, 13, 14, 15, 160, 17, 18, 19, 200, 21, 22, 23, 240, 25]\n"
     ]
    }
   ],
   "source": [
    "num = int(input(\"Enter the number: \"))\n",
    "lis= amplify(num)\n",
    "print(lis)"
   ]
  },
  {
   "cell_type": "code",
   "execution_count": 4,
   "id": "dd144f11",
   "metadata": {},
   "outputs": [
    {
     "data": {
      "text/plain": [
       "[1, 2, 3, 40]"
      ]
     },
     "execution_count": 4,
     "metadata": {},
     "output_type": "execute_result"
    }
   ],
   "source": [
    "amplify(4)"
   ]
  },
  {
   "cell_type": "code",
   "execution_count": 5,
   "id": "f0a7c785",
   "metadata": {},
   "outputs": [
    {
     "data": {
      "text/plain": [
       "[1, 2, 3]"
      ]
     },
     "execution_count": 5,
     "metadata": {},
     "output_type": "execute_result"
    }
   ],
   "source": [
    "amplify(3)"
   ]
  },
  {
   "cell_type": "code",
   "execution_count": null,
   "id": "62047703",
   "metadata": {},
   "outputs": [],
   "source": []
  },
  {
   "cell_type": "markdown",
   "id": "07c43cfa",
   "metadata": {},
   "source": [
    "**Question 2.**  \n",
    "Create a function that takes a list of numbers and return the number that's unique.  \n",
    ">**Examples**  \n",
    "unique([3, 3, 3, 7, 3, 3]) ➞ 7  \n",
    "unique([0, 0, 0.77, 0, 0]) ➞ 0.77  \n",
    "unique([0, 1, 1, 1, 1, 1, 1, 1]) ➞ 0  \n",
    "\n",
    "Notes  \n",
    "Test cases will always have exactly one unique number while all others are the same.  "
   ]
  },
  {
   "cell_type": "code",
   "execution_count": 10,
   "id": "a9412bc7",
   "metadata": {},
   "outputs": [],
   "source": [
    "def unique(lis):\n",
    "    for i in lis:\n",
    "        if lis.count(i) ==1:\n",
    "            return i"
   ]
  },
  {
   "cell_type": "code",
   "execution_count": 11,
   "id": "5802537c",
   "metadata": {},
   "outputs": [
    {
     "data": {
      "text/plain": [
       "7"
      ]
     },
     "execution_count": 11,
     "metadata": {},
     "output_type": "execute_result"
    }
   ],
   "source": [
    "unique([3, 3, 3, 7, 3, 3])"
   ]
  },
  {
   "cell_type": "code",
   "execution_count": 12,
   "id": "da3d7f01",
   "metadata": {},
   "outputs": [
    {
     "data": {
      "text/plain": [
       "0.77"
      ]
     },
     "execution_count": 12,
     "metadata": {},
     "output_type": "execute_result"
    }
   ],
   "source": [
    "unique([0, 0, 0.77, 0, 0])"
   ]
  },
  {
   "cell_type": "code",
   "execution_count": 13,
   "id": "379f61ce",
   "metadata": {},
   "outputs": [
    {
     "data": {
      "text/plain": [
       "0"
      ]
     },
     "execution_count": 13,
     "metadata": {},
     "output_type": "execute_result"
    }
   ],
   "source": [
    "unique([0, 1, 1, 1, 1, 1, 1, 1])"
   ]
  },
  {
   "cell_type": "code",
   "execution_count": null,
   "id": "e50d276e",
   "metadata": {},
   "outputs": [],
   "source": []
  },
  {
   "cell_type": "markdown",
   "id": "b5d5d3de",
   "metadata": {},
   "source": [
    "**Question 3.**  \n",
    "Your task is to create a Circle constructor that creates a circle with a radius provided by an argument. The circles constructed must have two getters getArea() (PIr^2) and getPerimeter() (2PI*r) which give both respective areas and perimeter (circumference).  \n",
    "For help with this class, I have provided you with a Rectangle constructor which you can use as a base example.  \n",
    ">**Examples**  \n",
    "circy = Circle(11)  \n",
    "circy.getArea()  \n",
    "#Should return 380.132711084365  \n",
    "\n",
    ">circy = Circle(4.44)  \n",
    "circy.getPerimeter()  \n",
    "#Should return 27.897342763877365  \n",
    "\n",
    "Notes  \n",
    "Round results up to the nearest integer.  "
   ]
  },
  {
   "cell_type": "code",
   "execution_count": 14,
   "id": "87cec7ab",
   "metadata": {},
   "outputs": [],
   "source": [
    "import math\n",
    "class Circle:\n",
    "    def __init__(self, radius):\n",
    "        self.radius = radius\n",
    "        \n",
    "    def __repr__(self):\n",
    "        return f\"Circle with radius {self.radius}\"\n",
    "        \n",
    "    def getArea(self):\n",
    "        area = math.pi*(self.radius**2)\n",
    "        return area\n",
    "    \n",
    "    def getPerimeter(self):\n",
    "        perimeter = 2*math.pi*self.radius\n",
    "        return perimeter"
   ]
  },
  {
   "cell_type": "code",
   "execution_count": 21,
   "id": "081d5ce3",
   "metadata": {},
   "outputs": [
    {
     "name": "stdout",
     "output_type": "stream",
     "text": [
      "Area of circle = 380\n",
      "Perimeter of circle = 69\n"
     ]
    }
   ],
   "source": [
    "circy = Circle(11)\n",
    "print(\"Area of circle =\",round(circy.getArea()))\n",
    "print(\"Perimeter of circle =\",round(circy.getPerimeter()))"
   ]
  },
  {
   "cell_type": "code",
   "execution_count": 22,
   "id": "42a815ea",
   "metadata": {},
   "outputs": [
    {
     "name": "stdout",
     "output_type": "stream",
     "text": [
      "Area of circle = 62\n",
      "Perimeter of circle = 28\n"
     ]
    }
   ],
   "source": [
    "circy = Circle(4.44)\n",
    "print(\"Area of circle =\",round(circy.getArea()))\n",
    "print(\"Perimeter of circle =\",round(circy.getPerimeter()))"
   ]
  },
  {
   "cell_type": "code",
   "execution_count": null,
   "id": "f083a0f5",
   "metadata": {},
   "outputs": [],
   "source": []
  },
  {
   "cell_type": "markdown",
   "id": "6311d5db",
   "metadata": {},
   "source": [
    "**Question 4.**  \n",
    "Create a function that takes a list of strings and return a list, sorted from shortest to longest.  \n",
    ">**Examples**  \n",
    "sort_by_length([\"Google\", \"Apple\", \"Microsoft\"])\n",
    "➞ [\"Apple\", \"Google\", \"Microsoft\"]  \n",
    "sort_by_length([\"Leonardo\", \"Michelangelo\", \"Raphael\", \"Donatello\"])\n",
    "➞ [\"Raphael\", \"Leonardo\", \"Donatello\", \"Michelangelo\"]  \n",
    "sort_by_length([\"Turing\", \"Einstein\", \"Jung\"])\n",
    "➞ [\"Jung\", \"Turing\", \"Einstein\"]  \n",
    "\n",
    "Notes  \n",
    "All test cases contain lists with strings of different lengths, so you won't have to deal with multiple strings of the same length.  "
   ]
  },
  {
   "cell_type": "code",
   "execution_count": 69,
   "id": "eca82c36",
   "metadata": {},
   "outputs": [],
   "source": [
    "# Method 1:\n",
    "def sort2(lis):\n",
    "    lis.sort(key=len)\n",
    "    return lis\n",
    "\n",
    "# Method 2:\n",
    "def sort_by_length(lis,order = True):\n",
    "    \"\"\"Returns the list after sorting the strings in the list according to there lengths.\n",
    "    \n",
    "    sort_by_length(lis, order = True) -----> list\n",
    "    \n",
    "    Returns the list after sorting the strings in the list according to there lengths.\n",
    "    \n",
    "    Param:\n",
    "    list  : List of strings <list>\n",
    "    order : True or False <bool>. By default it is True.\n",
    "            True  : for sorting in ascending order.\n",
    "            False : for sorting in descending order.\n",
    "            \n",
    "    Return:\n",
    "    ---------\n",
    "    list : sorted list\n",
    "    \n",
    "    \"\"\"\n",
    "    for i in range(len(lis)-1):\n",
    "        for j in range(len(lis)-1):\n",
    "            \n",
    "            if order == True:\n",
    "                if len(lis[j+1]) < len(lis[j]):\n",
    "                    lis[j+1],lis[j] = lis[j], lis[j+1]\n",
    "           \n",
    "            elif order == False:\n",
    "                if len(lis[j+1]) > len(lis[j]):\n",
    "                    lis[j+1],lis[j] = lis[j], lis[j+1]\n",
    "    return lis"
   ]
  },
  {
   "cell_type": "code",
   "execution_count": 70,
   "id": "8657fef8",
   "metadata": {},
   "outputs": [
    {
     "data": {
      "text/plain": [
       "['Apple', 'Google', 'Microsoft']"
      ]
     },
     "execution_count": 70,
     "metadata": {},
     "output_type": "execute_result"
    }
   ],
   "source": [
    "sort2([\"Google\", \"Apple\", \"Microsoft\"])"
   ]
  },
  {
   "cell_type": "code",
   "execution_count": 63,
   "id": "dc82def8",
   "metadata": {},
   "outputs": [
    {
     "data": {
      "text/plain": [
       "['Raphael', 'Leonardo', 'Donatello', 'Michelangelo']"
      ]
     },
     "execution_count": 63,
     "metadata": {},
     "output_type": "execute_result"
    }
   ],
   "source": [
    "sort_by_length([\"Leonardo\", \"Michelangelo\", \"Raphael\", \"Donatello\"]) "
   ]
  },
  {
   "cell_type": "code",
   "execution_count": 64,
   "id": "d8a3b045",
   "metadata": {},
   "outputs": [
    {
     "data": {
      "text/plain": [
       "['Jung', 'Turing', 'Einstein']"
      ]
     },
     "execution_count": 64,
     "metadata": {},
     "output_type": "execute_result"
    }
   ],
   "source": [
    "sort_by_length([\"Turing\", \"Einstein\", \"Jung\"])"
   ]
  },
  {
   "cell_type": "code",
   "execution_count": null,
   "id": "e81d3679",
   "metadata": {},
   "outputs": [],
   "source": []
  },
  {
   "cell_type": "markdown",
   "id": "770fadda",
   "metadata": {},
   "source": [
    "**Question 5.**  \n",
    "Create a function that validates whether three given integers form a Pythagorean triplet. The sum of the squares of the two smallest integers must equal the square of the largest number to be validated.  \n",
    ">**Examples**  \n",
    "is_triplet(3, 4, 5) ➞ True  \n",
    "#3² + 4² = 25  \n",
    "#5² = 25  \n",
    "\n",
    ">is_triplet(13, 5, 12) ➞ True  \n",
    "#5² + 12² = 169  \n",
    "#13² = 169  \n",
    "\n",
    ">is_triplet(1, 2, 3) ➞ False  \n",
    "#1² + 2² = 5  \n",
    "#3² = 9  \n",
    "\n",
    "Notes  \n",
    "Numbers may not be given in a sorted order.  "
   ]
  },
  {
   "cell_type": "code",
   "execution_count": 30,
   "id": "edafb936",
   "metadata": {},
   "outputs": [],
   "source": [
    "def is_triplet(a,b,c):\n",
    "    \"\"\" Returns True if the given numbers is Pythagorian Triplet.\n",
    "    \n",
    "    is_triplet(a,b,c) ------> bool\n",
    "    \n",
    "    Returns True if the given numbers is Pythagorian Triplet. \n",
    "    i.e. sum of square of smallest elements is equal to square of largest element.\n",
    "    \n",
    "    Param:\n",
    "    a,b,c : int value\n",
    "    \n",
    "    Return:\n",
    "    ----------\n",
    "    True / False :\n",
    "               True:  If three numbers are Pythagorian Triplet.\n",
    "               False: If three numbers are not Pythagorian Triplet.\n",
    "    \"\"\"\n",
    "    sort_num = [a,b,c]\n",
    "    sort_num.sort()\n",
    "    if sort_num[0]**2 + sort_num[1]**2 == sort_num[2]**2:\n",
    "        return True\n",
    "    else:\n",
    "        return False"
   ]
  },
  {
   "cell_type": "code",
   "execution_count": 26,
   "id": "1038d773",
   "metadata": {},
   "outputs": [
    {
     "data": {
      "text/plain": [
       "True"
      ]
     },
     "execution_count": 26,
     "metadata": {},
     "output_type": "execute_result"
    }
   ],
   "source": [
    "is_triplet(3, 4, 5)"
   ]
  },
  {
   "cell_type": "code",
   "execution_count": 27,
   "id": "a1f23bd9",
   "metadata": {},
   "outputs": [
    {
     "data": {
      "text/plain": [
       "True"
      ]
     },
     "execution_count": 27,
     "metadata": {},
     "output_type": "execute_result"
    }
   ],
   "source": [
    "is_triplet(13, 5, 12)"
   ]
  },
  {
   "cell_type": "code",
   "execution_count": 28,
   "id": "be224f9d",
   "metadata": {},
   "outputs": [
    {
     "data": {
      "text/plain": [
       "False"
      ]
     },
     "execution_count": 28,
     "metadata": {},
     "output_type": "execute_result"
    }
   ],
   "source": [
    "is_triplet(1, 2, 3)"
   ]
  },
  {
   "cell_type": "code",
   "execution_count": null,
   "id": "3800f089",
   "metadata": {},
   "outputs": [],
   "source": []
  }
 ],
 "metadata": {
  "kernelspec": {
   "display_name": "Python 3 (ipykernel)",
   "language": "python",
   "name": "python3"
  },
  "language_info": {
   "codemirror_mode": {
    "name": "ipython",
    "version": 3
   },
   "file_extension": ".py",
   "mimetype": "text/x-python",
   "name": "python",
   "nbconvert_exporter": "python",
   "pygments_lexer": "ipython3",
   "version": "3.9.7"
  }
 },
 "nbformat": 4,
 "nbformat_minor": 5
}
