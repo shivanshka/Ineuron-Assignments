{
 "cells": [
  {
   "cell_type": "markdown",
   "id": "346553e1",
   "metadata": {},
   "source": [
    "# Basic Programming Assignment 18"
   ]
  },
  {
   "cell_type": "markdown",
   "id": "8c3d3839",
   "metadata": {},
   "source": [
    "**Question 1.**  \n",
    "Create a function that takes a list of non-negative integers and strings and return a new list without the strings.  \n",
    ">**Examples**  \n",
    "filter_list([1, 2, \"a\", \"b\"]) ➞ [1, 2]  \n",
    "filter_list([1, \"a\", \"b\", 0, 15]) ➞ [1, 0, 15]  \n",
    "filter_list([1, 2, \"aasf\", \"1\", \"123\", 123]) ➞ [1, 2, 123]  "
   ]
  },
  {
   "cell_type": "code",
   "execution_count": 4,
   "id": "f26cc04a",
   "metadata": {},
   "outputs": [],
   "source": [
    "def filter_list(lis):\n",
    "    filtered_list = list(filter(lambda x: type(x)==int, lis))\n",
    "    return  filtered_list"
   ]
  },
  {
   "cell_type": "code",
   "execution_count": 7,
   "id": "6b3f3a99",
   "metadata": {},
   "outputs": [
    {
     "data": {
      "text/plain": [
       "[1, 2]"
      ]
     },
     "execution_count": 7,
     "metadata": {},
     "output_type": "execute_result"
    }
   ],
   "source": [
    "filter_list([1, 2, \"a\", \"b\"])"
   ]
  },
  {
   "cell_type": "code",
   "execution_count": 8,
   "id": "02be618e",
   "metadata": {},
   "outputs": [
    {
     "data": {
      "text/plain": [
       "[1, 0, 15]"
      ]
     },
     "execution_count": 8,
     "metadata": {},
     "output_type": "execute_result"
    }
   ],
   "source": [
    "filter_list([1, \"a\", \"b\", 0, 15])"
   ]
  },
  {
   "cell_type": "code",
   "execution_count": 9,
   "id": "a6976435",
   "metadata": {},
   "outputs": [
    {
     "data": {
      "text/plain": [
       "[1, 2, 123]"
      ]
     },
     "execution_count": 9,
     "metadata": {},
     "output_type": "execute_result"
    }
   ],
   "source": [
    "filter_list([1, 2, \"aasf\", \"1\", \"123\", 123])"
   ]
  },
  {
   "cell_type": "code",
   "execution_count": null,
   "id": "74abfd3e",
   "metadata": {},
   "outputs": [],
   "source": []
  },
  {
   "cell_type": "markdown",
   "id": "e9bb983c",
   "metadata": {},
   "source": [
    "**Question 2.**  \n",
    "The \"Reverser\" takes a string as input and returns that string in reverse order, with the opposite case.  \n",
    ">**Examples**  \n",
    "reverse(\"Hello World\") ➞ \"DLROw OLLEh\"  \n",
    "reverse(\"ReVeRsE\") ➞ \"eSrEvEr\"  \n",
    "reverse(\"Radar\") ➞ \"RADAr\"  "
   ]
  },
  {
   "cell_type": "code",
   "execution_count": 13,
   "id": "b9a15790",
   "metadata": {},
   "outputs": [],
   "source": [
    "def reverser(strr):\n",
    "    strr = strr.swapcase()\n",
    "    return strr[::-1]"
   ]
  },
  {
   "cell_type": "code",
   "execution_count": 16,
   "id": "6af94938",
   "metadata": {},
   "outputs": [
    {
     "data": {
      "text/plain": [
       "'DLROw OLLEh'"
      ]
     },
     "execution_count": 16,
     "metadata": {},
     "output_type": "execute_result"
    }
   ],
   "source": [
    "reverser(\"Hello World\")"
   ]
  },
  {
   "cell_type": "code",
   "execution_count": 17,
   "id": "6fddcb2c",
   "metadata": {},
   "outputs": [
    {
     "data": {
      "text/plain": [
       "'eSrEvEr'"
      ]
     },
     "execution_count": 17,
     "metadata": {},
     "output_type": "execute_result"
    }
   ],
   "source": [
    "reverser(\"ReVeRsE\")"
   ]
  },
  {
   "cell_type": "code",
   "execution_count": 18,
   "id": "8b4474c1",
   "metadata": {},
   "outputs": [
    {
     "data": {
      "text/plain": [
       "'RADAr'"
      ]
     },
     "execution_count": 18,
     "metadata": {},
     "output_type": "execute_result"
    }
   ],
   "source": [
    "reverser(\"Radar\")"
   ]
  },
  {
   "cell_type": "code",
   "execution_count": null,
   "id": "d5adfd03",
   "metadata": {},
   "outputs": [],
   "source": []
  },
  {
   "cell_type": "markdown",
   "id": "bb0319a0",
   "metadata": {},
   "source": [
    "**Question 3.**  \n",
    "You can assign variables from lists like this:  \n",
    "lst = [1, 2, 3, 4, 5, 6]  \n",
    "first = lst[0]  \n",
    "middle = lst[1:-1]  \n",
    "last = lst[-1]  \n",
    "\n",
    "print(first) ➞ outputs 1  \n",
    "print(middle) ➞ outputs [2, 3, 4, 5]  \n",
    "print(last) ➞ outputs 6  \n",
    "\n",
    "With Python 3, you can assign variables from lists in a much more succinct way. Create variables first, middle and last from the given list using destructuring assignment (check the Resources tab for some examples), where:  \n",
    "\n",
    "first  ➞ 1  \n",
    "middle ➞ [2, 3, 4, 5]  \n",
    "last ➞ 6  \n",
    "Your task is to unpack the list write your code here into three variables, being first, middle, and last, with middle being everything in between the first and last element. Then print all three variables."
   ]
  },
  {
   "cell_type": "code",
   "execution_count": 22,
   "id": "0041ec42",
   "metadata": {},
   "outputs": [],
   "source": [
    "def unpack(lst):\n",
    "    first, *middle, last = lst\n",
    "    return first, middle, last"
   ]
  },
  {
   "cell_type": "code",
   "execution_count": 25,
   "id": "16fd5069",
   "metadata": {},
   "outputs": [
    {
     "name": "stdout",
     "output_type": "stream",
     "text": [
      "First  --> 1\n",
      "Middle --> [2, 3, 4, 5]\n",
      "Last   --> 6\n"
     ]
    }
   ],
   "source": [
    "lst = [1, 2, 3, 4, 5, 6]\n",
    "first, middle, last = unpack(lst)\n",
    "print(\"First  -->\",first)\n",
    "print(\"Middle -->\",middle)\n",
    "print(\"Last   -->\",last)"
   ]
  },
  {
   "cell_type": "code",
   "execution_count": null,
   "id": "08739fd5",
   "metadata": {},
   "outputs": [],
   "source": []
  },
  {
   "cell_type": "markdown",
   "id": "aefc52cb",
   "metadata": {},
   "source": [
    "**Question 4.**  \n",
    "Write a function that calculates the factorial of a number recursively.  \n",
    ">**Examples**  \n",
    "factorial(5) ➞ 120  \n",
    "factorial(3) ➞ 6  \n",
    "factorial(1) ➞ 1  \n",
    "factorial(0) ➞ 1  "
   ]
  },
  {
   "cell_type": "code",
   "execution_count": 19,
   "id": "28427f34",
   "metadata": {},
   "outputs": [],
   "source": [
    "def factorial(num, facto = 1,temp=1):\n",
    "    facto = facto*temp\n",
    "    if temp<num:\n",
    "        temp+=1\n",
    "        return factorial(num,facto,temp) \n",
    "    else:\n",
    "        return facto"
   ]
  },
  {
   "cell_type": "code",
   "execution_count": 21,
   "id": "52136d0e",
   "metadata": {},
   "outputs": [
    {
     "name": "stdout",
     "output_type": "stream",
     "text": [
      "Enter number to find its factorial: 5\n",
      "Factorial,5! = 120\n"
     ]
    }
   ],
   "source": [
    "num = int(input(\"Enter number to find its factorial: \"))\n",
    "fact = factorial(num)\n",
    "print(f\"Factorial,{num}! = {fact}\")"
   ]
  },
  {
   "cell_type": "code",
   "execution_count": null,
   "id": "a55fe64d",
   "metadata": {},
   "outputs": [],
   "source": []
  },
  {
   "cell_type": "markdown",
   "id": "28301cc7",
   "metadata": {},
   "source": [
    "**Question 5.**  \n",
    "Write a function that moves all elements of one type to the end of the list.  \n",
    ">**Examples**  \n",
    "move_to_end([1, 3, 2, 4, 4, 1], 1) ➞ [3, 2, 4, 4, 1, 1]  \n",
    "Move all the 1s to the end of the array.  \n",
    "\n",
    ">move_to_end([7, 8, 9, 1, 2, 3, 4], 9) ➞ [7, 8, 1, 2, 3, 4, 9]\n",
    "\n",
    ">move_to_end([\"a\", \"a\", \"a\", \"b\"], \"a\") ➞ [\"b\", \"a\", \"a\", \"a\"]  "
   ]
  },
  {
   "cell_type": "code",
   "execution_count": 112,
   "id": "fc42790f",
   "metadata": {},
   "outputs": [],
   "source": [
    "# Method 1:\n",
    "def move_to_end(lst,element):\n",
    "    l1=[]\n",
    "    l2 =[]\n",
    "    for i in range(len(lst)):\n",
    "        if lst[i] == element:\n",
    "            l1.append(lst[i])\n",
    "        else:\n",
    "            l2.append(lst[i])\n",
    "    l2 = l2+l1\n",
    "    return l2\n",
    "\n",
    "# Method 2:\n",
    "def move_to_end2(lst,element):\n",
    "    le = len(lst)\n",
    "    for i in range(le):\n",
    "            lst.append(lst.pop(lst.index(element)))\n",
    "    return lst"
   ]
  },
  {
   "cell_type": "code",
   "execution_count": 113,
   "id": "530b02b4",
   "metadata": {},
   "outputs": [
    {
     "data": {
      "text/plain": [
       "['b', 'a', 'a', 'a']"
      ]
     },
     "execution_count": 113,
     "metadata": {},
     "output_type": "execute_result"
    }
   ],
   "source": [
    "move_to_end([\"a\", \"a\", \"a\", \"b\"], \"a\")"
   ]
  },
  {
   "cell_type": "code",
   "execution_count": 119,
   "id": "890d25df",
   "metadata": {},
   "outputs": [
    {
     "data": {
      "text/plain": [
       "[7, 8, 1, 8, 6, 5, 1, 2, 3, 4, 9, 9, 9, 9]"
      ]
     },
     "execution_count": 119,
     "metadata": {},
     "output_type": "execute_result"
    }
   ],
   "source": [
    "move_to_end2([7, 8, 9, 1,9,9,9,8,6,5,1, 2, 3, 4], 9)"
   ]
  },
  {
   "cell_type": "code",
   "execution_count": 121,
   "id": "cb3c9bab",
   "metadata": {},
   "outputs": [
    {
     "data": {
      "text/plain": [
       "[3, 2, 4, 4, 1, 1]"
      ]
     },
     "execution_count": 121,
     "metadata": {},
     "output_type": "execute_result"
    }
   ],
   "source": [
    "move_to_end2([1, 3, 2, 4, 4, 1], 1)"
   ]
  },
  {
   "cell_type": "code",
   "execution_count": 122,
   "id": "91507871",
   "metadata": {},
   "outputs": [
    {
     "data": {
      "text/plain": [
       "[7, 8, 1, 2, 3, 4, 9]"
      ]
     },
     "execution_count": 122,
     "metadata": {},
     "output_type": "execute_result"
    }
   ],
   "source": [
    "move_to_end2([7, 8, 9, 1, 2, 3, 4], 9)"
   ]
  },
  {
   "cell_type": "code",
   "execution_count": 123,
   "id": "976b9bd2",
   "metadata": {},
   "outputs": [
    {
     "data": {
      "text/plain": [
       "['b', 'a', 'a', 'a']"
      ]
     },
     "execution_count": 123,
     "metadata": {},
     "output_type": "execute_result"
    }
   ],
   "source": [
    "move_to_end2([\"a\", \"a\", \"a\", \"b\"], \"a\")"
   ]
  },
  {
   "cell_type": "code",
   "execution_count": null,
   "id": "789d06cb",
   "metadata": {},
   "outputs": [],
   "source": []
  }
 ],
 "metadata": {
  "kernelspec": {
   "display_name": "Python 3 (ipykernel)",
   "language": "python",
   "name": "python3"
  },
  "language_info": {
   "codemirror_mode": {
    "name": "ipython",
    "version": 3
   },
   "file_extension": ".py",
   "mimetype": "text/x-python",
   "name": "python",
   "nbconvert_exporter": "python",
   "pygments_lexer": "ipython3",
   "version": "3.9.7"
  }
 },
 "nbformat": 4,
 "nbformat_minor": 5
}
