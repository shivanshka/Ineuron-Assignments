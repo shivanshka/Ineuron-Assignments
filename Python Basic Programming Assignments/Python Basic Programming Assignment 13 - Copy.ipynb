{
 "cells": [
  {
   "cell_type": "markdown",
   "id": "966db4f0",
   "metadata": {},
   "source": [
    "# Basic Programming Assignment 13"
   ]
  },
  {
   "cell_type": "raw",
   "id": "4c1089d3",
   "metadata": {},
   "source": [
    "Question 1:\n",
    "Write a program that calculates and prints the value according to the given formula:\n",
    "Q = Square root of [(2 * C * D)/H]\n",
    "Following are the fixed values of C and H:\n",
    "C is 50. H is 30.\n",
    "D is the variable whose values should be input to your program in a comma-separated sequence.\n",
    "Example\n",
    "Let us assume the following comma separated input sequence is given to the program:\n",
    "100,150,180\n",
    "The output of the program should be:\n",
    "18,22,24"
   ]
  },
  {
   "cell_type": "code",
   "execution_count": 73,
   "id": "c3bc5a80",
   "metadata": {},
   "outputs": [],
   "source": [
    "import math\n",
    "def cals():\n",
    "    C = 50\n",
    "    H = 30\n",
    "    D = list(map(int,input(\"Enter the numbers in comma seperated sequence: \").split(\",\")))\n",
    "    Q = list(map(lambda x: int(math.sqrt((2*C*x)/H)),D))\n",
    "    print(\"Output: \")\n",
    "    print(*Q, sep= \",\")\n",
    "    return Q"
   ]
  },
  {
   "cell_type": "code",
   "execution_count": 74,
   "id": "adb6a93a",
   "metadata": {
    "scrolled": true
   },
   "outputs": [
    {
     "name": "stdout",
     "output_type": "stream",
     "text": [
      "Enter the numbers in comma seperated sequence: 100,150,180\n",
      "Output: \n",
      "18,22,24\n"
     ]
    },
    {
     "data": {
      "text/plain": [
       "[18, 22, 24]"
      ]
     },
     "execution_count": 74,
     "metadata": {},
     "output_type": "execute_result"
    }
   ],
   "source": [
    "cals()"
   ]
  },
  {
   "cell_type": "raw",
   "id": "d098d8d3",
   "metadata": {},
   "source": [
    "Question 2:\n",
    "Write a program which takes 2 digits, X,Y as input and generates a 2-dimensional array. The element value in the i-th row and j-th column of the array should be i*j.\n",
    "Note: i=0,1.., X-1; j=0,1,¡¬Y-1.\n",
    "Example\n",
    "Suppose the following inputs are given to the program:\n",
    "3,5\n",
    "Then, the output of the program should be:\n",
    "[[0, 0, 0, 0, 0], [0, 1, 2, 3, 4], [0, 2, 4, 6, 8]] "
   ]
  },
  {
   "cell_type": "code",
   "execution_count": 39,
   "id": "559adf1c",
   "metadata": {},
   "outputs": [],
   "source": [
    "def two_d_array():\n",
    "    try:\n",
    "        x,y = [int(i) for i in input(\"Enter no of rows & columns: \").split(\",\")]\n",
    "        array =[]\n",
    "        array = [[i*j for j in range(0,y)]for i in range(0,x)]\n",
    "        print(\"Your Array: \", array)\n",
    "        return array\n",
    "    except ValueError as v:\n",
    "        print(\"Error: Wrong values entered!!, enter only two integer values\")"
   ]
  },
  {
   "cell_type": "code",
   "execution_count": 41,
   "id": "8d7c6a93",
   "metadata": {},
   "outputs": [
    {
     "name": "stdout",
     "output_type": "stream",
     "text": [
      "Enter no of rows & columns: 3,5\n",
      "Your Array:  [[0, 0, 0, 0, 0], [0, 1, 2, 3, 4], [0, 2, 4, 6, 8]]\n"
     ]
    },
    {
     "data": {
      "text/plain": [
       "[[0, 0, 0, 0, 0], [0, 1, 2, 3, 4], [0, 2, 4, 6, 8]]"
      ]
     },
     "execution_count": 41,
     "metadata": {},
     "output_type": "execute_result"
    }
   ],
   "source": [
    "two_d_array()"
   ]
  },
  {
   "cell_type": "raw",
   "id": "ed26aae9",
   "metadata": {},
   "source": [
    "Question 3:\n",
    "Write a program that accepts a comma separated sequence of words as input and prints the words in a comma-separated sequence after sorting them alphabetically.\n",
    "Suppose the following input is supplied to the program:\n",
    "without,hello,bag,world\n",
    "Then, the output should be:\n",
    "bag,hello,without,world"
   ]
  },
  {
   "cell_type": "code",
   "execution_count": 52,
   "id": "368e0f6b",
   "metadata": {},
   "outputs": [],
   "source": [
    "def word_sort():\n",
    "    words = [i for i in input(\"Enter comma separated sequence of words: \").split(\",\")]\n",
    "    words.sort()\n",
    "    print(\"\\nSorted comma-separated sequence of words:\")\n",
    "    sorted_words = ','.join(words)\n",
    "    print(sorted_words)\n",
    "    return sorted_words"
   ]
  },
  {
   "cell_type": "code",
   "execution_count": 53,
   "id": "c034869d",
   "metadata": {},
   "outputs": [
    {
     "name": "stdout",
     "output_type": "stream",
     "text": [
      "Enter comma separated sequence of words: without,hello,bag,world\n",
      "\n",
      "Sorted comma-separated sequence of words:\n",
      "bag,hello,without,world\n"
     ]
    },
    {
     "data": {
      "text/plain": [
       "'bag,hello,without,world'"
      ]
     },
     "execution_count": 53,
     "metadata": {},
     "output_type": "execute_result"
    }
   ],
   "source": [
    "word_sort()"
   ]
  },
  {
   "cell_type": "raw",
   "id": "4b4b91aa",
   "metadata": {},
   "source": [
    "Question 4:\n",
    "Write a program that accepts a sequence of whitespace separated words as input and prints the words after removing all duplicate words and sorting them alphanumerically.\n",
    "\n",
    "Suppose the following input is supplied to the program:\n",
    "hello world and practice makes perfect and hello world again\n",
    "\n",
    "Then, the output should be:\n",
    "again and hello makes perfect practice world"
   ]
  },
  {
   "cell_type": "code",
   "execution_count": 63,
   "id": "fdee2ba9",
   "metadata": {},
   "outputs": [],
   "source": [
    "def word_sort2():\n",
    "    words = [i for i in input(\"Enter whitespace separated sequence of words: \").split(\" \")]\n",
    "    words = list(set(words))\n",
    "    words.sort()\n",
    "    print(\"\\nSorted whitespace-separated sequence of words:\")\n",
    "    sorted_words = ' '.join(words)\n",
    "    print(sorted_words)\n",
    "    return sorted_words"
   ]
  },
  {
   "cell_type": "code",
   "execution_count": 64,
   "id": "fdd75802",
   "metadata": {},
   "outputs": [
    {
     "name": "stdout",
     "output_type": "stream",
     "text": [
      "Enter whitespace separated sequence of words: hello world and practice makes perfect and hello world again\n",
      "\n",
      "Sorted whitespace-separated sequence of words:\n",
      "again and hello makes perfect practice world\n"
     ]
    },
    {
     "data": {
      "text/plain": [
       "'again and hello makes perfect practice world'"
      ]
     },
     "execution_count": 64,
     "metadata": {},
     "output_type": "execute_result"
    }
   ],
   "source": [
    "word_sort2()"
   ]
  },
  {
   "cell_type": "raw",
   "id": "9274465b",
   "metadata": {},
   "source": [
    "Question 5:\n",
    "Write a program that accepts a sentence and calculate the number of letters and digits.\n",
    "Suppose the following input is supplied to the program:\n",
    "hello world! 123\n",
    "Then, the output should be:\n",
    "LETTERS 10\n",
    "DIGITS 3"
   ]
  },
  {
   "cell_type": "code",
   "execution_count": 67,
   "id": "1e29cbeb",
   "metadata": {},
   "outputs": [],
   "source": [
    "def lett_dig_count():\n",
    "    sentence= input(\"Enter your sentence: \")\n",
    "    count_lett = 0\n",
    "    count_dig = 0\n",
    "    for i in sentence:\n",
    "        if i.isalpha():\n",
    "            count_lett += 1\n",
    "        elif i.isdigit():\n",
    "            count_dig +=1\n",
    "        else:\n",
    "            continue\n",
    "    print(\"LETTERS:\",count_lett)\n",
    "    print(\"DIGITS:\",count_dig)\n",
    "    return count_lett,count_dig"
   ]
  },
  {
   "cell_type": "code",
   "execution_count": 68,
   "id": "e6484691",
   "metadata": {},
   "outputs": [
    {
     "name": "stdout",
     "output_type": "stream",
     "text": [
      "Enter your sentence: hello world! 123\n",
      "LETTERS: 10\n",
      "DIGITS: 3\n"
     ]
    },
    {
     "data": {
      "text/plain": [
       "(10, 3)"
      ]
     },
     "execution_count": 68,
     "metadata": {},
     "output_type": "execute_result"
    }
   ],
   "source": [
    "lett_dig_count()"
   ]
  },
  {
   "cell_type": "raw",
   "id": "d09de21a",
   "metadata": {},
   "source": [
    "Question 6:\n",
    "A website requires the users to input username and password to register. Write a program to check the validity of password input by users.\n",
    "Following are the criteria for checking the password:\n",
    "1. At least 1 letter between [a-z]\n",
    "2. At least 1 number between [0-9]\n",
    "1. At least 1 letter between [A-Z]\n",
    "3. At least 1 character from [$#@]\n",
    "4. Minimum length of transaction password: 6\n",
    "5. Maximum length of transaction password: 12\n",
    "\n",
    "Your program should accept a sequence of comma separated passwords and will check them according to the above criteria. Passwords that match the criteria are to be printed, each separated by a comma.\n",
    "Example\n",
    "If the following passwords are given as input to the program:\n",
    "ABd1234@1,a F1#,2w3E*,2We3345\n",
    "Then, the output of the program should be:\n",
    "ABd1234@1\n"
   ]
  },
  {
   "cell_type": "code",
   "execution_count": 92,
   "id": "7aa4bcb1",
   "metadata": {},
   "outputs": [],
   "source": [
    "import re\n",
    "def password_check(pswd):\n",
    "    flag = 0\n",
    "    while True:\n",
    "        if len(pswd)<=6 or len(pswd)>=12:\n",
    "            flag = 0\n",
    "            break\n",
    "        elif not re.search('[a-z]', pswd):\n",
    "            flag = 0\n",
    "            break\n",
    "        elif not re.search('[A-Z]', pswd):\n",
    "            flag = 0\n",
    "            break\n",
    "        elif not re.search('[0-9]', pswd):\n",
    "            flag = 0\n",
    "            break\n",
    "        elif not re.search('[$#@]', pswd):\n",
    "            flag = 0\n",
    "            break\n",
    "        else:\n",
    "            flag = 1\n",
    "            break\n",
    "    if flag == 1:\n",
    "        return pswd\n",
    "        \n",
    "def password():\n",
    "    passw = list(map(str, input(\"Enter your passwords in comma-seperated sequence: \").split(\",\")))\n",
    "    valid_password = list(filter(password_check,passw))\n",
    "    print(\"\\nVALID PASSWORDS:\")\n",
    "    print(*valid_password, sep=\", \")"
   ]
  },
  {
   "cell_type": "code",
   "execution_count": 93,
   "id": "4bd0f28b",
   "metadata": {},
   "outputs": [
    {
     "name": "stdout",
     "output_type": "stream",
     "text": [
      "Enter your passwords in comma-seperated sequence: ABd1234@1,a F1#,2w3E*,2We3345,Aaaa#123\n",
      "\n",
      "VALID PASSWORDS:\n",
      "ABd1234@1, Aaaa#123\n"
     ]
    }
   ],
   "source": [
    "password()"
   ]
  },
  {
   "cell_type": "code",
   "execution_count": null,
   "id": "4bbcbbe4",
   "metadata": {},
   "outputs": [],
   "source": []
  }
 ],
 "metadata": {
  "kernelspec": {
   "display_name": "Python 3 (ipykernel)",
   "language": "python",
   "name": "python3"
  },
  "language_info": {
   "codemirror_mode": {
    "name": "ipython",
    "version": 3
   },
   "file_extension": ".py",
   "mimetype": "text/x-python",
   "name": "python",
   "nbconvert_exporter": "python",
   "pygments_lexer": "ipython3",
   "version": "3.9.7"
  }
 },
 "nbformat": 4,
 "nbformat_minor": 5
}
