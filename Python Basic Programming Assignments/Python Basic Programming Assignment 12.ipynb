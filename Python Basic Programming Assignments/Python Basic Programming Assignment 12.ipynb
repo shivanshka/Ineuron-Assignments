{
 "cells": [
  {
   "cell_type": "markdown",
   "id": "0e87aee9",
   "metadata": {},
   "source": [
    "# Basic Programming Assignment 12"
   ]
  },
  {
   "cell_type": "markdown",
   "id": "4a9f210e",
   "metadata": {},
   "source": [
    "1.\tWrite a Python program to Extract Unique values dictionary values?\n",
    "2.\tWrite a Python program to find the sum of all items in a dictionary?\n",
    "3.\tWrite a Python program to Merging two Dictionaries?\n",
    "4.\tWrite a Python program to convert key-values list to flat dictionary?\n",
    "5.\tWrite a Python program to insertion at the beginning in OrderedDict?\n",
    "6.\tWrite a Python program to check order of character in string using OrderedDict()?\n",
    "7.\tWrite a Python program to sort Python Dictionaries by Key or Value?"
   ]
  },
  {
   "cell_type": "code",
   "execution_count": null,
   "id": "4831bc41",
   "metadata": {},
   "outputs": [],
   "source": []
  },
  {
   "cell_type": "markdown",
   "id": "993b96d7",
   "metadata": {},
   "source": [
    "1.\tWrite a Python program to Extract Unique values dictionary values?"
   ]
  },
  {
   "cell_type": "code",
   "execution_count": 14,
   "id": "3d94e306",
   "metadata": {},
   "outputs": [],
   "source": [
    "def unique_val(dictionary):\n",
    "    unique = list({val for i in dictionary.values() for val in i})\n",
    "    unique.sort()\n",
    "    return unique"
   ]
  },
  {
   "cell_type": "code",
   "execution_count": 15,
   "id": "8885adba",
   "metadata": {},
   "outputs": [
    {
     "name": "stdout",
     "output_type": "stream",
     "text": [
      "Unique Values are:  [1, 2, 3, 4, 5, 6, 7, 8, 9, 10, 11, 12]\n"
     ]
    }
   ],
   "source": [
    "d = {\"key1\":[1,2,3,4,5], \"key2\":[4,5,6,7,8],\"key3\":[7,8,9,10,11,12]}\n",
    "unique_values = unique_val(d)\n",
    "print(\"Unique Values are: \", unique_values)"
   ]
  },
  {
   "cell_type": "code",
   "execution_count": null,
   "id": "079f6430",
   "metadata": {},
   "outputs": [],
   "source": []
  },
  {
   "cell_type": "markdown",
   "id": "38898c6e",
   "metadata": {},
   "source": [
    "2.\tWrite a Python program to find the sum of all items in a dictionary?"
   ]
  },
  {
   "cell_type": "code",
   "execution_count": 16,
   "id": "9595f2e4",
   "metadata": {},
   "outputs": [],
   "source": [
    "def sum_of_items(dictionary):\n",
    "    sum_items = 0\n",
    "    for i in dictionary:\n",
    "        sum_items+=dictionary[i]\n",
    "    return sum_items"
   ]
  },
  {
   "cell_type": "code",
   "execution_count": 20,
   "id": "c8e8dc2f",
   "metadata": {},
   "outputs": [
    {
     "name": "stdout",
     "output_type": "stream",
     "text": [
      "Sum of items= 1200\n"
     ]
    }
   ],
   "source": [
    "sum = sum_of_items({\"key1\":100, \"key2\":300, \"key4\":800})\n",
    "print(\"Sum of items=\",sum)"
   ]
  },
  {
   "cell_type": "code",
   "execution_count": null,
   "id": "06267b08",
   "metadata": {},
   "outputs": [],
   "source": [
    "    "
   ]
  },
  {
   "cell_type": "markdown",
   "id": "463daf73",
   "metadata": {},
   "source": [
    "3.\tWrite a Python program to Merging two Dictionaries?"
   ]
  },
  {
   "cell_type": "code",
   "execution_count": 5,
   "id": "dc72523f",
   "metadata": {},
   "outputs": [],
   "source": [
    "def same_keys(dict1,dict2,dict3):\n",
    "    for k,v in dict3.items():\n",
    "        if k in dict1.keys() and k in dict2.keys():\n",
    "            dict3[k] = [v,dict1[k]]\n",
    "    return dict3\n",
    "\n",
    "# Method 1:\n",
    "def dict_merger(dict1,dict2):\n",
    "    dict1.update(dict2)\n",
    "    return dict1\n",
    "\n",
    "# Method 2:\n",
    "def dict_merger2(dict1,dict2):\n",
    "    merged_dict = dict1 | dict2\n",
    "    merged_dict = same_keys(dict1 ,dict2, merged_dict)\n",
    "    return merged_dict\n",
    "\n",
    "# Method 3:\n",
    "def dict_merger3(dict1,dict2):\n",
    "    merged_dict = {**dict1,**dict2}\n",
    "    merged_dict = same_keys(dict1 ,dict2, merged_dict)\n",
    "    return merged_dict\n",
    "\n",
    "# Method 4:\n",
    "def dict_merger4(dict1,dict2):\n",
    "    merged_dict = {k:v for d in (dict1 , dict2) for k,v in d.items()}\n",
    "    merged_dict = same_keys(dict1 ,dict2, merged_dict)\n",
    "    return merged_dict"
   ]
  },
  {
   "cell_type": "code",
   "execution_count": 7,
   "id": "85225422",
   "metadata": {},
   "outputs": [
    {
     "data": {
      "text/plain": [
       "{'key1': [1, 2, 3, 4, 5],\n",
       " 'key2': [4, 5, 6, 7, 8],\n",
       " 'key3': [456, [7, 8, 9, 10, 11, 12]],\n",
       " 'Name': ['Shivansh', 'Chirag', 'Ankit', 'Sudh'],\n",
       " 'Company': ['Abc', 'Xyz', 'ESIC', 'iNeuron']}"
      ]
     },
     "execution_count": 7,
     "metadata": {},
     "output_type": "execute_result"
    }
   ],
   "source": [
    "d1 = {\"key1\":[1,2,3,4,5], \"key2\":[4,5,6,7,8],\"key3\":[7,8,9,10,11,12]}\n",
    "d2 = {\"Name\": [\"Shivansh\",\"Chirag\",\"Ankit\",\"Sudh\"],\n",
    "     \"Company\": [\"Abc\", \"Xyz\", \"ESIC\", \"iNeuron\"],\n",
    "     \"key3\":456}\n",
    "dict_merger4(d1,d2)"
   ]
  },
  {
   "cell_type": "code",
   "execution_count": null,
   "id": "670c4b3c",
   "metadata": {},
   "outputs": [],
   "source": []
  },
  {
   "cell_type": "markdown",
   "id": "0a85a6ce",
   "metadata": {},
   "source": [
    "4.\tWrite a Python program to convert key-values list to flat dictionary?"
   ]
  },
  {
   "cell_type": "code",
   "execution_count": 36,
   "id": "a521a456",
   "metadata": {},
   "outputs": [],
   "source": [
    "def list_to_dict(dict1):\n",
    "    if len(dict1.keys()) ==2:\n",
    "        k=list(dict1.keys())\n",
    "        dict2 = dict(zip(dict1[k[0]],dict1[k[1]]))\n",
    "        return dict2\n",
    "    else:\n",
    "        print(\"More than 2 keys, dictionary flattening not possible\")"
   ]
  },
  {
   "cell_type": "code",
   "execution_count": 43,
   "id": "0085e4ba",
   "metadata": {},
   "outputs": [
    {
     "name": "stdout",
     "output_type": "stream",
     "text": [
      "Original Dictionary: {'Name': ['Shivansh', 'Chirag', 'Ankit', 'Sudh'], 'Company': ['Abc', 'Xyz', 'ESIC', 'iNeuron']}\n",
      "\n",
      "Flattened dictionary: {'Shivansh': 'Abc', 'Chirag': 'Xyz', 'Ankit': 'ESIC', 'Sudh': 'iNeuron'}\n"
     ]
    }
   ],
   "source": [
    "d = {\"Name\": [\"Shivansh\",\"Chirag\",\"Ankit\",\"Sudh\"],\n",
    "     \"Company\": [\"Abc\", \"Xyz\", \"ESIC\", \"iNeuron\"]}\n",
    "print(\"Original Dictionary:\",d)\n",
    "print(\"\\nFlattened dictionary:\",list_to_dict(d))"
   ]
  },
  {
   "cell_type": "code",
   "execution_count": null,
   "id": "6afa5c04",
   "metadata": {},
   "outputs": [],
   "source": []
  },
  {
   "cell_type": "markdown",
   "id": "e421781f",
   "metadata": {},
   "source": [
    "5.\tWrite a Python program to insertion at the beginning in OrderedDict?"
   ]
  },
  {
   "cell_type": "code",
   "execution_count": 23,
   "id": "16745dee",
   "metadata": {},
   "outputs": [],
   "source": [
    "from collections import OrderedDict\n",
    "def insertion(lis,new):\n",
    "    ordered = OrderedDict(lis)\n",
    "    ordered.update(new)\n",
    "    for i in new:\n",
    "        ordered.move_to_end(i,last=False)\n",
    "    return ordered\n",
    "    "
   ]
  },
  {
   "cell_type": "code",
   "execution_count": 25,
   "id": "cbe71de4",
   "metadata": {},
   "outputs": [
    {
     "data": {
      "text/plain": [
       "OrderedDict([('sudh', 789), ('hello', 123), ('shiv', 456)])"
      ]
     },
     "execution_count": 25,
     "metadata": {},
     "output_type": "execute_result"
    }
   ],
   "source": [
    "insertion([(\"hello\",123),(\"shiv\",456)],{\"sudh\":789})"
   ]
  },
  {
   "cell_type": "code",
   "execution_count": null,
   "id": "bea370ba",
   "metadata": {},
   "outputs": [],
   "source": []
  },
  {
   "cell_type": "markdown",
   "id": "138ac696",
   "metadata": {},
   "source": [
    "6.\tWrite a Python program to check order of character in string using OrderedDict()?"
   ]
  },
  {
   "cell_type": "code",
   "execution_count": 32,
   "id": "21950c48",
   "metadata": {},
   "outputs": [],
   "source": [
    "from collections import OrderedDict\n",
    "def order_string(strr,pattern):\n",
    "    dict = OrderedDict.fromkeys(strr)\n",
    "    p = 0\n",
    "    for key in dict:\n",
    "        if key == pattern[p]:\n",
    "            p+=1\n",
    "        if p == len(pattern):\n",
    "            return True\n",
    "    return False"
   ]
  },
  {
   "cell_type": "code",
   "execution_count": 42,
   "id": "de3d1edc",
   "metadata": {},
   "outputs": [
    {
     "data": {
      "text/plain": [
       "True"
      ]
     },
     "execution_count": 42,
     "metadata": {},
     "output_type": "execute_result"
    }
   ],
   "source": [
    "order_string(\"Welcome aboard\",\"cm\")"
   ]
  },
  {
   "cell_type": "code",
   "execution_count": null,
   "id": "50c52ad4",
   "metadata": {},
   "outputs": [],
   "source": []
  },
  {
   "cell_type": "markdown",
   "id": "dacf0221",
   "metadata": {},
   "source": [
    "7.\tWrite a Python program to sort Python Dictionaries by Key or Value?"
   ]
  },
  {
   "cell_type": "code",
   "execution_count": 79,
   "id": "e94182df",
   "metadata": {},
   "outputs": [],
   "source": [
    "def sort_dict(dict1, by = True):\n",
    "    \"\"\"Returns the dictionary after sorting it either by keys or values.\n",
    "    By default, by = True for sorting by keys.\n",
    "    For sorting by values set,  by= False\"\"\"\n",
    "    sort_dict ={}\n",
    "    if by==True:\n",
    "        for key, value in sorted(dict1.items()):\n",
    "            sort_dict[key] = value\n",
    "        return sort_dict\n",
    "    elif by == False:\n",
    "        for key,value in sorted(dict1.items(),key = lambda kv:(kv[1],kv[0])):\n",
    "            sort_dict[key] = value\n",
    "        return sort_dict"
   ]
  },
  {
   "cell_type": "code",
   "execution_count": 80,
   "id": "dd7314eb",
   "metadata": {},
   "outputs": [
    {
     "data": {
      "text/plain": [
       "{'rajnish': 9, 'ravi': 10, 'sanjeev': 15, 'suraj': 32, 'yash': 2}"
      ]
     },
     "execution_count": 80,
     "metadata": {},
     "output_type": "execute_result"
    }
   ],
   "source": [
    "sort_dict({'ravi':10,'rajnish':9,'sanjeev':15,'yash':2,'suraj':32},by=True)"
   ]
  },
  {
   "cell_type": "code",
   "execution_count": 81,
   "id": "355e418d",
   "metadata": {},
   "outputs": [
    {
     "data": {
      "text/plain": [
       "{'yash': 2, 'rajnish': 9, 'ravi': 10, 'sanjeev': 15, 'suraj': 32}"
      ]
     },
     "execution_count": 81,
     "metadata": {},
     "output_type": "execute_result"
    }
   ],
   "source": [
    "sort_dict({'ravi':10,'rajnish':9,'sanjeev':15,'yash':2,'suraj':32},by=False)"
   ]
  },
  {
   "cell_type": "code",
   "execution_count": null,
   "id": "3b216cf9",
   "metadata": {},
   "outputs": [],
   "source": []
  }
 ],
 "metadata": {
  "kernelspec": {
   "display_name": "Python 3 (ipykernel)",
   "language": "python",
   "name": "python3"
  },
  "language_info": {
   "codemirror_mode": {
    "name": "ipython",
    "version": 3
   },
   "file_extension": ".py",
   "mimetype": "text/x-python",
   "name": "python",
   "nbconvert_exporter": "python",
   "pygments_lexer": "ipython3",
   "version": "3.9.7"
  }
 },
 "nbformat": 4,
 "nbformat_minor": 5
}
