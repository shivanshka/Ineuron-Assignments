{
 "cells": [
  {
   "cell_type": "markdown",
   "id": "3cb871cb",
   "metadata": {},
   "source": [
    "# Basic Programming Assignment 7"
   ]
  },
  {
   "cell_type": "markdown",
   "id": "a60ad1bc",
   "metadata": {},
   "source": [
    "1.\tWrite a Python Program to find sum of array?\n",
    "2.\tWrite a Python Program to find largest element in an array?\n",
    "3.\tWrite a Python Program for array rotation?\n",
    "4.\tWrite a Python Program to Split the array and add the first part to the end?\n",
    "5.\tWrite a Python Program to check if given array is Monotonic?"
   ]
  },
  {
   "cell_type": "code",
   "execution_count": null,
   "id": "7f5ef1d2",
   "metadata": {},
   "outputs": [],
   "source": []
  },
  {
   "cell_type": "markdown",
   "id": "5a8042d2",
   "metadata": {},
   "source": [
    "1.\tWrite a Python Program to find sum of array?"
   ]
  },
  {
   "cell_type": "code",
   "execution_count": 10,
   "id": "fc5d56e4",
   "metadata": {},
   "outputs": [],
   "source": [
    "def array_generator():\n",
    "    arr=[]\n",
    "    n = int(input(\"Enter the length of array: \"))\n",
    "    print(f\"Enter {n} elements in the array:\")\n",
    "    for i in range(0,n):\n",
    "        arr.append(int(input()))\n",
    "    print(\"Your Array :\",arr)\n",
    "    return arr\n",
    "\n",
    "def array_sum(arr):\n",
    "    summ = 0\n",
    "    for i in arr:\n",
    "        summ = summ + i\n",
    "    print(\"Sum of Array = \",summ)\n",
    "    return summ\n",
    "        "
   ]
  },
  {
   "cell_type": "code",
   "execution_count": 13,
   "id": "86a55e17",
   "metadata": {},
   "outputs": [
    {
     "name": "stdout",
     "output_type": "stream",
     "text": [
      "Enter the length of array: 10\n",
      "Enter 10 elements in the array:\n",
      "8\n",
      "3\n",
      "7\n",
      "2\n",
      "89\n",
      "25\n",
      "12\n",
      "36\n",
      "78\n",
      "59\n",
      "Your Array : [8, 3, 7, 2, 89, 25, 12, 36, 78, 59]\n",
      "Sum of Array =  319\n"
     ]
    },
    {
     "data": {
      "text/plain": [
       "319"
      ]
     },
     "execution_count": 13,
     "metadata": {},
     "output_type": "execute_result"
    }
   ],
   "source": [
    "array = array_generator()\n",
    "array_sum(array)"
   ]
  },
  {
   "cell_type": "code",
   "execution_count": null,
   "id": "fde3acbc",
   "metadata": {},
   "outputs": [],
   "source": []
  },
  {
   "cell_type": "markdown",
   "id": "e6e60f24",
   "metadata": {},
   "source": [
    "2.\tWrite a Python Program to find largest element in an array?"
   ]
  },
  {
   "cell_type": "code",
   "execution_count": 19,
   "id": "d8cb8dc8",
   "metadata": {},
   "outputs": [],
   "source": [
    "def array_generator():\n",
    "    arr=[]\n",
    "    n = int(input(\"Enter the length of array: \"))\n",
    "    print(f\"Enter {n} elements in the array:\")\n",
    "    for i in range(0,n):\n",
    "        arr.append(int(input()))\n",
    "    print(\"Your Array :\",arr)\n",
    "    return arr\n",
    "\n",
    "# First Method\n",
    "def largest_arr(arr):\n",
    "    large = 0\n",
    "    for i in range(0, len(arr)):\n",
    "        if large <= arr[i]:\n",
    "            large = arr[i]\n",
    "    print(\"Largest element in the array is \",large)\n",
    "    return large\n",
    "\n",
    "# Second Method\n",
    "def largest_arr2(arr):\n",
    "    arr.sort()\n",
    "    print(\"Largest element in the array is \",arr[-1])\n",
    "    return arr[-1]\n",
    "    "
   ]
  },
  {
   "cell_type": "code",
   "execution_count": 21,
   "id": "83c2be0d",
   "metadata": {},
   "outputs": [
    {
     "name": "stdout",
     "output_type": "stream",
     "text": [
      "Enter the length of array: 10\n",
      "Enter 10 elements in the array:\n",
      "129\n",
      "36\n",
      "0\n",
      "2\n",
      "8\n",
      "89\n",
      "225\n",
      "47\n",
      "1\n",
      "23\n",
      "Your Array : [129, 36, 0, 2, 8, 89, 225, 47, 1, 23]\n",
      "Largest element in the array is  225\n"
     ]
    },
    {
     "data": {
      "text/plain": [
       "225"
      ]
     },
     "execution_count": 21,
     "metadata": {},
     "output_type": "execute_result"
    }
   ],
   "source": [
    "array = array_generator()\n",
    "largest_arr(array)\n",
    "#largest_arr2(array)"
   ]
  },
  {
   "cell_type": "code",
   "execution_count": null,
   "id": "63d47453",
   "metadata": {},
   "outputs": [],
   "source": []
  },
  {
   "cell_type": "markdown",
   "id": "8da260d3",
   "metadata": {},
   "source": [
    "3.\tWrite a Python Program for array rotation?"
   ]
  },
  {
   "cell_type": "code",
   "execution_count": 66,
   "id": "1cdc01b9",
   "metadata": {},
   "outputs": [],
   "source": [
    "def array_generator():\n",
    "    arr=[]\n",
    "    n = int(input(\"Enter the length of array: \"))\n",
    "    print(f\"Enter {n} elements in the array:\")\n",
    "    for i in range(0,n):\n",
    "        arr.append(int(input()))\n",
    "    print(\"Your Array :\",arr)\n",
    "    return arr\n",
    "\n",
    "# For Rotating Array Left side where elements will be replaced one by one\n",
    "def array_left_rotation(arr, factor):        \n",
    "    temp = []                  #Temporary Array\n",
    "    j=0\n",
    "    \n",
    "    for i in range(0,factor):  #Storing elementes which will be rotated\n",
    "        temp.append(arr[i])\n",
    "    \n",
    "    while factor < len(arr):   #Moving remaining elements in the array one by one\n",
    "        arr[j] = arr[factor]\n",
    "        j +=1\n",
    "        factor +=1\n",
    "    \n",
    "    arr[:] = arr[:j] + temp   #Joining both the arrays\n",
    "    return arr\n",
    "\n",
    "# For Rotating Array Right side where elements will be replaced one by one\n",
    "def array_right_rotation(arr, factor):\n",
    "    temp = []\n",
    "    j=0\n",
    "    le = len(arr)\n",
    "    \n",
    "    for i in range(le - factor,le):\n",
    "        temp.append(arr[i])\n",
    "    \n",
    "    while le>0:\n",
    "        arr[le-1] = arr[le - factor -1]\n",
    "        le -=1\n",
    "    \n",
    "    arr[:] = temp + arr[factor:]\n",
    "    return arr\n",
    "\n",
    "def array_rotation():\n",
    "    array = array_generator()\n",
    "    print(\"Enter your choice: \\n1.To Rotate Array Leftside \\n2.To Rotate Array Rightside\")\n",
    "    key = int(input())\n",
    "    factor = int(input(\"Enter the factor by which you want to rotate array: \"))\n",
    "    if key == 1:\n",
    "        array = array_left_rotation(array, factor)\n",
    "        print(\"Rotated Array is: \",array)\n",
    "    elif key == 2:\n",
    "        array = array_right_rotation(array, factor)\n",
    "        print(\"Rotated Array is: \",array)\n",
    "    else:\n",
    "        print(\"Invalid choice\")"
   ]
  },
  {
   "cell_type": "code",
   "execution_count": 67,
   "id": "9db0a855",
   "metadata": {},
   "outputs": [
    {
     "name": "stdout",
     "output_type": "stream",
     "text": [
      "Enter the length of array: 7\n",
      "Enter 7 elements in the array:\n",
      "4\n",
      "5\n",
      "6\n",
      "8\n",
      "9\n",
      "11\n",
      "29\n",
      "Your Array : [4, 5, 6, 8, 9, 11, 29]\n",
      "Enter your choice: \n",
      "1.To Rotate Array Leftside \n",
      "2.To Rotate Array Rightside\n",
      "1\n",
      "Enter the factor by which you want to rotate array: 2\n",
      "Rotated Array is:  [6, 8, 9, 11, 29, 4, 5]\n"
     ]
    }
   ],
   "source": [
    "array_rotation()"
   ]
  },
  {
   "cell_type": "code",
   "execution_count": null,
   "id": "5ba1bba4",
   "metadata": {},
   "outputs": [],
   "source": []
  },
  {
   "cell_type": "markdown",
   "id": "7c0e92cb",
   "metadata": {},
   "source": [
    "4.\tWrite a Python Program to Split the array and add the first part to the end?"
   ]
  },
  {
   "cell_type": "code",
   "execution_count": 75,
   "id": "77b165ec",
   "metadata": {},
   "outputs": [],
   "source": [
    "def array_generator():\n",
    "    arr=[]\n",
    "    n = int(input(\"Enter the length of array: \"))\n",
    "    print(f\"Enter {n} elements in the array:\")\n",
    "    for i in range(0,n):\n",
    "        arr.append(int(input()))\n",
    "    print(\"Your Array :\",arr)\n",
    "    return arr\n",
    "\n",
    "def split():\n",
    "    array = array_generator()\n",
    "    n = int(input(\"Enter the place from where you want to split the array: \"))\n",
    "    arr1 = array[0:n]\n",
    "    arr2 = array[n:]\n",
    "    array = arr2 + arr1\n",
    "    return array"
   ]
  },
  {
   "cell_type": "code",
   "execution_count": 76,
   "id": "7c172c7e",
   "metadata": {},
   "outputs": [
    {
     "name": "stdout",
     "output_type": "stream",
     "text": [
      "Enter the length of array: 8\n",
      "Enter 8 elements in the array:\n",
      "1\n",
      "2\n",
      "3\n",
      "4\n",
      "5\n",
      "6\n",
      "7\n",
      "8\n",
      "Your Array : [1, 2, 3, 4, 5, 6, 7, 8]\n",
      "Enter the place from where you want to split the array: 3\n"
     ]
    },
    {
     "data": {
      "text/plain": [
       "[4, 5, 6, 7, 8, 1, 2, 3]"
      ]
     },
     "execution_count": 76,
     "metadata": {},
     "output_type": "execute_result"
    }
   ],
   "source": [
    "split()"
   ]
  },
  {
   "cell_type": "code",
   "execution_count": null,
   "id": "ff05d6ec",
   "metadata": {},
   "outputs": [],
   "source": []
  },
  {
   "cell_type": "markdown",
   "id": "d621aa78",
   "metadata": {},
   "source": [
    "5.\tWrite a Python Program to check if given array is Monotonic?"
   ]
  },
  {
   "cell_type": "code",
   "execution_count": 28,
   "id": "5d2eb776",
   "metadata": {},
   "outputs": [],
   "source": [
    "def array_generator():\n",
    "    arr=[]\n",
    "    n = int(input(\"Enter the length of array: \"))\n",
    "    print(f\"Enter {n} elements in the array:\")\n",
    "    for i in range(0,n):\n",
    "        arr.append(int(input()))\n",
    "    print(\"Your Array :\",arr)\n",
    "    return arr\n",
    "\n",
    "def monotonic_checker():\n",
    "    array = array_generator()\n",
    "    l1 = []\n",
    "    l2 = []\n",
    "    compare1 = lambda a,b:a<=b\n",
    "    compare2 = lambda a,b:a>=b\n",
    "    for i in range(0, len(array)-1):\n",
    "        l1.append(compare1(array[i],array[i+1]))      # Checking for increasing monotonocity\n",
    "        l2.append(compare2(array[i],array[i+1]))      # Checking for decreasing monotonocity\n",
    "    \n",
    "    if all(l1) == True:\n",
    "        print(\"Increasing Monotonic Array\")\n",
    "    elif all(l2) == True:\n",
    "        print(\"Decreasing Monotonic Array\")\n",
    "    else:\n",
    "        print(\"Not a Monotonic Array\")\n",
    "    "
   ]
  },
  {
   "cell_type": "code",
   "execution_count": 31,
   "id": "84854ed6",
   "metadata": {},
   "outputs": [
    {
     "name": "stdout",
     "output_type": "stream",
     "text": [
      "Enter the length of array: 10\n",
      "Enter 10 elements in the array:\n",
      "78\n",
      "69\n",
      "58\n",
      "48\n",
      "37\n",
      "28\n",
      "17\n",
      "8\n",
      "2\n",
      "2\n",
      "Your Array : [78, 69, 58, 48, 37, 28, 17, 8, 2, 2]\n",
      "Decreasing Monotonic Array\n"
     ]
    }
   ],
   "source": [
    "monotonic_checker()"
   ]
  },
  {
   "cell_type": "code",
   "execution_count": null,
   "id": "98b692f1",
   "metadata": {},
   "outputs": [],
   "source": []
  }
 ],
 "metadata": {
  "kernelspec": {
   "display_name": "Python 3 (ipykernel)",
   "language": "python",
   "name": "python3"
  },
  "language_info": {
   "codemirror_mode": {
    "name": "ipython",
    "version": 3
   },
   "file_extension": ".py",
   "mimetype": "text/x-python",
   "name": "python",
   "nbconvert_exporter": "python",
   "pygments_lexer": "ipython3",
   "version": "3.9.7"
  }
 },
 "nbformat": 4,
 "nbformat_minor": 5
}
