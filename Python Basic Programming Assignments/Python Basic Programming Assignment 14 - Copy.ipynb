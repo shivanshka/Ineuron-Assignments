{
 "cells": [
  {
   "cell_type": "markdown",
   "id": "f84c8809",
   "metadata": {},
   "source": [
    "# Basic Programming Assignment 14"
   ]
  },
  {
   "cell_type": "raw",
   "id": "27efd082",
   "metadata": {},
   "source": [
    "Question 1:\n",
    "Define a class with a generator which can iterate the numbers, which are divisible by 7, between a given range 0 and n."
   ]
  },
  {
   "cell_type": "code",
   "execution_count": 2,
   "id": "29203e3b",
   "metadata": {},
   "outputs": [],
   "source": [
    "class divisible_by_7:\n",
    "    def __init__(self, n):\n",
    "        self.n = n\n",
    "        \n",
    "    def div_7(self):\n",
    "        for i in range(0,self.n+1):\n",
    "            if i%7==0:\n",
    "                yield i\n",
    "            "
   ]
  },
  {
   "cell_type": "code",
   "execution_count": 5,
   "id": "8c5256e3",
   "metadata": {},
   "outputs": [
    {
     "name": "stdout",
     "output_type": "stream",
     "text": [
      "Enter value of n: 100\n",
      "Numbers between 0 to 100 which are divisible by 7 are: \n",
      "0\n",
      "7\n",
      "14\n",
      "21\n",
      "28\n",
      "35\n",
      "42\n",
      "49\n",
      "56\n",
      "63\n",
      "70\n",
      "77\n",
      "84\n",
      "91\n",
      "98\n"
     ]
    }
   ],
   "source": [
    "n = int(input(\"Enter value of n: \"))\n",
    "obj = divisible_by_7(n)\n",
    "print(f\"Numbers between 0 to {n} which are divisible by 7 are: \")\n",
    "for i in obj.div_7():\n",
    "    print(i)"
   ]
  },
  {
   "cell_type": "code",
   "execution_count": null,
   "id": "bdcfb3ef",
   "metadata": {},
   "outputs": [],
   "source": []
  },
  {
   "cell_type": "raw",
   "id": "4fc51b7f",
   "metadata": {},
   "source": [
    "Question 2:\n",
    "Write a program to compute the frequency of the words from the input. The output should output after sorting the key alphanumerically. \n",
    "\n",
    "Suppose the following input is supplied to the program:\n",
    "New to Python or choosing between Python 2 and Python 3? Read Python 2 or Python 3.\n",
    "Then, the output should be:\n",
    "2:2\n",
    "3.:1\n",
    "3?:1\n",
    "New:1\n",
    "Python:5\n",
    "Read:1\n",
    "and:1\n",
    "between:1\n",
    "choosing:1\n",
    "or:2\n",
    "to:1"
   ]
  },
  {
   "cell_type": "code",
   "execution_count": 34,
   "id": "ca422bce",
   "metadata": {},
   "outputs": [],
   "source": [
    "def frequency_of_words():\n",
    "    final = {}\n",
    "    sent = input(\"Enter your sentence: \")\n",
    "    list_sent = sent.split(\" \")\n",
    "    list_sent.sort()\n",
    "    for i in list_sent:\n",
    "        final[i] = list_sent.count(i)\n",
    "    for i in final:  \n",
    "        print(i,\":\",final[i])"
   ]
  },
  {
   "cell_type": "code",
   "execution_count": 36,
   "id": "54463f9f",
   "metadata": {},
   "outputs": [
    {
     "name": "stdout",
     "output_type": "stream",
     "text": [
      "Enter your sentence: New to Python or choosing between Python 2 and Python 3? Read Python 2 or Python 3.\n",
      "2 : 2\n",
      "3. : 1\n",
      "3? : 1\n",
      "New : 1\n",
      "Python : 5\n",
      "Read : 1\n",
      "and : 1\n",
      "between : 1\n",
      "choosing : 1\n",
      "or : 2\n",
      "to : 1\n"
     ]
    }
   ],
   "source": [
    "frequency_of_words()"
   ]
  },
  {
   "cell_type": "raw",
   "id": "610283ff",
   "metadata": {},
   "source": [
    "Question 3:\n",
    "Define a class Person and its two child classes: Male and Female. All classes have a method \"getGender\" which can print \"Male\" for Male class and \"Female\" for Female class."
   ]
  },
  {
   "cell_type": "code",
   "execution_count": 111,
   "id": "e5300f4c",
   "metadata": {},
   "outputs": [],
   "source": [
    "class Person:\n",
    "    def __init__(self, gender):\n",
    "        self.gender = gender\n",
    "    \n",
    "    def getGender(self):\n",
    "        return self.gender"
   ]
  },
  {
   "cell_type": "code",
   "execution_count": 112,
   "id": "9fe9b2a3",
   "metadata": {},
   "outputs": [],
   "source": [
    "class Male(Person):\n",
    "    def __init__(self):\n",
    "        self.gender = \"Male\"\n",
    "        super().__init__(self.gender)\n",
    "        \n",
    "    def getGender(self):\n",
    "        return super().getGender()"
   ]
  },
  {
   "cell_type": "code",
   "execution_count": 113,
   "id": "aa701adc",
   "metadata": {},
   "outputs": [],
   "source": [
    "class Female(Person):\n",
    "    def __init__(self):\n",
    "        self.gender = \"Female\"\n",
    "        super().__init__(self.gender)\n",
    "        \n",
    "    def getGender(self):\n",
    "        return super().getGender()"
   ]
  },
  {
   "cell_type": "code",
   "execution_count": 115,
   "id": "e45bc15f",
   "metadata": {},
   "outputs": [
    {
     "name": "stdout",
     "output_type": "stream",
     "text": [
      "Male\n",
      "Female\n"
     ]
    }
   ],
   "source": [
    "obj1 = Male()\n",
    "result = obj1.getGender()\n",
    "print(result)\n",
    "\n",
    "obj2 = Female()\n",
    "reslt2 =obj2.getGender()\n",
    "print(reslt2)"
   ]
  },
  {
   "cell_type": "raw",
   "id": "d78b6a8d",
   "metadata": {},
   "source": [
    "Question 4:\n",
    "Please write a program to generate all sentences where subject is in [\"I\", \"You\"] and verb is in [\"Play\", \"Love\"] and the object is in [\"Hockey\",\"Football\"]."
   ]
  },
  {
   "cell_type": "code",
   "execution_count": 126,
   "id": "2b68e9d6",
   "metadata": {},
   "outputs": [],
   "source": [
    "def gen_sentence():\n",
    "    sent = []\n",
    "    subject = [\"I\",\"You\"]\n",
    "    verb = [\"Play\", \"Love\"]\n",
    "    object = [\"Hockey\",\"Football\"]\n",
    "    for i in subject:\n",
    "        for j in verb:\n",
    "            for k in object:\n",
    "                sent.append(\" \".join([i,j,k]))\n",
    "    return sent"
   ]
  },
  {
   "cell_type": "code",
   "execution_count": 129,
   "id": "3ec51bcf",
   "metadata": {},
   "outputs": [
    {
     "name": "stdout",
     "output_type": "stream",
     "text": [
      "I Play Hockey\n",
      "I Play Football\n",
      "I Love Hockey\n",
      "I Love Football\n",
      "You Play Hockey\n",
      "You Play Football\n",
      "You Love Hockey\n",
      "You Love Football\n"
     ]
    }
   ],
   "source": [
    "rslt = gen_sentence()\n",
    "for i in rslt:\n",
    "    print(i)"
   ]
  },
  {
   "cell_type": "raw",
   "id": "f446fadb",
   "metadata": {},
   "source": [
    "Question 5:\n",
    "Please write a program to compress and decompress the string \"hello world!hello world!hello world!hello world!\"."
   ]
  },
  {
   "cell_type": "code",
   "execution_count": 168,
   "id": "a7c51c90",
   "metadata": {},
   "outputs": [],
   "source": [
    "def compress2(sentence):\n",
    "    lis = sentence.split(\" \")\n",
    "    count = 1\n",
    "    compressed =''\n",
    "    for  i in range(len(lis)):\n",
    "        if i<len(lis)-1:\n",
    "            if lis[i] == lis[i+1]:\n",
    "                count+=1\n",
    "                continue\n",
    "        if count >1:\n",
    "            compressed = compressed+\" \"+ lis[i] +f\"{count}\"\n",
    "            count = 1\n",
    "        else:\n",
    "            compressed = compressed+\" \"+ lis[i]\n",
    "    return compressed \n",
    "            \n",
    "\n",
    "def compress(sentence):\n",
    "    compressed = ''\n",
    "    count=1\n",
    "    for i in range(len(sentence)):\n",
    "        if i<len(sentence)-1:\n",
    "            if  sentence[i] == sentence[i+1]:\n",
    "                count+=1\n",
    "                continue\n",
    "        if count >1:\n",
    "            compressed = compressed + sentence[i] +f\"{count}\"\n",
    "            count = 1\n",
    "        else:\n",
    "            compressed = compressed + sentence[i]\n",
    "    return compressed.strip(\" \")       \n",
    "        \n",
    "\n",
    "def decompress(sentence):\n",
    "    decompress=''\n",
    "    for i in range(len(sentence)):\n",
    "        if sentence[i].isdigit():\n",
    "            decompress = decompress + sentence[i-1]*(int(sentence[i])-1)\n",
    "        else:\n",
    "            decompress = decompress + sentence[i]\n",
    "    return decompress"
   ]
  },
  {
   "cell_type": "code",
   "execution_count": 158,
   "id": "6a9076b9",
   "metadata": {},
   "outputs": [
    {
     "data": {
      "text/plain": [
       "'hel2o world!hel2o world!hel2o world!hel2o world!'"
      ]
     },
     "execution_count": 158,
     "metadata": {},
     "output_type": "execute_result"
    }
   ],
   "source": [
    "compress(\"hello world!hello world!hello world!hello world!\")"
   ]
  },
  {
   "cell_type": "code",
   "execution_count": 171,
   "id": "9e2f0b63",
   "metadata": {},
   "outputs": [
    {
     "data": {
      "text/plain": [
       "'Aaaabbbbccccccdf'"
      ]
     },
     "execution_count": 171,
     "metadata": {},
     "output_type": "execute_result"
    }
   ],
   "source": [
    "decompress(\"Aa3b4c6df\")"
   ]
  },
  {
   "cell_type": "code",
   "execution_count": 169,
   "id": "6cfc7aef",
   "metadata": {},
   "outputs": [
    {
     "data": {
      "text/plain": [
       "' hello world!hello3 world!'"
      ]
     },
     "execution_count": 169,
     "metadata": {},
     "output_type": "execute_result"
    }
   ],
   "source": [
    "compress2(\"hello world!hello world!hello world!hello world!\")"
   ]
  },
  {
   "cell_type": "raw",
   "id": "d64e2e25",
   "metadata": {},
   "source": [
    "Question 6:\n",
    "Please write a binary search function which searches an item in a sorted list. The function should return the index of element to be searched in the list."
   ]
  },
  {
   "cell_type": "code",
   "execution_count": 208,
   "id": "9de7a2fa",
   "metadata": {},
   "outputs": [],
   "source": [
    "def binary_search(lis, element):\n",
    "    lis.sort()\n",
    "    low = 0\n",
    "    high = len(lis)-1\n",
    "    while low <= high:\n",
    "        mid = (high+low)//2\n",
    "        \n",
    "        if element == lis[mid]:\n",
    "            return mid\n",
    "        \n",
    "        elif element < lis[mid]:\n",
    "            high = mid-1\n",
    "        \n",
    "        elif element > lis[mid]:\n",
    "            low = mid+1\n",
    "    return False"
   ]
  },
  {
   "cell_type": "code",
   "execution_count": 214,
   "id": "15fb8b05",
   "metadata": {},
   "outputs": [
    {
     "name": "stdout",
     "output_type": "stream",
     "text": [
      "Enter the value in comma-seperated sequence: 13,24,37,39,58,67,70,75,72,83,87,89,91,95,99\n",
      "Enter the element to search: 84\n",
      "List entered:  [13, 24, 37, 39, 58, 67, 70, 72, 75, 83, 87, 89, 91, 95, 99]\n",
      "Element 84 not present\n"
     ]
    }
   ],
   "source": [
    "lis = list(map(int, input(\"Enter the value in comma-seperated sequence: \").split(\",\")))\n",
    "n = int(input(\"Enter the element to search: \"))\n",
    "index= binary_search(lis,n)\n",
    "print(\"List entered: \",lis)\n",
    "if index==False:\n",
    "    print(f\"Element {n} not present\")\n",
    "else:\n",
    "    print(f\"Element {n} present at index = {index}\")"
   ]
  },
  {
   "cell_type": "code",
   "execution_count": null,
   "id": "b82e23c3",
   "metadata": {},
   "outputs": [],
   "source": []
  },
  {
   "cell_type": "code",
   "execution_count": null,
   "id": "2b4d1ee3",
   "metadata": {},
   "outputs": [],
   "source": []
  }
 ],
 "metadata": {
  "kernelspec": {
   "display_name": "Python 3 (ipykernel)",
   "language": "python",
   "name": "python3"
  },
  "language_info": {
   "codemirror_mode": {
    "name": "ipython",
    "version": 3
   },
   "file_extension": ".py",
   "mimetype": "text/x-python",
   "name": "python",
   "nbconvert_exporter": "python",
   "pygments_lexer": "ipython3",
   "version": "3.9.7"
  }
 },
 "nbformat": 4,
 "nbformat_minor": 5
}
