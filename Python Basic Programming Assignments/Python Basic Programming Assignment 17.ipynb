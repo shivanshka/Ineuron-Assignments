{
 "cells": [
  {
   "cell_type": "markdown",
   "id": "f31a49cc",
   "metadata": {},
   "source": [
    "# Basic Programming Assignment 17"
   ]
  },
  {
   "cell_type": "markdown",
   "id": "487647d5",
   "metadata": {},
   "source": [
    "**Question 1.**   \n",
    "Create a function that takes three arguments a, b, c and returns the sum of the numbers that are evenly divided by c from the range a, b inclusive.  \n",
    "> **Examples**  \n",
    "evenly_divisible(1, 10, 20) ➞ 0  \n",
    " No number between 1 and 10 can be evenly divided by 20.   \n",
    "\n",
    ">evenly_divisible(1, 10, 2) ➞ 30    \n",
    " 2 + 4 + 6 + 8 + 10 = 30     \n",
    "\n",
    ">evenly_divisible(1, 10, 3) ➞ 18    \n",
    " 3 + 6 + 9 = 18"
   ]
  },
  {
   "cell_type": "code",
   "execution_count": 1,
   "id": "fc85f59d",
   "metadata": {},
   "outputs": [],
   "source": [
    "def evenly_divisible(a,b,c):\n",
    "    sum = 0\n",
    "    for i in range(a,b+1):\n",
    "        if i % c == 0:\n",
    "            sum += i\n",
    "    return sum           "
   ]
  },
  {
   "cell_type": "code",
   "execution_count": 4,
   "id": "6b3c5803",
   "metadata": {},
   "outputs": [
    {
     "name": "stdout",
     "output_type": "stream",
     "text": [
      "Enter the value of a,b,c: 1,10,3\n",
      "Sum of numbers between 1 and 10 evenly divided by 3 = 18\n"
     ]
    }
   ],
   "source": [
    "a,b,c = [int(i) for i in input(\"Enter the value of a,b,c: \").split(\",\")]\n",
    "summ = evenly_divisible(a,b,c)\n",
    "if summ == 0:\n",
    "    print(summ)\n",
    "    print(f\"No number between {a} and {b} can be evenly divided by {c}.\")\n",
    "else:\n",
    "    print(f\"Sum of numbers between {a} and {b} evenly divided by {c} = {summ}\")\n",
    "    "
   ]
  },
  {
   "cell_type": "code",
   "execution_count": null,
   "id": "856e165b",
   "metadata": {},
   "outputs": [],
   "source": []
  },
  {
   "cell_type": "markdown",
   "id": "3c843524",
   "metadata": {},
   "source": [
    "**Question 2.**   \n",
    "Create a function that returns True if a given inequality expression is correct and False otherwise.  \n",
    ">**Examples**  \n",
    "correct_signs(\"3 < 7 < 11\") ➞ True  \n",
    "correct_signs(\"13 > 44 > 33 > 1\") ➞ False  \n",
    "correct_signs(\"1 < 2 < 6 < 9 > 3\") ➞ True  "
   ]
  },
  {
   "cell_type": "code",
   "execution_count": 14,
   "id": "f6e0b3a4",
   "metadata": {},
   "outputs": [],
   "source": [
    "# Method1:\n",
    "def correct_signs(inequality):\n",
    "    result = eval(inequality)\n",
    "    return result\n",
    "\n",
    "# Method2:\n",
    "def correct_signs2(inequality):\n",
    "    lis = inequality.split(\" \")\n",
    "    flag = False\n",
    "    for i in range(len(lis)-1):    \n",
    "        if lis[i]=='<':\n",
    "            if int(lis[i-1]) < int(lis[i+1]):\n",
    "                flag = True\n",
    "            else:\n",
    "                flag = False\n",
    "                break\n",
    "\n",
    "        elif lis[i]=='>':\n",
    "            if int(lis[i-1]) > int(lis[i+1]):\n",
    "                flag = True\n",
    "            else:\n",
    "                flag = False\n",
    "                break\n",
    "    return flag"
   ]
  },
  {
   "cell_type": "code",
   "execution_count": 20,
   "id": "827df01d",
   "metadata": {},
   "outputs": [
    {
     "name": "stdout",
     "output_type": "stream",
     "text": [
      "Enter your inequality to check: 1 < 2 < 6 < 9 > 3\n",
      "\n",
      "1 < 2 < 6 < 9 > 3 --> True\n"
     ]
    }
   ],
   "source": [
    "exp = input(\"Enter your inequality to check: \")\n",
    "result = correct_signs2(exp)\n",
    "print(f\"\\n{exp} --> {result}\")"
   ]
  },
  {
   "cell_type": "code",
   "execution_count": null,
   "id": "85b5105e",
   "metadata": {},
   "outputs": [],
   "source": []
  },
  {
   "cell_type": "markdown",
   "id": "e1cd59fc",
   "metadata": {},
   "source": [
    "**Question 3.**   \n",
    "Create a function that replaces all the vowels in a string with a specified character.  \n",
    ">**Examples**  \n",
    "replace_vowels(\"the aardvark\", \"#\") ➞ \"th# ##rdv#rk\"  \n",
    "replace_vowels(\"minnie mouse\", \"?\") ➞ \"m?nn?? m??s?\"  \n",
    "replace_vowels(\"shakespeare\", \"*\") ➞ \"sh*k*sp**r*\"  "
   ]
  },
  {
   "cell_type": "code",
   "execution_count": 14,
   "id": "d3b495df",
   "metadata": {},
   "outputs": [],
   "source": [
    "def replace_vowels(strr, char):\n",
    "    vowel = 'aeiou'\n",
    "    strr.lower()\n",
    "    for  i in strr:\n",
    "        if i in vowel:\n",
    "            strr = strr.replace(i,char)\n",
    "    return strr"
   ]
  },
  {
   "cell_type": "code",
   "execution_count": 19,
   "id": "e2a548eb",
   "metadata": {},
   "outputs": [
    {
     "name": "stdout",
     "output_type": "stream",
     "text": [
      "th# ##rdv#rk\n",
      "m?nn?? m??s?\n",
      "sh*k*sp**r*\n"
     ]
    }
   ],
   "source": [
    "print(replace_vowels(\"the aardvark\", \"#\"))\n",
    "print(replace_vowels(\"minnie mouse\", \"?\"))\n",
    "print(replace_vowels(\"shakespeare\", \"*\"))"
   ]
  },
  {
   "cell_type": "code",
   "execution_count": null,
   "id": "a6b60561",
   "metadata": {},
   "outputs": [],
   "source": []
  },
  {
   "cell_type": "markdown",
   "id": "343a33b5",
   "metadata": {},
   "source": [
    "**Question 4.**   \n",
    "Write a function that calculates the factorial of a number recursively.  \n",
    ">**Examples**  \n",
    "factorial(5) ➞ 120  \n",
    "factorial(3) ➞ 6  \n",
    "factorial(1) ➞ 1  \n",
    "factorial(0) ➞ 1  "
   ]
  },
  {
   "cell_type": "code",
   "execution_count": 40,
   "id": "84dae45c",
   "metadata": {},
   "outputs": [],
   "source": [
    "def factorial(num, facto = 1,temp=1):\n",
    "    facto = facto*temp\n",
    "    if temp<num:\n",
    "        temp+=1\n",
    "        return factorial(num,facto,temp) \n",
    "    else:\n",
    "        return facto"
   ]
  },
  {
   "cell_type": "code",
   "execution_count": 41,
   "id": "5c9699ec",
   "metadata": {},
   "outputs": [
    {
     "name": "stdout",
     "output_type": "stream",
     "text": [
      "Enter number to find its factorial: 5\n",
      "Factorial,5! = 120\n"
     ]
    }
   ],
   "source": [
    "num = int(input(\"Enter number to find its factorial: \"))\n",
    "fact = factorial(num)\n",
    "print(f\"Factorial,{num}! = {fact}\")"
   ]
  },
  {
   "cell_type": "code",
   "execution_count": null,
   "id": "dd5bb890",
   "metadata": {},
   "outputs": [],
   "source": []
  },
  {
   "cell_type": "markdown",
   "id": "35abefb7",
   "metadata": {},
   "source": [
    "**Question 5.**  \n",
    "Hamming distance is the number of characters that differ between two strings.  \n",
    "To illustrate:  \n",
    "String1: \"abcbba\"  \n",
    "String2: \"abcbda\"  \n",
    "Hamming Distance: 1 - \"b\" vs. \"d\" is the only difference.  \n",
    "Create a function that computes the hamming distance between two strings.  \n",
    "\n",
    ">**Examples**  \n",
    "hamming_distance(\"abcde\", \"bcdef\") ➞ 5  \n",
    "hamming_distance(\"abcde\", \"abcde\") ➞ 0  \n",
    "hamming_distance(\"strong\", \"strung\") ➞ 1  "
   ]
  },
  {
   "cell_type": "code",
   "execution_count": 17,
   "id": "847edc61",
   "metadata": {},
   "outputs": [],
   "source": [
    "def hamming_dist(strr1 ,strr2):\n",
    "    count = 0\n",
    "    if len(strr1) == len(strr2):\n",
    "        for i in range(len(strr1)):\n",
    "            if strr1[i]!=strr2[i]:\n",
    "                count+=1\n",
    "        return count\n",
    "    else:\n",
    "        print(\"Strings of different length therefore Hamming Distance not possible\")"
   ]
  },
  {
   "cell_type": "code",
   "execution_count": 19,
   "id": "7a5a7e22",
   "metadata": {},
   "outputs": [
    {
     "name": "stdout",
     "output_type": "stream",
     "text": [
      "Enter first word: abcde\n",
      "Enter second word: bcdef\n",
      "Hamming Distance between 'abcde' and 'bcdef' = 5\n"
     ]
    }
   ],
   "source": [
    "strr1 = input(\"Enter first word: \")\n",
    "strr2 = input(\"Enter second word: \")\n",
    "ham_dis=hamming_dist(strr1, strr2)\n",
    "print(f\"Hamming Distance between '{strr1}' and '{strr2}' = {ham_dis}\")"
   ]
  },
  {
   "cell_type": "code",
   "execution_count": null,
   "id": "d37f7ea1",
   "metadata": {},
   "outputs": [],
   "source": []
  }
 ],
 "metadata": {
  "kernelspec": {
   "display_name": "Python 3 (ipykernel)",
   "language": "python",
   "name": "python3"
  },
  "language_info": {
   "codemirror_mode": {
    "name": "ipython",
    "version": 3
   },
   "file_extension": ".py",
   "mimetype": "text/x-python",
   "name": "python",
   "nbconvert_exporter": "python",
   "pygments_lexer": "ipython3",
   "version": "3.9.7"
  }
 },
 "nbformat": 4,
 "nbformat_minor": 5
}
