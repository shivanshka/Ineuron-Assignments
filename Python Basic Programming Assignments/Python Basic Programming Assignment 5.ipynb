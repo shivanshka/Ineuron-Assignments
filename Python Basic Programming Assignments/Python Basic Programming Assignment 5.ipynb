{
 "cells": [
  {
   "cell_type": "markdown",
   "id": "556574a9",
   "metadata": {},
   "source": [
    "# Basic Programming Assignment 5"
   ]
  },
  {
   "cell_type": "markdown",
   "id": "49d1becf",
   "metadata": {},
   "source": [
    "1.\tWrite a Python Program to Find LCM?\n",
    "2.\tWrite a Python Program to Find HCF?\n",
    "3.\tWrite a Python Program to Convert Decimal to Binary, Octal and Hexadecimal?\n",
    "4.\tWrite a Python Program To Find ASCII value of a character?\n",
    "5.\tWrite a Python Program to Make a Simple Calculator with 4 basic mathematical operations?"
   ]
  },
  {
   "cell_type": "code",
   "execution_count": null,
   "id": "e7bbb195",
   "metadata": {},
   "outputs": [],
   "source": []
  },
  {
   "cell_type": "markdown",
   "id": "2f783fdc",
   "metadata": {},
   "source": [
    "1.\tWrite a Python Program to Find LCM?"
   ]
  },
  {
   "cell_type": "code",
   "execution_count": 53,
   "id": "bcd14444",
   "metadata": {},
   "outputs": [],
   "source": [
    "def lcm(*args):\n",
    "    flag = False\n",
    "    maxi=max(args)\n",
    "    while (True):\n",
    "        flag = divisible_lcm(maxi,args)\n",
    "        if flag == True:\n",
    "            lcm = maxi\n",
    "            break\n",
    "        maxi+=1\n",
    "    print(f\"LCM of {args} = {lcm}\")\n",
    "    \n",
    "def divisible_lcm(maxi, l):\n",
    "    for i in range(0, len(l)):\n",
    "        if maxi % l[i] != 0:\n",
    "            return False\n",
    "    return True\n",
    "        \n"
   ]
  },
  {
   "cell_type": "code",
   "execution_count": 54,
   "id": "d375453d",
   "metadata": {},
   "outputs": [
    {
     "name": "stdout",
     "output_type": "stream",
     "text": [
      "LCM of (48, 72, 108) = 432\n"
     ]
    }
   ],
   "source": [
    "lcm(48,72,108)          # Enter any number of values"
   ]
  },
  {
   "cell_type": "code",
   "execution_count": null,
   "id": "20c1bfeb",
   "metadata": {},
   "outputs": [],
   "source": []
  },
  {
   "cell_type": "markdown",
   "id": "ce99a9c9",
   "metadata": {},
   "source": [
    "2.\tWrite a Python Program to Find HCF?"
   ]
  },
  {
   "cell_type": "code",
   "execution_count": 67,
   "id": "813154de",
   "metadata": {},
   "outputs": [],
   "source": [
    "def hcf(*args):\n",
    "    flag= False\n",
    "    maxi = min(*args)\n",
    "    for i in range(1 , maxi+1):\n",
    "        flag = divisible(args, i)\n",
    "        if flag == True:\n",
    "            hcf=i\n",
    "    print(f\"HCF of {args} = {hcf}\")\n",
    "    \n",
    "def divisible(l, i):\n",
    "    for j in range(0, len(l)):\n",
    "        if l[j] % i!=0:\n",
    "            return False\n",
    "    return True\n",
    "            "
   ]
  },
  {
   "cell_type": "code",
   "execution_count": 70,
   "id": "8fc0cda4",
   "metadata": {},
   "outputs": [
    {
     "name": "stdout",
     "output_type": "stream",
     "text": [
      "HCF of (306, 855, 54, 945) = 9\n"
     ]
    }
   ],
   "source": [
    "hcf(306,855,54,945)            # Enter any number of values"
   ]
  },
  {
   "cell_type": "code",
   "execution_count": null,
   "id": "e5949730",
   "metadata": {},
   "outputs": [],
   "source": []
  },
  {
   "cell_type": "markdown",
   "id": "6eebb73c",
   "metadata": {},
   "source": [
    "3.\tWrite a Python Program to Convert Decimal to Binary, Octal and Hexadecimal?"
   ]
  },
  {
   "cell_type": "code",
   "execution_count": 105,
   "id": "dc5d6a5b",
   "metadata": {},
   "outputs": [],
   "source": [
    "def decimal_converted():\n",
    "    print(\"******DECIMAL TO BINARY, OCTAL & HEXADECIMAL CONVERTER******\")\n",
    "    print(\"\\nSelect Operation\")\n",
    "    print(\"Enter key for:\\n 1.Decimal to Binary \\n 2.Decimal to Octal \\n 3.Decimal to Hexadecimal\")\n",
    "    key = int(input(\"Enter your choice: \"))\n",
    "    dec = int(input(\"Enter the decimal: \"))\n",
    "    if key == 1:\n",
    "        print(\"\\nDECIMAL TO BINARY\")\n",
    "        bi = binary(dec)\n",
    "        print(f\"Binary of {dec} = \", end =\"\")\n",
    "        for i in bi:\n",
    "            print(i,end=\"\")\n",
    "    \n",
    "    elif key == 2:\n",
    "        print(\"\\nDECIMAL TO OCTAL\")\n",
    "        octa = octal(dec)\n",
    "        print(f\"Octal of {dec} = \", end =\"\")\n",
    "        for i in octa:\n",
    "            print(i,end=\"\")\n",
    "    \n",
    "    elif key == 3:\n",
    "        print(\"\\nDECIMAL TO HEXADECIMAL\")\n",
    "        hexa = hexadecimal(dec)\n",
    "        print(f\"Hexadecimal of {dec} = {hexa}\")\n",
    "    \n",
    "    else:\n",
    "        print(\"Invalid choice\")\n",
    "        \n",
    "def binary(dec):\n",
    "    l=[]\n",
    "    while dec != 0:\n",
    "        l.append(dec%2)\n",
    "        dec//=2\n",
    "    return l[::-1]\n",
    "\n",
    "\n",
    "def octal(dec):\n",
    "    l=[]\n",
    "    while dec != 0:\n",
    "        l.append(dec%8)\n",
    "        dec//=8\n",
    "    return l[::-1]\n",
    "\n",
    "def hexadecimal(dec):\n",
    "    hexa =''\n",
    "    conversion = {0 :\"0\", 1 :\"1\", 2 :\"2\", 3 :\"3\", 4 :\"4\", 5:\"5\", 6:\"6\", 7:\"7\", 8:\"8\", 9:\"9\",\n",
    "                  10 :\"A\", 11:\"B\", 12:\"C\", 13:\"D\", 14:\"E\", 15:\"F\"}\n",
    "    while dec>0:\n",
    "        remainder = dec%16\n",
    "        hexa = conversion[remainder] + hexa\n",
    "        dec //=16\n",
    "    return hexa\n"
   ]
  },
  {
   "cell_type": "code",
   "execution_count": 106,
   "id": "2e1d0d93",
   "metadata": {},
   "outputs": [
    {
     "name": "stdout",
     "output_type": "stream",
     "text": [
      "******DECIMAL TO BINARY, OCTAL & HEXADECIMAL CONVERTER******\n",
      "\n",
      "Select Operation\n",
      "Enter key for:\n",
      " 1.Decimal to Binary \n",
      " 2.Decimal to Octal \n",
      " 3.Decimal to Hexadecimal\n",
      "Enter your choice: 3\n",
      "Enter the decimal: 7564\n",
      "\n",
      "DECIMAL TO HEXADECIMAL\n",
      "Hexadecimal of 7564 = 1D8C\n"
     ]
    }
   ],
   "source": [
    "decimal_converted()"
   ]
  },
  {
   "cell_type": "code",
   "execution_count": null,
   "id": "c3a9c26f",
   "metadata": {},
   "outputs": [],
   "source": []
  },
  {
   "cell_type": "markdown",
   "id": "debd7d70",
   "metadata": {},
   "source": [
    "4.\tWrite a Python Program To Find ASCII value of a character?"
   ]
  },
  {
   "cell_type": "code",
   "execution_count": 114,
   "id": "468572c5",
   "metadata": {},
   "outputs": [],
   "source": [
    "def asci():\n",
    "    char = input(\"Enter character: \")\n",
    "    print(f\"ASCII of {char} is\")\n",
    "    for i in char:\n",
    "        print(i ,ord(i))\n",
    "        "
   ]
  },
  {
   "cell_type": "code",
   "execution_count": 115,
   "id": "b7436fa1",
   "metadata": {},
   "outputs": [
    {
     "name": "stdout",
     "output_type": "stream",
     "text": [
      "Enter character: Shivansh Kaushal\n",
      "ASCII of Shivansh Kaushal is\n",
      "S 83\n",
      "h 104\n",
      "i 105\n",
      "v 118\n",
      "a 97\n",
      "n 110\n",
      "s 115\n",
      "h 104\n",
      "  32\n",
      "K 75\n",
      "a 97\n",
      "u 117\n",
      "s 115\n",
      "h 104\n",
      "a 97\n",
      "l 108\n"
     ]
    }
   ],
   "source": [
    "asci()"
   ]
  },
  {
   "cell_type": "code",
   "execution_count": null,
   "id": "bcdeebd5",
   "metadata": {},
   "outputs": [],
   "source": []
  },
  {
   "cell_type": "markdown",
   "id": "38095238",
   "metadata": {},
   "source": [
    "5.\tWrite a Python Program to Make a Simple Calculator with 4 basic mathematical operations?"
   ]
  },
  {
   "cell_type": "code",
   "execution_count": 3,
   "id": "8457e59b",
   "metadata": {},
   "outputs": [],
   "source": [
    "def calculator():\n",
    "    print(\"\\n*********Calculator*********\")\n",
    "    print(\"\\nSelect Operation\")\n",
    "    print(\"\\nEnter 1 for Addition \\nEnter 2 for Subtraction \\nEnter 3 for Multiplication \\nEnter 4 for Division\")\n",
    "    key = int(input(\"\\nEnter your choice: \"))\n",
    "    if key == 1:\n",
    "        print(\"\\nADDITION OPERATION:\")\n",
    "        x= float(input(\"Enter first number: \"))\n",
    "        y= float(input(\"Enter second number: \"))\n",
    "        print(\"Sum of %d and %d is %d \"%(x,y,x+y))\n",
    "    \n",
    "    elif key == 2:\n",
    "        print(\"\\nSUBTRACTION OPERATION:\")\n",
    "        x= float(input(\"Enter first number: \"))\n",
    "        y= float(input(\"Enter second number: \"))\n",
    "        print(\"Subtraction of %d from %d is %d \"%(y,x,x-y))\n",
    "    \n",
    "    elif key == 3:\n",
    "        print(\"\\nMULTIPLICATION OPERATION:\")\n",
    "        x= float(input(\"Enter first number: \"))\n",
    "        y= float(input(\"Enter second number: \"))\n",
    "        print(\"Multiplication of %d and %d is %d \"%(x,y, x*y))\n",
    "        \n",
    "    elif key == 4:\n",
    "        print(\"\\nDIVISION OPERATION:\")\n",
    "        x= float(input(\"Enter first number: \"))\n",
    "        y= float(input(\"Enter second number: \"))\n",
    "        print(\"Division of %d by %d is %d \"%(x,y,x/y))\n",
    "    \n",
    "    else:\n",
    "        print(\"Invalid Choice\")\n",
    "    \n",
    "    choice = input(\"\\nDo you want to do another operation? (yes/no): \")\n",
    "    if choice == 'yes' :\n",
    "        calculator()\n",
    "    else:\n",
    "        print(\"\\n********THANK YOU*********\")\n",
    "    "
   ]
  },
  {
   "cell_type": "code",
   "execution_count": 4,
   "id": "6960f13e",
   "metadata": {},
   "outputs": [
    {
     "name": "stdout",
     "output_type": "stream",
     "text": [
      "\n",
      "*********Calculator*********\n",
      "\n",
      "Select Operation\n",
      "\n",
      "Enter 1 for Addition \n",
      "Enter 2 for Subtraction \n",
      "Enter 3 for Multiplication \n",
      "Enter 4 for Division\n",
      "\n",
      "Enter your choice: 3\n",
      "\n",
      "MULTIPLICATION OPERATION:\n",
      "Enter first number: 45\n",
      "Enter second number: 69\n",
      "Multiplication of 45 and 69 is 3105 \n",
      "\n",
      "Do you want to do another operation? (yes/no): no\n",
      "\n",
      "********THANK YOU*********\n"
     ]
    }
   ],
   "source": [
    "calculator()"
   ]
  },
  {
   "cell_type": "code",
   "execution_count": null,
   "id": "3692396a",
   "metadata": {},
   "outputs": [],
   "source": []
  }
 ],
 "metadata": {
  "kernelspec": {
   "display_name": "Python 3 (ipykernel)",
   "language": "python",
   "name": "python3"
  },
  "language_info": {
   "codemirror_mode": {
    "name": "ipython",
    "version": 3
   },
   "file_extension": ".py",
   "mimetype": "text/x-python",
   "name": "python",
   "nbconvert_exporter": "python",
   "pygments_lexer": "ipython3",
   "version": "3.9.7"
  }
 },
 "nbformat": 4,
 "nbformat_minor": 5
}
