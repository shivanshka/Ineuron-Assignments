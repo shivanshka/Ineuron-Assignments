{
 "cells": [
  {
   "cell_type": "markdown",
   "id": "a08084d5",
   "metadata": {},
   "source": [
    "# Basic Programming Assignment 20"
   ]
  },
  {
   "cell_type": "markdown",
   "id": "f6a12443",
   "metadata": {},
   "source": [
    "**Question 1.**  \n",
    "Create a function that takes a list of strings and integers, and filters out the list so that it returns a list of integers only.  \n",
    ">**Examples**  \n",
    "filter_list([1, 2, 3, \"a\", \"b\", 4]) ➞ [1, 2, 3, 4]  \n",
    "filter_list([\"A\", 0, \"Edabit\", 1729, \"Python\", \"1729\"]) ➞ [0, 1729]  \n",
    "filter_list([\"Nothing\", \"here\"]) ➞ []  "
   ]
  },
  {
   "cell_type": "code",
   "execution_count": 28,
   "id": "f30a7fcf",
   "metadata": {},
   "outputs": [],
   "source": [
    "def filter_list(lis):\n",
    "    filtered_list = list(filter(lambda x: type(x)==int, lis))\n",
    "    return filtered_list"
   ]
  },
  {
   "cell_type": "code",
   "execution_count": 29,
   "id": "b9b13c2e",
   "metadata": {},
   "outputs": [
    {
     "data": {
      "text/plain": [
       "[1, 2, 3, 4]"
      ]
     },
     "execution_count": 29,
     "metadata": {},
     "output_type": "execute_result"
    }
   ],
   "source": [
    "filter_list([1, 2, 3, \"a\", \"b\", 4])"
   ]
  },
  {
   "cell_type": "code",
   "execution_count": 30,
   "id": "8e9067e7",
   "metadata": {},
   "outputs": [
    {
     "data": {
      "text/plain": [
       "[0, 1729]"
      ]
     },
     "execution_count": 30,
     "metadata": {},
     "output_type": "execute_result"
    }
   ],
   "source": [
    "filter_list([\"A\", 0, \"Edabit\", 1729, \"Python\", \"1729\"])"
   ]
  },
  {
   "cell_type": "code",
   "execution_count": 31,
   "id": "564f39d3",
   "metadata": {},
   "outputs": [
    {
     "data": {
      "text/plain": [
       "[]"
      ]
     },
     "execution_count": 31,
     "metadata": {},
     "output_type": "execute_result"
    }
   ],
   "source": [
    "filter_list([\"Nothing\", \"here\"])"
   ]
  },
  {
   "cell_type": "code",
   "execution_count": null,
   "id": "ed997a29",
   "metadata": {},
   "outputs": [],
   "source": []
  },
  {
   "cell_type": "markdown",
   "id": "25809764",
   "metadata": {},
   "source": [
    "**Question 2.**  \n",
    "Given a list of numbers, create a function which returns the list but with each element's index in the list added to itself. This means you add 0 to the number at index 0, add 1 to the number at index 1, etc...  \n",
    ">**Examples**  \n",
    "add_indexes([0, 0, 0, 0, 0]) ➞ [0, 1, 2, 3, 4]  \n",
    "add_indexes([1, 2, 3, 4, 5]) ➞ [1, 3, 5, 7, 9]  \n",
    "add_indexes([5, 4, 3, 2, 1]) ➞ [5, 5, 5, 5, 5]  "
   ]
  },
  {
   "cell_type": "code",
   "execution_count": 32,
   "id": "7c3998b2",
   "metadata": {},
   "outputs": [],
   "source": [
    "def add_indexes(lis):\n",
    "    added_list = [i+j for i,j in enumerate(lis)]\n",
    "    return added_list"
   ]
  },
  {
   "cell_type": "code",
   "execution_count": 33,
   "id": "65fbf10e",
   "metadata": {},
   "outputs": [
    {
     "data": {
      "text/plain": [
       "[0, 1, 2, 3, 4]"
      ]
     },
     "execution_count": 33,
     "metadata": {},
     "output_type": "execute_result"
    }
   ],
   "source": [
    "add_indexes([0, 0, 0, 0, 0])"
   ]
  },
  {
   "cell_type": "code",
   "execution_count": 34,
   "id": "35208acb",
   "metadata": {},
   "outputs": [
    {
     "data": {
      "text/plain": [
       "[1, 3, 5, 7, 9]"
      ]
     },
     "execution_count": 34,
     "metadata": {},
     "output_type": "execute_result"
    }
   ],
   "source": [
    "add_indexes([1, 2, 3, 4, 5])"
   ]
  },
  {
   "cell_type": "code",
   "execution_count": 35,
   "id": "88dccc1e",
   "metadata": {},
   "outputs": [
    {
     "data": {
      "text/plain": [
       "[5, 5, 5, 5, 5]"
      ]
     },
     "execution_count": 35,
     "metadata": {},
     "output_type": "execute_result"
    }
   ],
   "source": [
    "add_indexes([5, 4, 3, 2, 1])"
   ]
  },
  {
   "cell_type": "code",
   "execution_count": null,
   "id": "3373e54d",
   "metadata": {},
   "outputs": [],
   "source": []
  },
  {
   "cell_type": "markdown",
   "id": "ff15fed7",
   "metadata": {},
   "source": [
    "**Question 3.**  \n",
    "Create a function that takes the height and radius of a cone as arguments and returns the volume of the cone rounded to the nearest hundredth. See the resources tab for the formula.  \n",
    ">**Examples**  \n",
    "cone_volume(3, 2) ➞ 12.57  \n",
    "cone_volume(15, 6) ➞ 565.49  \n",
    "cone_volume(18, 0) ➞ 0  "
   ]
  },
  {
   "cell_type": "code",
   "execution_count": 47,
   "id": "cc68bf5a",
   "metadata": {},
   "outputs": [],
   "source": [
    "import math\n",
    "def cone_volume(height,radius):\n",
    "    volume = math.pi*(radius**2)*height/3\n",
    "    volume = round(volume, ndigits = 2)\n",
    "    return volume"
   ]
  },
  {
   "cell_type": "code",
   "execution_count": 51,
   "id": "6cbc4941",
   "metadata": {},
   "outputs": [
    {
     "name": "stdout",
     "output_type": "stream",
     "text": [
      "Enter height of cone: 3\n",
      "Enter radius of cone: 2\n",
      "\n",
      "Radius = 2.0 and Height = 3.0 of cone,then\n",
      "Volume of cone = 12.57\n"
     ]
    }
   ],
   "source": [
    "height = float(input(\"Enter height of cone: \"))\n",
    "radius = float(input(\"Enter radius of cone: \"))\n",
    "volume_cone = cone_volume(height,radius)\n",
    "print(f\"\\nRadius = {radius} and Height = {height} of cone,then\")\n",
    "print(\"Volume of cone =\",volume_cone)"
   ]
  },
  {
   "cell_type": "code",
   "execution_count": null,
   "id": "af7669f5",
   "metadata": {},
   "outputs": [],
   "source": []
  },
  {
   "cell_type": "markdown",
   "id": "19640335",
   "metadata": {},
   "source": [
    "**Question 4.**  \n",
    "This Triangular Number Sequence is generated from a pattern of dots that form a triangle. The first 5 numbers of the sequence, or dots, are:   \n",
    "1, 3, 6, 10, 15  \n",
    "This means that the first triangle has just one dot, the second one has three dots, the third one has 6 dots and so on.  \n",
    "Write a function that gives the number of dots with its corresponding triangle number of the sequence.  \n",
    ">**Examples**  \n",
    "triangle(1) ➞ 1  \n",
    "triangle(6) ➞ 21  \n",
    "triangle(215) ➞ 23220  "
   ]
  },
  {
   "cell_type": "code",
   "execution_count": 52,
   "id": "b9523549",
   "metadata": {},
   "outputs": [],
   "source": [
    "def triangle(n):\n",
    "    i = 1\n",
    "    dots = 0\n",
    "    while i<=n:\n",
    "        dots += i\n",
    "        i += 1\n",
    "    return dots"
   ]
  },
  {
   "cell_type": "code",
   "execution_count": 57,
   "id": "a18ff4b8",
   "metadata": {},
   "outputs": [
    {
     "name": "stdout",
     "output_type": "stream",
     "text": [
      "Enter triangle number sequence,n: 6\n",
      "Number of dots for 6 triangle number sequence = 21\n"
     ]
    }
   ],
   "source": [
    "n = int(input(\"Enter triangle number sequence,n: \"))\n",
    "dots = triangle(n)\n",
    "print(f\"Number of dots for {n} triangle number sequence = {dots}\")"
   ]
  },
  {
   "cell_type": "code",
   "execution_count": null,
   "id": "7377516a",
   "metadata": {},
   "outputs": [],
   "source": []
  },
  {
   "cell_type": "markdown",
   "id": "86833a5d",
   "metadata": {},
   "source": [
    "**Question 5.**  \n",
    "Create a function that takes a list of numbers between 1 and 10 (excluding one number) and returns the missing number.  \n",
    ">**Examples**  \n",
    "missing_num([1, 2, 3, 4, 6, 7, 8, 9, 10]) ➞ 5  \n",
    "missing_num([7, 2, 3, 6, 5, 9, 1, 4, 8]) ➞ 10  \n",
    "missing_num([10, 5, 1, 2, 4, 6, 8, 3, 9]) ➞ 7  "
   ]
  },
  {
   "cell_type": "code",
   "execution_count": 21,
   "id": "8a22b2e9",
   "metadata": {},
   "outputs": [],
   "source": [
    "def missing_num(lis):\n",
    "    i = 1\n",
    "    while i<11:\n",
    "        if i not in lis:\n",
    "            return i\n",
    "        i+=1\n",
    "    return \"All the numbers between 1 to 10 present in list\""
   ]
  },
  {
   "cell_type": "code",
   "execution_count": 26,
   "id": "01a70612",
   "metadata": {},
   "outputs": [
    {
     "data": {
      "text/plain": [
       "5"
      ]
     },
     "execution_count": 26,
     "metadata": {},
     "output_type": "execute_result"
    }
   ],
   "source": [
    "missing_num([1, 2, 3, 4, 6, 7, 8, 9, 10])"
   ]
  },
  {
   "cell_type": "code",
   "execution_count": 23,
   "id": "0d235938",
   "metadata": {},
   "outputs": [
    {
     "data": {
      "text/plain": [
       "10"
      ]
     },
     "execution_count": 23,
     "metadata": {},
     "output_type": "execute_result"
    }
   ],
   "source": [
    "missing_num([7, 2, 3, 6, 5, 9, 1, 4, 8])"
   ]
  },
  {
   "cell_type": "code",
   "execution_count": 24,
   "id": "3c7572a0",
   "metadata": {},
   "outputs": [
    {
     "data": {
      "text/plain": [
       "7"
      ]
     },
     "execution_count": 24,
     "metadata": {},
     "output_type": "execute_result"
    }
   ],
   "source": [
    "missing_num([10, 5, 1, 2, 4, 6, 8, 3, 9])"
   ]
  }
 ],
 "metadata": {
  "kernelspec": {
   "display_name": "Python 3 (ipykernel)",
   "language": "python",
   "name": "python3"
  },
  "language_info": {
   "codemirror_mode": {
    "name": "ipython",
    "version": 3
   },
   "file_extension": ".py",
   "mimetype": "text/x-python",
   "name": "python",
   "nbconvert_exporter": "python",
   "pygments_lexer": "ipython3",
   "version": "3.9.7"
  }
 },
 "nbformat": 4,
 "nbformat_minor": 5
}
