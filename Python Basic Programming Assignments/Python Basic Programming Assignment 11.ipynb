{
 "cells": [
  {
   "cell_type": "markdown",
   "id": "25486693",
   "metadata": {},
   "source": [
    "# Basic Programming Assignment 11"
   ]
  },
  {
   "cell_type": "markdown",
   "id": "17e8818b",
   "metadata": {},
   "source": [
    "1.\tWrite a Python program to find words which are greater than given length k?\n",
    "2.\tWrite a Python program for removing i-th character from a string?\n",
    "3.\tWrite a Python program to split and join a string?\n",
    "4.\tWrite a Python to check if a given string is binary string or not?\n",
    "5.\tWrite a Python program to find uncommon words from two Strings?\n",
    "6.\tWrite a Python to find all duplicate characters in string?\n",
    "7.\tWrite a Python Program to check if a string contains any special character?"
   ]
  },
  {
   "cell_type": "code",
   "execution_count": null,
   "id": "72681e71",
   "metadata": {},
   "outputs": [],
   "source": []
  },
  {
   "cell_type": "markdown",
   "id": "152e0ca2",
   "metadata": {},
   "source": [
    "1.\tWrite a Python program to find words which are greater than given length k?"
   ]
  },
  {
   "cell_type": "code",
   "execution_count": 2,
   "id": "649ab942",
   "metadata": {},
   "outputs": [],
   "source": [
    "def string_filter(strng,k):\n",
    "    x = strng.split(\" \")\n",
    "    t = list(filter(lambda a: len(a)>k, x))\n",
    "    return t"
   ]
  },
  {
   "cell_type": "code",
   "execution_count": 4,
   "id": "4668b655",
   "metadata": {},
   "outputs": [
    {
     "name": "stdout",
     "output_type": "stream",
     "text": [
      "Enter the length to filter words: 4\n",
      "Words greater than length 4:  ['string', 'filter', 'function']\n"
     ]
    }
   ],
   "source": [
    "s= \"This is string filter function\"\n",
    "n = int(input(\"Enter the length to filter words: \"))\n",
    "fil = string_filter(s,n)\n",
    "print(f\"Words greater than length {n}: \",fil)"
   ]
  },
  {
   "cell_type": "code",
   "execution_count": null,
   "id": "6f25a6de",
   "metadata": {},
   "outputs": [],
   "source": []
  },
  {
   "cell_type": "markdown",
   "id": "65ac72cf",
   "metadata": {},
   "source": [
    "2.\tWrite a Python program for removing i-th character from a string?"
   ]
  },
  {
   "cell_type": "code",
   "execution_count": 11,
   "id": "847a47d2",
   "metadata": {},
   "outputs": [],
   "source": [
    "def remover(strng, index):\n",
    "    s=\"\"\n",
    "    if index < len(strng):\n",
    "        for i in range(0, len(strng)):\n",
    "            if i == index-1:\n",
    "                continue\n",
    "            else:\n",
    "                s=s+strng[i]\n",
    "        return s\n",
    "    else:\n",
    "        print(\"Index not present\")"
   ]
  },
  {
   "cell_type": "code",
   "execution_count": 13,
   "id": "767f80ee",
   "metadata": {},
   "outputs": [
    {
     "name": "stdout",
     "output_type": "stream",
     "text": [
      "Enter the place of character to remove: 6\n",
      "This s string filter function\n"
     ]
    }
   ],
   "source": [
    "s= \"This is string filter function\"\n",
    "index = int(input(\"Enter the place of character to remove: \"))\n",
    "s1 = remover(s,index)\n",
    "print(s1)"
   ]
  },
  {
   "cell_type": "code",
   "execution_count": null,
   "id": "3b0f6a1f",
   "metadata": {},
   "outputs": [],
   "source": [
    "s."
   ]
  },
  {
   "cell_type": "markdown",
   "id": "7566cf16",
   "metadata": {},
   "source": [
    "3.\tWrite a Python program to split and join a string?"
   ]
  },
  {
   "cell_type": "code",
   "execution_count": 15,
   "id": "cbebd5e4",
   "metadata": {},
   "outputs": [],
   "source": [
    "from functools import reduce\n",
    "def split_n_join(strng):\n",
    "    split=strng.split(\" \")\n",
    "    join = reduce(lambda a, b:a+\"-\"+b,split)\n",
    "    return split,join"
   ]
  },
  {
   "cell_type": "code",
   "execution_count": 16,
   "id": "e39948e7",
   "metadata": {},
   "outputs": [
    {
     "name": "stdout",
     "output_type": "stream",
     "text": [
      "Split string is:  ['This', 'is', 'string', 'filter', 'function']\n",
      "Joint string is:  This-is-string-filter-function\n"
     ]
    }
   ],
   "source": [
    "s= \"This is string filter function\"\n",
    "s1,s2 = split_n_join(s)\n",
    "print(\"Split string is: \",s1)\n",
    "print(\"Joint string is: \",s2)"
   ]
  },
  {
   "cell_type": "code",
   "execution_count": null,
   "id": "0d7d1b5a",
   "metadata": {},
   "outputs": [],
   "source": []
  },
  {
   "cell_type": "markdown",
   "id": "53f16237",
   "metadata": {},
   "source": [
    "4.\tWrite a Python to check if a given string is binary string or not?"
   ]
  },
  {
   "cell_type": "code",
   "execution_count": 30,
   "id": "af7fb2f6",
   "metadata": {},
   "outputs": [],
   "source": [
    "def binary_string_check(strng):\n",
    "    for i in strng:\n",
    "        if i not in [\"0\",\"1\"]:\n",
    "            return False\n",
    "    else:\n",
    "        return True\n",
    "            "
   ]
  },
  {
   "cell_type": "code",
   "execution_count": 32,
   "id": "4d4402e9",
   "metadata": {},
   "outputs": [
    {
     "name": "stdout",
     "output_type": "stream",
     "text": [
      "Enter string to check for binary string10101111\n",
      "Given string:  10101111\n",
      "Its a BINARY STRING\n"
     ]
    }
   ],
   "source": [
    "s=input(\"Enter string to check for binary string\")\n",
    "rslt = binary_string_check(s)\n",
    "print(\"Given string: \",s)\n",
    "if rslt == True:\n",
    "    print(\"Its a BINARY STRING!!!\")\n",
    "else:\n",
    "    print(\"Not a BINARY String\")"
   ]
  },
  {
   "cell_type": "code",
   "execution_count": null,
   "id": "8b9af5ff",
   "metadata": {},
   "outputs": [],
   "source": []
  },
  {
   "cell_type": "markdown",
   "id": "6dd95fa2",
   "metadata": {},
   "source": [
    "5.\tWrite a Python program to find uncommon words from two Strings?"
   ]
  },
  {
   "cell_type": "code",
   "execution_count": 75,
   "id": "2396e9b0",
   "metadata": {},
   "outputs": [],
   "source": [
    "import copy\n",
    "def uncommon(str1 ,str2):\n",
    "    l1 = str1.lower().split(\" \") + str2.lower().split(\" \")\n",
    "    temp = copy.deepcopy(l1)\n",
    "    for i in temp:\n",
    "        if temp.count(i)>1:\n",
    "            l1.remove(i)\n",
    "    print(\"First string: \", str1)\n",
    "    print(\"Second string: \",str2)\n",
    "    print(\"Uncommon words: \",l1)\n",
    "    return l1"
   ]
  },
  {
   "cell_type": "code",
   "execution_count": 77,
   "id": "8bd8d213",
   "metadata": {},
   "outputs": [
    {
     "name": "stdout",
     "output_type": "stream",
     "text": [
      "Enter first string: Hello this is Shivansh Kaushal\n",
      "Enter second string: hi THis is heppy\n",
      "First string:  Hello this is Shivansh Kaushal\n",
      "Second string:  hi THis is heppy\n",
      "Uncommon words:  ['hello', 'shivansh', 'kaushal', 'hi', 'heppy']\n"
     ]
    },
    {
     "data": {
      "text/plain": [
       "['hello', 'shivansh', 'kaushal', 'hi', 'heppy']"
      ]
     },
     "execution_count": 77,
     "metadata": {},
     "output_type": "execute_result"
    }
   ],
   "source": [
    "str1 = input(\"Enter first string: \")\n",
    "str2 = input(\"Enter second string: \")\n",
    "uncommon(str1,str2)"
   ]
  },
  {
   "cell_type": "code",
   "execution_count": null,
   "id": "6100c864",
   "metadata": {},
   "outputs": [],
   "source": []
  },
  {
   "cell_type": "markdown",
   "id": "da2e3526",
   "metadata": {},
   "source": [
    "6.\tWrite a Python to find all duplicate characters in string?"
   ]
  },
  {
   "cell_type": "code",
   "execution_count": 87,
   "id": "da193d6e",
   "metadata": {},
   "outputs": [],
   "source": [
    "def duplicate_char(strng):\n",
    "    s = {i for i in strng if strng.count(i)>1 and i !=' '}\n",
    "    print(\"Duplicate characters in given string: \",list(s))\n",
    "    return list(s)"
   ]
  },
  {
   "cell_type": "code",
   "execution_count": 88,
   "id": "98cbadf3",
   "metadata": {},
   "outputs": [
    {
     "name": "stdout",
     "output_type": "stream",
     "text": [
      "Enter the string: This is a python code to find duplicate characters\n",
      "Duplicate characters in given string:  ['s', 'd', 'i', 'n', 'h', 'a', 't', 'c', 'e', 'o', 'p', 'r']\n"
     ]
    },
    {
     "data": {
      "text/plain": [
       "['s', 'd', 'i', 'n', 'h', 'a', 't', 'c', 'e', 'o', 'p', 'r']"
      ]
     },
     "execution_count": 88,
     "metadata": {},
     "output_type": "execute_result"
    }
   ],
   "source": [
    "s=input(\"Enter the string: \")\n",
    "duplicate_char(s)"
   ]
  },
  {
   "cell_type": "code",
   "execution_count": null,
   "id": "bd08fc04",
   "metadata": {},
   "outputs": [],
   "source": []
  },
  {
   "cell_type": "markdown",
   "id": "63c94130",
   "metadata": {},
   "source": [
    "7.\tWrite a Python Program to check if a string contains any special character?"
   ]
  },
  {
   "cell_type": "code",
   "execution_count": 102,
   "id": "f8252b7f",
   "metadata": {},
   "outputs": [],
   "source": [
    "import string\n",
    "def spl_chr_check(strng):\n",
    "    str_set = set(strng)\n",
    "    spl_set = set(string.punctuation)\n",
    "    if str_set.intersection(spl_set):\n",
    "        print(\"Special Characters are: \",str_set.intersection(spl_set))\n",
    "        print(\"String has special characters\")\n",
    "        return True\n",
    "    else:\n",
    "        print(\"No special characters\")\n",
    "        return False"
   ]
  },
  {
   "cell_type": "code",
   "execution_count": 104,
   "id": "1c82f5e1",
   "metadata": {},
   "outputs": [
    {
     "name": "stdout",
     "output_type": "stream",
     "text": [
      "Enter stringkaushal-heloo@gmail.com\n",
      "Special Characters are:  {'@', '.', '-'}\n",
      "String has special characters\n"
     ]
    },
    {
     "data": {
      "text/plain": [
       "True"
      ]
     },
     "execution_count": 104,
     "metadata": {},
     "output_type": "execute_result"
    }
   ],
   "source": [
    "s = input(\"Enter string\")\n",
    "spl_chr_check(s)"
   ]
  },
  {
   "cell_type": "code",
   "execution_count": 14,
   "id": "015b1038",
   "metadata": {},
   "outputs": [],
   "source": []
  },
  {
   "cell_type": "code",
   "execution_count": null,
   "id": "33ca980f",
   "metadata": {},
   "outputs": [],
   "source": []
  }
 ],
 "metadata": {
  "kernelspec": {
   "display_name": "Python 3 (ipykernel)",
   "language": "python",
   "name": "python3"
  },
  "language_info": {
   "codemirror_mode": {
    "name": "ipython",
    "version": 3
   },
   "file_extension": ".py",
   "mimetype": "text/x-python",
   "name": "python",
   "nbconvert_exporter": "python",
   "pygments_lexer": "ipython3",
   "version": "3.9.7"
  }
 },
 "nbformat": 4,
 "nbformat_minor": 5
}
