{
 "cells": [
  {
   "cell_type": "markdown",
   "id": "b57476ca",
   "metadata": {},
   "source": [
    "# Basic Programming Assignment 19"
   ]
  },
  {
   "cell_type": "markdown",
   "id": "99354941",
   "metadata": {},
   "source": [
    "**Question 1.**  \n",
    "Create a function that takes a string and returns a string in which each character is repeated once.  \n",
    ">**Examples**  \n",
    "double_char(\"String\") ➞ \"SSttrriinngg\"  \n",
    "double_char(\"Hello World!\") ➞ \"HHeelllloo  WWoorrlldd!!\"  \n",
    "double_char(\"1234!_ \") ➞ \"11223344!!__  \"  "
   ]
  },
  {
   "cell_type": "code",
   "execution_count": 1,
   "id": "83a7a2ae",
   "metadata": {},
   "outputs": [],
   "source": [
    "def double_char(strr):\n",
    "    s=\"\"\n",
    "    for i in strr:\n",
    "        s = s+i*2\n",
    "    return s"
   ]
  },
  {
   "cell_type": "code",
   "execution_count": 10,
   "id": "ac92e43c",
   "metadata": {},
   "outputs": [
    {
     "data": {
      "text/plain": [
       "'SSttrriinngg'"
      ]
     },
     "execution_count": 10,
     "metadata": {},
     "output_type": "execute_result"
    }
   ],
   "source": [
    "double_char(\"String\")"
   ]
  },
  {
   "cell_type": "code",
   "execution_count": 11,
   "id": "0e1b9e93",
   "metadata": {},
   "outputs": [
    {
     "data": {
      "text/plain": [
       "'HHeelllloo  WWoorrlldd!!'"
      ]
     },
     "execution_count": 11,
     "metadata": {},
     "output_type": "execute_result"
    }
   ],
   "source": [
    "double_char(\"Hello World!\")"
   ]
  },
  {
   "cell_type": "code",
   "execution_count": 4,
   "id": "3cde1b54",
   "metadata": {},
   "outputs": [
    {
     "data": {
      "text/plain": [
       "'11223344!!__  '"
      ]
     },
     "execution_count": 4,
     "metadata": {},
     "output_type": "execute_result"
    }
   ],
   "source": [
    "double_char(\"1234!_ \")"
   ]
  },
  {
   "cell_type": "code",
   "execution_count": null,
   "id": "ace980b8",
   "metadata": {},
   "outputs": [],
   "source": []
  },
  {
   "cell_type": "markdown",
   "id": "6edc51de",
   "metadata": {},
   "source": [
    "**Question 2.**  \n",
    "Create a function that reverses a boolean value and returns the string \"boolean expected\" if another variable type is given.  \n",
    ">**Examples**  \n",
    "reverse(True) ➞ False  \n",
    "reverse(False) ➞ True  \n",
    "reverse(0) ➞ \"boolean expected\"  \n",
    "reverse(None) ➞ \"boolean expected\"  "
   ]
  },
  {
   "cell_type": "code",
   "execution_count": 5,
   "id": "113ad4f6",
   "metadata": {},
   "outputs": [],
   "source": [
    "def reverse(boolean):\n",
    "    if type(boolean) == bool:\n",
    "        if boolean == True:\n",
    "            return False\n",
    "        else:\n",
    "            return True\n",
    "    else:\n",
    "        return \"Boolean Expected\""
   ]
  },
  {
   "cell_type": "code",
   "execution_count": 12,
   "id": "26a8ff48",
   "metadata": {},
   "outputs": [
    {
     "data": {
      "text/plain": [
       "False"
      ]
     },
     "execution_count": 12,
     "metadata": {},
     "output_type": "execute_result"
    }
   ],
   "source": [
    "reverse(True)"
   ]
  },
  {
   "cell_type": "code",
   "execution_count": 13,
   "id": "4d6972ab",
   "metadata": {},
   "outputs": [
    {
     "data": {
      "text/plain": [
       "True"
      ]
     },
     "execution_count": 13,
     "metadata": {},
     "output_type": "execute_result"
    }
   ],
   "source": [
    "reverse(False)"
   ]
  },
  {
   "cell_type": "code",
   "execution_count": 14,
   "id": "c17fd329",
   "metadata": {},
   "outputs": [
    {
     "data": {
      "text/plain": [
       "'Boolean Expected'"
      ]
     },
     "execution_count": 14,
     "metadata": {},
     "output_type": "execute_result"
    }
   ],
   "source": [
    "reverse(0)"
   ]
  },
  {
   "cell_type": "code",
   "execution_count": 15,
   "id": "52f5083d",
   "metadata": {},
   "outputs": [
    {
     "data": {
      "text/plain": [
       "'Boolean Expected'"
      ]
     },
     "execution_count": 15,
     "metadata": {},
     "output_type": "execute_result"
    }
   ],
   "source": [
    "reverse(None)"
   ]
  },
  {
   "cell_type": "code",
   "execution_count": null,
   "id": "93452cdf",
   "metadata": {},
   "outputs": [],
   "source": []
  },
  {
   "cell_type": "markdown",
   "id": "721a07d5",
   "metadata": {},
   "source": [
    "**Question 3.**  \n",
    "Create a function that returns the thickness (in meters) of a piece of paper after folding it n number of times. The paper starts off with a thickness of 0.5mm.  \n",
    ">**Examples**  \n",
    "num_layers(1) ➞ \"0.001m\"  \n",
    "#Paper folded once is 1mm (equal to 0.001m)  \n",
    "\n",
    ">num_layers(4) ➞ \"0.008m\"  \n",
    ">#Paper folded 4 times is 8mm (equal to 0.008m)  \n",
    "\n",
    ">num_layers(21) ➞ \"1048.576m\"  \n",
    ">#Paper folded 21 times is 1048576mm (equal to 1048.576m)  "
   ]
  },
  {
   "cell_type": "code",
   "execution_count": 35,
   "id": "96aec5fb",
   "metadata": {},
   "outputs": [],
   "source": [
    "def num_layers(n):\n",
    "    initial_thick = 0.0005\n",
    "    folded_thickness = initial_thick * (2**n)\n",
    "    return folded_thickness"
   ]
  },
  {
   "cell_type": "code",
   "execution_count": 37,
   "id": "099831af",
   "metadata": {},
   "outputs": [
    {
     "name": "stdout",
     "output_type": "stream",
     "text": [
      "Enter number of times paper folded: 21\n",
      "\n",
      "Thickness of paper after folding paper 21 times = 1048.576m\n"
     ]
    }
   ],
   "source": [
    "n = int(input(\"Enter number of times paper folded: \"))\n",
    "final_thick= num_layers(n)\n",
    "print(f\"\\nThickness of paper after folding paper {n} times = {final_thick}m\")"
   ]
  },
  {
   "cell_type": "code",
   "execution_count": null,
   "id": "32df5dbf",
   "metadata": {},
   "outputs": [],
   "source": []
  },
  {
   "cell_type": "markdown",
   "id": "1db59b15",
   "metadata": {},
   "source": [
    "**Question 4.**  \n",
    "Create a function that takes a single string as argument and returns an ordered list containing the indices of all capital letters in the string.  \n",
    ">**Examples**  \n",
    "index_of_caps(\"eDaBiT\") ➞ [1, 3, 5]  \n",
    "index_of_caps(\"eQuINoX\") ➞ [1, 3, 4, 6]  \n",
    "index_of_caps(\"determine\") ➞ []  \n",
    "index_of_caps(\"STRIKE\") ➞ [0, 1, 2, 3, 4, 5]  \n",
    "index_of_caps(\"sUn\") ➞ [1]  "
   ]
  },
  {
   "cell_type": "code",
   "execution_count": 40,
   "id": "01882e8e",
   "metadata": {},
   "outputs": [],
   "source": [
    "def index_of_caps(strr):\n",
    "    caps = [strr.index(i) for i in strr if i.isupper()]\n",
    "    return caps"
   ]
  },
  {
   "cell_type": "code",
   "execution_count": 42,
   "id": "437b09c6",
   "metadata": {},
   "outputs": [
    {
     "data": {
      "text/plain": [
       "[0, 1, 2, 3, 4, 5]"
      ]
     },
     "execution_count": 42,
     "metadata": {},
     "output_type": "execute_result"
    }
   ],
   "source": [
    "index_of_caps(\"STRIKE\")"
   ]
  },
  {
   "cell_type": "code",
   "execution_count": 43,
   "id": "cdcca0f3",
   "metadata": {},
   "outputs": [
    {
     "data": {
      "text/plain": [
       "[1, 3, 4, 6]"
      ]
     },
     "execution_count": 43,
     "metadata": {},
     "output_type": "execute_result"
    }
   ],
   "source": [
    "index_of_caps(\"eQuINoX\")"
   ]
  },
  {
   "cell_type": "code",
   "execution_count": 44,
   "id": "3d45a066",
   "metadata": {},
   "outputs": [
    {
     "data": {
      "text/plain": [
       "[]"
      ]
     },
     "execution_count": 44,
     "metadata": {},
     "output_type": "execute_result"
    }
   ],
   "source": [
    "index_of_caps(\"determine\")"
   ]
  },
  {
   "cell_type": "code",
   "execution_count": 45,
   "id": "790996c5",
   "metadata": {},
   "outputs": [
    {
     "data": {
      "text/plain": [
       "[0, 1, 2, 3, 4, 5]"
      ]
     },
     "execution_count": 45,
     "metadata": {},
     "output_type": "execute_result"
    }
   ],
   "source": [
    "index_of_caps(\"STRIKE\")"
   ]
  },
  {
   "cell_type": "code",
   "execution_count": 46,
   "id": "5fca7925",
   "metadata": {},
   "outputs": [
    {
     "data": {
      "text/plain": [
       "[1]"
      ]
     },
     "execution_count": 46,
     "metadata": {},
     "output_type": "execute_result"
    }
   ],
   "source": [
    "index_of_caps(\"sUn\")"
   ]
  },
  {
   "cell_type": "code",
   "execution_count": null,
   "id": "938ad49e",
   "metadata": {},
   "outputs": [],
   "source": []
  },
  {
   "cell_type": "markdown",
   "id": "5a946105",
   "metadata": {},
   "source": [
    "**Question 5.**  \n",
    "Using list comprehensions, create a function that finds all even numbers from 1 to the given number.  \n",
    ">**Examples**  \n",
    "find_even_nums(8) ➞ [2, 4, 6, 8]  \n",
    "find_even_nums(4) ➞ [2, 4]  \n",
    "find_even_nums(2) ➞ [2]  "
   ]
  },
  {
   "cell_type": "code",
   "execution_count": 16,
   "id": "34106783",
   "metadata": {},
   "outputs": [],
   "source": [
    "def find_even_nums(num):\n",
    "    even_list = [i for i in range(1,num+1) if i % 2 ==0]\n",
    "    return even_list"
   ]
  },
  {
   "cell_type": "code",
   "execution_count": 22,
   "id": "25c54f65",
   "metadata": {},
   "outputs": [
    {
     "data": {
      "text/plain": [
       "[2, 4, 6, 8]"
      ]
     },
     "execution_count": 22,
     "metadata": {},
     "output_type": "execute_result"
    }
   ],
   "source": [
    "find_even_nums(8)"
   ]
  },
  {
   "cell_type": "code",
   "execution_count": 18,
   "id": "6a53d93f",
   "metadata": {},
   "outputs": [
    {
     "data": {
      "text/plain": [
       "[2, 4]"
      ]
     },
     "execution_count": 18,
     "metadata": {},
     "output_type": "execute_result"
    }
   ],
   "source": [
    "find_even_nums(4)"
   ]
  },
  {
   "cell_type": "code",
   "execution_count": 19,
   "id": "535fa8ed",
   "metadata": {},
   "outputs": [
    {
     "data": {
      "text/plain": [
       "[2]"
      ]
     },
     "execution_count": 19,
     "metadata": {},
     "output_type": "execute_result"
    }
   ],
   "source": [
    "find_even_nums(2)"
   ]
  },
  {
   "cell_type": "code",
   "execution_count": null,
   "id": "30cf5a66",
   "metadata": {},
   "outputs": [],
   "source": []
  }
 ],
 "metadata": {
  "kernelspec": {
   "display_name": "Python 3 (ipykernel)",
   "language": "python",
   "name": "python3"
  },
  "language_info": {
   "codemirror_mode": {
    "name": "ipython",
    "version": 3
   },
   "file_extension": ".py",
   "mimetype": "text/x-python",
   "name": "python",
   "nbconvert_exporter": "python",
   "pygments_lexer": "ipython3",
   "version": "3.9.7"
  }
 },
 "nbformat": 4,
 "nbformat_minor": 5
}
