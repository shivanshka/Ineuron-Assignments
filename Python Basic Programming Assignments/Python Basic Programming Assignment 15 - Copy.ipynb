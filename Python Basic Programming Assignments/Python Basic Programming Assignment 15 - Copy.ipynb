{
 "cells": [
  {
   "cell_type": "markdown",
   "id": "24060fe6",
   "metadata": {},
   "source": [
    "# Basic Programming Assignment 15"
   ]
  },
  {
   "cell_type": "raw",
   "id": "e3c6273e",
   "metadata": {},
   "source": [
    "Question 1:\n",
    "Please write a program using generator to print the numbers which can be divisible by 5 and 7 between 0 and n in comma separated form while n is input by console.\n",
    "Example:\n",
    "If the following n is given as input to the program:\n",
    "100\n",
    "Then, the output of the program should be:\n",
    "0,35,70"
   ]
  },
  {
   "cell_type": "code",
   "execution_count": 1,
   "id": "0221b15d",
   "metadata": {},
   "outputs": [],
   "source": [
    "def divisible_5_7(n):\n",
    "    for i in range(0,n+1):\n",
    "        if i%5 == 0 and i%7 == 0:\n",
    "            yield i"
   ]
  },
  {
   "cell_type": "code",
   "execution_count": 5,
   "id": "a47d52bd",
   "metadata": {},
   "outputs": [
    {
     "name": "stdout",
     "output_type": "stream",
     "text": [
      "Enter the value of n: 100\n",
      "Output: numbers divisible by 5 and 7:=\n",
      "0,35,70\n"
     ]
    }
   ],
   "source": [
    "n = int(input(\"Enter the value of n: \"))\n",
    "l= []\n",
    "for i in divisible_5_7(n):\n",
    "    l.append(i)\n",
    "print(\"Output: numbers divisible by 5 and 7:=\")\n",
    "print(*l,sep=',')"
   ]
  },
  {
   "cell_type": "raw",
   "id": "c062e944",
   "metadata": {},
   "source": [
    "Question 2:\n",
    "Please write a program using generator to print the even numbers between 0 and n in comma separated form while n is input by console.\n",
    "Example:\n",
    "If the following n is given as input to the program:\n",
    "10\n",
    "Then, the output of the program should be:\n",
    "0,2,4,6,8,10"
   ]
  },
  {
   "cell_type": "code",
   "execution_count": 6,
   "id": "8fa6238d",
   "metadata": {},
   "outputs": [],
   "source": [
    "def even_no(n):\n",
    "    for i in range(0,n+1):\n",
    "        if i%2 == 0:\n",
    "            yield i"
   ]
  },
  {
   "cell_type": "code",
   "execution_count": 7,
   "id": "d29ca7f3",
   "metadata": {},
   "outputs": [
    {
     "name": "stdout",
     "output_type": "stream",
     "text": [
      "Enter the value of n: 10\n",
      "Output: Even numbers between 0 to 10:=\n",
      "0,2,4,6,8,10\n"
     ]
    }
   ],
   "source": [
    "n = int(input(\"Enter the value of n: \"))\n",
    "l= []\n",
    "for i in even_no(n):\n",
    "    l.append(i)\n",
    "print(f\"Output: Even numbers between 0 to {n}:=\")\n",
    "print(*l,sep=',')"
   ]
  },
  {
   "cell_type": "raw",
   "id": "dab42c95",
   "metadata": {},
   "source": [
    "Question 3:\n",
    "The Fibonacci Sequence is computed based on the following formula:\n",
    "f(n)=0 if n=0\n",
    "f(n)=1 if n=1\n",
    "f(n)=f(n-1)+f(n-2) if n>1\n",
    "Please write a program using list comprehension to print the Fibonacci Sequence in comma separated form with a given n input by console.\n",
    "Example:\n",
    "If the following n is given as input to the program:\n",
    "7\n",
    "Then, the output of the program should be:\n",
    "0,1,1,2,3,5,8,13"
   ]
  },
  {
   "cell_type": "code",
   "execution_count": 8,
   "id": "d182e66b",
   "metadata": {},
   "outputs": [],
   "source": [
    "def febonacci():\n",
    "    try:\n",
    "        n = int(input(\"Enter the value of n: \"))\n",
    "        febo =[0,1]\n",
    "        [febo.append(febo[-1]+febo[-2]) for i in range(n-1)]\n",
    "        print(\"\\nFebonacci Series:\")\n",
    "        print(*febo, sep=',')\n",
    "    except Exception as e:\n",
    "        print(\"Error: \",e)"
   ]
  },
  {
   "cell_type": "code",
   "execution_count": 9,
   "id": "ce1bffe3",
   "metadata": {},
   "outputs": [
    {
     "name": "stdout",
     "output_type": "stream",
     "text": [
      "Enter the value of n: 7\n",
      "\n",
      "Febonacci Series:\n",
      "0,1,1,2,3,5,8,13\n"
     ]
    }
   ],
   "source": [
    "febonacci()"
   ]
  },
  {
   "cell_type": "raw",
   "id": "a8a37993",
   "metadata": {},
   "source": [
    "Question 4:\n",
    "Assuming that we have some email addresses in the \"username@companyname.com\" format, please write program to print the user name of a given email address. Both user names and company names are composed of letters only.\n",
    "Example:\n",
    "If the following email address is given as input to the program:\n",
    "john@google.com\n",
    "Then, the output of the program should be:\n",
    "john"
   ]
  },
  {
   "cell_type": "code",
   "execution_count": 30,
   "id": "d3984a59",
   "metadata": {},
   "outputs": [],
   "source": [
    "def username(email_id):\n",
    "    try:\n",
    "        index = email_id.index(\"@\")\n",
    "        user = email_id[0:index]\n",
    "        return user\n",
    "    except Exception as e:\n",
    "        print(\"Not a valid email_id\")\n",
    "        print(\"Error: \",e)"
   ]
  },
  {
   "cell_type": "code",
   "execution_count": 32,
   "id": "78c23cd6",
   "metadata": {},
   "outputs": [
    {
     "name": "stdout",
     "output_type": "stream",
     "text": [
      "Enter email_id: john@google.com\n",
      "\n",
      "Email id: john@google.com\n",
      "User name: john\n"
     ]
    }
   ],
   "source": [
    "email_id = input(\"Enter email_id: \")\n",
    "user_name = username(email_id)\n",
    "print(f\"\\nEmail id: {email_id}\")\n",
    "print(f\"User name: {user_name}\")"
   ]
  },
  {
   "cell_type": "raw",
   "id": "1d71fc1e",
   "metadata": {},
   "source": [
    "Question 5:\n",
    "Define a class named Shape and its subclass Square. The Square class has an init function which takes a length as argument. Both classes have a area function which can print the area of the shape where Shape's area is 0 by default."
   ]
  },
  {
   "cell_type": "code",
   "execution_count": 48,
   "id": "a917bcd4",
   "metadata": {},
   "outputs": [],
   "source": [
    "class Shape:\n",
    "    \n",
    "    def area(self):\n",
    "        area = 0\n",
    "        return area\n",
    "    \n",
    "class Square(Shape):\n",
    "    def __init__(self,length):\n",
    "        self.length = length\n",
    "        \n",
    "    def area(self):\n",
    "        area = self.length**2\n",
    "        return area"
   ]
  },
  {
   "cell_type": "code",
   "execution_count": 49,
   "id": "7fc8c76f",
   "metadata": {},
   "outputs": [],
   "source": [
    "obj1 = Square(10)"
   ]
  },
  {
   "cell_type": "code",
   "execution_count": 50,
   "id": "33d6a4e7",
   "metadata": {},
   "outputs": [
    {
     "data": {
      "text/plain": [
       "100"
      ]
     },
     "execution_count": 50,
     "metadata": {},
     "output_type": "execute_result"
    }
   ],
   "source": [
    "obj1.area()"
   ]
  },
  {
   "cell_type": "code",
   "execution_count": null,
   "id": "7a15f3af",
   "metadata": {},
   "outputs": [],
   "source": []
  }
 ],
 "metadata": {
  "kernelspec": {
   "display_name": "Python 3 (ipykernel)",
   "language": "python",
   "name": "python3"
  },
  "language_info": {
   "codemirror_mode": {
    "name": "ipython",
    "version": 3
   },
   "file_extension": ".py",
   "mimetype": "text/x-python",
   "name": "python",
   "nbconvert_exporter": "python",
   "pygments_lexer": "ipython3",
   "version": "3.9.7"
  }
 },
 "nbformat": 4,
 "nbformat_minor": 5
}
