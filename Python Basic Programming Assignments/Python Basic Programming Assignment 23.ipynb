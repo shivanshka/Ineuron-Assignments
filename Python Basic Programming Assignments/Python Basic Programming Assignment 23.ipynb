{
 "cells": [
  {
   "cell_type": "markdown",
   "id": "fedf250e",
   "metadata": {},
   "source": [
    "# Basic Programming Assignment 23"
   ]
  },
  {
   "cell_type": "markdown",
   "id": "735f099d",
   "metadata": {},
   "source": [
    "**Question 1.**  \n",
    "Create a function that takes a number as an argument and returns True or False depending on whether the number is symmetrical or not. A number is symmetrical when it is the same as its reverse.  \n",
    ">**Examples**  \n",
    "is_symmetrical(7227) ➞ True  \n",
    "is_symmetrical(12567) ➞ False  \n",
    "is_symmetrical(44444444) ➞ True  \n",
    "is_symmetrical(9939) ➞ False  \n",
    "is_symmetrical(1112111) ➞ True  "
   ]
  },
  {
   "cell_type": "code",
   "execution_count": 8,
   "id": "876055cd",
   "metadata": {},
   "outputs": [],
   "source": [
    "def is_symmetrical(num):\n",
    "    temp = num\n",
    "    reverse = 0\n",
    "    i = len(str(num))-1\n",
    "    while temp>0:\n",
    "        rem = temp%10\n",
    "        reverse += rem*(10**i)\n",
    "        temp //=10\n",
    "        i-=1    \n",
    "    if reverse == num:\n",
    "        return True\n",
    "    else:\n",
    "        return False"
   ]
  },
  {
   "cell_type": "code",
   "execution_count": 17,
   "id": "c3269c7f",
   "metadata": {},
   "outputs": [
    {
     "name": "stdout",
     "output_type": "stream",
     "text": [
      "Enter no. to check for symmetry: 123454321\n",
      "123454321 is Symmetrical\n"
     ]
    }
   ],
   "source": [
    "num = int(input(\"Enter no. to check for symmetry: \"))\n",
    "result = is_symmetrical(num)\n",
    "if result == True:\n",
    "    print(f\"{num} is Symmetrical\")\n",
    "else:\n",
    "    print(f\"{num} is Asymmetrical\")"
   ]
  },
  {
   "cell_type": "code",
   "execution_count": 13,
   "id": "e5006698",
   "metadata": {},
   "outputs": [
    {
     "data": {
      "text/plain": [
       "True"
      ]
     },
     "execution_count": 13,
     "metadata": {},
     "output_type": "execute_result"
    }
   ],
   "source": [
    "is_symmetrical(7227)"
   ]
  },
  {
   "cell_type": "code",
   "execution_count": 14,
   "id": "4c1f52a3",
   "metadata": {},
   "outputs": [
    {
     "data": {
      "text/plain": [
       "False"
      ]
     },
     "execution_count": 14,
     "metadata": {},
     "output_type": "execute_result"
    }
   ],
   "source": [
    "is_symmetrical(12567)"
   ]
  },
  {
   "cell_type": "code",
   "execution_count": 15,
   "id": "29fd54e0",
   "metadata": {},
   "outputs": [
    {
     "data": {
      "text/plain": [
       "True"
      ]
     },
     "execution_count": 15,
     "metadata": {},
     "output_type": "execute_result"
    }
   ],
   "source": [
    "is_symmetrical(44444444)"
   ]
  },
  {
   "cell_type": "code",
   "execution_count": 16,
   "id": "073be3b3",
   "metadata": {},
   "outputs": [
    {
     "data": {
      "text/plain": [
       "False"
      ]
     },
     "execution_count": 16,
     "metadata": {},
     "output_type": "execute_result"
    }
   ],
   "source": [
    "is_symmetrical(9939)"
   ]
  },
  {
   "cell_type": "code",
   "execution_count": null,
   "id": "9944fa13",
   "metadata": {},
   "outputs": [],
   "source": []
  },
  {
   "cell_type": "markdown",
   "id": "3270a129",
   "metadata": {},
   "source": [
    "**Question 2.**  \n",
    "Given a string of numbers separated by a comma and space, return the product of the numbers.  \n",
    ">**Examples**   \n",
    "multiply_nums(\"2, 3\") ➞ 6  \n",
    "multiply_nums(\"1, 2, 3, 4\") ➞ 24  \n",
    "multiply_nums(\"54, 75, 453, 0\") ➞ 0  \n",
    "multiply_nums(\"10, -2\") ➞ -20  "
   ]
  },
  {
   "cell_type": "code",
   "execution_count": 20,
   "id": "759913c4",
   "metadata": {},
   "outputs": [],
   "source": [
    "from functools import reduce\n",
    "def multiply_nums(strr):\n",
    "    lst= list(map(int,strr.split(\", \")))\n",
    "    multiply = reduce(lambda a,b:a*b, lst)\n",
    "    return multiply"
   ]
  },
  {
   "cell_type": "code",
   "execution_count": 26,
   "id": "b2487914",
   "metadata": {},
   "outputs": [
    {
     "name": "stdout",
     "output_type": "stream",
     "text": [
      "Enter string number: 5, 10, 9, 12, 13, 15\n",
      "Multiplication of 5, 10, 9, 12, 13, 15 = 1053000\n"
     ]
    }
   ],
   "source": [
    "strr = input(\"Enter string number: \")\n",
    "multiply_nu = multiply_nums(strr)\n",
    "print(f\"Multiplication of {strr} = {multiply_nu}\")"
   ]
  },
  {
   "cell_type": "code",
   "execution_count": 21,
   "id": "817b4666",
   "metadata": {},
   "outputs": [
    {
     "data": {
      "text/plain": [
       "6"
      ]
     },
     "execution_count": 21,
     "metadata": {},
     "output_type": "execute_result"
    }
   ],
   "source": [
    "multiply_nums(\"2, 3\")"
   ]
  },
  {
   "cell_type": "code",
   "execution_count": 22,
   "id": "d8054fe0",
   "metadata": {},
   "outputs": [
    {
     "data": {
      "text/plain": [
       "24"
      ]
     },
     "execution_count": 22,
     "metadata": {},
     "output_type": "execute_result"
    }
   ],
   "source": [
    "multiply_nums(\"1, 2, 3, 4\")"
   ]
  },
  {
   "cell_type": "code",
   "execution_count": 23,
   "id": "a10f78f4",
   "metadata": {},
   "outputs": [
    {
     "data": {
      "text/plain": [
       "0"
      ]
     },
     "execution_count": 23,
     "metadata": {},
     "output_type": "execute_result"
    }
   ],
   "source": [
    "multiply_nums(\"54, 75, 453, 0\")"
   ]
  },
  {
   "cell_type": "code",
   "execution_count": 24,
   "id": "4a39932d",
   "metadata": {},
   "outputs": [
    {
     "data": {
      "text/plain": [
       "-20"
      ]
     },
     "execution_count": 24,
     "metadata": {},
     "output_type": "execute_result"
    }
   ],
   "source": [
    "multiply_nums(\"10, -2\")"
   ]
  },
  {
   "cell_type": "code",
   "execution_count": null,
   "id": "c7c80b4c",
   "metadata": {},
   "outputs": [],
   "source": []
  },
  {
   "cell_type": "markdown",
   "id": "c99d755c",
   "metadata": {},
   "source": [
    "**Question 3.**  \n",
    "Create a function that squares every digit of a number.  \n",
    ">**Examples**  \n",
    "square_digits(9119) ➞ 811181  \n",
    "square_digits(2483) ➞ 416649  \n",
    "square_digits(3212) ➞ 9414  \n",
    "\n",
    "Notes  \n",
    "The function receives an integer and must return an integer."
   ]
  },
  {
   "cell_type": "code",
   "execution_count": 2,
   "id": "39fbde92",
   "metadata": {},
   "outputs": [],
   "source": [
    "def square_digits(num):\n",
    "    n = list(str(num))\n",
    "    square = list(map(lambda x: str(int(x)**2), n))\n",
    "    squared_num = int(\"\".join(square))\n",
    "    return squared_num"
   ]
  },
  {
   "cell_type": "code",
   "execution_count": 6,
   "id": "bb40d13d",
   "metadata": {},
   "outputs": [
    {
     "name": "stdout",
     "output_type": "stream",
     "text": [
      "Enter your number: 5489\n",
      "Square of digits = 25166481\n"
     ]
    }
   ],
   "source": [
    "num = int(input(\"Enter your number: \"))\n",
    "sq_num = square_digits(num)\n",
    "print(\"Square of digits =\",sq_num)"
   ]
  },
  {
   "cell_type": "code",
   "execution_count": 3,
   "id": "31f509f3",
   "metadata": {},
   "outputs": [
    {
     "data": {
      "text/plain": [
       "9414"
      ]
     },
     "execution_count": 3,
     "metadata": {},
     "output_type": "execute_result"
    }
   ],
   "source": [
    "square_digits(3212) "
   ]
  },
  {
   "cell_type": "code",
   "execution_count": 4,
   "id": "15252384",
   "metadata": {},
   "outputs": [
    {
     "data": {
      "text/plain": [
       "811181"
      ]
     },
     "execution_count": 4,
     "metadata": {},
     "output_type": "execute_result"
    }
   ],
   "source": [
    "square_digits(9119)"
   ]
  },
  {
   "cell_type": "code",
   "execution_count": 5,
   "id": "5536b404",
   "metadata": {},
   "outputs": [
    {
     "data": {
      "text/plain": [
       "416649"
      ]
     },
     "execution_count": 5,
     "metadata": {},
     "output_type": "execute_result"
    }
   ],
   "source": [
    "square_digits(2483)"
   ]
  },
  {
   "cell_type": "code",
   "execution_count": null,
   "id": "e0809292",
   "metadata": {},
   "outputs": [],
   "source": []
  },
  {
   "cell_type": "markdown",
   "id": "08654e3c",
   "metadata": {},
   "source": [
    "**Question 4.**  \n",
    "Create a function that sorts a list and removes all duplicate items from it.  \n",
    ">**Examples**  \n",
    "setify([1, 3, 3, 5, 5]) ➞ [1, 3, 5]  \n",
    "setify([4, 4, 4, 4]) ➞ [4]  \n",
    "setify([5, 7, 8, 9, 10, 15]) ➞ [5, 7, 8, 9, 10, 15]  \n",
    "setify([3, 3, 3, 2, 1]) ➞ [1, 2, 3]  "
   ]
  },
  {
   "cell_type": "code",
   "execution_count": 12,
   "id": "c3cfef36",
   "metadata": {},
   "outputs": [],
   "source": [
    "# Method 1:\n",
    "def setify(lst):\n",
    "    return list(set(lst))\n",
    "\n",
    "# Method 2:\n",
    "from collections import OrderedDict\n",
    "def setify2(lst):\n",
    "    lst = list(OrderedDict.fromkeys(lst))\n",
    "    lst.sort()\n",
    "    return lst\n",
    "\n",
    "# Method 3:\n",
    "def setify3(lst):\n",
    "    new_lis = [i for n ,i in enumerate(lst) if i not in lst[:n]]\n",
    "    new_lis.sort()\n",
    "    return new_lis"
   ]
  },
  {
   "cell_type": "code",
   "execution_count": 13,
   "id": "0f4491dc",
   "metadata": {},
   "outputs": [
    {
     "data": {
      "text/plain": [
       "[1, 3, 5]"
      ]
     },
     "execution_count": 13,
     "metadata": {},
     "output_type": "execute_result"
    }
   ],
   "source": [
    "setify([1, 3, 3, 5, 5])"
   ]
  },
  {
   "cell_type": "code",
   "execution_count": 14,
   "id": "298f1521",
   "metadata": {},
   "outputs": [
    {
     "data": {
      "text/plain": [
       "[4]"
      ]
     },
     "execution_count": 14,
     "metadata": {},
     "output_type": "execute_result"
    }
   ],
   "source": [
    "setify([4, 4, 4, 4])"
   ]
  },
  {
   "cell_type": "code",
   "execution_count": 15,
   "id": "f1b51ad0",
   "metadata": {},
   "outputs": [
    {
     "data": {
      "text/plain": [
       "[5, 7, 8, 9, 10, 15]"
      ]
     },
     "execution_count": 15,
     "metadata": {},
     "output_type": "execute_result"
    }
   ],
   "source": [
    "setify([5, 7, 8, 9, 10, 15])"
   ]
  },
  {
   "cell_type": "code",
   "execution_count": 16,
   "id": "e5b97ede",
   "metadata": {},
   "outputs": [
    {
     "data": {
      "text/plain": [
       "[1, 2, 3]"
      ]
     },
     "execution_count": 16,
     "metadata": {},
     "output_type": "execute_result"
    }
   ],
   "source": [
    "setify2([3, 3, 3, 2, 1])"
   ]
  },
  {
   "cell_type": "code",
   "execution_count": 17,
   "id": "0e120553",
   "metadata": {},
   "outputs": [
    {
     "data": {
      "text/plain": [
       "[4]"
      ]
     },
     "execution_count": 17,
     "metadata": {},
     "output_type": "execute_result"
    }
   ],
   "source": [
    "setify3([4, 4, 4, 4])"
   ]
  },
  {
   "cell_type": "code",
   "execution_count": null,
   "id": "cc1473cd",
   "metadata": {},
   "outputs": [],
   "source": []
  },
  {
   "cell_type": "markdown",
   "id": "1b21b152",
   "metadata": {},
   "source": [
    "**Question 5.**  \n",
    "Create a function that returns the mean of all digits.  \n",
    ">**Examples**  \n",
    "mean(42) ➞ 3  \n",
    "mean(12345) ➞ 3  \n",
    "mean(666) ➞ 6  \n",
    "\n",
    "Notes  \n",
    "•\tThe mean of all digits is the sum of digits / how many digits there are (e.g. mean of digits in 512 is (5+1+2)/3(number of digits) = 8/3=2).  \n",
    "•\tThe mean will always be an integer.  "
   ]
  },
  {
   "cell_type": "code",
   "execution_count": 7,
   "id": "bc930bcd",
   "metadata": {},
   "outputs": [],
   "source": [
    "def mean(num):\n",
    "    i = 0\n",
    "    summ = 0\n",
    "    while num>0:\n",
    "        rem= num%10\n",
    "        summ+=rem\n",
    "        num//=10\n",
    "        i+=1\n",
    "    mean = int(summ/i)\n",
    "    return mean"
   ]
  },
  {
   "cell_type": "code",
   "execution_count": 8,
   "id": "9f29ac61",
   "metadata": {},
   "outputs": [
    {
     "name": "stdout",
     "output_type": "stream",
     "text": [
      "Enter your number: 859\n",
      "Mean of digits = 7\n"
     ]
    }
   ],
   "source": [
    "num = int(input(\"Enter your number: \"))\n",
    "mean = mean(num)\n",
    "print(\"Mean of digits =\",mean)"
   ]
  },
  {
   "cell_type": "code",
   "execution_count": 46,
   "id": "5543bc47",
   "metadata": {},
   "outputs": [
    {
     "data": {
      "text/plain": [
       "3"
      ]
     },
     "execution_count": 46,
     "metadata": {},
     "output_type": "execute_result"
    }
   ],
   "source": [
    "mean(42)"
   ]
  },
  {
   "cell_type": "code",
   "execution_count": 47,
   "id": "60c9c448",
   "metadata": {},
   "outputs": [
    {
     "data": {
      "text/plain": [
       "3"
      ]
     },
     "execution_count": 47,
     "metadata": {},
     "output_type": "execute_result"
    }
   ],
   "source": [
    "mean(12345)"
   ]
  },
  {
   "cell_type": "code",
   "execution_count": 48,
   "id": "9e968c02",
   "metadata": {},
   "outputs": [
    {
     "data": {
      "text/plain": [
       "6"
      ]
     },
     "execution_count": 48,
     "metadata": {},
     "output_type": "execute_result"
    }
   ],
   "source": [
    "mean(666)"
   ]
  },
  {
   "cell_type": "code",
   "execution_count": 49,
   "id": "2e5bdc5e",
   "metadata": {},
   "outputs": [
    {
     "data": {
      "text/plain": [
       "2"
      ]
     },
     "execution_count": 49,
     "metadata": {},
     "output_type": "execute_result"
    }
   ],
   "source": [
    "mean(512)"
   ]
  },
  {
   "cell_type": "code",
   "execution_count": null,
   "id": "7460ec29",
   "metadata": {},
   "outputs": [],
   "source": []
  }
 ],
 "metadata": {
  "kernelspec": {
   "display_name": "Python 3 (ipykernel)",
   "language": "python",
   "name": "python3"
  },
  "language_info": {
   "codemirror_mode": {
    "name": "ipython",
    "version": 3
   },
   "file_extension": ".py",
   "mimetype": "text/x-python",
   "name": "python",
   "nbconvert_exporter": "python",
   "pygments_lexer": "ipython3",
   "version": "3.9.7"
  }
 },
 "nbformat": 4,
 "nbformat_minor": 5
}
