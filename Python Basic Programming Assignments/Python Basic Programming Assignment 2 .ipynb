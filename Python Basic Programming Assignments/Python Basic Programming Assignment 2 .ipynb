{
 "cells": [
  {
   "cell_type": "markdown",
   "id": "e9012568",
   "metadata": {},
   "source": [
    "# Basic Programming Assignment 2"
   ]
  },
  {
   "cell_type": "markdown",
   "id": "edd3a8a9",
   "metadata": {},
   "source": [
    "1.\tWrite a Python program to convert kilometers to miles?\n",
    "2.\tWrite a Python program to convert Celsius to Fahrenheit?\n",
    "3.\tWrite a Python program to display calendar?\n",
    "4.\tWrite a Python program to solve quadratic equation?\n",
    "5.\tWrite a Python program to swap two variables without temp variable?"
   ]
  },
  {
   "cell_type": "markdown",
   "id": "f38f8fb0",
   "metadata": {},
   "source": [
    "1.\tWrite a Python program to convert kilometers to miles?"
   ]
  },
  {
   "cell_type": "code",
   "execution_count": 51,
   "id": "3c7ee045",
   "metadata": {},
   "outputs": [],
   "source": [
    "def km_to_miles():\n",
    "    km = float(input(\"Enter the length in kilometer: \"))\n",
    "    miles = round(km/1.609344 , ndigits = 2)\n",
    "    print(f\"Length in miles is {miles} miles\")\n",
    "    return miles"
   ]
  },
  {
   "cell_type": "code",
   "execution_count": 52,
   "id": "9b3479b4",
   "metadata": {},
   "outputs": [
    {
     "name": "stdout",
     "output_type": "stream",
     "text": [
      "Enter the length in kilometer: 4\n",
      "Length in miles is 2.49 miles\n"
     ]
    },
    {
     "data": {
      "text/plain": [
       "2.49"
      ]
     },
     "execution_count": 52,
     "metadata": {},
     "output_type": "execute_result"
    }
   ],
   "source": [
    "km_to_miles()"
   ]
  },
  {
   "cell_type": "code",
   "execution_count": null,
   "id": "142404b2",
   "metadata": {},
   "outputs": [],
   "source": []
  },
  {
   "cell_type": "markdown",
   "id": "32de8fbc",
   "metadata": {},
   "source": [
    "2.\tWrite a Python program to convert Celsius to Fahrenheit?"
   ]
  },
  {
   "cell_type": "code",
   "execution_count": 43,
   "id": "6638f730",
   "metadata": {},
   "outputs": [],
   "source": [
    "def celsius_to_fahren():\n",
    "    celsius = float(input(\"Enter the temperature in Celsius(℃): \"))\n",
    "    fahren = round((celsius * 9/5) + 32, ndigits = 2)\n",
    "    print(f\"Temperature in Fahrenheit = {fahren} ℉\")\n",
    "    return fahren"
   ]
  },
  {
   "cell_type": "code",
   "execution_count": 44,
   "id": "c401749a",
   "metadata": {},
   "outputs": [
    {
     "name": "stdout",
     "output_type": "stream",
     "text": [
      "Enter the temperature in Celsius(℃): 38\n",
      "Temperature in Fahrenheit = 100.4 ℉\n"
     ]
    },
    {
     "data": {
      "text/plain": [
       "100.4"
      ]
     },
     "execution_count": 44,
     "metadata": {},
     "output_type": "execute_result"
    }
   ],
   "source": [
    "celsius_to_fahren()"
   ]
  },
  {
   "cell_type": "code",
   "execution_count": null,
   "id": "b0d39638",
   "metadata": {},
   "outputs": [],
   "source": []
  },
  {
   "cell_type": "markdown",
   "id": "75c5d111",
   "metadata": {
    "raw_mimetype": "text/markdown"
   },
   "source": [
    "3.\tWrite a Python program to display calendar?"
   ]
  },
  {
   "cell_type": "code",
   "execution_count": 50,
   "id": "56676d3f",
   "metadata": {},
   "outputs": [
    {
     "name": "stdout",
     "output_type": "stream",
     "text": [
      "Enter the year: 1996\n",
      "Enter the month: 12\n",
      "\n",
      "    December 1996\n",
      "Mo Tu We Th Fr Sa Su\n",
      "                   1\n",
      " 2  3  4  5  6  7  8\n",
      " 9 10 11 12 13 14 15\n",
      "16 17 18 19 20 21 22\n",
      "23 24 25 26 27 28 29\n",
      "30 31\n",
      "\n"
     ]
    }
   ],
   "source": [
    "import calendar\n",
    "year = int(input(\"Enter the year: \"))\n",
    "month = int(input(\"Enter the month: \"))\n",
    "cal= calendar.month(year, month)\n",
    "print(\"\\n\",cal)"
   ]
  },
  {
   "cell_type": "code",
   "execution_count": null,
   "id": "4675eef6",
   "metadata": {},
   "outputs": [],
   "source": []
  },
  {
   "cell_type": "markdown",
   "id": "b6948de2",
   "metadata": {},
   "source": [
    "4.\tWrite a Python program to solve quadratic equation?"
   ]
  },
  {
   "cell_type": "code",
   "execution_count": 69,
   "id": "ac32e807",
   "metadata": {},
   "outputs": [],
   "source": [
    "def quadratic_solver():\n",
    "    print(\"Enter the coefficients of quadratic equation in ax² + bx + c = 0\")\n",
    "    a = int(input(\"Enter the coef of x²: \"))\n",
    "    b = int(input(\"Enter the coef of x: \"))\n",
    "    c = int(input(\"Enter the constant,c: \"))\n",
    "    \n",
    "    if a!=0:\n",
    "        dis = (b**2) - (4*a*c)\n",
    "        if dis > 0:\n",
    "            root1 = (-b + (dis)**0.5) / (2*a)\n",
    "            root2 = (-b - (dis)**0.5) / (2*a)\n",
    "            print(\"This equation will have real and distinct roots\")\n",
    "            print(f\"Roots are {root1} and {root2}\")\n",
    "            return root1, root2\n",
    "        \n",
    "        elif dis == 0:\n",
    "            root1 = root2 = -b / (2*a)\n",
    "            print(\"This equation will have real and equal roots\")\n",
    "            print(f\"Roots are {root1} and {root1}\")\n",
    "            return root1, root2\n",
    "            \n",
    "        else:\n",
    "            root1 = (-b + (dis)**0.5) / (2*a)\n",
    "            root2 = (-b - (dis)**0.5) / (2*a)\n",
    "            print(\"This equation will have complex and distinct roots\")\n",
    "            print(f\"Roots are {root1} and {root2}\")\n",
    "            return root1, root2\n",
    "            \n",
    "    else:\n",
    "        print(\"Coefficient 'a' cannot be 0\")"
   ]
  },
  {
   "cell_type": "code",
   "execution_count": 71,
   "id": "e257558a",
   "metadata": {},
   "outputs": [
    {
     "name": "stdout",
     "output_type": "stream",
     "text": [
      "Enter the coefficients of quadratic equation in ax² + bx + c = 0\n",
      "Enter the coef of x²: 1\n",
      "Enter the coef of x: 5\n",
      "Enter the constant,c: -14\n",
      "This equation will have real and distinct roots\n",
      "Roots are 2.0 and -7.0\n"
     ]
    },
    {
     "data": {
      "text/plain": [
       "(2.0, -7.0)"
      ]
     },
     "execution_count": 71,
     "metadata": {},
     "output_type": "execute_result"
    }
   ],
   "source": [
    "quadratic_solver()"
   ]
  },
  {
   "cell_type": "markdown",
   "id": "9fa52a35",
   "metadata": {},
   "source": [
    "5.\tWrite a Python program to swap two variables without temp variable?"
   ]
  },
  {
   "cell_type": "code",
   "execution_count": 76,
   "id": "c2b175f7",
   "metadata": {},
   "outputs": [],
   "source": [
    "def swapper(x, y):\n",
    "    print(\"x = {0} and y = {1}\".format(x,y))\n",
    "    x = x+y\n",
    "    y = x-y\n",
    "    x = x-y\n",
    "    print(\"x = {0} and y = {1}\".format(x,y))\n",
    "    return x, y\n",
    "    "
   ]
  },
  {
   "cell_type": "code",
   "execution_count": 77,
   "id": "9d2255a4",
   "metadata": {},
   "outputs": [
    {
     "name": "stdout",
     "output_type": "stream",
     "text": [
      "x = 5 and y = 10\n",
      "x = 10 and y = 5\n"
     ]
    },
    {
     "data": {
      "text/plain": [
       "(10, 5)"
      ]
     },
     "execution_count": 77,
     "metadata": {},
     "output_type": "execute_result"
    }
   ],
   "source": [
    "swapper(5,10)"
   ]
  },
  {
   "cell_type": "code",
   "execution_count": null,
   "id": "3ed1f52e",
   "metadata": {},
   "outputs": [],
   "source": []
  }
 ],
 "metadata": {
  "celltoolbar": "Raw Cell Format",
  "kernelspec": {
   "display_name": "Python 3 (ipykernel)",
   "language": "python",
   "name": "python3"
  },
  "language_info": {
   "codemirror_mode": {
    "name": "ipython",
    "version": 3
   },
   "file_extension": ".py",
   "mimetype": "text/x-python",
   "name": "python",
   "nbconvert_exporter": "python",
   "pygments_lexer": "ipython3",
   "version": "3.9.7"
  }
 },
 "nbformat": 4,
 "nbformat_minor": 5
}
