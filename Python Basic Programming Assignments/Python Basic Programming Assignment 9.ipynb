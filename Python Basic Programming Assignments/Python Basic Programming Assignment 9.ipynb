{
 "cells": [
  {
   "cell_type": "markdown",
   "id": "0d4b528b",
   "metadata": {},
   "source": [
    "# Basic Programming Assignment 9"
   ]
  },
  {
   "cell_type": "markdown",
   "id": "abfbddf9",
   "metadata": {},
   "source": [
    "1.\tWrite a Python program to check if the given number is a Disarium Number?\n",
    "2.\tWrite a Python program to print all disarium numbers between 1 to 100?\n",
    "3.\tWrite a Python program to check if the given number is Happy Number?\n",
    "4.\tWrite a Python program to print all happy numbers between 1 and 100?\n",
    "5.\tWrite a Python program to determine whether the given number is a Harshad Number?\n",
    "6.\tWrite a Python program to print all pronic numbers between 1 and 100?"
   ]
  },
  {
   "cell_type": "code",
   "execution_count": null,
   "id": "5ef301d2",
   "metadata": {},
   "outputs": [],
   "source": []
  },
  {
   "cell_type": "markdown",
   "id": "96db0270",
   "metadata": {},
   "source": [
    "1.\tWrite a Python program to check if the given number is a Disarium Number?"
   ]
  },
  {
   "cell_type": "code",
   "execution_count": 22,
   "id": "5b296b8a",
   "metadata": {},
   "outputs": [],
   "source": [
    "def disarium(num):\n",
    "    temp = num\n",
    "    summ = 0\n",
    "    order = len(str(num))\n",
    "    while temp >0:\n",
    "        rem = temp%10\n",
    "        summ += rem**order\n",
    "        temp //= 10\n",
    "        order -=1\n",
    "    if summ == num:\n",
    "        print(f\"{num} is a DISARIUM Number!\")\n",
    "    else:\n",
    "        print(f\"{num} is not a DISARIUM Number!\")"
   ]
  },
  {
   "cell_type": "code",
   "execution_count": 23,
   "id": "32d2a95b",
   "metadata": {},
   "outputs": [
    {
     "name": "stdout",
     "output_type": "stream",
     "text": [
      "Enter your number to check whether it is Disarium or not :135\n",
      "135 is a DISARIUM Number!\n"
     ]
    }
   ],
   "source": [
    "num = int(input(\"Enter your number to check whether it is Disarium or not :\"))\n",
    "disarium(num)"
   ]
  },
  {
   "cell_type": "code",
   "execution_count": null,
   "id": "0a2161af",
   "metadata": {},
   "outputs": [],
   "source": []
  },
  {
   "cell_type": "markdown",
   "id": "3e1933e3",
   "metadata": {},
   "source": [
    "2.\tWrite a Python program to print all disarium numbers between 1 to 100?"
   ]
  },
  {
   "cell_type": "code",
   "execution_count": 20,
   "id": "0946b416",
   "metadata": {},
   "outputs": [],
   "source": [
    "def disarium_gen(num):\n",
    "    temp = num\n",
    "    summ = 0\n",
    "    order = len(str(num))\n",
    "    while temp >0:\n",
    "        rem = temp%10\n",
    "        summ += rem**order\n",
    "        temp //= 10\n",
    "        order -=1\n",
    "    \n",
    "    if summ == num:\n",
    "        return True\n",
    "    \n",
    "def dis():\n",
    "    inter = int(input(\"Enter the interval, from 1 to :\"))\n",
    "    print(f\"All the Disarium numbers between 1 to {inter}\")\n",
    "    for i in range(1,inter+1):\n",
    "        n = disarium_gen(i)\n",
    "        if n == True:\n",
    "            print(i)"
   ]
  },
  {
   "cell_type": "code",
   "execution_count": 21,
   "id": "514034ee",
   "metadata": {},
   "outputs": [
    {
     "name": "stdout",
     "output_type": "stream",
     "text": [
      "Enter the interval, from 1 to :100\n",
      "All the Disarium numbers between 1 to 100\n",
      "1\n",
      "2\n",
      "3\n",
      "4\n",
      "5\n",
      "6\n",
      "7\n",
      "8\n",
      "9\n",
      "89\n"
     ]
    }
   ],
   "source": [
    "dis()"
   ]
  },
  {
   "cell_type": "code",
   "execution_count": null,
   "id": "a54f9452",
   "metadata": {},
   "outputs": [],
   "source": []
  },
  {
   "cell_type": "markdown",
   "id": "df38a6e3",
   "metadata": {},
   "source": [
    "3.\tWrite a Python program to check if the given number is Happy Number?"
   ]
  },
  {
   "cell_type": "code",
   "execution_count": 7,
   "id": "06529417",
   "metadata": {},
   "outputs": [],
   "source": [
    "def happy_check(num,l=[]):\n",
    "        try:\n",
    "            if num <0:\n",
    "                raise ValueError(\"Negative integer entered\")\n",
    "            summ = 0\n",
    "            while num>0:\n",
    "                rem = num%10\n",
    "                summ += rem**2\n",
    "                num //=10\n",
    "            if summ==1:\n",
    "                l.clear()\n",
    "                print(\"Its a HAPPY NUMBER!\")\n",
    "            else:\n",
    "                if summ not in l:\n",
    "                    l.append(summ)\n",
    "                    happy_check(summ,l)\n",
    "                else:\n",
    "                    l.clear()\n",
    "                    print(\"Not a Happy Number\")\n",
    "        except Exception as e:\n",
    "            print(\"Error Occured: \",e)      "
   ]
  },
  {
   "cell_type": "code",
   "execution_count": 23,
   "id": "afd409bb",
   "metadata": {},
   "outputs": [
    {
     "name": "stdout",
     "output_type": "stream",
     "text": [
      "Enter number to check whether is a Happy number or not: 91\n",
      "Its a HAPPY NUMBER!\n"
     ]
    }
   ],
   "source": [
    "num = int(input(\"Enter number to check whether is a Happy number or not: \"))\n",
    "happy_check(num)"
   ]
  },
  {
   "cell_type": "code",
   "execution_count": null,
   "id": "2deb84a1",
   "metadata": {},
   "outputs": [],
   "source": []
  },
  {
   "cell_type": "markdown",
   "id": "92e5a8e5",
   "metadata": {},
   "source": [
    "4.\tWrite a Python program to print all happy numbers between 1 and 100?"
   ]
  },
  {
   "cell_type": "code",
   "execution_count": 20,
   "id": "9688f917",
   "metadata": {},
   "outputs": [],
   "source": [
    "def happy_gen(num):\n",
    "    temp = num\n",
    "    s=set()\n",
    "    while True:\n",
    "        n = square_sum(temp)\n",
    "        if n==1:\n",
    "            return True\n",
    "        elif n not in s:\n",
    "            temp = n\n",
    "            s.add(n)\n",
    "        else:\n",
    "            return False \n",
    "    \n",
    "def square_sum(value):\n",
    "    summ=0\n",
    "    while value>0:\n",
    "        rem = value%10\n",
    "        summ += rem**2\n",
    "        value //=10\n",
    "    return summ\n",
    "        \n",
    "def happy_num():\n",
    "    inter = int(input(\"Enter the interval, from 1 to: \"))\n",
    "    print(f\"All the Happy Numbers between 1 to {inter}:\")\n",
    "    for i in range(1, inter+1):\n",
    "        no=happy_gen(i)\n",
    "        if no==True:\n",
    "            print(i)\n",
    "    "
   ]
  },
  {
   "cell_type": "code",
   "execution_count": 22,
   "id": "3fe7ce58",
   "metadata": {},
   "outputs": [
    {
     "name": "stdout",
     "output_type": "stream",
     "text": [
      "Enter the interval, from 1 to: 100\n",
      "All the Happy Numbers between 1 to 100:\n",
      "1\n",
      "7\n",
      "10\n",
      "13\n",
      "19\n",
      "23\n",
      "28\n",
      "31\n",
      "32\n",
      "44\n",
      "49\n",
      "68\n",
      "70\n",
      "79\n",
      "82\n",
      "86\n",
      "91\n",
      "94\n",
      "97\n",
      "100\n"
     ]
    }
   ],
   "source": [
    "happy_num()"
   ]
  },
  {
   "cell_type": "code",
   "execution_count": null,
   "id": "6ba4b819",
   "metadata": {},
   "outputs": [],
   "source": []
  },
  {
   "cell_type": "markdown",
   "id": "517069c8",
   "metadata": {},
   "source": [
    "5.\tWrite a Python program to determine whether the given number is a Harshad Number?"
   ]
  },
  {
   "cell_type": "code",
   "execution_count": 24,
   "id": "379a145f",
   "metadata": {},
   "outputs": [],
   "source": [
    "def harshad_number(num):\n",
    "    summ=sum_of_digits(num)\n",
    "    if num % summ ==0:\n",
    "        print(f\"{num} is a Harshad Number!\")\n",
    "        return True\n",
    "    else:\n",
    "        print(f\"{num} is not a Harshad Number!\")\n",
    "        return False\n",
    "        \n",
    "def sum_of_digits(value):\n",
    "    s = 0\n",
    "    while value > 0:\n",
    "        rem = value%10\n",
    "        s+=rem\n",
    "        value//=10\n",
    "    return s\n",
    "\n",
    "def hars():\n",
    "    i = int(input(\"Enter number to check for Harshad Number: \"))\n",
    "    harshad_number(i)\n",
    "        "
   ]
  },
  {
   "cell_type": "code",
   "execution_count": 26,
   "id": "85bb5b87",
   "metadata": {},
   "outputs": [
    {
     "name": "stdout",
     "output_type": "stream",
     "text": [
      "Enter number to check for Harshad Number: 153\n",
      "153 is a Harshad Number!\n"
     ]
    }
   ],
   "source": [
    "hars()"
   ]
  },
  {
   "cell_type": "code",
   "execution_count": null,
   "id": "0477c0cc",
   "metadata": {},
   "outputs": [],
   "source": []
  },
  {
   "cell_type": "markdown",
   "id": "8216f64f",
   "metadata": {},
   "source": [
    "6.\tWrite a Python program to print all pronic numbers between 1 and 100?"
   ]
  },
  {
   "cell_type": "code",
   "execution_count": 35,
   "id": "15f71c27",
   "metadata": {},
   "outputs": [],
   "source": [
    "def pronic_num(num):\n",
    "    for i in range(0,num):\n",
    "        if i*(i+1)==num:\n",
    "            #print(f\"{i} x {i+1} = {num}, Its a PRONIC NUMBER\")\n",
    "            return True\n",
    "    else:\n",
    "        #print(\"Not a Pronic number\")\n",
    "        return False\n",
    "\n",
    "def pronic_gen():\n",
    "    inter = int(input(\"Enter the interval, from 1 to: \"))\n",
    "    print(f\"All the Pronic Numbers between 1 to {inter}:\")\n",
    "    for i in range(1, inter+1):\n",
    "        no=pronic_num(i)\n",
    "        if no==True:\n",
    "            print(i)"
   ]
  },
  {
   "cell_type": "code",
   "execution_count": 36,
   "id": "0424c58f",
   "metadata": {},
   "outputs": [
    {
     "name": "stdout",
     "output_type": "stream",
     "text": [
      "Enter the interval, from 1 to: 100\n",
      "All the Pronic Numbers between 1 to 100:\n",
      "2\n",
      "6\n",
      "12\n",
      "20\n",
      "30\n",
      "42\n",
      "56\n",
      "72\n",
      "90\n"
     ]
    }
   ],
   "source": [
    "pronic_gen()"
   ]
  },
  {
   "cell_type": "code",
   "execution_count": 41,
   "id": "c8e6951c",
   "metadata": {},
   "outputs": [],
   "source": []
  }
 ],
 "metadata": {
  "kernelspec": {
   "display_name": "Python 3 (ipykernel)",
   "language": "python",
   "name": "python3"
  },
  "language_info": {
   "codemirror_mode": {
    "name": "ipython",
    "version": 3
   },
   "file_extension": ".py",
   "mimetype": "text/x-python",
   "name": "python",
   "nbconvert_exporter": "python",
   "pygments_lexer": "ipython3",
   "version": "3.9.7"
  }
 },
 "nbformat": 4,
 "nbformat_minor": 5
}
