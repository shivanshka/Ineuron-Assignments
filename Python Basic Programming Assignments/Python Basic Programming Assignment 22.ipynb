{
 "cells": [
  {
   "cell_type": "markdown",
   "id": "6d639505",
   "metadata": {},
   "source": [
    "# Basic Programming Assignment 22"
   ]
  },
  {
   "cell_type": "code",
   "execution_count": null,
   "id": "1ba383b0",
   "metadata": {},
   "outputs": [],
   "source": []
  },
  {
   "cell_type": "markdown",
   "id": "25b5afc5",
   "metadata": {},
   "source": [
    "**Question 1.**  \n",
    "Create a function that takes three parameters where:  \n",
    "•\tx is the start of the range (inclusive).  \n",
    "•\ty is the end of the range (inclusive).  \n",
    "•\tn is the divisor to be checked against.  \n",
    "Return an ordered list with numbers in the range that are divisible by the third parameter n.      Return an empty list if there are no numbers that are divisible by n.  \n",
    ">**Examples**  \n",
    "list_operation(1, 10, 3) ➞ [3, 6, 9]  \n",
    "list_operation(7, 9, 2) ➞ [8]  \n",
    "list_operation(15, 20, 7) ➞ []  "
   ]
  },
  {
   "cell_type": "code",
   "execution_count": 1,
   "id": "3fe650ca",
   "metadata": {},
   "outputs": [],
   "source": [
    "def list_operation(x,y,n):\n",
    "    lis = [i for i in range(x,y+1) if i%n==0]\n",
    "    return lis"
   ]
  },
  {
   "cell_type": "code",
   "execution_count": 2,
   "id": "72fd8e99",
   "metadata": {},
   "outputs": [
    {
     "data": {
      "text/plain": [
       "[3, 6, 9]"
      ]
     },
     "execution_count": 2,
     "metadata": {},
     "output_type": "execute_result"
    }
   ],
   "source": [
    "list_operation(1, 10, 3)"
   ]
  },
  {
   "cell_type": "code",
   "execution_count": 3,
   "id": "b057b30a",
   "metadata": {},
   "outputs": [
    {
     "data": {
      "text/plain": [
       "[]"
      ]
     },
     "execution_count": 3,
     "metadata": {},
     "output_type": "execute_result"
    }
   ],
   "source": [
    "list_operation(15, 20, 7)"
   ]
  },
  {
   "cell_type": "code",
   "execution_count": 4,
   "id": "16fe1cb5",
   "metadata": {},
   "outputs": [
    {
     "data": {
      "text/plain": [
       "[8]"
      ]
     },
     "execution_count": 4,
     "metadata": {},
     "output_type": "execute_result"
    }
   ],
   "source": [
    "list_operation(7, 9, 2)"
   ]
  },
  {
   "cell_type": "code",
   "execution_count": null,
   "id": "b8d107bf",
   "metadata": {},
   "outputs": [],
   "source": []
  },
  {
   "cell_type": "markdown",
   "id": "4eb47e57",
   "metadata": {},
   "source": [
    "**Question 2.**  \n",
    "Create a function that takes in two lists and returns True if the second list follows the first list by one element, and False otherwise. In other words, determine if the second list is the first list shifted to the right by 1.  \n",
    ">**Examples**  \n",
    "simon_says([1, 2], [5, 1]) ➞ True  \n",
    "simon_says([1, 2], [5, 5]) ➞ False  \n",
    "simon_says([1, 2, 3, 4, 5], [0, 1, 2, 3, 4]) ➞ True  \n",
    "simon_says([1, 2, 3, 4, 5], [5, 5, 1, 2, 3]) ➞ False  \n",
    "\n",
    "Notes  \n",
    "•\tBoth input lists will be of the same length, and will have a minimum length of 2.  \n",
    "•\tThe values of the 0-indexed element in the second list and the n-1th indexed element in the  first list do not matter."
   ]
  },
  {
   "cell_type": "code",
   "execution_count": 69,
   "id": "e37e6df9",
   "metadata": {},
   "outputs": [],
   "source": [
    "def simon_says(l1,l2):\n",
    "    if len(l1)==len(l2):\n",
    "        for i in range(0,len(l1)-1):\n",
    "            if l1[i] != l2[i+1]:\n",
    "                return False\n",
    "        return True\n",
    "    else:\n",
    "        print(\"Unequal List Length\")"
   ]
  },
  {
   "cell_type": "code",
   "execution_count": 70,
   "id": "74203a72",
   "metadata": {},
   "outputs": [
    {
     "data": {
      "text/plain": [
       "True"
      ]
     },
     "execution_count": 70,
     "metadata": {},
     "output_type": "execute_result"
    }
   ],
   "source": [
    "simon_says([1, 2], [5, 1])"
   ]
  },
  {
   "cell_type": "code",
   "execution_count": 71,
   "id": "b17f805d",
   "metadata": {},
   "outputs": [
    {
     "data": {
      "text/plain": [
       "False"
      ]
     },
     "execution_count": 71,
     "metadata": {},
     "output_type": "execute_result"
    }
   ],
   "source": [
    "simon_says([1, 2], [5, 5])"
   ]
  },
  {
   "cell_type": "code",
   "execution_count": 72,
   "id": "6ea553a5",
   "metadata": {},
   "outputs": [
    {
     "data": {
      "text/plain": [
       "True"
      ]
     },
     "execution_count": 72,
     "metadata": {},
     "output_type": "execute_result"
    }
   ],
   "source": [
    "simon_says([1, 2, 3, 4, 5], [0, 1, 2, 3, 4])"
   ]
  },
  {
   "cell_type": "code",
   "execution_count": 73,
   "id": "2c6a3f46",
   "metadata": {},
   "outputs": [
    {
     "data": {
      "text/plain": [
       "False"
      ]
     },
     "execution_count": 73,
     "metadata": {},
     "output_type": "execute_result"
    }
   ],
   "source": [
    "simon_says([1, 2, 3, 4, 5], [5, 5, 1, 2, 3])"
   ]
  },
  {
   "cell_type": "code",
   "execution_count": null,
   "id": "72b46194",
   "metadata": {},
   "outputs": [],
   "source": []
  },
  {
   "cell_type": "markdown",
   "id": "aa4beab2",
   "metadata": {},
   "source": [
    "**Question 3.**  \n",
    "A group of friends have decided to start a secret society. The name will be the first letter of each of their names, sorted in alphabetical order.  \n",
    "Create a function that takes in a list of names and returns the name of the secret society.  \n",
    ">**Examples**  \n",
    "society_name([\"Adam\", \"Sarah\", \"Malcolm\"]) ➞ \"AMS\"  \n",
    "society_name([\"Harry\", \"Newt\", \"Luna\", \"Cho\"]) ➞ \"CHLN\"  \n",
    "society_name([\"Phoebe\", \"Chandler\", \"Rachel\", \"Ross\", \"Monica\", \"Joey\"])  "
   ]
  },
  {
   "cell_type": "code",
   "execution_count": 7,
   "id": "9b57f1f3",
   "metadata": {},
   "outputs": [],
   "source": [
    "def society_name(name_list):\n",
    "    secret_name=[i[0] for i in name_list]\n",
    "    secret_name.sort()\n",
    "    society = \"\".join(secret_name)\n",
    "    return society"
   ]
  },
  {
   "cell_type": "code",
   "execution_count": 8,
   "id": "2e302f64",
   "metadata": {},
   "outputs": [
    {
     "data": {
      "text/plain": [
       "'AMS'"
      ]
     },
     "execution_count": 8,
     "metadata": {},
     "output_type": "execute_result"
    }
   ],
   "source": [
    "society_name([\"Adam\", \"Sarah\", \"Malcolm\"])"
   ]
  },
  {
   "cell_type": "code",
   "execution_count": 9,
   "id": "e8e4dd13",
   "metadata": {},
   "outputs": [
    {
     "data": {
      "text/plain": [
       "'CHLN'"
      ]
     },
     "execution_count": 9,
     "metadata": {},
     "output_type": "execute_result"
    }
   ],
   "source": [
    "society_name([\"Harry\", \"Newt\", \"Luna\", \"Cho\"])"
   ]
  },
  {
   "cell_type": "code",
   "execution_count": 10,
   "id": "069c5bf7",
   "metadata": {},
   "outputs": [
    {
     "data": {
      "text/plain": [
       "'CJMPRR'"
      ]
     },
     "execution_count": 10,
     "metadata": {},
     "output_type": "execute_result"
    }
   ],
   "source": [
    "society_name([\"Phoebe\", \"Chandler\", \"Rachel\", \"Ross\", \"Monica\", \"Joey\"])"
   ]
  },
  {
   "cell_type": "code",
   "execution_count": null,
   "id": "50bccfaf",
   "metadata": {},
   "outputs": [],
   "source": []
  },
  {
   "cell_type": "markdown",
   "id": "27305444",
   "metadata": {},
   "source": [
    "**Question 4.**  \n",
    "An isogram is a word that has no duplicate letters. Create a function that takes a string and returns either True or False depending on whether or not it's an \"isogram\".  \n",
    ">**Examples**  \n",
    "is_isogram(\"Algorism\") ➞ True  \n",
    "is_isogram(\"PasSword\") ➞ False  \n",
    "  #Not case sensitive.  \n",
    "is_isogram(\"Consecutive\") ➞ False  \n",
    "\n",
    "Notes  \n",
    "•\tIgnore letter case (should not be case sensitive).  \n",
    "•\tAll test cases contain valid one word strings.  "
   ]
  },
  {
   "cell_type": "code",
   "execution_count": 31,
   "id": "5c2a2128",
   "metadata": {},
   "outputs": [],
   "source": [
    "def is_isogram(strr):\n",
    "    \"\"\"Returns True if the word has no duplicate letters.\n",
    "    It is not case sensitive.\"\"\"\n",
    "    try:\n",
    "        for i in strr:\n",
    "            if strr.casefold().count(i)>1:\n",
    "                return False\n",
    "        return True\n",
    "    except Exception as e:\n",
    "        print(\"Error occured: \",e)"
   ]
  },
  {
   "cell_type": "code",
   "execution_count": 63,
   "id": "3e55a560",
   "metadata": {},
   "outputs": [
    {
     "name": "stdout",
     "output_type": "stream",
     "text": [
      "Enter your word to chaeck for isogram: Algorism\n",
      "Algorism is Isogram!!\n"
     ]
    }
   ],
   "source": [
    "word = input(\"Enter your word to chaeck for isogram: \")\n",
    "result = is_isogram(word)\n",
    "if result == True:\n",
    "    print(f\"{word} is Isogram!!\")\n",
    "else:\n",
    "    print(f\"{word} is not a Isogram.\")"
   ]
  },
  {
   "cell_type": "code",
   "execution_count": 32,
   "id": "52912205",
   "metadata": {},
   "outputs": [
    {
     "data": {
      "text/plain": [
       "True"
      ]
     },
     "execution_count": 32,
     "metadata": {},
     "output_type": "execute_result"
    }
   ],
   "source": [
    "is_isogram(\"Algorism\")"
   ]
  },
  {
   "cell_type": "code",
   "execution_count": 33,
   "id": "84209a0d",
   "metadata": {},
   "outputs": [
    {
     "data": {
      "text/plain": [
       "False"
      ]
     },
     "execution_count": 33,
     "metadata": {},
     "output_type": "execute_result"
    }
   ],
   "source": [
    "is_isogram(\"PasSword\")"
   ]
  },
  {
   "cell_type": "code",
   "execution_count": 34,
   "id": "646b75e9",
   "metadata": {},
   "outputs": [
    {
     "data": {
      "text/plain": [
       "False"
      ]
     },
     "execution_count": 34,
     "metadata": {},
     "output_type": "execute_result"
    }
   ],
   "source": [
    "is_isogram(\"Consecutive\")"
   ]
  },
  {
   "cell_type": "code",
   "execution_count": null,
   "id": "ca66f01b",
   "metadata": {},
   "outputs": [],
   "source": []
  },
  {
   "cell_type": "markdown",
   "id": "d74baea2",
   "metadata": {},
   "source": [
    "**Question 5.**  \n",
    "Create a function that takes a string and returns True or False, depending on whether the characters are in order or not.  \n",
    ">**Examples**  \n",
    "is_in_order(\"abc\") ➞ True  \n",
    "is_in_order(\"edabit\") ➞ False  \n",
    "is_in_order(\"123\") ➞ True  \n",
    "is_in_order(\"xyzz\") ➞ True  \n",
    "\n",
    "Notes  \n",
    "You don't have to handle empty strings.  "
   ]
  },
  {
   "cell_type": "code",
   "execution_count": 50,
   "id": "60793de1",
   "metadata": {},
   "outputs": [],
   "source": [
    "def is_in_order(strr):\n",
    "    for i in range(len(strr)-1):\n",
    "        if strr[i].casefold()>strr[i+1].casefold():\n",
    "            return False\n",
    "    return True      "
   ]
  },
  {
   "cell_type": "code",
   "execution_count": 62,
   "id": "1ffda8a2",
   "metadata": {},
   "outputs": [
    {
     "name": "stdout",
     "output_type": "stream",
     "text": [
      "Enter your word: AbBcddEfg\n",
      "AbBcddEfg is in order\n"
     ]
    }
   ],
   "source": [
    "s= input(\"Enter your word: \")\n",
    "order = is_in_order(s)\n",
    "if order == True:\n",
    "    print(f\"{s} is in order\")\n",
    "else:\n",
    "    print(f\"{s} not in order\")"
   ]
  },
  {
   "cell_type": "code",
   "execution_count": 58,
   "id": "b61575cc",
   "metadata": {},
   "outputs": [
    {
     "data": {
      "text/plain": [
       "True"
      ]
     },
     "execution_count": 58,
     "metadata": {},
     "output_type": "execute_result"
    }
   ],
   "source": [
    "is_in_order(\"abc\")"
   ]
  },
  {
   "cell_type": "code",
   "execution_count": 59,
   "id": "71e1aa38",
   "metadata": {},
   "outputs": [
    {
     "data": {
      "text/plain": [
       "False"
      ]
     },
     "execution_count": 59,
     "metadata": {},
     "output_type": "execute_result"
    }
   ],
   "source": [
    "is_in_order(\"edabit\")"
   ]
  },
  {
   "cell_type": "code",
   "execution_count": 60,
   "id": "484c7dfc",
   "metadata": {},
   "outputs": [
    {
     "data": {
      "text/plain": [
       "True"
      ]
     },
     "execution_count": 60,
     "metadata": {},
     "output_type": "execute_result"
    }
   ],
   "source": [
    "is_in_order(\"123\")"
   ]
  },
  {
   "cell_type": "code",
   "execution_count": 61,
   "id": "5ad02d37",
   "metadata": {},
   "outputs": [
    {
     "data": {
      "text/plain": [
       "True"
      ]
     },
     "execution_count": 61,
     "metadata": {},
     "output_type": "execute_result"
    }
   ],
   "source": [
    "is_in_order(\"xyzz\")"
   ]
  },
  {
   "cell_type": "code",
   "execution_count": null,
   "id": "1db96e32",
   "metadata": {},
   "outputs": [],
   "source": []
  }
 ],
 "metadata": {
  "kernelspec": {
   "display_name": "Python 3 (ipykernel)",
   "language": "python",
   "name": "python3"
  },
  "language_info": {
   "codemirror_mode": {
    "name": "ipython",
    "version": 3
   },
   "file_extension": ".py",
   "mimetype": "text/x-python",
   "name": "python",
   "nbconvert_exporter": "python",
   "pygments_lexer": "ipython3",
   "version": "3.9.7"
  }
 },
 "nbformat": 4,
 "nbformat_minor": 5
}
