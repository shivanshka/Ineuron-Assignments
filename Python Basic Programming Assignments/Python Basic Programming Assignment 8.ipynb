{
 "cells": [
  {
   "cell_type": "markdown",
   "id": "68653e0b",
   "metadata": {},
   "source": [
    "# Basic Programming Assignment 8"
   ]
  },
  {
   "cell_type": "markdown",
   "id": "e36eb9ff",
   "metadata": {},
   "source": [
    "1.\tWrite a Python Program to Add Two Matrices?\n",
    "2.\tWrite a Python Program to Multiply Two Matrices?\n",
    "3.\tWrite a Python Program to Transpose a Matrix?\n",
    "4.\tWrite a Python Program to Sort Words in Alphabetic Order?\n",
    "5.\tWrite a Python Program to Remove Punctuation From a String?"
   ]
  },
  {
   "cell_type": "code",
   "execution_count": null,
   "id": "936e8406",
   "metadata": {},
   "outputs": [],
   "source": []
  },
  {
   "cell_type": "markdown",
   "id": "40e2f45b",
   "metadata": {},
   "source": [
    "1.\tWrite a Python Program to Add Two Matrices?"
   ]
  },
  {
   "cell_type": "code",
   "execution_count": 75,
   "id": "2bb21bf3",
   "metadata": {},
   "outputs": [],
   "source": [
    "def matrix_gen(name):\n",
    "    c= int(input(f\"Enter no. of columns of matrix {name}: \"))\n",
    "    r= int(input(f\"Enter no. of rows of matrix {name}: \"))\n",
    "    matrix = []\n",
    "    print(\"Enter enteries in row-wise manner:\")\n",
    "    for i in range(0,r):\n",
    "        a=[]\n",
    "        for j in range(0,c):\n",
    "            a.append(int(input()))\n",
    "        matrix.append(a)\n",
    "    \n",
    "    print(f\"\\nMatrix, {name} is \")\n",
    "    for i in range(0,r):\n",
    "        print(matrix[i], end =\" \")\n",
    "        print(\"\\r\")\n",
    "    return matrix\n",
    "\n",
    "def matrix_sum():\n",
    "    mat1 = matrix_gen('A')\n",
    "    mat2 = matrix_gen('B')\n",
    "    summ = []\n",
    "    if len(mat1) == len(mat2) and len(mat1[0]) == len(mat2[0]):\n",
    "        for i in range(0, len(mat1)):\n",
    "            a = []\n",
    "            for j in range(0, len(mat1[0])):\n",
    "                a.append(mat1[i][j]+mat2[i][j])\n",
    "            summ.append(a)\n",
    "\n",
    "        print(\"\\nSum of matrix A and B is \")\n",
    "        for i in range(0,len(summ)):\n",
    "            print(summ[i])\n",
    "        return summ\n",
    "    else:\n",
    "        print(\"\\nUnable to add. Rows and columns number are not same. \")"
   ]
  },
  {
   "cell_type": "code",
   "execution_count": 34,
   "id": "be507342",
   "metadata": {},
   "outputs": [
    {
     "name": "stdout",
     "output_type": "stream",
     "text": [
      "Enter no. of columns of matrix A: 2\n",
      "Enter no. of rows of matrix A: 2\n",
      "Enter enteries in row-wise manner:\n",
      "45\n",
      "36\n",
      "78\n",
      "96\n",
      "\n",
      "Matrix, A is \n",
      "[45, 36] \n",
      "[78, 96] \n",
      "Enter no. of columns of matrix B: 2\n",
      "Enter no. of rows of matrix B: 2\n",
      "Enter enteries in row-wise manner:\n",
      "8\n",
      "90\n",
      "55\n",
      "10\n",
      "\n",
      "Matrix, B is \n",
      "[8, 90] \n",
      "[55, 10] \n",
      "\n",
      "Sum of matrix A and B is \n",
      "[53, 126]\n",
      "[133, 106]\n"
     ]
    }
   ],
   "source": [
    "matrix_sum()"
   ]
  },
  {
   "cell_type": "code",
   "execution_count": null,
   "id": "921d28d6",
   "metadata": {},
   "outputs": [],
   "source": []
  },
  {
   "cell_type": "markdown",
   "id": "15fc9b24",
   "metadata": {},
   "source": [
    "2.\tWrite a Python Program to Multiply Two Matrices?"
   ]
  },
  {
   "cell_type": "code",
   "execution_count": 228,
   "id": "fab98996",
   "metadata": {},
   "outputs": [],
   "source": [
    "def matrix_multiply():\n",
    "    mat1 = matrix_gen('A')\n",
    "    mat2 = matrix_gen('B')\n",
    "    multiply = []\n",
    "    if len(mat1[0]) == len(mat2):\n",
    "        for i in range(0, len(mat1[0])):\n",
    "            a = []\n",
    "            for j in range(0,len(mat2)):\n",
    "                summ=0\n",
    "                for k in range(0, len(mat2[0])):\n",
    "                    summ =mat1[i][k]*mat2[k][j] + summ\n",
    "                a.append(summ)\n",
    "            multiply.append(a)\n",
    "    print(\"\\nMultiplication of matrix A and B is\")\n",
    "    for i in range(0 , len(multiply)):\n",
    "        print(multiply[i], end =\" \")\n",
    "        print(\"\\r\")\n",
    "    return multiply"
   ]
  },
  {
   "cell_type": "code",
   "execution_count": 229,
   "id": "c0fc1c71",
   "metadata": {},
   "outputs": [
    {
     "name": "stdout",
     "output_type": "stream",
     "text": [
      "Enter no. of columns of matrix A: 2\n",
      "Enter no. of rows of matrix A: 2\n",
      "Enter enteries in row-wise manner:\n",
      "1\n",
      "2\n",
      "3\n",
      "4\n",
      "\n",
      "Matrix, A is \n",
      "[1, 2] \n",
      "[3, 4] \n",
      "Enter no. of columns of matrix B: 2\n",
      "Enter no. of rows of matrix B: 2\n",
      "Enter enteries in row-wise manner:\n",
      "5\n",
      "6\n",
      "7\n",
      "8\n",
      "\n",
      "Matrix, B is \n",
      "[5, 6] \n",
      "[7, 8] \n",
      "Multiplication of matrix A and B is\n",
      "[19, 22] \n",
      "[43, 50] \n"
     ]
    },
    {
     "data": {
      "text/plain": [
       "[[19, 22], [43, 50]]"
      ]
     },
     "execution_count": 229,
     "metadata": {},
     "output_type": "execute_result"
    }
   ],
   "source": [
    "matrix_multiply()"
   ]
  },
  {
   "cell_type": "code",
   "execution_count": null,
   "id": "3b85f7ea",
   "metadata": {},
   "outputs": [],
   "source": []
  },
  {
   "cell_type": "markdown",
   "id": "0a51ef54",
   "metadata": {},
   "source": [
    "3.\tWrite a Python Program to Transpose a Matrix?"
   ]
  },
  {
   "cell_type": "code",
   "execution_count": 83,
   "id": "4cf76699",
   "metadata": {},
   "outputs": [],
   "source": [
    "def matrix_transpose(matrix):\n",
    "    r= len(matrix)\n",
    "    c= len(matrix[0])\n",
    "    \n",
    "    if r==c:                     # For Square Matrix\n",
    "        for i in range(0, r):\n",
    "            for j in range(i+1, c):\n",
    "                matrix[i][j],matrix[j][i] = matrix[j][i], matrix[i][j]\n",
    "        return matrix\n",
    "    \n",
    "    else:                       # For Rectangular Matrix\n",
    "        a=[]\n",
    "        for i in range(0,c):\n",
    "            b=[]\n",
    "            for j in range(0,r):\n",
    "                b.append(0)\n",
    "            a.append(b)\n",
    "            \n",
    "        for i in range(0, c):\n",
    "            for j in range(0, r):\n",
    "                a[i][j] = matrix[j][i]\n",
    "        return a"
   ]
  },
  {
   "cell_type": "code",
   "execution_count": 86,
   "id": "63067471",
   "metadata": {},
   "outputs": [
    {
     "name": "stdout",
     "output_type": "stream",
     "text": [
      "Enter no. of columns of matrix A: 3\n",
      "Enter no. of rows of matrix A: 3\n",
      "Enter enteries in row-wise manner:\n",
      "1\n",
      "2\n",
      "3\n",
      "4\n",
      "5\n",
      "6\n",
      "7\n",
      "8\n",
      "9\n",
      "\n",
      "Matrix, A is \n",
      "[1, 2, 3] \n",
      "[4, 5, 6] \n",
      "[7, 8, 9] \n",
      "\n",
      "Transpose of matrix \n",
      "[1, 4, 7] \n",
      "[2, 5, 8] \n",
      "[3, 6, 9] \n"
     ]
    }
   ],
   "source": [
    "matrix = matrix_gen(\"A\")\n",
    "transpose = matrix_transpose(matrix)\n",
    "print(f\"\\nTranspose of matrix \")\n",
    "for i in range(0 , len(transpose)):\n",
    "    print(transpose[i], end =\" \")\n",
    "    print(\"\\r\")"
   ]
  },
  {
   "cell_type": "code",
   "execution_count": null,
   "id": "dc209747",
   "metadata": {},
   "outputs": [],
   "source": []
  },
  {
   "cell_type": "markdown",
   "id": "bc9dc12a",
   "metadata": {},
   "source": [
    "4.\tWrite a Python Program to Sort Words in Alphabetic Order?"
   ]
  },
  {
   "cell_type": "code",
   "execution_count": 136,
   "id": "0a048c4f",
   "metadata": {},
   "outputs": [],
   "source": [
    "def string_sort(st):\n",
    "    l= st.lower().split()\n",
    "    s=\"\"\n",
    "    for i in sorted(l):\n",
    "        s=s+i+\" \"\n",
    "    return s.strip()"
   ]
  },
  {
   "cell_type": "code",
   "execution_count": 194,
   "id": "93b668be",
   "metadata": {},
   "outputs": [
    {
     "name": "stdout",
     "output_type": "stream",
     "text": [
      "Enter your string: My name is Shivansh Kaushal\n",
      "Sorted string:\n",
      "is kaushal my name shivansh\n"
     ]
    }
   ],
   "source": [
    "s =input(\"Enter your string: \")\n",
    "print(f\"Sorted string:\\n{string_sort(s)}\")"
   ]
  },
  {
   "cell_type": "code",
   "execution_count": 175,
   "id": "62a61004",
   "metadata": {},
   "outputs": [],
   "source": []
  },
  {
   "cell_type": "markdown",
   "id": "8ee40376",
   "metadata": {},
   "source": [
    "5.\tWrite a Python Program to Remove Punctuation From a String?"
   ]
  },
  {
   "cell_type": "code",
   "execution_count": 192,
   "id": "753d277f",
   "metadata": {},
   "outputs": [],
   "source": [
    "import string\n",
    "def punc_remover(st):\n",
    "    for i in st:\n",
    "        if i in string.punctuation:\n",
    "            st = st.replace(i,\"\")\n",
    "    return st"
   ]
  },
  {
   "cell_type": "code",
   "execution_count": 193,
   "id": "a4914db0",
   "metadata": {},
   "outputs": [
    {
     "name": "stdout",
     "output_type": "stream",
     "text": [
      "Enter your string: \"Hello!!!\", What is your name?? & How do you do??/.....I am- Shivansh Kaushal & I am fine..\n",
      "String without punctuation: Hello What is your name  How do you doI am Shivansh Kaushal  I am fine\n"
     ]
    }
   ],
   "source": [
    "s =input(\"Enter your string: \")\n",
    "print(f\"String without punctuation: {punc_remover(s)}\")"
   ]
  },
  {
   "cell_type": "code",
   "execution_count": null,
   "id": "f54b994c",
   "metadata": {},
   "outputs": [],
   "source": []
  }
 ],
 "metadata": {
  "kernelspec": {
   "display_name": "Python 3 (ipykernel)",
   "language": "python",
   "name": "python3"
  },
  "language_info": {
   "codemirror_mode": {
    "name": "ipython",
    "version": 3
   },
   "file_extension": ".py",
   "mimetype": "text/x-python",
   "name": "python",
   "nbconvert_exporter": "python",
   "pygments_lexer": "ipython3",
   "version": "3.9.7"
  }
 },
 "nbformat": 4,
 "nbformat_minor": 5
}
